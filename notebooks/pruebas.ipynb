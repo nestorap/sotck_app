{
 "cells": [
  {
   "cell_type": "code",
   "execution_count": 16,
   "metadata": {},
   "outputs": [
    {
     "name": "stderr",
     "output_type": "stream",
     "text": [
      "Matplotlib is building the font cache; this may take a moment.\n"
     ]
    }
   ],
   "source": [
    "# Librerias\n",
    "import talib\n",
    "import numpy as np\n",
    "import pandas as pd\n",
    "\n",
    "# Enviroment\n",
    "import os\n",
    "from dotenv import load_dotenv\n",
    "\n",
    "# Librerías de stock\n",
    "from finta import TA\n",
    "import yfinance as yf\n",
    "import mplfinance as mpf\n",
    "from pandas_datareader import data as pdr\n",
    "from alpha_vantage.timeseries import TimeSeries\n",
    "from alpha_vantage.fundamentaldata import FundamentalData\n",
    "\n",
    "\n",
    "# Librería de graficos\n",
    "import plotly.express as px"
   ]
  },
  {
   "cell_type": "markdown",
   "metadata": {},
   "source": [
    "# Predicciones usando Ollama\n",
    "En esta sección realizamos una serie de análisis técnicos usando ollama en local"
   ]
  },
  {
   "cell_type": "code",
   "execution_count": 12,
   "metadata": {},
   "outputs": [],
   "source": [
    "# Librerias\n",
    "\n",
    "# Data Importing Libraries\n",
    "import yfinance as yf\n",
    "from finvizfinance.quote import finvizfinance\n",
    "\n",
    "# Data Modeling Library\n",
    "from statsmodels.tsa.statespace.sarimax import SARIMAX\n",
    "\n",
    "# Charts\n",
    "import plotly.graph_objects as go\n",
    "\n",
    "# Data Manipulation\n",
    "import pandas as pd\n",
    "import numpy as np\n",
    "\n",
    "# Avoid Forecasting on Holidays\n",
    "import holidays\n",
    "\n",
    "# Create Local LLM Server Connection\n",
    "# from langchain_community.llms import Ollama\n",
    "from langchain_ollama import OllamaLLM\n",
    "\n",
    "# Interactive Web App UI\n",
    "import streamlit as st"
   ]
  },
  {
   "cell_type": "code",
   "execution_count": 13,
   "metadata": {},
   "outputs": [],
   "source": [
    "# Connect to local Ollama server\n",
    "llm = OllamaLLM(model='llama3')"
   ]
  },
  {
   "cell_type": "code",
   "execution_count": 51,
   "metadata": {},
   "outputs": [],
   "source": [
    "# Function to classify sentiment\n",
    "def classify_sentiment(title):\n",
    "    output = llm.invoke(f\"Classify the sentiment as 'POSITIVE' or 'NEGATIVE' or 'NEUTRAL' with just that one word only, no additional words or reasoning: {title}\")\n",
    "    return output.strip()  # Ensure the response is clean and without extra spaces\n",
    "\n",
    "# Function to get and process news data\n",
    "def get_news_data(ticker):\n",
    "\n",
    "    # Data Pull\n",
    "    stock = finvizfinance(ticker) \n",
    "    news_df = stock.ticker_news()\n",
    "\n",
    "    # Preprocess before putting into LLM\n",
    "    news_df['Title'] = news_df['Title'].str.lower()\n",
    "\n",
    "    # Classify Sentiment function applied to each row of news_df\n",
    "    news_df['sentiment'] = news_df['Title'].apply(classify_sentiment)\n",
    "\n",
    "    # Postprocess after putting into LLM\n",
    "    news_df['sentiment'] = news_df['sentiment'].str.upper()\n",
    "    news_df = news_df[news_df['sentiment'] != 'NEUTRAL']\n",
    "    news_df['Date'] = pd.to_datetime(news_df['Date'])\n",
    "    news_df['DateOnly'] = news_df['Date'].dt.date\n",
    "\n",
    "    return news_df\n",
    "\n",
    "# Function to group and process sentiment data\n",
    "def process_sentiment_data(news_df):\n",
    "\n",
    "    # Reshape data to have df with columns: Date, # of positive Articles, # of negative Articles\n",
    "    grouped = news_df.groupby(['DateOnly', 'sentiment']).size().unstack(fill_value=0)\n",
    "    grouped = grouped.reindex(columns=['POSITIVE', 'NEGATIVE'], fill_value=0)\n",
    "\n",
    "    # Create rolling averages that count number of positive and negative sentiment articles within past t days\n",
    "    grouped['7day_avg_positive'] = grouped['POSITIVE'].rolling(window=7, min_periods=1).sum()\n",
    "    grouped['7day_avg_negative'] = grouped['NEGATIVE'].rolling(window=7, min_periods=1).sum()\n",
    "\n",
    "    # Create \"Percent Positive\" by creating percentage measure\n",
    "    grouped['7day_pct_positive'] = grouped['POSITIVE'] / (grouped['POSITIVE'] + grouped['NEGATIVE'])\n",
    "    result_df = grouped.reset_index()\n",
    "\n",
    "    return result_df\n",
    "\n",
    "# Function to fetch and process stock data\n",
    "def get_stock_data(ticker, start_date, end_date):\n",
    "    stock_data = yf.download(ticker, start=start_date, end=end_date) # Pull ticker data\n",
    "    # Eliminamos las columnas multiindex que vienen ahora los df de yfinance\n",
    "    stock_data.columns = stock_data.columns.get_level_values(0)\n",
    "    stock_data['Pct_Change'] = stock_data['Close'].pct_change() * 100 # Transform closing value to percent change in closing value since previous day\n",
    "    return stock_data\n",
    "\n",
    "# Function to combine sentiment and stock data\n",
    "def combine_data(result_df, stock_data):\n",
    "    combined_df = result_df.set_index('DateOnly').join(stock_data[['Pct_Change']], how='inner')\n",
    "    combined_df['lagged_7day_pct_positive'] = combined_df['7day_pct_positive'].shift(1) # Lag sentiment feature by 1 day for temporal alignment\n",
    "    return combined_df\n",
    "\n",
    "# Function to calculate Pearson correlation\n",
    "def calculate_correlation(combined_df):\n",
    "    correlation_pct_change = combined_df[['lagged_7day_pct_positive', 'Pct_Change']].corr().iloc[0, 1]\n",
    "    return correlation_pct_change\n",
    "\n",
    "# Function to get future dates excluding weekends and holidays\n",
    "def get_future_dates(start_date, num_days):\n",
    "    us_holidays = holidays.US()\n",
    "    future_dates = []\n",
    "    current_date = start_date\n",
    "    while len(future_dates) < num_days:\n",
    "        if current_date.weekday() < 5 and current_date not in us_holidays:\n",
    "            future_dates.append(current_date)\n",
    "        current_date += pd.Timedelta(days=1)\n",
    "    return future_dates\n",
    "\n",
    "# Function to fit ARIMAX model and forecast\n",
    "def fit_and_forecast(combined_df, forecast_steps=3):\n",
    "    endog = combined_df['Pct_Change'].dropna()  # Dependent variable\n",
    "    exog = combined_df['lagged_7day_pct_positive'].dropna()  # Predictor variable\n",
    "    endog = endog.loc[exog.index]  # Align variables\n",
    "    model = SARIMAX(endog, exog=exog, order=(1, 1, 1))  # ARIMAX model\n",
    "    fit = model.fit(disp=False)  # Fit model\n",
    "    \n",
    "    future_dates = get_future_dates(combined_df.index[-1], forecast_steps)  # Future dates\n",
    "    future_exog = combined_df['lagged_7day_pct_positive'][-forecast_steps:].values.reshape(-1, 1)  # Future exogenous values\n",
    "    \n",
    "    forecast = fit.get_forecast(steps=forecast_steps, exog=future_exog)  # Get forecast\n",
    "    forecast_mean = forecast.predicted_mean  # Predicted mean\n",
    "    forecast_ci = forecast.conf_int()  # Confidence intervals\n",
    "    \n",
    "    return forecast_mean, forecast_ci, future_dates  # Return results\n",
    "\n",
    "\n",
    "# Function to create and display plot\n",
    "def create_plot(combined_df, forecast_mean, forecast_ci, forecast_index):\n",
    "    # Standardize the sentiment proportion\n",
    "    sentiment_std = (combined_df['7day_pct_positive'] - combined_df['7day_pct_positive'].mean()) / combined_df['7day_pct_positive'].std()\n",
    "\n",
    "    fig = go.Figure()\n",
    "    \n",
    "    # Add standardized sentiment proportion\n",
    "    fig.add_trace(go.Scatter(\n",
    "        x=combined_df.index, \n",
    "        y=sentiment_std, \n",
    "        name='Standardized Sentiment Proportion', \n",
    "        line=dict(color='blue'), \n",
    "        mode='lines'\n",
    "    ))\n",
    "    \n",
    "    # Add stock percentage change\n",
    "    fig.add_trace(go.Scatter(\n",
    "        x=combined_df.index, \n",
    "        y=combined_df['Pct_Change'], \n",
    "        name='Stock Pct Change', \n",
    "        line=dict(color='green'), \n",
    "        yaxis='y2', \n",
    "        mode='lines'\n",
    "    ))\n",
    "    \n",
    "    # Add forecasted stock percentage change\n",
    "    fig.add_trace(go.Scatter(\n",
    "        x=forecast_index, \n",
    "        y=forecast_mean, \n",
    "        name='Forecasted Pct Change', \n",
    "        line=dict(color='red'), \n",
    "        mode='lines'\n",
    "    ))\n",
    "    \n",
    "    # Add confidence intervals for the forecast\n",
    "    fig.add_trace(go.Scatter(\n",
    "        x=np.concatenate([forecast_index, forecast_index[::-1]]),\n",
    "        y=np.concatenate([forecast_ci.iloc[:, 0], forecast_ci.iloc[:, 1][::-1]]),\n",
    "        fill='toself',\n",
    "        fillcolor='rgba(255,0,0,0.2)',\n",
    "        line=dict(color='rgba(255,255,255,0)'),\n",
    "        hoverinfo=\"skip\",\n",
    "        showlegend=False\n",
    "    ))\n",
    "    \n",
    "    # Update layout with appropriate y-axis ranges\n",
    "    fig.update_layout(\n",
    "        title='Sentiment Proportion and Stock Percentage Change with Forecast',\n",
    "        xaxis_title='Date',\n",
    "        yaxis=dict(\n",
    "            title='Standardized Sentiment Proportion',\n",
    "            titlefont=dict(color='blue')\n",
    "        ),\n",
    "        yaxis2=dict(\n",
    "            title='Stock Pct Change',\n",
    "            titlefont=dict(color='green'),\n",
    "            overlaying='y',\n",
    "            side='right'\n",
    "        ),\n",
    "        template='plotly_dark'\n",
    "    )\n",
    "    fig.show()\n",
    "    # st.plotly_chart(fig)"
   ]
  },
  {
   "cell_type": "code",
   "execution_count": 30,
   "metadata": {},
   "outputs": [
    {
     "name": "stderr",
     "output_type": "stream",
     "text": [
      "/var/folders/1f/bsxjdbg56jlfz517g824xrh80000gn/T/ipykernel_2857/962858264.py:22: SettingWithCopyWarning: \n",
      "A value is trying to be set on a copy of a slice from a DataFrame.\n",
      "Try using .loc[row_indexer,col_indexer] = value instead\n",
      "\n",
      "See the caveats in the documentation: https://pandas.pydata.org/pandas-docs/stable/user_guide/indexing.html#returning-a-view-versus-a-copy\n",
      "  news_df['Date'] = pd.to_datetime(news_df['Date'])\n",
      "/var/folders/1f/bsxjdbg56jlfz517g824xrh80000gn/T/ipykernel_2857/962858264.py:23: SettingWithCopyWarning: \n",
      "A value is trying to be set on a copy of a slice from a DataFrame.\n",
      "Try using .loc[row_indexer,col_indexer] = value instead\n",
      "\n",
      "See the caveats in the documentation: https://pandas.pydata.org/pandas-docs/stable/user_guide/indexing.html#returning-a-view-versus-a-copy\n",
      "  news_df['DateOnly'] = news_df['Date'].dt.date\n"
     ]
    }
   ],
   "source": [
    "# 1 Obtenemos la data\n",
    "news_df = get_news_data(ticker=\"AAPL\")\n",
    "# 2 Llamamos al modelo descargado para que nos clasifique los resultados\n",
    "result_df = process_sentiment_data(news_df=news_df)\n",
    "# 3 Sacamos el start date y el end date del df\n",
    "start_date = result_df.loc[:,\"DateOnly\"].min().strftime('%Y-%m-%d')\n",
    "end_date = result_df.loc[:,\"DateOnly\"].max().strftime('%Y-%m-%d')\n"
   ]
  },
  {
   "cell_type": "code",
   "execution_count": 47,
   "metadata": {},
   "outputs": [
    {
     "name": "stderr",
     "output_type": "stream",
     "text": [
      "[*********************100%***********************]  1 of 1 completed\n"
     ]
    }
   ],
   "source": [
    "# 4 stock data\n",
    "stock_data = get_stock_data(ticker='AAPL', start_date=start_date, end_date=end_date)"
   ]
  },
  {
   "cell_type": "code",
   "execution_count": 50,
   "metadata": {},
   "outputs": [
    {
     "name": "stdout",
     "output_type": "stream",
     "text": [
      "La correlación de earson entre lagged sentiment score y el cambio porcentual es --> 0.1886350636867532\n"
     ]
    },
    {
     "name": "stderr",
     "output_type": "stream",
     "text": [
      "/Users/nestoralaminospelegrina/.pyenv/versions/3.13.1/envs/stock-app/lib/python3.13/site-packages/statsmodels/tsa/base/tsa_model.py:473: ValueWarning:\n",
      "\n",
      "No frequency information was provided, so inferred frequency B will be used.\n",
      "\n",
      "/Users/nestoralaminospelegrina/.pyenv/versions/3.13.1/envs/stock-app/lib/python3.13/site-packages/statsmodels/tsa/base/tsa_model.py:473: ValueWarning:\n",
      "\n",
      "No frequency information was provided, so inferred frequency B will be used.\n",
      "\n",
      "/Users/nestoralaminospelegrina/.pyenv/versions/3.13.1/envs/stock-app/lib/python3.13/site-packages/statsmodels/tsa/statespace/sarimax.py:866: UserWarning:\n",
      "\n",
      "Too few observations to estimate starting parameters for ARMA and trend. All parameters except for variances will be set to zeros.\n",
      "\n"
     ]
    }
   ],
   "source": [
    "# 5 Combinamos el df\n",
    "combined_df = combine_data(result_df=result_df, stock_data=stock_data)\n",
    "# 6 Calculamos correlation\n",
    "correlation_pct_change = calculate_correlation(combined_df=combined_df)\n",
    "\n",
    "# Printeamos la correlacion\n",
    "print(f'La correlación de earson entre lagged sentiment score y el cambio porcentual es --> {correlation_pct_change}')\n",
    "forecast_mean, forecast_ci, forecast_index = fit_and_forecast(combined_df=combined_df)"
   ]
  },
  {
   "cell_type": "code",
   "execution_count": 52,
   "metadata": {},
   "outputs": [
    {
     "data": {
      "application/vnd.plotly.v1+json": {
       "config": {
        "plotlyServerURL": "https://plot.ly"
       },
       "data": [
        {
         "line": {
          "color": "blue"
         },
         "mode": "lines",
         "name": "Standardized Sentiment Proportion",
         "type": "scatter",
         "x": [
          "2024-12-18T00:00:00",
          "2024-12-19T00:00:00",
          "2024-12-20T00:00:00",
          "2024-12-23T00:00:00",
          "2024-12-24T00:00:00"
         ],
         "y": [
          -1.7334584069946666,
          0.1800995747526928,
          0.5177862774139915,
          0.7991918629650737,
          0.236380691862909
         ]
        },
        {
         "line": {
          "color": "green"
         },
         "mode": "lines",
         "name": "Stock Pct Change",
         "type": "scatter",
         "x": [
          "2024-12-18T00:00:00",
          "2024-12-19T00:00:00",
          "2024-12-20T00:00:00",
          "2024-12-23T00:00:00",
          "2024-12-24T00:00:00"
         ],
         "y": [
          null,
          0.7014675319362729,
          1.8815854651340613,
          0.30649485734630666,
          1.1478073747524853
         ],
         "yaxis": "y2"
        },
        {
         "line": {
          "color": "red"
         },
         "mode": "lines",
         "name": "Forecasted Pct Change",
         "type": "scatter",
         "x": [
          "2024-12-24T00:00:00",
          "2024-12-26T00:00:00",
          "2024-12-27T00:00:00"
         ],
         "y": [
          0.6995902107563586,
          1.1800035951949706,
          0.5620325542128537
         ]
        },
        {
         "fill": "toself",
         "fillcolor": "rgba(255,0,0,0.2)",
         "hoverinfo": "skip",
         "line": {
          "color": "rgba(255,255,255,0)"
         },
         "showlegend": false,
         "type": "scatter",
         "x": [
          "2024-12-24T00:00:00",
          "2024-12-26T00:00:00",
          "2024-12-27T00:00:00",
          "2024-12-27T00:00:00",
          "2024-12-26T00:00:00",
          "2024-12-24T00:00:00"
         ],
         "y": [
          0.09118503578654402,
          0.4631486750278725,
          -0.3263776196476832,
          1.4504427280733907,
          1.8968585153620685,
          1.3079953857261732
         ]
        }
       ],
       "layout": {
        "template": {
         "data": {
          "bar": [
           {
            "error_x": {
             "color": "#f2f5fa"
            },
            "error_y": {
             "color": "#f2f5fa"
            },
            "marker": {
             "line": {
              "color": "rgb(17,17,17)",
              "width": 0.5
             },
             "pattern": {
              "fillmode": "overlay",
              "size": 10,
              "solidity": 0.2
             }
            },
            "type": "bar"
           }
          ],
          "barpolar": [
           {
            "marker": {
             "line": {
              "color": "rgb(17,17,17)",
              "width": 0.5
             },
             "pattern": {
              "fillmode": "overlay",
              "size": 10,
              "solidity": 0.2
             }
            },
            "type": "barpolar"
           }
          ],
          "carpet": [
           {
            "aaxis": {
             "endlinecolor": "#A2B1C6",
             "gridcolor": "#506784",
             "linecolor": "#506784",
             "minorgridcolor": "#506784",
             "startlinecolor": "#A2B1C6"
            },
            "baxis": {
             "endlinecolor": "#A2B1C6",
             "gridcolor": "#506784",
             "linecolor": "#506784",
             "minorgridcolor": "#506784",
             "startlinecolor": "#A2B1C6"
            },
            "type": "carpet"
           }
          ],
          "choropleth": [
           {
            "colorbar": {
             "outlinewidth": 0,
             "ticks": ""
            },
            "type": "choropleth"
           }
          ],
          "contour": [
           {
            "colorbar": {
             "outlinewidth": 0,
             "ticks": ""
            },
            "colorscale": [
             [
              0,
              "#0d0887"
             ],
             [
              0.1111111111111111,
              "#46039f"
             ],
             [
              0.2222222222222222,
              "#7201a8"
             ],
             [
              0.3333333333333333,
              "#9c179e"
             ],
             [
              0.4444444444444444,
              "#bd3786"
             ],
             [
              0.5555555555555556,
              "#d8576b"
             ],
             [
              0.6666666666666666,
              "#ed7953"
             ],
             [
              0.7777777777777778,
              "#fb9f3a"
             ],
             [
              0.8888888888888888,
              "#fdca26"
             ],
             [
              1,
              "#f0f921"
             ]
            ],
            "type": "contour"
           }
          ],
          "contourcarpet": [
           {
            "colorbar": {
             "outlinewidth": 0,
             "ticks": ""
            },
            "type": "contourcarpet"
           }
          ],
          "heatmap": [
           {
            "colorbar": {
             "outlinewidth": 0,
             "ticks": ""
            },
            "colorscale": [
             [
              0,
              "#0d0887"
             ],
             [
              0.1111111111111111,
              "#46039f"
             ],
             [
              0.2222222222222222,
              "#7201a8"
             ],
             [
              0.3333333333333333,
              "#9c179e"
             ],
             [
              0.4444444444444444,
              "#bd3786"
             ],
             [
              0.5555555555555556,
              "#d8576b"
             ],
             [
              0.6666666666666666,
              "#ed7953"
             ],
             [
              0.7777777777777778,
              "#fb9f3a"
             ],
             [
              0.8888888888888888,
              "#fdca26"
             ],
             [
              1,
              "#f0f921"
             ]
            ],
            "type": "heatmap"
           }
          ],
          "heatmapgl": [
           {
            "colorbar": {
             "outlinewidth": 0,
             "ticks": ""
            },
            "colorscale": [
             [
              0,
              "#0d0887"
             ],
             [
              0.1111111111111111,
              "#46039f"
             ],
             [
              0.2222222222222222,
              "#7201a8"
             ],
             [
              0.3333333333333333,
              "#9c179e"
             ],
             [
              0.4444444444444444,
              "#bd3786"
             ],
             [
              0.5555555555555556,
              "#d8576b"
             ],
             [
              0.6666666666666666,
              "#ed7953"
             ],
             [
              0.7777777777777778,
              "#fb9f3a"
             ],
             [
              0.8888888888888888,
              "#fdca26"
             ],
             [
              1,
              "#f0f921"
             ]
            ],
            "type": "heatmapgl"
           }
          ],
          "histogram": [
           {
            "marker": {
             "pattern": {
              "fillmode": "overlay",
              "size": 10,
              "solidity": 0.2
             }
            },
            "type": "histogram"
           }
          ],
          "histogram2d": [
           {
            "colorbar": {
             "outlinewidth": 0,
             "ticks": ""
            },
            "colorscale": [
             [
              0,
              "#0d0887"
             ],
             [
              0.1111111111111111,
              "#46039f"
             ],
             [
              0.2222222222222222,
              "#7201a8"
             ],
             [
              0.3333333333333333,
              "#9c179e"
             ],
             [
              0.4444444444444444,
              "#bd3786"
             ],
             [
              0.5555555555555556,
              "#d8576b"
             ],
             [
              0.6666666666666666,
              "#ed7953"
             ],
             [
              0.7777777777777778,
              "#fb9f3a"
             ],
             [
              0.8888888888888888,
              "#fdca26"
             ],
             [
              1,
              "#f0f921"
             ]
            ],
            "type": "histogram2d"
           }
          ],
          "histogram2dcontour": [
           {
            "colorbar": {
             "outlinewidth": 0,
             "ticks": ""
            },
            "colorscale": [
             [
              0,
              "#0d0887"
             ],
             [
              0.1111111111111111,
              "#46039f"
             ],
             [
              0.2222222222222222,
              "#7201a8"
             ],
             [
              0.3333333333333333,
              "#9c179e"
             ],
             [
              0.4444444444444444,
              "#bd3786"
             ],
             [
              0.5555555555555556,
              "#d8576b"
             ],
             [
              0.6666666666666666,
              "#ed7953"
             ],
             [
              0.7777777777777778,
              "#fb9f3a"
             ],
             [
              0.8888888888888888,
              "#fdca26"
             ],
             [
              1,
              "#f0f921"
             ]
            ],
            "type": "histogram2dcontour"
           }
          ],
          "mesh3d": [
           {
            "colorbar": {
             "outlinewidth": 0,
             "ticks": ""
            },
            "type": "mesh3d"
           }
          ],
          "parcoords": [
           {
            "line": {
             "colorbar": {
              "outlinewidth": 0,
              "ticks": ""
             }
            },
            "type": "parcoords"
           }
          ],
          "pie": [
           {
            "automargin": true,
            "type": "pie"
           }
          ],
          "scatter": [
           {
            "marker": {
             "line": {
              "color": "#283442"
             }
            },
            "type": "scatter"
           }
          ],
          "scatter3d": [
           {
            "line": {
             "colorbar": {
              "outlinewidth": 0,
              "ticks": ""
             }
            },
            "marker": {
             "colorbar": {
              "outlinewidth": 0,
              "ticks": ""
             }
            },
            "type": "scatter3d"
           }
          ],
          "scattercarpet": [
           {
            "marker": {
             "colorbar": {
              "outlinewidth": 0,
              "ticks": ""
             }
            },
            "type": "scattercarpet"
           }
          ],
          "scattergeo": [
           {
            "marker": {
             "colorbar": {
              "outlinewidth": 0,
              "ticks": ""
             }
            },
            "type": "scattergeo"
           }
          ],
          "scattergl": [
           {
            "marker": {
             "line": {
              "color": "#283442"
             }
            },
            "type": "scattergl"
           }
          ],
          "scattermapbox": [
           {
            "marker": {
             "colorbar": {
              "outlinewidth": 0,
              "ticks": ""
             }
            },
            "type": "scattermapbox"
           }
          ],
          "scatterpolar": [
           {
            "marker": {
             "colorbar": {
              "outlinewidth": 0,
              "ticks": ""
             }
            },
            "type": "scatterpolar"
           }
          ],
          "scatterpolargl": [
           {
            "marker": {
             "colorbar": {
              "outlinewidth": 0,
              "ticks": ""
             }
            },
            "type": "scatterpolargl"
           }
          ],
          "scatterternary": [
           {
            "marker": {
             "colorbar": {
              "outlinewidth": 0,
              "ticks": ""
             }
            },
            "type": "scatterternary"
           }
          ],
          "surface": [
           {
            "colorbar": {
             "outlinewidth": 0,
             "ticks": ""
            },
            "colorscale": [
             [
              0,
              "#0d0887"
             ],
             [
              0.1111111111111111,
              "#46039f"
             ],
             [
              0.2222222222222222,
              "#7201a8"
             ],
             [
              0.3333333333333333,
              "#9c179e"
             ],
             [
              0.4444444444444444,
              "#bd3786"
             ],
             [
              0.5555555555555556,
              "#d8576b"
             ],
             [
              0.6666666666666666,
              "#ed7953"
             ],
             [
              0.7777777777777778,
              "#fb9f3a"
             ],
             [
              0.8888888888888888,
              "#fdca26"
             ],
             [
              1,
              "#f0f921"
             ]
            ],
            "type": "surface"
           }
          ],
          "table": [
           {
            "cells": {
             "fill": {
              "color": "#506784"
             },
             "line": {
              "color": "rgb(17,17,17)"
             }
            },
            "header": {
             "fill": {
              "color": "#2a3f5f"
             },
             "line": {
              "color": "rgb(17,17,17)"
             }
            },
            "type": "table"
           }
          ]
         },
         "layout": {
          "annotationdefaults": {
           "arrowcolor": "#f2f5fa",
           "arrowhead": 0,
           "arrowwidth": 1
          },
          "autotypenumbers": "strict",
          "coloraxis": {
           "colorbar": {
            "outlinewidth": 0,
            "ticks": ""
           }
          },
          "colorscale": {
           "diverging": [
            [
             0,
             "#8e0152"
            ],
            [
             0.1,
             "#c51b7d"
            ],
            [
             0.2,
             "#de77ae"
            ],
            [
             0.3,
             "#f1b6da"
            ],
            [
             0.4,
             "#fde0ef"
            ],
            [
             0.5,
             "#f7f7f7"
            ],
            [
             0.6,
             "#e6f5d0"
            ],
            [
             0.7,
             "#b8e186"
            ],
            [
             0.8,
             "#7fbc41"
            ],
            [
             0.9,
             "#4d9221"
            ],
            [
             1,
             "#276419"
            ]
           ],
           "sequential": [
            [
             0,
             "#0d0887"
            ],
            [
             0.1111111111111111,
             "#46039f"
            ],
            [
             0.2222222222222222,
             "#7201a8"
            ],
            [
             0.3333333333333333,
             "#9c179e"
            ],
            [
             0.4444444444444444,
             "#bd3786"
            ],
            [
             0.5555555555555556,
             "#d8576b"
            ],
            [
             0.6666666666666666,
             "#ed7953"
            ],
            [
             0.7777777777777778,
             "#fb9f3a"
            ],
            [
             0.8888888888888888,
             "#fdca26"
            ],
            [
             1,
             "#f0f921"
            ]
           ],
           "sequentialminus": [
            [
             0,
             "#0d0887"
            ],
            [
             0.1111111111111111,
             "#46039f"
            ],
            [
             0.2222222222222222,
             "#7201a8"
            ],
            [
             0.3333333333333333,
             "#9c179e"
            ],
            [
             0.4444444444444444,
             "#bd3786"
            ],
            [
             0.5555555555555556,
             "#d8576b"
            ],
            [
             0.6666666666666666,
             "#ed7953"
            ],
            [
             0.7777777777777778,
             "#fb9f3a"
            ],
            [
             0.8888888888888888,
             "#fdca26"
            ],
            [
             1,
             "#f0f921"
            ]
           ]
          },
          "colorway": [
           "#636efa",
           "#EF553B",
           "#00cc96",
           "#ab63fa",
           "#FFA15A",
           "#19d3f3",
           "#FF6692",
           "#B6E880",
           "#FF97FF",
           "#FECB52"
          ],
          "font": {
           "color": "#f2f5fa"
          },
          "geo": {
           "bgcolor": "rgb(17,17,17)",
           "lakecolor": "rgb(17,17,17)",
           "landcolor": "rgb(17,17,17)",
           "showlakes": true,
           "showland": true,
           "subunitcolor": "#506784"
          },
          "hoverlabel": {
           "align": "left"
          },
          "hovermode": "closest",
          "mapbox": {
           "style": "dark"
          },
          "paper_bgcolor": "rgb(17,17,17)",
          "plot_bgcolor": "rgb(17,17,17)",
          "polar": {
           "angularaxis": {
            "gridcolor": "#506784",
            "linecolor": "#506784",
            "ticks": ""
           },
           "bgcolor": "rgb(17,17,17)",
           "radialaxis": {
            "gridcolor": "#506784",
            "linecolor": "#506784",
            "ticks": ""
           }
          },
          "scene": {
           "xaxis": {
            "backgroundcolor": "rgb(17,17,17)",
            "gridcolor": "#506784",
            "gridwidth": 2,
            "linecolor": "#506784",
            "showbackground": true,
            "ticks": "",
            "zerolinecolor": "#C8D4E3"
           },
           "yaxis": {
            "backgroundcolor": "rgb(17,17,17)",
            "gridcolor": "#506784",
            "gridwidth": 2,
            "linecolor": "#506784",
            "showbackground": true,
            "ticks": "",
            "zerolinecolor": "#C8D4E3"
           },
           "zaxis": {
            "backgroundcolor": "rgb(17,17,17)",
            "gridcolor": "#506784",
            "gridwidth": 2,
            "linecolor": "#506784",
            "showbackground": true,
            "ticks": "",
            "zerolinecolor": "#C8D4E3"
           }
          },
          "shapedefaults": {
           "line": {
            "color": "#f2f5fa"
           }
          },
          "sliderdefaults": {
           "bgcolor": "#C8D4E3",
           "bordercolor": "rgb(17,17,17)",
           "borderwidth": 1,
           "tickwidth": 0
          },
          "ternary": {
           "aaxis": {
            "gridcolor": "#506784",
            "linecolor": "#506784",
            "ticks": ""
           },
           "baxis": {
            "gridcolor": "#506784",
            "linecolor": "#506784",
            "ticks": ""
           },
           "bgcolor": "rgb(17,17,17)",
           "caxis": {
            "gridcolor": "#506784",
            "linecolor": "#506784",
            "ticks": ""
           }
          },
          "title": {
           "x": 0.05
          },
          "updatemenudefaults": {
           "bgcolor": "#506784",
           "borderwidth": 0
          },
          "xaxis": {
           "automargin": true,
           "gridcolor": "#283442",
           "linecolor": "#506784",
           "ticks": "",
           "title": {
            "standoff": 15
           },
           "zerolinecolor": "#283442",
           "zerolinewidth": 2
          },
          "yaxis": {
           "automargin": true,
           "gridcolor": "#283442",
           "linecolor": "#506784",
           "ticks": "",
           "title": {
            "standoff": 15
           },
           "zerolinecolor": "#283442",
           "zerolinewidth": 2
          }
         }
        },
        "title": {
         "text": "Sentiment Proportion and Stock Percentage Change with Forecast"
        },
        "xaxis": {
         "title": {
          "text": "Date"
         }
        },
        "yaxis": {
         "title": {
          "font": {
           "color": "blue"
          },
          "text": "Standardized Sentiment Proportion"
         }
        },
        "yaxis2": {
         "overlaying": "y",
         "side": "right",
         "title": {
          "font": {
           "color": "green"
          },
          "text": "Stock Pct Change"
         }
        }
       }
      }
     },
     "metadata": {},
     "output_type": "display_data"
    }
   ],
   "source": [
    "# Creamos el grafico\n",
    "create_plot(combined_df=combined_df, forecast_mean=forecast_mean, forecast_ci=forecast_ci, forecast_index=forecast_index)"
   ]
  },
  {
   "cell_type": "markdown",
   "metadata": {},
   "source": [
    "# Análisis técnico"
   ]
  },
  {
   "cell_type": "code",
   "execution_count": 12,
   "metadata": {},
   "outputs": [
    {
     "name": "stderr",
     "output_type": "stream",
     "text": [
      "[*********************100%***********************]  1 of 1 completed\n"
     ]
    }
   ],
   "source": [
    "# Descargamos los datos de apple mismo\n",
    "start_date = \"2024-01-01\"\n",
    "end_date = \"2024-12-12\"\n",
    "\n",
    "df = yf.download(\"AAPL\", start=start_date, end=end_date)"
   ]
  },
  {
   "cell_type": "code",
   "execution_count": 20,
   "metadata": {},
   "outputs": [],
   "source": [
    "rename_columns = {'Open' : 'open', \n",
    "                  'High':  'high', \n",
    "                  'Low' : 'low', \n",
    "                  'Close' : 'close', \n",
    "                  'Adj Close' : 'adj close', \n",
    "                  'Volume' : 'volume'}\n",
    "df.rename(columns=rename_columns, inplace=True)\n",
    "df.columns = df.columns.droplevel('Ticker')"
   ]
  },
  {
   "cell_type": "code",
   "execution_count": 15,
   "metadata": {},
   "outputs": [],
   "source": [
    "# Aseguramos que el índice sea datetime\n",
    "df.index = pd.DatetimeIndex(df.index)"
   ]
  },
  {
   "cell_type": "code",
   "execution_count": 23,
   "metadata": {},
   "outputs": [
    {
     "data": {
      "image/png": "[encoded data removed]",
      "text/plain": [
       "<Figure size 1200x862.5 with 4 Axes>"
      ]
     },
     "metadata": {},
     "output_type": "display_data"
    }
   ],
   "source": [
    "# Bandas de bolinger\n",
    "bbands = TA.BBANDS(df, 30)\n",
    "\n",
    "\n",
    "bands_plot = pd.concat([bbands.BB_UPPER, bbands.BB_LOWER], axis=1)\n",
    "\n",
    "apd = mpf.make_addplot(bands_plot)\n",
    "\n",
    "mpf.plot(\n",
    "    df,\n",
    "    type='candle',\n",
    "    style='charles',\n",
    "    title='Apple',\n",
    "    ylabel='Price (USD)',\n",
    "    ylabel_lower='volume',\n",
    "    volume=True,\n",
    "    figscale=1.5,\n",
    "    addplot=apd\n",
    ")\n"
   ]
  },
  {
   "cell_type": "code",
   "execution_count": null,
   "metadata": {},
   "outputs": [],
   "source": []
  },
  {
   "cell_type": "code",
   "execution_count": null,
   "metadata": {},
   "outputs": [],
   "source": []
  },
  {
   "cell_type": "markdown",
   "metadata": {},
   "source": [
    "# Leemos datos con alpha vantage"
   ]
  },
  {
   "cell_type": "code",
   "execution_count": 2,
   "metadata": {},
   "outputs": [
    {
     "name": "stdout",
     "output_type": "stream",
     "text": [
      "Clave de API leida\n"
     ]
    }
   ],
   "source": [
    "# Cargar las variables de entorno desde el archivo .env\n",
    "load_dotenv()\n",
    "\n",
    "# Obtener la clave de la API\n",
    "api_key = os.getenv('API_KEY')\n",
    "\n",
    "if api_key:\n",
    "    print(f\"Clave de API leida\")\n",
    "else:\n",
    "    print(\"Error: No se encontró la clave API.\")"
   ]
  },
  {
   "cell_type": "code",
   "execution_count": 14,
   "metadata": {},
   "outputs": [],
   "source": [
    "# Cargamos la data\n",
    "ts = TimeSeries(key=api_key, output_format=\"pandas\")\n",
    "data, metadata = ts.get_monthly_adjusted(symbol=\"ENPH\")"
   ]
  },
  {
   "cell_type": "code",
   "execution_count": 15,
   "metadata": {},
   "outputs": [
    {
     "data": {
      "text/html": [
       "<div>\n",
       "<style scoped>\n",
       "    .dataframe tbody tr th:only-of-type {\n",
       "        vertical-align: middle;\n",
       "    }\n",
       "\n",
       "    .dataframe tbody tr th {\n",
       "        vertical-align: top;\n",
       "    }\n",
       "\n",
       "    .dataframe thead th {\n",
       "        text-align: right;\n",
       "    }\n",
       "</style>\n",
       "<table border=\"1\" class=\"dataframe\">\n",
       "  <thead>\n",
       "    <tr style=\"text-align: right;\">\n",
       "      <th></th>\n",
       "      <th>1. open</th>\n",
       "      <th>2. high</th>\n",
       "      <th>3. low</th>\n",
       "      <th>4. close</th>\n",
       "      <th>5. adjusted close</th>\n",
       "      <th>6. volume</th>\n",
       "      <th>7. dividend amount</th>\n",
       "    </tr>\n",
       "    <tr>\n",
       "      <th>date</th>\n",
       "      <th></th>\n",
       "      <th></th>\n",
       "      <th></th>\n",
       "      <th></th>\n",
       "      <th></th>\n",
       "      <th></th>\n",
       "      <th></th>\n",
       "    </tr>\n",
       "  </thead>\n",
       "  <tbody>\n",
       "    <tr>\n",
       "      <th>2012-04-30</th>\n",
       "      <td>7.65</td>\n",
       "      <td>8.2000</td>\n",
       "      <td>6.62</td>\n",
       "      <td>7.28</td>\n",
       "      <td>7.28</td>\n",
       "      <td>2458400.0</td>\n",
       "      <td>0.0</td>\n",
       "    </tr>\n",
       "    <tr>\n",
       "      <th>2012-05-31</th>\n",
       "      <td>7.50</td>\n",
       "      <td>9.5700</td>\n",
       "      <td>6.85</td>\n",
       "      <td>6.90</td>\n",
       "      <td>6.90</td>\n",
       "      <td>1853400.0</td>\n",
       "      <td>0.0</td>\n",
       "    </tr>\n",
       "    <tr>\n",
       "      <th>2012-06-29</th>\n",
       "      <td>7.43</td>\n",
       "      <td>7.9199</td>\n",
       "      <td>4.90</td>\n",
       "      <td>6.22</td>\n",
       "      <td>6.22</td>\n",
       "      <td>3472400.0</td>\n",
       "      <td>0.0</td>\n",
       "    </tr>\n",
       "    <tr>\n",
       "      <th>2012-07-31</th>\n",
       "      <td>6.22</td>\n",
       "      <td>6.6000</td>\n",
       "      <td>5.40</td>\n",
       "      <td>5.81</td>\n",
       "      <td>5.81</td>\n",
       "      <td>1690000.0</td>\n",
       "      <td>0.0</td>\n",
       "    </tr>\n",
       "    <tr>\n",
       "      <th>2012-08-31</th>\n",
       "      <td>5.87</td>\n",
       "      <td>6.8900</td>\n",
       "      <td>4.66</td>\n",
       "      <td>4.96</td>\n",
       "      <td>4.96</td>\n",
       "      <td>2585100.0</td>\n",
       "      <td>0.0</td>\n",
       "    </tr>\n",
       "    <tr>\n",
       "      <th>...</th>\n",
       "      <td>...</td>\n",
       "      <td>...</td>\n",
       "      <td>...</td>\n",
       "      <td>...</td>\n",
       "      <td>...</td>\n",
       "      <td>...</td>\n",
       "      <td>...</td>\n",
       "    </tr>\n",
       "    <tr>\n",
       "      <th>2024-05-31</th>\n",
       "      <td>109.05</td>\n",
       "      <td>134.0000</td>\n",
       "      <td>102.34</td>\n",
       "      <td>127.90</td>\n",
       "      <td>127.90</td>\n",
       "      <td>88718966.0</td>\n",
       "      <td>0.0</td>\n",
       "    </tr>\n",
       "    <tr>\n",
       "      <th>2024-06-28</th>\n",
       "      <td>131.21</td>\n",
       "      <td>141.6300</td>\n",
       "      <td>98.37</td>\n",
       "      <td>99.71</td>\n",
       "      <td>99.71</td>\n",
       "      <td>73553918.0</td>\n",
       "      <td>0.0</td>\n",
       "    </tr>\n",
       "    <tr>\n",
       "      <th>2024-07-31</th>\n",
       "      <td>99.50</td>\n",
       "      <td>122.9500</td>\n",
       "      <td>95.21</td>\n",
       "      <td>115.11</td>\n",
       "      <td>115.11</td>\n",
       "      <td>100529131.0</td>\n",
       "      <td>0.0</td>\n",
       "    </tr>\n",
       "    <tr>\n",
       "      <th>2024-08-30</th>\n",
       "      <td>115.77</td>\n",
       "      <td>130.0800</td>\n",
       "      <td>96.78</td>\n",
       "      <td>121.04</td>\n",
       "      <td>121.04</td>\n",
       "      <td>50652623.0</td>\n",
       "      <td>0.0</td>\n",
       "    </tr>\n",
       "    <tr>\n",
       "      <th>2024-09-05</th>\n",
       "      <td>118.63</td>\n",
       "      <td>119.2800</td>\n",
       "      <td>111.00</td>\n",
       "      <td>112.08</td>\n",
       "      <td>112.08</td>\n",
       "      <td>4898862.0</td>\n",
       "      <td>0.0</td>\n",
       "    </tr>\n",
       "  </tbody>\n",
       "</table>\n",
       "<p>150 rows × 7 columns</p>\n",
       "</div>"
      ],
      "text/plain": [
       "            1. open   2. high  3. low  4. close  5. adjusted close  \\\n",
       "date                                                                 \n",
       "2012-04-30     7.65    8.2000    6.62      7.28               7.28   \n",
       "2012-05-31     7.50    9.5700    6.85      6.90               6.90   \n",
       "2012-06-29     7.43    7.9199    4.90      6.22               6.22   \n",
       "2012-07-31     6.22    6.6000    5.40      5.81               5.81   \n",
       "2012-08-31     5.87    6.8900    4.66      4.96               4.96   \n",
       "...             ...       ...     ...       ...                ...   \n",
       "2024-05-31   109.05  134.0000  102.34    127.90             127.90   \n",
       "2024-06-28   131.21  141.6300   98.37     99.71              99.71   \n",
       "2024-07-31    99.50  122.9500   95.21    115.11             115.11   \n",
       "2024-08-30   115.77  130.0800   96.78    121.04             121.04   \n",
       "2024-09-05   118.63  119.2800  111.00    112.08             112.08   \n",
       "\n",
       "              6. volume  7. dividend amount  \n",
       "date                                         \n",
       "2012-04-30    2458400.0                 0.0  \n",
       "2012-05-31    1853400.0                 0.0  \n",
       "2012-06-29    3472400.0                 0.0  \n",
       "2012-07-31    1690000.0                 0.0  \n",
       "2012-08-31    2585100.0                 0.0  \n",
       "...                 ...                 ...  \n",
       "2024-05-31   88718966.0                 0.0  \n",
       "2024-06-28   73553918.0                 0.0  \n",
       "2024-07-31  100529131.0                 0.0  \n",
       "2024-08-30   50652623.0                 0.0  \n",
       "2024-09-05    4898862.0                 0.0  \n",
       "\n",
       "[150 rows x 7 columns]"
      ]
     },
     "execution_count": 15,
     "metadata": {},
     "output_type": "execute_result"
    }
   ],
   "source": [
    "data.sort_index()"
   ]
  },
  {
   "cell_type": "code",
   "execution_count": 2,
   "metadata": {},
   "outputs": [
    {
     "name": "stderr",
     "output_type": "stream",
     "text": [
      "[*********************100%***********************]  1 of 1 completed\n"
     ]
    }
   ],
   "source": [
    "df = yf.download(\"MSFT\", start=\"2024-09-01\", end=\"2024-09-07\")"
   ]
  },
  {
   "cell_type": "code",
   "execution_count": 3,
   "metadata": {},
   "outputs": [
    {
     "data": {
      "text/html": [
       "<div>\n",
       "<style scoped>\n",
       "    .dataframe tbody tr th:only-of-type {\n",
       "        vertical-align: middle;\n",
       "    }\n",
       "\n",
       "    .dataframe tbody tr th {\n",
       "        vertical-align: top;\n",
       "    }\n",
       "\n",
       "    .dataframe thead th {\n",
       "        text-align: right;\n",
       "    }\n",
       "</style>\n",
       "<table border=\"1\" class=\"dataframe\">\n",
       "  <thead>\n",
       "    <tr style=\"text-align: right;\">\n",
       "      <th></th>\n",
       "      <th>Open</th>\n",
       "      <th>High</th>\n",
       "      <th>Low</th>\n",
       "      <th>Close</th>\n",
       "      <th>Adj Close</th>\n",
       "      <th>Volume</th>\n",
       "    </tr>\n",
       "    <tr>\n",
       "      <th>Date</th>\n",
       "      <th></th>\n",
       "      <th></th>\n",
       "      <th></th>\n",
       "      <th></th>\n",
       "      <th></th>\n",
       "      <th></th>\n",
       "    </tr>\n",
       "  </thead>\n",
       "  <tbody>\n",
       "    <tr>\n",
       "      <th>2024-09-03</th>\n",
       "      <td>417.910004</td>\n",
       "      <td>419.880005</td>\n",
       "      <td>407.029999</td>\n",
       "      <td>409.440002</td>\n",
       "      <td>409.440002</td>\n",
       "      <td>20313600</td>\n",
       "    </tr>\n",
       "    <tr>\n",
       "      <th>2024-09-04</th>\n",
       "      <td>405.910004</td>\n",
       "      <td>411.239990</td>\n",
       "      <td>404.369995</td>\n",
       "      <td>408.899994</td>\n",
       "      <td>408.899994</td>\n",
       "      <td>15135800</td>\n",
       "    </tr>\n",
       "    <tr>\n",
       "      <th>2024-09-05</th>\n",
       "      <td>407.619995</td>\n",
       "      <td>413.100006</td>\n",
       "      <td>406.130005</td>\n",
       "      <td>408.390015</td>\n",
       "      <td>408.390015</td>\n",
       "      <td>14195500</td>\n",
       "    </tr>\n",
       "    <tr>\n",
       "      <th>2024-09-06</th>\n",
       "      <td>409.059998</td>\n",
       "      <td>410.649994</td>\n",
       "      <td>400.799988</td>\n",
       "      <td>401.700012</td>\n",
       "      <td>401.700012</td>\n",
       "      <td>19382200</td>\n",
       "    </tr>\n",
       "  </tbody>\n",
       "</table>\n",
       "</div>"
      ],
      "text/plain": [
       "                  Open        High         Low       Close   Adj Close  \\\n",
       "Date                                                                     \n",
       "2024-09-03  417.910004  419.880005  407.029999  409.440002  409.440002   \n",
       "2024-09-04  405.910004  411.239990  404.369995  408.899994  408.899994   \n",
       "2024-09-05  407.619995  413.100006  406.130005  408.390015  408.390015   \n",
       "2024-09-06  409.059998  410.649994  400.799988  401.700012  401.700012   \n",
       "\n",
       "              Volume  \n",
       "Date                  \n",
       "2024-09-03  20313600  \n",
       "2024-09-04  15135800  \n",
       "2024-09-05  14195500  \n",
       "2024-09-06  19382200  "
      ]
     },
     "execution_count": 3,
     "metadata": {},
     "output_type": "execute_result"
    }
   ],
   "source": [
    "df"
   ]
  },
  {
   "cell_type": "markdown",
   "metadata": {},
   "source": [
    "# Grafico de perdidas y ganancias"
   ]
  },
  {
   "cell_type": "code",
   "execution_count": 3,
   "metadata": {},
   "outputs": [],
   "source": [
    "# Descargamos los datos\n",
    "fd = FundamentalData(api_key, output_format=\"pandas\")\n",
    "income_statement = fd.get_income_statement_annual(\"OPEN\")[0]"
   ]
  },
  {
   "cell_type": "code",
   "execution_count": 4,
   "metadata": {},
   "outputs": [],
   "source": [
    "is1 = income_statement.T[2:]\n",
    "is1.columns = list(income_statement.T.iloc[0])"
   ]
  },
  {
   "cell_type": "code",
   "execution_count": 7,
   "metadata": {},
   "outputs": [
    {
     "data": {
      "text/html": [
       "<div>\n",
       "<style scoped>\n",
       "    .dataframe tbody tr th:only-of-type {\n",
       "        vertical-align: middle;\n",
       "    }\n",
       "\n",
       "    .dataframe tbody tr th {\n",
       "        vertical-align: top;\n",
       "    }\n",
       "\n",
       "    .dataframe thead th {\n",
       "        text-align: right;\n",
       "    }\n",
       "</style>\n",
       "<table border=\"1\" class=\"dataframe\">\n",
       "  <thead>\n",
       "    <tr style=\"text-align: right;\">\n",
       "      <th></th>\n",
       "      <th>2023-12-31</th>\n",
       "      <th>2022-12-31</th>\n",
       "      <th>2021-12-31</th>\n",
       "      <th>2020-12-31</th>\n",
       "    </tr>\n",
       "  </thead>\n",
       "  <tbody>\n",
       "    <tr>\n",
       "      <th>grossProfit</th>\n",
       "      <td>487000000</td>\n",
       "      <td>667000000</td>\n",
       "      <td>730000000</td>\n",
       "      <td>220000000</td>\n",
       "    </tr>\n",
       "    <tr>\n",
       "      <th>totalRevenue</th>\n",
       "      <td>6946000000</td>\n",
       "      <td>15567000000</td>\n",
       "      <td>8021000000</td>\n",
       "      <td>2583000000</td>\n",
       "    </tr>\n",
       "    <tr>\n",
       "      <th>costOfRevenue</th>\n",
       "      <td>6459000000</td>\n",
       "      <td>14900000000</td>\n",
       "      <td>7291000000</td>\n",
       "      <td>2363000000</td>\n",
       "    </tr>\n",
       "    <tr>\n",
       "      <th>costofGoodsAndServicesSold</th>\n",
       "      <td>65000000</td>\n",
       "      <td>737000000</td>\n",
       "      <td>56000000</td>\n",
       "      <td>7596000</td>\n",
       "    </tr>\n",
       "    <tr>\n",
       "      <th>operatingIncome</th>\n",
       "      <td>-386000000</td>\n",
       "      <td>-931000000</td>\n",
       "      <td>-568000000</td>\n",
       "      <td>-186000000</td>\n",
       "    </tr>\n",
       "    <tr>\n",
       "      <th>sellingGeneralAndAdministrative</th>\n",
       "      <td>692000000</td>\n",
       "      <td>1352000000</td>\n",
       "      <td>1164000000</td>\n",
       "      <td>347490000</td>\n",
       "    </tr>\n",
       "    <tr>\n",
       "      <th>researchAndDevelopment</th>\n",
       "      <td>167000000</td>\n",
       "      <td>169000000</td>\n",
       "      <td>134000000</td>\n",
       "      <td>56000000</td>\n",
       "    </tr>\n",
       "    <tr>\n",
       "      <th>operatingExpenses</th>\n",
       "      <td>873000000</td>\n",
       "      <td>1598000000</td>\n",
       "      <td>1298000000</td>\n",
       "      <td>406000000</td>\n",
       "    </tr>\n",
       "    <tr>\n",
       "      <th>investmentIncomeNet</th>\n",
       "      <td>None</td>\n",
       "      <td>None</td>\n",
       "      <td>None</td>\n",
       "      <td>None</td>\n",
       "    </tr>\n",
       "    <tr>\n",
       "      <th>netInterestIncome</th>\n",
       "      <td>-211000000</td>\n",
       "      <td>-385000000</td>\n",
       "      <td>-143000000</td>\n",
       "      <td>-67806000</td>\n",
       "    </tr>\n",
       "    <tr>\n",
       "      <th>interestIncome</th>\n",
       "      <td>None</td>\n",
       "      <td>None</td>\n",
       "      <td>None</td>\n",
       "      <td>194000</td>\n",
       "    </tr>\n",
       "    <tr>\n",
       "      <th>interestExpense</th>\n",
       "      <td>211000000</td>\n",
       "      <td>385000000</td>\n",
       "      <td>143000000</td>\n",
       "      <td>68000000</td>\n",
       "    </tr>\n",
       "    <tr>\n",
       "      <th>nonInterestIncome</th>\n",
       "      <td>7162000000</td>\n",
       "      <td>15542000000</td>\n",
       "      <td>8021000000</td>\n",
       "      <td>2571765000</td>\n",
       "    </tr>\n",
       "    <tr>\n",
       "      <th>otherNonOperatingIncome</th>\n",
       "      <td>107000000</td>\n",
       "      <td>-10000000</td>\n",
       "      <td>38000000</td>\n",
       "      <td>4000000</td>\n",
       "    </tr>\n",
       "    <tr>\n",
       "      <th>depreciation</th>\n",
       "      <td>None</td>\n",
       "      <td>None</td>\n",
       "      <td>None</td>\n",
       "      <td>None</td>\n",
       "    </tr>\n",
       "    <tr>\n",
       "      <th>depreciationAndAmortization</th>\n",
       "      <td>7000000</td>\n",
       "      <td>9000000</td>\n",
       "      <td>4000000</td>\n",
       "      <td>3700000</td>\n",
       "    </tr>\n",
       "    <tr>\n",
       "      <th>incomeBeforeTax</th>\n",
       "      <td>-274000000</td>\n",
       "      <td>-1351000000</td>\n",
       "      <td>-661000000</td>\n",
       "      <td>-253000000</td>\n",
       "    </tr>\n",
       "    <tr>\n",
       "      <th>incomeTaxExpense</th>\n",
       "      <td>1000000</td>\n",
       "      <td>2000000</td>\n",
       "      <td>1000000</td>\n",
       "      <td>0</td>\n",
       "    </tr>\n",
       "    <tr>\n",
       "      <th>interestAndDebtExpense</th>\n",
       "      <td>-5000000</td>\n",
       "      <td>410000000</td>\n",
       "      <td>143000000</td>\n",
       "      <td>79162000</td>\n",
       "    </tr>\n",
       "    <tr>\n",
       "      <th>netIncomeFromContinuingOperations</th>\n",
       "      <td>-275000000</td>\n",
       "      <td>-1353000000</td>\n",
       "      <td>-662000000</td>\n",
       "      <td>-286760000</td>\n",
       "    </tr>\n",
       "    <tr>\n",
       "      <th>comprehensiveIncomeNetOfTax</th>\n",
       "      <td>-272000000</td>\n",
       "      <td>-1355000000</td>\n",
       "      <td>-664000000</td>\n",
       "      <td>-253000000</td>\n",
       "    </tr>\n",
       "    <tr>\n",
       "      <th>ebit</th>\n",
       "      <td>-63000000</td>\n",
       "      <td>-966000000</td>\n",
       "      <td>-518000000</td>\n",
       "      <td>-185000000</td>\n",
       "    </tr>\n",
       "    <tr>\n",
       "      <th>ebitda</th>\n",
       "      <td>-56000000</td>\n",
       "      <td>-957000000</td>\n",
       "      <td>-514000000</td>\n",
       "      <td>-181300000</td>\n",
       "    </tr>\n",
       "    <tr>\n",
       "      <th>netIncome</th>\n",
       "      <td>-275000000</td>\n",
       "      <td>-1353000000</td>\n",
       "      <td>-662000000</td>\n",
       "      <td>-253000000</td>\n",
       "    </tr>\n",
       "  </tbody>\n",
       "</table>\n",
       "</div>"
      ],
      "text/plain": [
       "                                   2023-12-31   2022-12-31  2021-12-31  \\\n",
       "grossProfit                         487000000    667000000   730000000   \n",
       "totalRevenue                       6946000000  15567000000  8021000000   \n",
       "costOfRevenue                      6459000000  14900000000  7291000000   \n",
       "costofGoodsAndServicesSold           65000000    737000000    56000000   \n",
       "operatingIncome                    -386000000   -931000000  -568000000   \n",
       "sellingGeneralAndAdministrative     692000000   1352000000  1164000000   \n",
       "researchAndDevelopment              167000000    169000000   134000000   \n",
       "operatingExpenses                   873000000   1598000000  1298000000   \n",
       "investmentIncomeNet                      None         None        None   \n",
       "netInterestIncome                  -211000000   -385000000  -143000000   \n",
       "interestIncome                           None         None        None   \n",
       "interestExpense                     211000000    385000000   143000000   \n",
       "nonInterestIncome                  7162000000  15542000000  8021000000   \n",
       "otherNonOperatingIncome             107000000    -10000000    38000000   \n",
       "depreciation                             None         None        None   \n",
       "depreciationAndAmortization           7000000      9000000     4000000   \n",
       "incomeBeforeTax                    -274000000  -1351000000  -661000000   \n",
       "incomeTaxExpense                      1000000      2000000     1000000   \n",
       "interestAndDebtExpense               -5000000    410000000   143000000   \n",
       "netIncomeFromContinuingOperations  -275000000  -1353000000  -662000000   \n",
       "comprehensiveIncomeNetOfTax        -272000000  -1355000000  -664000000   \n",
       "ebit                                -63000000   -966000000  -518000000   \n",
       "ebitda                              -56000000   -957000000  -514000000   \n",
       "netIncome                          -275000000  -1353000000  -662000000   \n",
       "\n",
       "                                   2020-12-31  \n",
       "grossProfit                         220000000  \n",
       "totalRevenue                       2583000000  \n",
       "costOfRevenue                      2363000000  \n",
       "costofGoodsAndServicesSold            7596000  \n",
       "operatingIncome                    -186000000  \n",
       "sellingGeneralAndAdministrative     347490000  \n",
       "researchAndDevelopment               56000000  \n",
       "operatingExpenses                   406000000  \n",
       "investmentIncomeNet                      None  \n",
       "netInterestIncome                   -67806000  \n",
       "interestIncome                         194000  \n",
       "interestExpense                      68000000  \n",
       "nonInterestIncome                  2571765000  \n",
       "otherNonOperatingIncome               4000000  \n",
       "depreciation                             None  \n",
       "depreciationAndAmortization           3700000  \n",
       "incomeBeforeTax                    -253000000  \n",
       "incomeTaxExpense                            0  \n",
       "interestAndDebtExpense               79162000  \n",
       "netIncomeFromContinuingOperations  -286760000  \n",
       "comprehensiveIncomeNetOfTax        -253000000  \n",
       "ebit                               -185000000  \n",
       "ebitda                             -181300000  \n",
       "netIncome                          -253000000  "
      ]
     },
     "execution_count": 7,
     "metadata": {},
     "output_type": "execute_result"
    }
   ],
   "source": [
    "is1"
   ]
  },
  {
   "cell_type": "code",
   "execution_count": 6,
   "metadata": {},
   "outputs": [],
   "source": [
    "import matplotlib.pyplot as plt\n",
    "import matplotlib.colors as mcolors\n",
    "# Definir un mapa de colores personalizado\n",
    "def reverse_cmap(cmap_name):\n",
    "    cmap = plt.get_cmap(cmap_name)\n",
    "    colors = cmap(np.arange(cmap.N))\n",
    "    colors = colors[::-1]  # Invertir el orden de los colores\n",
    "    return mcolors.LinearSegmentedColormap.from_list(f\"reversed_{cmap_name}\", colors)"
   ]
  },
  {
   "cell_type": "code",
   "execution_count": 13,
   "metadata": {},
   "outputs": [
    {
     "data": {
      "text/html": [
       "<style type=\"text/css\">\n",
       "#T_80c36_row0_col0 {\n",
       "  background-color: #fff7b2;\n",
       "}\n",
       "#T_80c36_row0_col1 {\n",
       "  background-color: #dd3d2d;\n",
       "}\n",
       "#T_80c36_row0_col2, #T_80c36_row1_col1, #T_80c36_row2_col1, #T_80c36_row3_col1, #T_80c36_row4_col3, #T_80c36_row5_col1, #T_80c36_row6_col1, #T_80c36_row7_col1, #T_80c36_row9_col3, #T_80c36_row11_col1, #T_80c36_row12_col1, #T_80c36_row13_col0, #T_80c36_row15_col1, #T_80c36_row16_col3, #T_80c36_row17_col1, #T_80c36_row18_col1, #T_80c36_row19_col0, #T_80c36_row20_col3, #T_80c36_row21_col0, #T_80c36_row22_col0, #T_80c36_row23_col3 {\n",
       "  background-color: #a50026;\n",
       "}\n",
       "#T_80c36_row0_col3, #T_80c36_row1_col3, #T_80c36_row2_col3, #T_80c36_row3_col3, #T_80c36_row4_col1, #T_80c36_row5_col3, #T_80c36_row6_col3, #T_80c36_row7_col3, #T_80c36_row9_col1, #T_80c36_row10_col0, #T_80c36_row10_col1, #T_80c36_row10_col2, #T_80c36_row10_col3, #T_80c36_row11_col3, #T_80c36_row12_col3, #T_80c36_row13_col1, #T_80c36_row15_col3, #T_80c36_row16_col1, #T_80c36_row17_col3, #T_80c36_row18_col0, #T_80c36_row19_col1, #T_80c36_row20_col1, #T_80c36_row21_col1, #T_80c36_row22_col1, #T_80c36_row23_col1 {\n",
       "  background-color: #006837;\n",
       "}\n",
       "#T_80c36_row1_col0 {\n",
       "  background-color: #b9e176;\n",
       "}\n",
       "#T_80c36_row1_col2, #T_80c36_row12_col2 {\n",
       "  background-color: #e0f295;\n",
       "}\n",
       "#T_80c36_row2_col0 {\n",
       "  background-color: #b3df72;\n",
       "}\n",
       "#T_80c36_row2_col2, #T_80c36_row7_col0 {\n",
       "  background-color: #d5ed88;\n",
       "}\n",
       "#T_80c36_row3_col0 {\n",
       "  background-color: #148e4b;\n",
       "}\n",
       "#T_80c36_row3_col2 {\n",
       "  background-color: #108647;\n",
       "}\n",
       "#T_80c36_row4_col0 {\n",
       "  background-color: #fa9857;\n",
       "}\n",
       "#T_80c36_row4_col2 {\n",
       "  background-color: #fafdb8;\n",
       "}\n",
       "#T_80c36_row5_col0 {\n",
       "  background-color: #bbe278;\n",
       "}\n",
       "#T_80c36_row5_col2 {\n",
       "  background-color: #ef633f;\n",
       "}\n",
       "#T_80c36_row6_col0, #T_80c36_row16_col0, #T_80c36_row20_col0 {\n",
       "  background-color: #ad0826;\n",
       "}\n",
       "#T_80c36_row6_col2 {\n",
       "  background-color: #fdb365;\n",
       "}\n",
       "#T_80c36_row7_col2 {\n",
       "  background-color: #f98e52;\n",
       "}\n",
       "#T_80c36_row8_col0, #T_80c36_row8_col1, #T_80c36_row8_col2, #T_80c36_row8_col3, #T_80c36_row14_col0, #T_80c36_row14_col1, #T_80c36_row14_col2, #T_80c36_row14_col3 {\n",
       "  background-color: #000000;\n",
       "}\n",
       "#T_80c36_row9_col0 {\n",
       "  background-color: #fff0a6;\n",
       "}\n",
       "#T_80c36_row9_col2 {\n",
       "  background-color: #f7844e;\n",
       "}\n",
       "#T_80c36_row11_col0 {\n",
       "  background-color: #ecf7a6;\n",
       "}\n",
       "#T_80c36_row11_col2 {\n",
       "  background-color: #7dc765;\n",
       "}\n",
       "#T_80c36_row12_col0 {\n",
       "  background-color: #c1e57b;\n",
       "}\n",
       "#T_80c36_row13_col2 {\n",
       "  background-color: #ddf191;\n",
       "}\n",
       "#T_80c36_row13_col3 {\n",
       "  background-color: #279f53;\n",
       "}\n",
       "#T_80c36_row15_col0 {\n",
       "  background-color: #fed481;\n",
       "}\n",
       "#T_80c36_row15_col2 {\n",
       "  background-color: #0e8245;\n",
       "}\n",
       "#T_80c36_row16_col2, #T_80c36_row20_col2, #T_80c36_row23_col2 {\n",
       "  background-color: #fed27f;\n",
       "}\n",
       "#T_80c36_row17_col0, #T_80c36_row17_col2 {\n",
       "  background-color: #fffebe;\n",
       "}\n",
       "#T_80c36_row18_col2 {\n",
       "  background-color: #c3e67d;\n",
       "}\n",
       "#T_80c36_row18_col3 {\n",
       "  background-color: #66bd63;\n",
       "}\n",
       "#T_80c36_row19_col2 {\n",
       "  background-color: #feca79;\n",
       "}\n",
       "#T_80c36_row19_col3 {\n",
       "  background-color: #a90426;\n",
       "}\n",
       "#T_80c36_row21_col2 {\n",
       "  background-color: #feffbe;\n",
       "}\n",
       "#T_80c36_row21_col3 {\n",
       "  background-color: #e14430;\n",
       "}\n",
       "#T_80c36_row22_col2 {\n",
       "  background-color: #fbfdba;\n",
       "}\n",
       "#T_80c36_row22_col3 {\n",
       "  background-color: #e24731;\n",
       "}\n",
       "#T_80c36_row23_col0 {\n",
       "  background-color: #af0926;\n",
       "}\n",
       "</style>\n",
       "<table id=\"T_80c36\">\n",
       "  <thead>\n",
       "    <tr>\n",
       "      <th class=\"blank level0\" >&nbsp;</th>\n",
       "      <th id=\"T_80c36_level0_col0\" class=\"col_heading level0 col0\" >2023-12-31</th>\n",
       "      <th id=\"T_80c36_level0_col1\" class=\"col_heading level0 col1\" >2022-12-31</th>\n",
       "      <th id=\"T_80c36_level0_col2\" class=\"col_heading level0 col2\" >2021-12-31</th>\n",
       "      <th id=\"T_80c36_level0_col3\" class=\"col_heading level0 col3\" >2020-12-31</th>\n",
       "    </tr>\n",
       "  </thead>\n",
       "  <tbody>\n",
       "    <tr>\n",
       "      <th id=\"T_80c36_level0_row0\" class=\"row_heading level0 row0\" >grossProfit</th>\n",
       "      <td id=\"T_80c36_row0_col0\" class=\"data row0 col0\" >487000000.000000</td>\n",
       "      <td id=\"T_80c36_row0_col1\" class=\"data row0 col1\" >667000000.000000</td>\n",
       "      <td id=\"T_80c36_row0_col2\" class=\"data row0 col2\" >730000000.000000</td>\n",
       "      <td id=\"T_80c36_row0_col3\" class=\"data row0 col3\" >220000000.000000</td>\n",
       "    </tr>\n",
       "    <tr>\n",
       "      <th id=\"T_80c36_level0_row1\" class=\"row_heading level0 row1\" >totalRevenue</th>\n",
       "      <td id=\"T_80c36_row1_col0\" class=\"data row1 col0\" >6946000000.000000</td>\n",
       "      <td id=\"T_80c36_row1_col1\" class=\"data row1 col1\" >15567000000.000000</td>\n",
       "      <td id=\"T_80c36_row1_col2\" class=\"data row1 col2\" >8021000000.000000</td>\n",
       "      <td id=\"T_80c36_row1_col3\" class=\"data row1 col3\" >2583000000.000000</td>\n",
       "    </tr>\n",
       "    <tr>\n",
       "      <th id=\"T_80c36_level0_row2\" class=\"row_heading level0 row2\" >costOfRevenue</th>\n",
       "      <td id=\"T_80c36_row2_col0\" class=\"data row2 col0\" >6459000000.000000</td>\n",
       "      <td id=\"T_80c36_row2_col1\" class=\"data row2 col1\" >14900000000.000000</td>\n",
       "      <td id=\"T_80c36_row2_col2\" class=\"data row2 col2\" >7291000000.000000</td>\n",
       "      <td id=\"T_80c36_row2_col3\" class=\"data row2 col3\" >2363000000.000000</td>\n",
       "    </tr>\n",
       "    <tr>\n",
       "      <th id=\"T_80c36_level0_row3\" class=\"row_heading level0 row3\" >costofGoodsAndServicesSold</th>\n",
       "      <td id=\"T_80c36_row3_col0\" class=\"data row3 col0\" >65000000.000000</td>\n",
       "      <td id=\"T_80c36_row3_col1\" class=\"data row3 col1\" >737000000.000000</td>\n",
       "      <td id=\"T_80c36_row3_col2\" class=\"data row3 col2\" >56000000.000000</td>\n",
       "      <td id=\"T_80c36_row3_col3\" class=\"data row3 col3\" >7596000.000000</td>\n",
       "    </tr>\n",
       "    <tr>\n",
       "      <th id=\"T_80c36_level0_row4\" class=\"row_heading level0 row4\" >operatingIncome</th>\n",
       "      <td id=\"T_80c36_row4_col0\" class=\"data row4 col0\" >-386000000.000000</td>\n",
       "      <td id=\"T_80c36_row4_col1\" class=\"data row4 col1\" >-931000000.000000</td>\n",
       "      <td id=\"T_80c36_row4_col2\" class=\"data row4 col2\" >-568000000.000000</td>\n",
       "      <td id=\"T_80c36_row4_col3\" class=\"data row4 col3\" >-186000000.000000</td>\n",
       "    </tr>\n",
       "    <tr>\n",
       "      <th id=\"T_80c36_level0_row5\" class=\"row_heading level0 row5\" >sellingGeneralAndAdministrative</th>\n",
       "      <td id=\"T_80c36_row5_col0\" class=\"data row5 col0\" >692000000.000000</td>\n",
       "      <td id=\"T_80c36_row5_col1\" class=\"data row5 col1\" >1352000000.000000</td>\n",
       "      <td id=\"T_80c36_row5_col2\" class=\"data row5 col2\" >1164000000.000000</td>\n",
       "      <td id=\"T_80c36_row5_col3\" class=\"data row5 col3\" >347490000.000000</td>\n",
       "    </tr>\n",
       "    <tr>\n",
       "      <th id=\"T_80c36_level0_row6\" class=\"row_heading level0 row6\" >researchAndDevelopment</th>\n",
       "      <td id=\"T_80c36_row6_col0\" class=\"data row6 col0\" >167000000.000000</td>\n",
       "      <td id=\"T_80c36_row6_col1\" class=\"data row6 col1\" >169000000.000000</td>\n",
       "      <td id=\"T_80c36_row6_col2\" class=\"data row6 col2\" >134000000.000000</td>\n",
       "      <td id=\"T_80c36_row6_col3\" class=\"data row6 col3\" >56000000.000000</td>\n",
       "    </tr>\n",
       "    <tr>\n",
       "      <th id=\"T_80c36_level0_row7\" class=\"row_heading level0 row7\" >operatingExpenses</th>\n",
       "      <td id=\"T_80c36_row7_col0\" class=\"data row7 col0\" >873000000.000000</td>\n",
       "      <td id=\"T_80c36_row7_col1\" class=\"data row7 col1\" >1598000000.000000</td>\n",
       "      <td id=\"T_80c36_row7_col2\" class=\"data row7 col2\" >1298000000.000000</td>\n",
       "      <td id=\"T_80c36_row7_col3\" class=\"data row7 col3\" >406000000.000000</td>\n",
       "    </tr>\n",
       "    <tr>\n",
       "      <th id=\"T_80c36_level0_row8\" class=\"row_heading level0 row8\" >investmentIncomeNet</th>\n",
       "      <td id=\"T_80c36_row8_col0\" class=\"data row8 col0\" >nan</td>\n",
       "      <td id=\"T_80c36_row8_col1\" class=\"data row8 col1\" >nan</td>\n",
       "      <td id=\"T_80c36_row8_col2\" class=\"data row8 col2\" >nan</td>\n",
       "      <td id=\"T_80c36_row8_col3\" class=\"data row8 col3\" >nan</td>\n",
       "    </tr>\n",
       "    <tr>\n",
       "      <th id=\"T_80c36_level0_row9\" class=\"row_heading level0 row9\" >netInterestIncome</th>\n",
       "      <td id=\"T_80c36_row9_col0\" class=\"data row9 col0\" >-211000000.000000</td>\n",
       "      <td id=\"T_80c36_row9_col1\" class=\"data row9 col1\" >-385000000.000000</td>\n",
       "      <td id=\"T_80c36_row9_col2\" class=\"data row9 col2\" >-143000000.000000</td>\n",
       "      <td id=\"T_80c36_row9_col3\" class=\"data row9 col3\" >-67806000.000000</td>\n",
       "    </tr>\n",
       "    <tr>\n",
       "      <th id=\"T_80c36_level0_row10\" class=\"row_heading level0 row10\" >interestIncome</th>\n",
       "      <td id=\"T_80c36_row10_col0\" class=\"data row10 col0\" >nan</td>\n",
       "      <td id=\"T_80c36_row10_col1\" class=\"data row10 col1\" >nan</td>\n",
       "      <td id=\"T_80c36_row10_col2\" class=\"data row10 col2\" >nan</td>\n",
       "      <td id=\"T_80c36_row10_col3\" class=\"data row10 col3\" >194000.000000</td>\n",
       "    </tr>\n",
       "    <tr>\n",
       "      <th id=\"T_80c36_level0_row11\" class=\"row_heading level0 row11\" >interestExpense</th>\n",
       "      <td id=\"T_80c36_row11_col0\" class=\"data row11 col0\" >211000000.000000</td>\n",
       "      <td id=\"T_80c36_row11_col1\" class=\"data row11 col1\" >385000000.000000</td>\n",
       "      <td id=\"T_80c36_row11_col2\" class=\"data row11 col2\" >143000000.000000</td>\n",
       "      <td id=\"T_80c36_row11_col3\" class=\"data row11 col3\" >68000000.000000</td>\n",
       "    </tr>\n",
       "    <tr>\n",
       "      <th id=\"T_80c36_level0_row12\" class=\"row_heading level0 row12\" >nonInterestIncome</th>\n",
       "      <td id=\"T_80c36_row12_col0\" class=\"data row12 col0\" >7162000000.000000</td>\n",
       "      <td id=\"T_80c36_row12_col1\" class=\"data row12 col1\" >15542000000.000000</td>\n",
       "      <td id=\"T_80c36_row12_col2\" class=\"data row12 col2\" >8021000000.000000</td>\n",
       "      <td id=\"T_80c36_row12_col3\" class=\"data row12 col3\" >2571765000.000000</td>\n",
       "    </tr>\n",
       "    <tr>\n",
       "      <th id=\"T_80c36_level0_row13\" class=\"row_heading level0 row13\" >otherNonOperatingIncome</th>\n",
       "      <td id=\"T_80c36_row13_col0\" class=\"data row13 col0\" >107000000.000000</td>\n",
       "      <td id=\"T_80c36_row13_col1\" class=\"data row13 col1\" >-10000000.000000</td>\n",
       "      <td id=\"T_80c36_row13_col2\" class=\"data row13 col2\" >38000000.000000</td>\n",
       "      <td id=\"T_80c36_row13_col3\" class=\"data row13 col3\" >4000000.000000</td>\n",
       "    </tr>\n",
       "    <tr>\n",
       "      <th id=\"T_80c36_level0_row14\" class=\"row_heading level0 row14\" >depreciation</th>\n",
       "      <td id=\"T_80c36_row14_col0\" class=\"data row14 col0\" >nan</td>\n",
       "      <td id=\"T_80c36_row14_col1\" class=\"data row14 col1\" >nan</td>\n",
       "      <td id=\"T_80c36_row14_col2\" class=\"data row14 col2\" >nan</td>\n",
       "      <td id=\"T_80c36_row14_col3\" class=\"data row14 col3\" >nan</td>\n",
       "    </tr>\n",
       "    <tr>\n",
       "      <th id=\"T_80c36_level0_row15\" class=\"row_heading level0 row15\" >depreciationAndAmortization</th>\n",
       "      <td id=\"T_80c36_row15_col0\" class=\"data row15 col0\" >7000000.000000</td>\n",
       "      <td id=\"T_80c36_row15_col1\" class=\"data row15 col1\" >9000000.000000</td>\n",
       "      <td id=\"T_80c36_row15_col2\" class=\"data row15 col2\" >4000000.000000</td>\n",
       "      <td id=\"T_80c36_row15_col3\" class=\"data row15 col3\" >3700000.000000</td>\n",
       "    </tr>\n",
       "    <tr>\n",
       "      <th id=\"T_80c36_level0_row16\" class=\"row_heading level0 row16\" >incomeBeforeTax</th>\n",
       "      <td id=\"T_80c36_row16_col0\" class=\"data row16 col0\" >-274000000.000000</td>\n",
       "      <td id=\"T_80c36_row16_col1\" class=\"data row16 col1\" >-1351000000.000000</td>\n",
       "      <td id=\"T_80c36_row16_col2\" class=\"data row16 col2\" >-661000000.000000</td>\n",
       "      <td id=\"T_80c36_row16_col3\" class=\"data row16 col3\" >-253000000.000000</td>\n",
       "    </tr>\n",
       "    <tr>\n",
       "      <th id=\"T_80c36_level0_row17\" class=\"row_heading level0 row17\" >incomeTaxExpense</th>\n",
       "      <td id=\"T_80c36_row17_col0\" class=\"data row17 col0\" >1000000.000000</td>\n",
       "      <td id=\"T_80c36_row17_col1\" class=\"data row17 col1\" >2000000.000000</td>\n",
       "      <td id=\"T_80c36_row17_col2\" class=\"data row17 col2\" >1000000.000000</td>\n",
       "      <td id=\"T_80c36_row17_col3\" class=\"data row17 col3\" >0.000000</td>\n",
       "    </tr>\n",
       "    <tr>\n",
       "      <th id=\"T_80c36_level0_row18\" class=\"row_heading level0 row18\" >interestAndDebtExpense</th>\n",
       "      <td id=\"T_80c36_row18_col0\" class=\"data row18 col0\" >-5000000.000000</td>\n",
       "      <td id=\"T_80c36_row18_col1\" class=\"data row18 col1\" >410000000.000000</td>\n",
       "      <td id=\"T_80c36_row18_col2\" class=\"data row18 col2\" >143000000.000000</td>\n",
       "      <td id=\"T_80c36_row18_col3\" class=\"data row18 col3\" >79162000.000000</td>\n",
       "    </tr>\n",
       "    <tr>\n",
       "      <th id=\"T_80c36_level0_row19\" class=\"row_heading level0 row19\" >netIncomeFromContinuingOperations</th>\n",
       "      <td id=\"T_80c36_row19_col0\" class=\"data row19 col0\" >-275000000.000000</td>\n",
       "      <td id=\"T_80c36_row19_col1\" class=\"data row19 col1\" >-1353000000.000000</td>\n",
       "      <td id=\"T_80c36_row19_col2\" class=\"data row19 col2\" >-662000000.000000</td>\n",
       "      <td id=\"T_80c36_row19_col3\" class=\"data row19 col3\" >-286760000.000000</td>\n",
       "    </tr>\n",
       "    <tr>\n",
       "      <th id=\"T_80c36_level0_row20\" class=\"row_heading level0 row20\" >comprehensiveIncomeNetOfTax</th>\n",
       "      <td id=\"T_80c36_row20_col0\" class=\"data row20 col0\" >-272000000.000000</td>\n",
       "      <td id=\"T_80c36_row20_col1\" class=\"data row20 col1\" >-1355000000.000000</td>\n",
       "      <td id=\"T_80c36_row20_col2\" class=\"data row20 col2\" >-664000000.000000</td>\n",
       "      <td id=\"T_80c36_row20_col3\" class=\"data row20 col3\" >-253000000.000000</td>\n",
       "    </tr>\n",
       "    <tr>\n",
       "      <th id=\"T_80c36_level0_row21\" class=\"row_heading level0 row21\" >ebit</th>\n",
       "      <td id=\"T_80c36_row21_col0\" class=\"data row21 col0\" >-63000000.000000</td>\n",
       "      <td id=\"T_80c36_row21_col1\" class=\"data row21 col1\" >-966000000.000000</td>\n",
       "      <td id=\"T_80c36_row21_col2\" class=\"data row21 col2\" >-518000000.000000</td>\n",
       "      <td id=\"T_80c36_row21_col3\" class=\"data row21 col3\" >-185000000.000000</td>\n",
       "    </tr>\n",
       "    <tr>\n",
       "      <th id=\"T_80c36_level0_row22\" class=\"row_heading level0 row22\" >ebitda</th>\n",
       "      <td id=\"T_80c36_row22_col0\" class=\"data row22 col0\" >-56000000.000000</td>\n",
       "      <td id=\"T_80c36_row22_col1\" class=\"data row22 col1\" >-957000000.000000</td>\n",
       "      <td id=\"T_80c36_row22_col2\" class=\"data row22 col2\" >-514000000.000000</td>\n",
       "      <td id=\"T_80c36_row22_col3\" class=\"data row22 col3\" >-181300000.000000</td>\n",
       "    </tr>\n",
       "    <tr>\n",
       "      <th id=\"T_80c36_level0_row23\" class=\"row_heading level0 row23\" >netIncome</th>\n",
       "      <td id=\"T_80c36_row23_col0\" class=\"data row23 col0\" >-275000000.000000</td>\n",
       "      <td id=\"T_80c36_row23_col1\" class=\"data row23 col1\" >-1353000000.000000</td>\n",
       "      <td id=\"T_80c36_row23_col2\" class=\"data row23 col2\" >-662000000.000000</td>\n",
       "      <td id=\"T_80c36_row23_col3\" class=\"data row23 col3\" >-253000000.000000</td>\n",
       "    </tr>\n",
       "  </tbody>\n",
       "</table>\n"
      ],
      "text/plain": [
       "<pandas.io.formats.style.Styler at 0x758c82819af0>"
      ]
     },
     "execution_count": 13,
     "metadata": {},
     "output_type": "execute_result"
    }
   ],
   "source": [
    "# Definir un mapa de colores para las filas basado en una escala\n",
    "def row_gradient(row):\n",
    "    # Normalizar los valores de la fila para usar en el gradiente de colores\n",
    "    norm = plt.Normalize(vmin=row.min(), vmax=row.max())\n",
    "    cmap = plt.get_cmap(reverse_cmap('RdYlGn'))  # Escoge el mapa de colores que prefieras\n",
    "    colors = [mcolors.to_hex(cmap(norm(val))) for val in row]\n",
    "    return [f'background-color: {color}' for color in colors]\n",
    "\n",
    "# Convertir las columnas a tipo float, manejando valores 'None' y errores\n",
    "df = is1.apply(pd.to_numeric, errors='coerce')\n",
    "\n",
    "# Aplicar el gradiente de color por fila\n",
    "styled_df = df.style.apply(row_gradient, axis=1)\n",
    "styled_df"
   ]
  },
  {
   "cell_type": "code",
   "execution_count": 28,
   "metadata": {},
   "outputs": [
    {
     "data": {
      "text/html": [
       "<style type=\"text/css\">\n",
       "#T_45fdb_row0_col0 {\n",
       "  background-color: #5e7de7;\n",
       "  color: #f1f1f1;\n",
       "}\n",
       "#T_45fdb_row0_col1, #T_45fdb_row6_col3 {\n",
       "  background-color: #5f7fe8;\n",
       "  color: #f1f1f1;\n",
       "}\n",
       "#T_45fdb_row0_col2 {\n",
       "  background-color: #6e90f2;\n",
       "  color: #f1f1f1;\n",
       "}\n",
       "#T_45fdb_row0_col3 {\n",
       "  background-color: #7396f5;\n",
       "  color: #f1f1f1;\n",
       "}\n",
       "#T_45fdb_row1_col0 {\n",
       "  background-color: #be242e;\n",
       "  color: #f1f1f1;\n",
       "}\n",
       "#T_45fdb_row1_col1, #T_45fdb_row1_col2, #T_45fdb_row1_col3, #T_45fdb_row12_col0, #T_45fdb_row12_col1, #T_45fdb_row12_col2 {\n",
       "  background-color: #b40426;\n",
       "  color: #f1f1f1;\n",
       "}\n",
       "#T_45fdb_row2_col0 {\n",
       "  background-color: #d44e41;\n",
       "  color: #f1f1f1;\n",
       "}\n",
       "#T_45fdb_row2_col1 {\n",
       "  background-color: #c32e31;\n",
       "  color: #f1f1f1;\n",
       "}\n",
       "#T_45fdb_row2_col2 {\n",
       "  background-color: #d1493f;\n",
       "  color: #f1f1f1;\n",
       "}\n",
       "#T_45fdb_row2_col3 {\n",
       "  background-color: #cf453c;\n",
       "  color: #f1f1f1;\n",
       "}\n",
       "#T_45fdb_row3_col0, #T_45fdb_row9_col2 {\n",
       "  background-color: #4c66d6;\n",
       "  color: #f1f1f1;\n",
       "}\n",
       "#T_45fdb_row3_col1, #T_45fdb_row11_col3 {\n",
       "  background-color: #6180e9;\n",
       "  color: #f1f1f1;\n",
       "}\n",
       "#T_45fdb_row3_col2 {\n",
       "  background-color: #5470de;\n",
       "  color: #f1f1f1;\n",
       "}\n",
       "#T_45fdb_row3_col3, #T_45fdb_row11_col1, #T_45fdb_row18_col1 {\n",
       "  background-color: #5a78e4;\n",
       "  color: #f1f1f1;\n",
       "}\n",
       "#T_45fdb_row4_col0, #T_45fdb_row16_col1, #T_45fdb_row16_col2, #T_45fdb_row19_col1, #T_45fdb_row19_col2, #T_45fdb_row19_col3, #T_45fdb_row20_col1, #T_45fdb_row20_col2, #T_45fdb_row23_col1, #T_45fdb_row23_col2 {\n",
       "  background-color: #3b4cc0;\n",
       "  color: #f1f1f1;\n",
       "}\n",
       "#T_45fdb_row4_col1, #T_45fdb_row22_col1 {\n",
       "  background-color: #4257c9;\n",
       "  color: #f1f1f1;\n",
       "}\n",
       "#T_45fdb_row4_col2 {\n",
       "  background-color: #3d50c3;\n",
       "  color: #f1f1f1;\n",
       "}\n",
       "#T_45fdb_row4_col3 {\n",
       "  background-color: #445acc;\n",
       "  color: #f1f1f1;\n",
       "}\n",
       "#T_45fdb_row5_col0 {\n",
       "  background-color: #6788ee;\n",
       "  color: #f1f1f1;\n",
       "}\n",
       "#T_45fdb_row5_col1 {\n",
       "  background-color: #6c8ff1;\n",
       "  color: #f1f1f1;\n",
       "}\n",
       "#T_45fdb_row5_col2 {\n",
       "  background-color: #7ea1fa;\n",
       "  color: #f1f1f1;\n",
       "}\n",
       "#T_45fdb_row5_col3 {\n",
       "  background-color: #82a6fb;\n",
       "  color: #f1f1f1;\n",
       "}\n",
       "#T_45fdb_row6_col0 {\n",
       "  background-color: #506bda;\n",
       "  color: #f1f1f1;\n",
       "}\n",
       "#T_45fdb_row6_col1, #T_45fdb_row6_col2, #T_45fdb_row11_col2, #T_45fdb_row18_col2 {\n",
       "  background-color: #5673e0;\n",
       "  color: #f1f1f1;\n",
       "}\n",
       "#T_45fdb_row7_col0 {\n",
       "  background-color: #6f92f3;\n",
       "  color: #f1f1f1;\n",
       "}\n",
       "#T_45fdb_row7_col1 {\n",
       "  background-color: #7295f4;\n",
       "  color: #f1f1f1;\n",
       "}\n",
       "#T_45fdb_row7_col2 {\n",
       "  background-color: #84a7fc;\n",
       "  color: #f1f1f1;\n",
       "}\n",
       "#T_45fdb_row7_col3 {\n",
       "  background-color: #89acfd;\n",
       "  color: #000000;\n",
       "}\n",
       "#T_45fdb_row8_col0, #T_45fdb_row10_col0, #T_45fdb_row14_col0, #T_45fdb_row15_col0, #T_45fdb_row17_col0 {\n",
       "  background-color: #4a63d3;\n",
       "  color: #f1f1f1;\n",
       "}\n",
       "#T_45fdb_row8_col1, #T_45fdb_row10_col1, #T_45fdb_row11_col0, #T_45fdb_row13_col1, #T_45fdb_row13_col2, #T_45fdb_row14_col1, #T_45fdb_row15_col1, #T_45fdb_row17_col1 {\n",
       "  background-color: #536edd;\n",
       "  color: #f1f1f1;\n",
       "}\n",
       "#T_45fdb_row8_col2, #T_45fdb_row9_col3, #T_45fdb_row10_col2, #T_45fdb_row14_col2, #T_45fdb_row15_col2, #T_45fdb_row17_col2 {\n",
       "  background-color: #516ddb;\n",
       "  color: #f1f1f1;\n",
       "}\n",
       "#T_45fdb_row8_col3, #T_45fdb_row10_col3, #T_45fdb_row13_col3, #T_45fdb_row14_col3, #T_45fdb_row15_col3, #T_45fdb_row17_col3 {\n",
       "  background-color: #5977e3;\n",
       "  color: #f1f1f1;\n",
       "}\n",
       "#T_45fdb_row9_col0, #T_45fdb_row21_col1 {\n",
       "  background-color: #4055c8;\n",
       "  color: #f1f1f1;\n",
       "}\n",
       "#T_45fdb_row9_col1 {\n",
       "  background-color: #4b64d5;\n",
       "  color: #f1f1f1;\n",
       "}\n",
       "#T_45fdb_row12_col3 {\n",
       "  background-color: #b50927;\n",
       "  color: #f1f1f1;\n",
       "}\n",
       "#T_45fdb_row13_col0 {\n",
       "  background-color: #4e68d8;\n",
       "  color: #f1f1f1;\n",
       "}\n",
       "#T_45fdb_row16_col0, #T_45fdb_row16_col3, #T_45fdb_row19_col0, #T_45fdb_row20_col0, #T_45fdb_row20_col3, #T_45fdb_row23_col0, #T_45fdb_row23_col3 {\n",
       "  background-color: #3e51c5;\n",
       "  color: #f1f1f1;\n",
       "}\n",
       "#T_45fdb_row18_col0 {\n",
       "  background-color: #4961d2;\n",
       "  color: #f1f1f1;\n",
       "}\n",
       "#T_45fdb_row18_col3 {\n",
       "  background-color: #6282ea;\n",
       "  color: #f1f1f1;\n",
       "}\n",
       "#T_45fdb_row21_col0 {\n",
       "  background-color: #465ecf;\n",
       "  color: #f1f1f1;\n",
       "}\n",
       "#T_45fdb_row21_col2, #T_45fdb_row22_col2 {\n",
       "  background-color: #3f53c6;\n",
       "  color: #f1f1f1;\n",
       "}\n",
       "#T_45fdb_row21_col3, #T_45fdb_row22_col3 {\n",
       "  background-color: #455cce;\n",
       "  color: #f1f1f1;\n",
       "}\n",
       "#T_45fdb_row22_col0 {\n",
       "  background-color: #485fd1;\n",
       "  color: #f1f1f1;\n",
       "}\n",
       "</style>\n",
       "<table id=\"T_45fdb\">\n",
       "  <thead>\n",
       "    <tr>\n",
       "      <th class=\"blank level0\" >&nbsp;</th>\n",
       "      <th id=\"T_45fdb_level0_col0\" class=\"col_heading level0 col0\" >2023-12-31</th>\n",
       "      <th id=\"T_45fdb_level0_col1\" class=\"col_heading level0 col1\" >2022-12-31</th>\n",
       "      <th id=\"T_45fdb_level0_col2\" class=\"col_heading level0 col2\" >2021-12-31</th>\n",
       "      <th id=\"T_45fdb_level0_col3\" class=\"col_heading level0 col3\" >2020-12-31</th>\n",
       "    </tr>\n",
       "  </thead>\n",
       "  <tbody>\n",
       "    <tr>\n",
       "      <th id=\"T_45fdb_level0_row0\" class=\"row_heading level0 row0\" >grossProfit</th>\n",
       "      <td id=\"T_45fdb_row0_col0\" class=\"data row0 col0\" >487000000.000000</td>\n",
       "      <td id=\"T_45fdb_row0_col1\" class=\"data row0 col1\" >667000000.000000</td>\n",
       "      <td id=\"T_45fdb_row0_col2\" class=\"data row0 col2\" >730000000.000000</td>\n",
       "      <td id=\"T_45fdb_row0_col3\" class=\"data row0 col3\" >220000000.000000</td>\n",
       "    </tr>\n",
       "    <tr>\n",
       "      <th id=\"T_45fdb_level0_row1\" class=\"row_heading level0 row1\" >totalRevenue</th>\n",
       "      <td id=\"T_45fdb_row1_col0\" class=\"data row1 col0\" >6946000000.000000</td>\n",
       "      <td id=\"T_45fdb_row1_col1\" class=\"data row1 col1\" >15567000000.000000</td>\n",
       "      <td id=\"T_45fdb_row1_col2\" class=\"data row1 col2\" >8021000000.000000</td>\n",
       "      <td id=\"T_45fdb_row1_col3\" class=\"data row1 col3\" >2583000000.000000</td>\n",
       "    </tr>\n",
       "    <tr>\n",
       "      <th id=\"T_45fdb_level0_row2\" class=\"row_heading level0 row2\" >costOfRevenue</th>\n",
       "      <td id=\"T_45fdb_row2_col0\" class=\"data row2 col0\" >6459000000.000000</td>\n",
       "      <td id=\"T_45fdb_row2_col1\" class=\"data row2 col1\" >14900000000.000000</td>\n",
       "      <td id=\"T_45fdb_row2_col2\" class=\"data row2 col2\" >7291000000.000000</td>\n",
       "      <td id=\"T_45fdb_row2_col3\" class=\"data row2 col3\" >2363000000.000000</td>\n",
       "    </tr>\n",
       "    <tr>\n",
       "      <th id=\"T_45fdb_level0_row3\" class=\"row_heading level0 row3\" >costofGoodsAndServicesSold</th>\n",
       "      <td id=\"T_45fdb_row3_col0\" class=\"data row3 col0\" >65000000.000000</td>\n",
       "      <td id=\"T_45fdb_row3_col1\" class=\"data row3 col1\" >737000000.000000</td>\n",
       "      <td id=\"T_45fdb_row3_col2\" class=\"data row3 col2\" >56000000.000000</td>\n",
       "      <td id=\"T_45fdb_row3_col3\" class=\"data row3 col3\" >7596000.000000</td>\n",
       "    </tr>\n",
       "    <tr>\n",
       "      <th id=\"T_45fdb_level0_row4\" class=\"row_heading level0 row4\" >operatingIncome</th>\n",
       "      <td id=\"T_45fdb_row4_col0\" class=\"data row4 col0\" >-386000000.000000</td>\n",
       "      <td id=\"T_45fdb_row4_col1\" class=\"data row4 col1\" >-931000000.000000</td>\n",
       "      <td id=\"T_45fdb_row4_col2\" class=\"data row4 col2\" >-568000000.000000</td>\n",
       "      <td id=\"T_45fdb_row4_col3\" class=\"data row4 col3\" >-186000000.000000</td>\n",
       "    </tr>\n",
       "    <tr>\n",
       "      <th id=\"T_45fdb_level0_row5\" class=\"row_heading level0 row5\" >sellingGeneralAndAdministrative</th>\n",
       "      <td id=\"T_45fdb_row5_col0\" class=\"data row5 col0\" >692000000.000000</td>\n",
       "      <td id=\"T_45fdb_row5_col1\" class=\"data row5 col1\" >1352000000.000000</td>\n",
       "      <td id=\"T_45fdb_row5_col2\" class=\"data row5 col2\" >1164000000.000000</td>\n",
       "      <td id=\"T_45fdb_row5_col3\" class=\"data row5 col3\" >347490000.000000</td>\n",
       "    </tr>\n",
       "    <tr>\n",
       "      <th id=\"T_45fdb_level0_row6\" class=\"row_heading level0 row6\" >researchAndDevelopment</th>\n",
       "      <td id=\"T_45fdb_row6_col0\" class=\"data row6 col0\" >167000000.000000</td>\n",
       "      <td id=\"T_45fdb_row6_col1\" class=\"data row6 col1\" >169000000.000000</td>\n",
       "      <td id=\"T_45fdb_row6_col2\" class=\"data row6 col2\" >134000000.000000</td>\n",
       "      <td id=\"T_45fdb_row6_col3\" class=\"data row6 col3\" >56000000.000000</td>\n",
       "    </tr>\n",
       "    <tr>\n",
       "      <th id=\"T_45fdb_level0_row7\" class=\"row_heading level0 row7\" >operatingExpenses</th>\n",
       "      <td id=\"T_45fdb_row7_col0\" class=\"data row7 col0\" >873000000.000000</td>\n",
       "      <td id=\"T_45fdb_row7_col1\" class=\"data row7 col1\" >1598000000.000000</td>\n",
       "      <td id=\"T_45fdb_row7_col2\" class=\"data row7 col2\" >1298000000.000000</td>\n",
       "      <td id=\"T_45fdb_row7_col3\" class=\"data row7 col3\" >406000000.000000</td>\n",
       "    </tr>\n",
       "    <tr>\n",
       "      <th id=\"T_45fdb_level0_row8\" class=\"row_heading level0 row8\" >investmentIncomeNet</th>\n",
       "      <td id=\"T_45fdb_row8_col0\" class=\"data row8 col0\" >0.000000</td>\n",
       "      <td id=\"T_45fdb_row8_col1\" class=\"data row8 col1\" >0.000000</td>\n",
       "      <td id=\"T_45fdb_row8_col2\" class=\"data row8 col2\" >0.000000</td>\n",
       "      <td id=\"T_45fdb_row8_col3\" class=\"data row8 col3\" >0.000000</td>\n",
       "    </tr>\n",
       "    <tr>\n",
       "      <th id=\"T_45fdb_level0_row9\" class=\"row_heading level0 row9\" >netInterestIncome</th>\n",
       "      <td id=\"T_45fdb_row9_col0\" class=\"data row9 col0\" >-211000000.000000</td>\n",
       "      <td id=\"T_45fdb_row9_col1\" class=\"data row9 col1\" >-385000000.000000</td>\n",
       "      <td id=\"T_45fdb_row9_col2\" class=\"data row9 col2\" >-143000000.000000</td>\n",
       "      <td id=\"T_45fdb_row9_col3\" class=\"data row9 col3\" >-67806000.000000</td>\n",
       "    </tr>\n",
       "    <tr>\n",
       "      <th id=\"T_45fdb_level0_row10\" class=\"row_heading level0 row10\" >interestIncome</th>\n",
       "      <td id=\"T_45fdb_row10_col0\" class=\"data row10 col0\" >0.000000</td>\n",
       "      <td id=\"T_45fdb_row10_col1\" class=\"data row10 col1\" >0.000000</td>\n",
       "      <td id=\"T_45fdb_row10_col2\" class=\"data row10 col2\" >0.000000</td>\n",
       "      <td id=\"T_45fdb_row10_col3\" class=\"data row10 col3\" >194000.000000</td>\n",
       "    </tr>\n",
       "    <tr>\n",
       "      <th id=\"T_45fdb_level0_row11\" class=\"row_heading level0 row11\" >interestExpense</th>\n",
       "      <td id=\"T_45fdb_row11_col0\" class=\"data row11 col0\" >211000000.000000</td>\n",
       "      <td id=\"T_45fdb_row11_col1\" class=\"data row11 col1\" >385000000.000000</td>\n",
       "      <td id=\"T_45fdb_row11_col2\" class=\"data row11 col2\" >143000000.000000</td>\n",
       "      <td id=\"T_45fdb_row11_col3\" class=\"data row11 col3\" >68000000.000000</td>\n",
       "    </tr>\n",
       "    <tr>\n",
       "      <th id=\"T_45fdb_level0_row12\" class=\"row_heading level0 row12\" >nonInterestIncome</th>\n",
       "      <td id=\"T_45fdb_row12_col0\" class=\"data row12 col0\" >7162000000.000000</td>\n",
       "      <td id=\"T_45fdb_row12_col1\" class=\"data row12 col1\" >15542000000.000000</td>\n",
       "      <td id=\"T_45fdb_row12_col2\" class=\"data row12 col2\" >8021000000.000000</td>\n",
       "      <td id=\"T_45fdb_row12_col3\" class=\"data row12 col3\" >2571765000.000000</td>\n",
       "    </tr>\n",
       "    <tr>\n",
       "      <th id=\"T_45fdb_level0_row13\" class=\"row_heading level0 row13\" >otherNonOperatingIncome</th>\n",
       "      <td id=\"T_45fdb_row13_col0\" class=\"data row13 col0\" >107000000.000000</td>\n",
       "      <td id=\"T_45fdb_row13_col1\" class=\"data row13 col1\" >-10000000.000000</td>\n",
       "      <td id=\"T_45fdb_row13_col2\" class=\"data row13 col2\" >38000000.000000</td>\n",
       "      <td id=\"T_45fdb_row13_col3\" class=\"data row13 col3\" >4000000.000000</td>\n",
       "    </tr>\n",
       "    <tr>\n",
       "      <th id=\"T_45fdb_level0_row14\" class=\"row_heading level0 row14\" >depreciation</th>\n",
       "      <td id=\"T_45fdb_row14_col0\" class=\"data row14 col0\" >0.000000</td>\n",
       "      <td id=\"T_45fdb_row14_col1\" class=\"data row14 col1\" >0.000000</td>\n",
       "      <td id=\"T_45fdb_row14_col2\" class=\"data row14 col2\" >0.000000</td>\n",
       "      <td id=\"T_45fdb_row14_col3\" class=\"data row14 col3\" >0.000000</td>\n",
       "    </tr>\n",
       "    <tr>\n",
       "      <th id=\"T_45fdb_level0_row15\" class=\"row_heading level0 row15\" >depreciationAndAmortization</th>\n",
       "      <td id=\"T_45fdb_row15_col0\" class=\"data row15 col0\" >7000000.000000</td>\n",
       "      <td id=\"T_45fdb_row15_col1\" class=\"data row15 col1\" >9000000.000000</td>\n",
       "      <td id=\"T_45fdb_row15_col2\" class=\"data row15 col2\" >4000000.000000</td>\n",
       "      <td id=\"T_45fdb_row15_col3\" class=\"data row15 col3\" >3700000.000000</td>\n",
       "    </tr>\n",
       "    <tr>\n",
       "      <th id=\"T_45fdb_level0_row16\" class=\"row_heading level0 row16\" >incomeBeforeTax</th>\n",
       "      <td id=\"T_45fdb_row16_col0\" class=\"data row16 col0\" >-274000000.000000</td>\n",
       "      <td id=\"T_45fdb_row16_col1\" class=\"data row16 col1\" >-1351000000.000000</td>\n",
       "      <td id=\"T_45fdb_row16_col2\" class=\"data row16 col2\" >-661000000.000000</td>\n",
       "      <td id=\"T_45fdb_row16_col3\" class=\"data row16 col3\" >-253000000.000000</td>\n",
       "    </tr>\n",
       "    <tr>\n",
       "      <th id=\"T_45fdb_level0_row17\" class=\"row_heading level0 row17\" >incomeTaxExpense</th>\n",
       "      <td id=\"T_45fdb_row17_col0\" class=\"data row17 col0\" >1000000.000000</td>\n",
       "      <td id=\"T_45fdb_row17_col1\" class=\"data row17 col1\" >2000000.000000</td>\n",
       "      <td id=\"T_45fdb_row17_col2\" class=\"data row17 col2\" >1000000.000000</td>\n",
       "      <td id=\"T_45fdb_row17_col3\" class=\"data row17 col3\" >0.000000</td>\n",
       "    </tr>\n",
       "    <tr>\n",
       "      <th id=\"T_45fdb_level0_row18\" class=\"row_heading level0 row18\" >interestAndDebtExpense</th>\n",
       "      <td id=\"T_45fdb_row18_col0\" class=\"data row18 col0\" >-5000000.000000</td>\n",
       "      <td id=\"T_45fdb_row18_col1\" class=\"data row18 col1\" >410000000.000000</td>\n",
       "      <td id=\"T_45fdb_row18_col2\" class=\"data row18 col2\" >143000000.000000</td>\n",
       "      <td id=\"T_45fdb_row18_col3\" class=\"data row18 col3\" >79162000.000000</td>\n",
       "    </tr>\n",
       "    <tr>\n",
       "      <th id=\"T_45fdb_level0_row19\" class=\"row_heading level0 row19\" >netIncomeFromContinuingOperations</th>\n",
       "      <td id=\"T_45fdb_row19_col0\" class=\"data row19 col0\" >-275000000.000000</td>\n",
       "      <td id=\"T_45fdb_row19_col1\" class=\"data row19 col1\" >-1353000000.000000</td>\n",
       "      <td id=\"T_45fdb_row19_col2\" class=\"data row19 col2\" >-662000000.000000</td>\n",
       "      <td id=\"T_45fdb_row19_col3\" class=\"data row19 col3\" >-286760000.000000</td>\n",
       "    </tr>\n",
       "    <tr>\n",
       "      <th id=\"T_45fdb_level0_row20\" class=\"row_heading level0 row20\" >comprehensiveIncomeNetOfTax</th>\n",
       "      <td id=\"T_45fdb_row20_col0\" class=\"data row20 col0\" >-272000000.000000</td>\n",
       "      <td id=\"T_45fdb_row20_col1\" class=\"data row20 col1\" >-1355000000.000000</td>\n",
       "      <td id=\"T_45fdb_row20_col2\" class=\"data row20 col2\" >-664000000.000000</td>\n",
       "      <td id=\"T_45fdb_row20_col3\" class=\"data row20 col3\" >-253000000.000000</td>\n",
       "    </tr>\n",
       "    <tr>\n",
       "      <th id=\"T_45fdb_level0_row21\" class=\"row_heading level0 row21\" >ebit</th>\n",
       "      <td id=\"T_45fdb_row21_col0\" class=\"data row21 col0\" >-63000000.000000</td>\n",
       "      <td id=\"T_45fdb_row21_col1\" class=\"data row21 col1\" >-966000000.000000</td>\n",
       "      <td id=\"T_45fdb_row21_col2\" class=\"data row21 col2\" >-518000000.000000</td>\n",
       "      <td id=\"T_45fdb_row21_col3\" class=\"data row21 col3\" >-185000000.000000</td>\n",
       "    </tr>\n",
       "    <tr>\n",
       "      <th id=\"T_45fdb_level0_row22\" class=\"row_heading level0 row22\" >ebitda</th>\n",
       "      <td id=\"T_45fdb_row22_col0\" class=\"data row22 col0\" >-56000000.000000</td>\n",
       "      <td id=\"T_45fdb_row22_col1\" class=\"data row22 col1\" >-957000000.000000</td>\n",
       "      <td id=\"T_45fdb_row22_col2\" class=\"data row22 col2\" >-514000000.000000</td>\n",
       "      <td id=\"T_45fdb_row22_col3\" class=\"data row22 col3\" >-181300000.000000</td>\n",
       "    </tr>\n",
       "    <tr>\n",
       "      <th id=\"T_45fdb_level0_row23\" class=\"row_heading level0 row23\" >netIncome</th>\n",
       "      <td id=\"T_45fdb_row23_col0\" class=\"data row23 col0\" >-275000000.000000</td>\n",
       "      <td id=\"T_45fdb_row23_col1\" class=\"data row23 col1\" >-1353000000.000000</td>\n",
       "      <td id=\"T_45fdb_row23_col2\" class=\"data row23 col2\" >-662000000.000000</td>\n",
       "      <td id=\"T_45fdb_row23_col3\" class=\"data row23 col3\" >-253000000.000000</td>\n",
       "    </tr>\n",
       "  </tbody>\n",
       "</table>\n"
      ],
      "text/plain": [
       "<pandas.io.formats.style.Styler at 0x7a8a0d186300>"
      ]
     },
     "execution_count": 28,
     "metadata": {},
     "output_type": "execute_result"
    }
   ],
   "source": [
    "\n",
    "\n",
    "# Convertir las columnas a tipo float, manejando valores 'None' y errores\n",
    "df = df.apply(pd.to_numeric, errors='coerce')\n",
    "\n",
    "# Rellenar valores NaN con 0 (o el valor que prefieras)\n",
    "df_filled = df.fillna(0)\n",
    "\n",
    "# Crear un mapa de colores personalizado\n",
    "custom_cmap = reverse_cmap('coolwarm')\n",
    "\n",
    "# Aplicar el gradiente de colores con el mapa de colores personalizado\n",
    "styled_df = df_filled.style.background_gradient(cmap=custom_cmap)\n",
    "\n",
    "# Aplicar un gradiente de colores\n",
    "styled_df = df_filled.style.background_gradient(cmap='coolwarm')\n",
    "\n",
    "# Mostrar el DataFrame estilizado en Jupyter Notebook (o en un entorno similar)\n",
    "styled_df"
   ]
  },
  {
   "cell_type": "code",
   "execution_count": 18,
   "metadata": {},
   "outputs": [],
   "source": [
    "# Crear el DataFrame\n",
    "df = pd.DataFrame(is1, index=[\n",
    "    'grossProfit', 'totalRevenue', 'costOfRevenue', 'costofGoodsAndServicesSold',\n",
    "    'operatingIncome', 'sellingGeneralAndAdministrative', 'researchAndDevelopment',\n",
    "    'operatingExpenses', 'investmentIncomeNet', 'netInterestIncome', 'interestIncome',\n",
    "    'interestExpense', 'nonInterestIncome', 'otherNonOperatingIncome', 'depreciation',\n",
    "    'depreciationAndAmortization', 'incomeBeforeTax', 'incomeTaxExpense', 'interestAndDebtExpense',\n",
    "    'netIncomeFromContinuingOperations', 'comprehensiveIncomeNetOfTax', 'ebit', 'ebitda', 'netIncome'\n",
    "])\n",
    "\n"
   ]
  },
  {
   "cell_type": "code",
   "execution_count": 11,
   "metadata": {},
   "outputs": [],
   "source": []
  },
  {
   "cell_type": "code",
   "execution_count": null,
   "metadata": {},
   "outputs": [],
   "source": []
  },
  {
   "cell_type": "code",
   "execution_count": null,
   "metadata": {},
   "outputs": [],
   "source": []
  }
 ],
 "metadata": {
  "kernelspec": {
   "display_name": "stock-app",
   "language": "python",
   "name": "python3"
  },
  "language_info": {
   "codemirror_mode": {
    "name": "ipython",
    "version": 3
   },
   "file_extension": ".py",
   "mimetype": "text/x-python",
   "name": "python",
   "nbconvert_exporter": "python",
   "pygments_lexer": "ipython3",
   "version": "3.13.1"
  }
 },
 "nbformat": 4,
 "nbformat_minor": 2
}
