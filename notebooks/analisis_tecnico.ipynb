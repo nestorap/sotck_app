{
 "cells": [
  {
   "cell_type": "markdown",
   "metadata": {},
   "source": [
    "# Introducción\n",
    "En este notebook tenemos el código para hacer un gráfico y distintos indicadores para realizar un análisis técnico"
   ]
  },
  {
   "cell_type": "code",
   "execution_count": 1,
   "metadata": {},
   "outputs": [],
   "source": [
    "# Librerias\n",
    "import numpy as np\n",
    "import pandas as pd\n",
    "\n",
    "# Stock\n",
    "import yfinance as yf\n",
    "from lightweight_charts import Chart"
   ]
  },
  {
   "cell_type": "code",
   "execution_count": 2,
   "metadata": {},
   "outputs": [],
   "source": [
    "# Descargamos los datos de apple mismo\n",
    "start_date = \"2024-01-01\"\n",
    "end_date = \"2024-12-12\"\n",
    "interval='1d'"
   ]
  },
  {
   "cell_type": "code",
   "execution_count": 2,
   "metadata": {},
   "outputs": [
    {
     "name": "stderr",
     "output_type": "stream",
     "text": [
      "[*********************100%***********************]  1 of 1 completed\n"
     ]
    }
   ],
   "source": [
    "\n",
    "\n",
    "df = yf.download(\"AAPL\", start=start_date, end=end_date)"
   ]
  },
  {
   "cell_type": "code",
   "execution_count": null,
   "metadata": {},
   "outputs": [],
   "source": []
  },
  {
   "cell_type": "code",
   "execution_count": 3,
   "metadata": {},
   "outputs": [],
   "source": [
    "# Limpiamos el multiindex\n",
    "rename_columns = {'Open' : 'open', \n",
    "                  'High':  'high', \n",
    "                  'Low' : 'low', \n",
    "                  'Close' : 'close', \n",
    "                  'Adj Close' : 'adj close', \n",
    "                  'Volume' : 'volume'}\n",
    "df.rename(columns=rename_columns, inplace=True)\n",
    "df.columns = df.columns.droplevel('Ticker')"
   ]
  },
  {
   "cell_type": "code",
   "execution_count": 3,
   "metadata": {},
   "outputs": [],
   "source": [
    "def get_bar_data(symbol, start_date, end_date, interval):\n",
    "    df = yf.download(symbol, start=start_date, end=end_date, interval=interval)\n",
    "    # Limpiamos el multiindex\n",
    "    rename_columns = {'Open' : 'open', \n",
    "                    'High':  'high', \n",
    "                    'Low' : 'low', \n",
    "                    'Close' : 'close', \n",
    "                    'Adj Close' : 'adj close', \n",
    "                    'Volume' : 'volume'}\n",
    "    df.rename(columns=rename_columns, inplace=True)\n",
    "    df.columns = df.columns.droplevel('Ticker')\n",
    "    return df\n",
    "\n",
    "def on_search(chart, searched_string):  # Called when the user searches.\n",
    "    new_data = get_bar_data(searched_string, chart.topbar['timeframe'].value)\n",
    "    if new_data.empty:\n",
    "        return\n",
    "    chart.topbar['symbol'].set(searched_string)\n",
    "    chart.set(new_data)\n",
    "\n",
    "\n",
    "def on_timeframe_selection(chart):  # Called when the user changes the timeframe.\n",
    "    new_data = get_bar_data(chart.topbar['symbol'].value, chart.topbar['timeframe'].value)\n",
    "    if new_data.empty:\n",
    "        return\n",
    "    chart.set(new_data, True)"
   ]
  },
  {
   "cell_type": "code",
   "execution_count": 4,
   "metadata": {},
   "outputs": [
    {
     "name": "stderr",
     "output_type": "stream",
     "text": [
      "[*********************100%***********************]  1 of 1 completed\n",
      "2025-01-22 14:45:03.376 python[4846:176450] +[IMKClient subclass]: chose IMKClient_Modern\n"
     ]
    },
    {
     "ename": "RuntimeError",
     "evalue": "asyncio.run() cannot be called from a running event loop",
     "output_type": "error",
     "traceback": [
      "\u001b[0;31m---------------------------------------------------------------------------\u001b[0m",
      "\u001b[0;31mRuntimeError\u001b[0m                              Traceback (most recent call last)",
      "Cell \u001b[0;32mIn[4], line 16\u001b[0m\n\u001b[1;32m     12\u001b[0m chart\u001b[38;5;241m.\u001b[39mset(df)\n\u001b[1;32m     14\u001b[0m \u001b[38;5;66;03m# chart.horizontal_line(200, func=on_horizontal_line_move)\u001b[39;00m\n\u001b[0;32m---> 16\u001b[0m \u001b[43mchart\u001b[49m\u001b[38;5;241;43m.\u001b[39;49m\u001b[43mshow\u001b[49m\u001b[43m(\u001b[49m\u001b[43mblock\u001b[49m\u001b[38;5;241;43m=\u001b[39;49m\u001b[38;5;28;43;01mTrue\u001b[39;49;00m\u001b[43m)\u001b[49m\n",
      "File \u001b[0;32m~/.pyenv/versions/3.13.1/envs/stock-app/lib/python3.13/site-packages/lightweight_charts/chart.py:202\u001b[0m, in \u001b[0;36mChart.show\u001b[0;34m(self, block)\u001b[0m\n\u001b[1;32m    200\u001b[0m     Chart\u001b[38;5;241m.\u001b[39mWV\u001b[38;5;241m.\u001b[39mshow(\u001b[38;5;28mself\u001b[39m\u001b[38;5;241m.\u001b[39m_i)\n\u001b[1;32m    201\u001b[0m \u001b[38;5;28;01mif\u001b[39;00m block:\n\u001b[0;32m--> 202\u001b[0m     \u001b[43masyncio\u001b[49m\u001b[38;5;241;43m.\u001b[39;49m\u001b[43mrun\u001b[49m\u001b[43m(\u001b[49m\u001b[38;5;28;43mself\u001b[39;49m\u001b[38;5;241;43m.\u001b[39;49m\u001b[43mshow_async\u001b[49m\u001b[43m(\u001b[49m\u001b[43m)\u001b[49m\u001b[43m)\u001b[49m\n",
      "File \u001b[0;32m~/.pyenv/versions/3.13.1/lib/python3.13/asyncio/runners.py:190\u001b[0m, in \u001b[0;36mrun\u001b[0;34m(main, debug, loop_factory)\u001b[0m\n\u001b[1;32m    161\u001b[0m \u001b[38;5;250m\u001b[39m\u001b[38;5;124;03m\"\"\"Execute the coroutine and return the result.\u001b[39;00m\n\u001b[1;32m    162\u001b[0m \n\u001b[1;32m    163\u001b[0m \u001b[38;5;124;03mThis function runs the passed coroutine, taking care of\u001b[39;00m\n\u001b[0;32m   (...)\u001b[0m\n\u001b[1;32m    186\u001b[0m \u001b[38;5;124;03m    asyncio.run(main())\u001b[39;00m\n\u001b[1;32m    187\u001b[0m \u001b[38;5;124;03m\"\"\"\u001b[39;00m\n\u001b[1;32m    188\u001b[0m \u001b[38;5;28;01mif\u001b[39;00m events\u001b[38;5;241m.\u001b[39m_get_running_loop() \u001b[38;5;129;01mis\u001b[39;00m \u001b[38;5;129;01mnot\u001b[39;00m \u001b[38;5;28;01mNone\u001b[39;00m:\n\u001b[1;32m    189\u001b[0m     \u001b[38;5;66;03m# fail fast with short traceback\u001b[39;00m\n\u001b[0;32m--> 190\u001b[0m     \u001b[38;5;28;01mraise\u001b[39;00m \u001b[38;5;167;01mRuntimeError\u001b[39;00m(\n\u001b[1;32m    191\u001b[0m         \u001b[38;5;124m\"\u001b[39m\u001b[38;5;124masyncio.run() cannot be called from a running event loop\u001b[39m\u001b[38;5;124m\"\u001b[39m)\n\u001b[1;32m    193\u001b[0m \u001b[38;5;28;01mwith\u001b[39;00m Runner(debug\u001b[38;5;241m=\u001b[39mdebug, loop_factory\u001b[38;5;241m=\u001b[39mloop_factory) \u001b[38;5;28;01mas\u001b[39;00m runner:\n\u001b[1;32m    194\u001b[0m     \u001b[38;5;28;01mreturn\u001b[39;00m runner\u001b[38;5;241m.\u001b[39mrun(main)\n",
      "\u001b[0;31mRuntimeError\u001b[0m: asyncio.run() cannot be called from a running event loop"
     ]
    },
    {
     "name": "stderr",
     "output_type": "stream",
     "text": [
      "2025-01-22 14:45:03.440 python[4846:176450] +[IMKInputSession subclass]: chose IMKInputSession_Modern\n",
      "2025-01-22 14:46:02.630 python[4846:176450] <class 'AttributeError'>: 'NSKVONotifying_NSApplication' object has no attribute 'abortModal_'\n"
     ]
    }
   ],
   "source": [
    "# Instanciamos el gráfico\n",
    "chart = Chart(toolbox=True)\n",
    "\n",
    "chart.events.search += on_search\n",
    "chart.topbar.textbox('symbol', 'TSLA')\n",
    "\n",
    "chart.topbar.switcher(\n",
    "    'timeframe', ('1min', '5min', '1d'),\n",
    "    func=on_timeframe_selection\n",
    ")\n",
    "df = get_bar_data('TSLA', start_date, end_date, interval)\n",
    "chart.set(df)\n",
    "\n",
    "# chart.horizontal_line(200, func=on_horizontal_line_move)\n",
    "\n",
    "chart.show(block=True)"
   ]
  },
  {
   "cell_type": "code",
   "execution_count": null,
   "metadata": {},
   "outputs": [],
   "source": []
  }
 ],
 "metadata": {
  "kernelspec": {
   "display_name": "stock-app",
   "language": "python",
   "name": "python3"
  },
  "language_info": {
   "codemirror_mode": {
    "name": "ipython",
    "version": 3
   },
   "file_extension": ".py",
   "mimetype": "text/x-python",
   "name": "python",
   "nbconvert_exporter": "python",
   "pygments_lexer": "ipython3",
   "version": "3.13.1"
  }
 },
 "nbformat": 4,
 "nbformat_minor": 2
}
