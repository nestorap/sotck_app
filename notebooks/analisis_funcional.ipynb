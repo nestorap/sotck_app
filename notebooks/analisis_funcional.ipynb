{
 "cells": [
  {
   "cell_type": "markdown",
   "metadata": {},
   "source": [
    "# Análisis Fundamental\n",
    "\n",
    "En esta sección tendremos los principales datos de análisis fundamental y los ratios que nos dirán lo sana o no sana que está una empresa.\n",
    "\n",
    "## Indicadores a Calcular\n",
    "\n",
    "### 1. Indicadores de Rentabilidad\n",
    "Evalúan la capacidad de una empresa para generar ganancias:\n",
    "\n",
    "- **Márgenes de Beneficio:**\n",
    "  - Margen Bruto:  \n",
    "    `(Ingresos - Costo de Ventas) / Ingresos`\n",
    "  - Margen Operativo:  \n",
    "    `Ingresos Operativos / Ingresos`\n",
    "  - Margen Neto:  \n",
    "    `Beneficio Neto / Ingresos`\n",
    "\n",
    "- **Rentabilidad sobre Activos (ROA):**  \n",
    "  Fórmula: `Beneficio Neto / Activos Totales`  \n",
    "  Indica qué tan eficientemente la empresa utiliza sus activos para generar beneficios.\n",
    "\n",
    "- **Rentabilidad sobre Capital (ROE):**  \n",
    "  Fórmula: `Beneficio Neto / Patrimonio Neto`  \n",
    "  Mide la capacidad de la empresa para generar beneficios con los fondos de los accionistas.\n",
    "\n",
    "- **Rentabilidad sobre el Capital Empleado (ROCE):**  \n",
    "  Fórmula: `EBIT / (Activos Totales - Pasivos Corrientes)`  \n",
    "  Mide la eficiencia de los recursos invertidos.\n",
    "\n",
    "---\n",
    "\n",
    "### 2. Indicadores de Solvencia y Liquidez\n",
    "Evalúan la capacidad de una empresa para cumplir con sus obligaciones financieras:\n",
    "\n",
    "- **Razón de Liquidez Corriente:**  \n",
    "  Fórmula: `Activos Corrientes / Pasivos Corrientes`  \n",
    "  Indica la capacidad de pagar las deudas a corto plazo.\n",
    "\n",
    "- **Razón de Liquidez Rápida (Prueba Ácida):**  \n",
    "  Fórmula: `(Activos Corrientes - Inventarios) / Pasivos Corrientes`  \n",
    "  Evalúa la liquidez excluyendo inventarios, que pueden ser difíciles de liquidar rápidamente.\n",
    "\n",
    "- **Cobertura de Intereses (Interest Coverage):**  \n",
    "  Fórmula: `EBIT / Gastos por Intereses`  \n",
    "  Indica la capacidad de pagar los intereses de la deuda con los beneficios operativos.\n",
    "\n",
    "- **Deuda sobre Patrimonio (Debt-to-Equity):**  \n",
    "  Fórmula: `Pasivos Totales / Patrimonio Neto`  \n",
    "  Mide el nivel de apalancamiento financiero.\n",
    "\n",
    "---\n",
    "\n",
    "### 3. Indicadores de Eficiencia Operativa\n",
    "Analizan la gestión de los activos y las operaciones:\n",
    "\n",
    "- **Rotación de Activos:**  \n",
    "  Fórmula: `Ingresos / Activos Totales`  \n",
    "  Indica qué tan eficientemente se generan ingresos con los activos.\n",
    "\n",
    "- **Días de Inventario:**  \n",
    "  Fórmula: `(Inventarios / Costo de Ventas) * 365`  \n",
    "  Mide cuántos días en promedio tarda en venderse el inventario.\n",
    "\n",
    "- **Período Promedio de Cobro:**  \n",
    "  Fórmula: `(Cuentas por Cobrar / Ingresos) * 365`  \n",
    "  Indica cuántos días en promedio toma cobrar las facturas.\n",
    "\n",
    "---\n",
    "\n",
    "### 4. Indicadores de Flujo de Caja\n",
    "Evalúan la capacidad de generar efectivo:\n",
    "\n",
    "- **Flujo de Caja Libre (Free Cash Flow):**  \n",
    "  Fórmula: `Flujo de Caja Operativo - Gastos de Capital`  \n",
    "  Indica cuánto efectivo queda disponible después de las inversiones necesarias.\n",
    "\n",
    "- **Razón de Flujo de Caja sobre Deuda:**  \n",
    "  Fórmula: `Flujo de Caja Operativo / Deuda Total`  \n",
    "  Evalúa la capacidad de la empresa para pagar su deuda con el efectivo generado.\n",
    "\n",
    "- **Cobertura de Dividendos:**  \n",
    "  Fórmula: `Flujo de Caja Operativo / Dividendos Pagados`  \n",
    "  Muestra la sostenibilidad del pago de dividendos.\n",
    "\n",
    "---\n",
    "\n",
    "### 5. Indicadores de Valoración (Opcional, si incluye precio de acciones)\n",
    "Si planeas usar datos del mercado, puedes considerar estos indicadores:\n",
    "\n",
    "- **Relación Precio-Beneficio (P/E):**  \n",
    "  Fórmula: `Precio por Acción / Beneficio por Acción (EPS)`  \n",
    "  Indica cuánto están dispuestos a pagar los inversores por cada dólar de beneficio.\n",
    "\n",
    "- **Relación Precio/Valor en Libros (P/B):**  \n",
    "  Fórmula: `Precio por Acción / Valor en Libros por Acción`  \n",
    "  Compara el precio de la acción con su valor contable.\n",
    "\n",
    "- **Rendimiento por Dividendo:**  \n",
    "  Fórmula: `Dividendos Anuales por Acción / Precio por Acción`  \n",
    "  Indica el retorno en forma de dividendos.\n",
    "\n",
    "---\n",
    "\n",
    "## Recomendaciones Prácticas\n",
    "\n",
    "- **Dashboard de Visualización:**\n",
    "  - Usa bibliotecas como Matplotlib, Seaborn, o Plotly para visualizar tendencias históricas de estos indicadores.\n",
    "  - Un análisis visual es clave para identificar señales de alerta o fortalezas.\n",
    "\n",
    "- **Alertas y Comparación con la Industria:**\n",
    "  - Calcula promedios de la industria y genera alertas si un indicador se desvía significativamente de estos.\n",
    "\n",
    "- **Análisis Temporal:**\n",
    "  - Realiza un análisis histórico (5-10 años si es posible) para identificar tendencias de mejora o deterioro.\n",
    "\n",
    "- **Integración con Machine Learning:**\n",
    "  - Usa algoritmos como regresión o clustering para predecir la salud financiera o agrupar empresas similares.\n"
   ]
  },
  {
   "cell_type": "code",
   "execution_count": 2,
   "metadata": {},
   "outputs": [],
   "source": [
    "# Librerias\n",
    "import numpy as np\n",
    "import pandas as pd\n",
    "\n",
    "# Enviroment\n",
    "import os\n",
    "from dotenv import load_dotenv\n",
    "\n",
    "# Librerías de stock\n",
    "# from finta import TA\n",
    "# import yfinance as yf\n",
    "# import mplfinance as mpf\n",
    "# from pandas_datareader import data as pdr\n",
    "from alpha_vantage.timeseries import TimeSeries\n",
    "from alpha_vantage.fundamentaldata import FundamentalData\n",
    "\n",
    "\n",
    "# Librería de graficos\n",
    "import plotly.express as px\n",
    "import matplotlib.pyplot as plt\n",
    "import matplotlib.colors as mcolors"
   ]
  },
  {
   "cell_type": "code",
   "execution_count": 3,
   "metadata": {},
   "outputs": [
    {
     "name": "stdout",
     "output_type": "stream",
     "text": [
      "Clave de API leida\n"
     ]
    }
   ],
   "source": [
    "# Cargar las variables de entorno desde el archivo .env\n",
    "load_dotenv()\n",
    "\n",
    "# Obtener la clave de la API\n",
    "api_key = os.getenv('API_KEY')\n",
    "\n",
    "if api_key:\n",
    "    print(f\"Clave de API leida\")\n",
    "else:\n",
    "    print(\"Error: No se encontró la clave API.\")"
   ]
  },
  {
   "cell_type": "markdown",
   "metadata": {},
   "source": [
    "### Descargamos la data"
   ]
  },
  {
   "cell_type": "code",
   "execution_count": 4,
   "metadata": {},
   "outputs": [],
   "source": [
    "ticker = \"OPEN\"\n",
    "# Descargamos los datos\n",
    "fd = FundamentalData(api_key, output_format=\"pandas\")\n",
    "# Perdidas y ganancias\n",
    "income_statement = fd.get_income_statement_annual(ticker)[0]\n",
    "# Balance\n",
    "balance_sheet = fd.get_balance_sheet_annual(ticker)[0]"
   ]
  },
  {
   "cell_type": "code",
   "execution_count": 5,
   "metadata": {},
   "outputs": [],
   "source": [
    "# Transponemos para interpretarla de manera mas facil. Para calcular los ratios no usaremos la traspuesta\n",
    "is1 = income_statement.T[2:]\n",
    "is1.columns = list(income_statement.T.iloc[0])"
   ]
  },
  {
   "cell_type": "markdown",
   "metadata": {},
   "source": [
    "## Ratios"
   ]
  },
  {
   "cell_type": "markdown",
   "metadata": {},
   "source": [
    "### Margen bruto\n",
    "Obtenemos el margen bruto de la empresa en porcentaje. \\\n",
    "Este indicador nos dice cuánta rentabilidad saca por dolar. Por ejemplo, en el caso de OPEN tenemos un 7%, esto quiere decir que por cada dolar que genera en ingresos  7 centavos son sus ganancias brutas. Esto, a priori, no quiere decir ni mucho ni poco, hay que comparar con el sector."
   ]
  },
  {
   "cell_type": "code",
   "execution_count": 6,
   "metadata": {},
   "outputs": [],
   "source": [
    "ingresos = float(income_statement.loc[income_statement[\"fiscalDateEnding\"] == \"2023-12-31\", \"totalRevenue\"].iloc[0])\n",
    "costo_ventas = float(income_statement.loc[income_statement[\"fiscalDateEnding\"] == \"2023-12-31\", \"costOfRevenue\"].iloc[0])\n",
    "\n",
    "# Calcular el margen bruto\n",
    "margen_bruto = (ingresos - costo_ventas) / ingresos * 100"
   ]
  },
  {
   "cell_type": "code",
   "execution_count": 7,
   "metadata": {},
   "outputs": [
    {
     "name": "stdout",
     "output_type": "stream",
     "text": [
      "El margen bruto de la empresa OPEN es de 7.011229484595451%\n"
     ]
    }
   ],
   "source": [
    "print(f'El margen bruto de la empresa {ticker} es de {margen_bruto}%')"
   ]
  },
  {
   "cell_type": "markdown",
   "metadata": {},
   "source": [
    "### Margen operativo\n",
    "Los ingresos operativos pueden ser negativos. Esto sucede cuando los gastos operativos como marketing, salarios, etc son mas grandes que los ingresos. Esto puede significar varias cosas, entre las que se encuentra:\n",
    "- Altos costos operativos --> gastos en marketing, I+D, etc\n",
    "- Baja generación de ingresos\n",
    "- Fase de inversión --> empresas jóvenes que requieren de mucha inversión inicial.\n",
    "- Crisis o problemas temporales"
   ]
  },
  {
   "cell_type": "code",
   "execution_count": 8,
   "metadata": {},
   "outputs": [],
   "source": [
    "ingresos_operativos = float(income_statement.loc[income_statement[\"fiscalDateEnding\"] == \"2023-12-31\", \"operatingIncome\"].iloc[0])\n",
    "ingresos_totales = float(income_statement.loc[income_statement[\"fiscalDateEnding\"] == \"2023-12-31\", \"totalRevenue\"].iloc[0])\n",
    "\n",
    "# Calcular el margen operativo\n",
    "margen_operativo = (ingresos_operativos / ingresos_totales) * 100"
   ]
  },
  {
   "cell_type": "code",
   "execution_count": 10,
   "metadata": {},
   "outputs": [
    {
     "name": "stdout",
     "output_type": "stream",
     "text": [
      "El margen operativo de la empresa OPEN es de -5.557155197235819%\n"
     ]
    }
   ],
   "source": [
    "print(f'El margen operativo de la empresa {ticker} es de {margen_operativo}%')"
   ]
  },
  {
   "cell_type": "markdown",
   "metadata": {},
   "source": [
    "### Margen neto\n",
    "Si el beneficio neto  es negativo el margen neto también será negativo. Esto quiere decir que la empresa ha tenido pérdidas netas después de descontar todos sus costos e impuestos. Puede indicar problemas financieros. \\\n",
    "Significa que por cada dolar que ingresa la empresa obtiene x% de ganancia neta. Si el margen neto es negativo significa que por cada dolar que ingresa pierde x dinero."
   ]
  },
  {
   "cell_type": "code",
   "execution_count": 11,
   "metadata": {},
   "outputs": [],
   "source": [
    "beneficio_neto = float(income_statement.loc[income_statement[\"fiscalDateEnding\"] == \"2023-12-31\", \"netIncome\"].iloc[0])\n",
    "ingresos_totales = float(income_statement.loc[income_statement[\"fiscalDateEnding\"] == \"2023-12-31\", \"totalRevenue\"].iloc[0])\n",
    "\n",
    "# Calcular el margen operativo\n",
    "margen_neto = (beneficio_neto / ingresos_totales) * 100"
   ]
  },
  {
   "cell_type": "code",
   "execution_count": 12,
   "metadata": {},
   "outputs": [
    {
     "name": "stdout",
     "output_type": "stream",
     "text": [
      "El margen neto de la empresa OPEN es de -3.9591131586524617%\n"
     ]
    }
   ],
   "source": [
    "print(f'El margen neto de la empresa {ticker} es de {margen_neto}%')"
   ]
  },
  {
   "cell_type": "markdown",
   "metadata": {},
   "source": [
    "### ROA\n",
    "Un ROA se interpreta de la siguiente manera:\n",
    "- Alto --> la empresa está utilizando sus activos de manera eficienta.\n",
    "- Bajo --> la empresa no utiliza de manera eficiente sus activos para generar beneficios. Esto puede darse en empresas que tienen muchos activos. Se puede dar en industria pesada.\n",
    "- Negativo --> pierde dinero y no utiliza sus activos de la mejor manera para generar beneficios, es más, pierde dinero. Esto puede ser señal de baja rentabilidad o problemas financieros."
   ]
  },
  {
   "cell_type": "code",
   "execution_count": 13,
   "metadata": {},
   "outputs": [],
   "source": [
    "ingresos_totales = float(balance_sheet.loc[balance_sheet[\"fiscalDateEnding\"] == \"2023-12-31\", \"totalAssets\"].iloc[0])\n",
    "beneficio_neto = float(income_statement.loc[income_statement[\"fiscalDateEnding\"] == \"2023-12-31\", \"netIncome\"].iloc[0])\n",
    "\n",
    "# Calcular el ROA\n",
    "ROA = (beneficio_neto / ingresos_totales) * 100"
   ]
  },
  {
   "cell_type": "code",
   "execution_count": 14,
   "metadata": {},
   "outputs": [
    {
     "name": "stdout",
     "output_type": "stream",
     "text": [
      "El ROA de la empresa OPEN es de -7.709559854219232%\n"
     ]
    }
   ],
   "source": [
    "print(f'El ROA de la empresa {ticker} es de {ROA}%')"
   ]
  },
  {
   "cell_type": "markdown",
   "metadata": {},
   "source": [
    "### Rentabilidad sobre el patrimonio (ROE)\n",
    "El ROW nos mide la rentabilidad de una empresa en relación con el capital invertido de los accionistas. El ROE muestra cuánto beneficio neto genera la empresa por cada unidad monetaria de capital propio invertido.\n",
    "- ROE alto (>15%) --> indica que la empresa es rentable, que la empresa está generando mucho beneficio neto en relación con el capital propio invertido.\n",
    "- ROE moderado (5%-15%) --> rentabilidad razonable aunque puede ser inferior al promedio de la industria.\n",
    "- ROE bajo (<5%) --> puede ser señal de que la empresa no está generando un beneficio neto en relación con el capital invertido por los accionistas.\n",
    "- ROE negativo --> indica que la empresa está perdiendo dinero en lugar de generar rentabilidad para los accionistas."
   ]
  },
  {
   "cell_type": "code",
   "execution_count": 15,
   "metadata": {},
   "outputs": [],
   "source": [
    "activos_totales = float(balance_sheet.loc[balance_sheet[\"fiscalDateEnding\"] == \"2023-12-31\", \"totalAssets\"].iloc[0])\n",
    "pasivos_totales = float(balance_sheet.loc[balance_sheet[\"fiscalDateEnding\"] == \"2023-12-31\", \"totalLiabilities\"].iloc[0])\n",
    "beneficio_neto = float(income_statement.loc[income_statement[\"fiscalDateEnding\"] == \"2023-12-31\", \"netIncome\"].iloc[0])\n",
    "\n",
    "# Calcular el Patrimonio Neto (Equity)\n",
    "patrimonio_neto = activos_totales - pasivos_totales\n",
    "# Calcular el ROA\n",
    "ROE = (beneficio_neto / patrimonio_neto) * 100"
   ]
  },
  {
   "cell_type": "code",
   "execution_count": 16,
   "metadata": {},
   "outputs": [
    {
     "name": "stdout",
     "output_type": "stream",
     "text": [
      "El ROW de la empresa OPEN es de -28.43846949327818%\n"
     ]
    }
   ],
   "source": [
    "print(f'El ROW de la empresa {ticker} es de {ROE}%')"
   ]
  },
  {
   "cell_type": "markdown",
   "metadata": {},
   "source": [
    "# Formato del balance y cuenta de perdidas"
   ]
  },
  {
   "cell_type": "code",
   "execution_count": null,
   "metadata": {},
   "outputs": [],
   "source": [
    "# Definir un mapa de colores personalizado\n",
    "def reverse_cmap(cmap_name):\n",
    "    cmap = plt.get_cmap(cmap_name)\n",
    "    colors = cmap(np.arange(cmap.N))\n",
    "    colors = colors[::-1]  # Invertir el orden de los colores\n",
    "    return mcolors.LinearSegmentedColormap.from_list(f\"reversed_{cmap_name}\", colors)\n",
    "\n",
    "# Definir un mapa de colores para las filas basado en una escala\n",
    "def row_gradient(row):\n",
    "    # Normalizar los valores de la fila para usar en el gradiente de colores\n",
    "    norm = plt.Normalize(vmin=row.min(), vmax=row.max())\n",
    "    cmap = plt.get_cmap(reverse_cmap('RdYlGn'))  # Escoge el mapa de colores que prefieras\n",
    "    colors = [mcolors.to_hex(cmap(norm(val))) for val in row]\n",
    "    return [f'background-color: {color}' for color in colors]"
   ]
  },
  {
   "cell_type": "code",
   "execution_count": null,
   "metadata": {},
   "outputs": [],
   "source": [
    "# Convertir las columnas a tipo float, manejando valores 'None' y errores\n",
    "df = is1.apply(pd.to_numeric, errors='coerce')\n",
    "\n",
    "# Aplicar el gradiente de color por fila\n",
    "styled_df = df.style.apply(row_gradient, axis=1)\n",
    "styled_df"
   ]
  },
  {
   "cell_type": "code",
   "execution_count": null,
   "metadata": {},
   "outputs": [],
   "source": [
    "# Convertir las columnas a tipo float, manejando valores 'None' y errores\n",
    "df = df.apply(pd.to_numeric, errors='coerce')\n",
    "\n",
    "# Rellenar valores NaN con 0 (o el valor que prefieras)\n",
    "df_filled = df.fillna(0)\n",
    "\n",
    "# Crear un mapa de colores personalizado\n",
    "custom_cmap = reverse_cmap('coolwarm')\n",
    "\n",
    "# Aplicar el gradiente de colores con el mapa de colores personalizado\n",
    "styled_df = df_filled.style.background_gradient(cmap=custom_cmap)\n",
    "\n",
    "# Aplicar un gradiente de colores\n",
    "styled_df = df_filled.style.background_gradient(cmap='coolwarm')\n",
    "\n",
    "# Mostrar el DataFrame estilizado en Jupyter Notebook (o en un entorno similar)\n",
    "styled_df"
   ]
  },
  {
   "cell_type": "code",
   "execution_count": null,
   "metadata": {},
   "outputs": [],
   "source": [
    "# Crear el DataFrame\n",
    "df = pd.DataFrame(is1, index=[\n",
    "    'grossProfit', 'totalRevenue', 'costOfRevenue', 'costofGoodsAndServicesSold',\n",
    "    'operatingIncome', 'sellingGeneralAndAdministrative', 'researchAndDevelopment',\n",
    "    'operatingExpenses', 'investmentIncomeNet', 'netInterestIncome', 'interestIncome',\n",
    "    'interestExpense', 'nonInterestIncome', 'otherNonOperatingIncome', 'depreciation',\n",
    "    'depreciationAndAmortization', 'incomeBeforeTax', 'incomeTaxExpense', 'interestAndDebtExpense',\n",
    "    'netIncomeFromContinuingOperations', 'comprehensiveIncomeNetOfTax', 'ebit', 'ebitda', 'netIncome'\n",
    "])"
   ]
  }
 ],
 "metadata": {
  "kernelspec": {
   "display_name": "stock-app",
   "language": "python",
   "name": "python3"
  },
  "language_info": {
   "codemirror_mode": {
    "name": "ipython",
    "version": 3
   },
   "file_extension": ".py",
   "mimetype": "text/x-python",
   "name": "python",
   "nbconvert_exporter": "python",
   "pygments_lexer": "ipython3",
   "version": "3.13.1"
  }
 },
 "nbformat": 4,
 "nbformat_minor": 2
}
