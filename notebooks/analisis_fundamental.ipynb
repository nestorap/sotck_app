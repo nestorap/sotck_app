{
 "cells": [
  {
   "cell_type": "markdown",
   "metadata": {},
   "source": [
    "# Análisis Fundamental\n",
    "\n",
    "En esta sección tendremos los principales datos de análisis fundamental y los ratios que nos dirán lo sana o no sana que está una empresa.\n",
    "\n",
    "## Indicadores a Calcular\n",
    "\n",
    "### 1. Indicadores de Rentabilidad\n",
    "Evalúan la capacidad de una empresa para generar ganancias:\n",
    "\n",
    "- **Márgenes de Beneficio:**\n",
    "  - Margen Bruto:  \n",
    "    `(Ingresos - Costo de Ventas) / Ingresos`\n",
    "  - Margen Operativo:  \n",
    "    `Ingresos Operativos / Ingresos`\n",
    "  - Margen Neto:  \n",
    "    `Beneficio Neto / Ingresos`\n",
    "\n",
    "- **Rentabilidad sobre Activos (ROA):**  \n",
    "  Fórmula: `Beneficio Neto / Activos Totales`  \n",
    "  Indica qué tan eficientemente la empresa utiliza sus activos para generar beneficios.\n",
    "\n",
    "- **Rentabilidad sobre Capital (ROE):**  \n",
    "  Fórmula: `Beneficio Neto / Patrimonio Neto`  \n",
    "  Mide la capacidad de la empresa para generar beneficios con los fondos de los accionistas.\n",
    "\n",
    "- **Rentabilidad sobre el Capital Empleado (ROCE):**  \n",
    "  Fórmula: `EBIT / (Activos Totales - Pasivos Corrientes)`  \n",
    "  Mide la eficiencia de los recursos invertidos.\n",
    "\n",
    "---\n",
    "\n",
    "### 2. Indicadores de Solvencia y Liquidez\n",
    "Evalúan la capacidad de una empresa para cumplir con sus obligaciones financieras:\n",
    "\n",
    "- **Razón de Liquidez Corriente:**  \n",
    "  Fórmula: `Activos Corrientes / Pasivos Corrientes`  \n",
    "  Indica la capacidad de pagar las deudas a corto plazo.\n",
    "\n",
    "- **Razón de Liquidez Rápida (Prueba Ácida):**  \n",
    "  Fórmula: `(Activos Corrientes - Inventarios) / Pasivos Corrientes`  \n",
    "  Evalúa la liquidez excluyendo inventarios, que pueden ser difíciles de liquidar rápidamente.\n",
    "\n",
    "- **Cobertura de Intereses (Interest Coverage):**  \n",
    "  Fórmula: `EBIT / Gastos por Intereses`  \n",
    "  Indica la capacidad de pagar los intereses de la deuda con los beneficios operativos.\n",
    "\n",
    "- **Deuda sobre Patrimonio (Debt-to-Equity):**  \n",
    "  Fórmula: `Pasivos Totales / Patrimonio Neto`  \n",
    "  Mide el nivel de apalancamiento financiero.\n",
    "\n",
    "---\n",
    "\n",
    "### 3. Indicadores de Eficiencia Operativa\n",
    "Analizan la gestión de los activos y las operaciones:\n",
    "\n",
    "- **Rotación de Activos:**  \n",
    "  Fórmula: `Ingresos / Activos Totales`  \n",
    "  Indica qué tan eficientemente se generan ingresos con los activos.\n",
    "\n",
    "- **Días de Inventario:**  \n",
    "  Fórmula: `(Inventarios / Costo de Ventas) * 365`  \n",
    "  Mide cuántos días en promedio tarda en venderse el inventario.\n",
    "\n",
    "- **Período Promedio de Cobro:**  \n",
    "  Fórmula: `(Cuentas por Cobrar / Ingresos) * 365`  \n",
    "  Indica cuántos días en promedio toma cobrar las facturas.\n",
    "\n",
    "---\n",
    "\n",
    "### 4. Indicadores de Flujo de Caja\n",
    "Evalúan la capacidad de generar efectivo:\n",
    "\n",
    "- **Flujo de Caja Libre (Free Cash Flow):**  \n",
    "  Fórmula: `Flujo de Caja Operativo - Gastos de Capital`  \n",
    "  Indica cuánto efectivo queda disponible después de las inversiones necesarias.\n",
    "\n",
    "- **Razón de Flujo de Caja sobre Deuda:**  \n",
    "  Fórmula: `Flujo de Caja Operativo / Deuda Total`  \n",
    "  Evalúa la capacidad de la empresa para pagar su deuda con el efectivo generado.\n",
    "\n",
    "- **Cobertura de Dividendos:**  \n",
    "  Fórmula: `Flujo de Caja Operativo / Dividendos Pagados`  \n",
    "  Muestra la sostenibilidad del pago de dividendos.\n",
    "\n",
    "- **Margen free cash flow:**\n",
    "  Fórmula: `free cash flow / ingresos`\n",
    "  Nos muestra el porcentaje de los ingresos de una empresa se convierten en flujo de caja libre. Es la eficiencia de la empresa para generar efectivo libre después de cubrir gastos operativos y de capital. Es útil para evaluar la rentabilidad y la capacidad de la empresa de reinvertir, pagar deuda o distribuir dividendos.\n",
    "\n",
    "- **Free cash flow yield**\n",
    "Fórmula: `free cash flow / valor en bolsa`\n",
    "Es un indicador financiero que mide cuánto flujo de caja libre genera una empresa en relación a su valor en bolsa. Se utiliza para evaluar la rentavilidad de una empresa y su capacidad para generar efectivo disponible para los accionistas. Con este indicador vemos si la empresa está subvaluada o sobrevaluada. Si el indicador es muy alto se entiende que más efectivo está generando la empresa en relación con su capitalización de mercado. Si el indicador es alto podemos deducir que la acción está infravalorada o que la empresa es muy eficiente. Los inversores suelen buscar empresas con este valor alto.\n",
    "\n",
    "---\n",
    "\n",
    "### 5. Indicadores de Valoración (Opcional, si incluye precio de acciones)\n",
    "Si planeas usar datos del mercado, puedes considerar estos indicadores:\n",
    "\n",
    "- **Relación Precio-Beneficio (P/E):**  \n",
    "  Fórmula: `Precio por Acción / Beneficio por Acción (EPS)`  \n",
    "  Indica cuánto están dispuestos a pagar los inversores por cada dólar de beneficio.\n",
    "\n",
    "- **Relación Precio/Valor en Libros (P/B):**  \n",
    "  Fórmula: `Precio por Acción / Valor en Libros por Acción`  \n",
    "  Compara el precio de la acción con su valor contable.\n",
    "\n",
    "- **Rendimiento por Dividendo:**  \n",
    "  Fórmula: `Dividendos Anuales por Acción / Precio por Acción`  \n",
    "  Indica el retorno en forma de dividendos.\n",
    "\n",
    "---\n",
    "### 6. Indicadores históricos\n",
    "En esta sección quiero añadir el histórico de algunos indicadores como:\n",
    "- **PER**\n",
    "\n",
    "---\n",
    "\n",
    "## Recomendaciones Prácticas\n",
    "\n",
    "- **Dashboard de Visualización:**\n",
    "  - Usa bibliotecas como Matplotlib, Seaborn, o Plotly para visualizar tendencias históricas de estos indicadores.\n",
    "  - Un análisis visual es clave para identificar señales de alerta o fortalezas.\n",
    "\n",
    "- **Alertas y Comparación con la Industria:**\n",
    "  - Calcula promedios de la industria y genera alertas si un indicador se desvía significativamente de estos.\n",
    "\n",
    "- **Análisis Temporal:**\n",
    "  - Realiza un análisis histórico (5-10 años si es posible) para identificar tendencias de mejora o deterioro.\n",
    "\n",
    "- **Integración con Machine Learning:**\n",
    "  - Usa algoritmos como regresión o clustering para predecir la salud financiera o agrupar empresas similares.\n"
   ]
  },
  {
   "cell_type": "code",
   "execution_count": 1,
   "metadata": {},
   "outputs": [],
   "source": [
    "# Librerias\n",
    "import numpy as np\n",
    "import pandas as pd\n",
    "from functools import reduce\n",
    "from bs4 import BeautifulSoup\n",
    "\n",
    "# IA\n",
    "import ollama\n",
    "\n",
    "# Enviroment\n",
    "import os\n",
    "from dotenv import load_dotenv\n",
    "\n",
    "# Librerías de stock\n",
    "# from finta import TA\n",
    "# import yfinance as yf\n",
    "# import mplfinance as mpf\n",
    "# from pandas_datareader import data as pdr\n",
    "from sec_edgar_downloader import Downloader\n",
    "from edgar import Company, set_identity\n",
    "from alpha_vantage.timeseries import TimeSeries\n",
    "from alpha_vantage.fundamentaldata import FundamentalData\n",
    "\n",
    "\n",
    "# Librería de graficos\n",
    "import plotly.express as px\n",
    "import matplotlib.pyplot as plt\n",
    "import matplotlib.colors as mcolors"
   ]
  },
  {
   "cell_type": "code",
   "execution_count": 3,
   "metadata": {},
   "outputs": [
    {
     "name": "stdout",
     "output_type": "stream",
     "text": [
      "Clave de API leida\n"
     ]
    }
   ],
   "source": [
    "# Cargar las variables de entorno desde el archivo .env\n",
    "load_dotenv()\n",
    "\n",
    "# Obtener la clave de la API\n",
    "api_key = os.getenv('API_KEY')\n",
    "\n",
    "if api_key:\n",
    "    print(f\"Clave de API leida\")\n",
    "else:\n",
    "    print(\"Error: No se encontró la clave API.\")"
   ]
  },
  {
   "cell_type": "markdown",
   "metadata": {},
   "source": [
    "### Descargamos la data"
   ]
  },
  {
   "cell_type": "code",
   "execution_count": 4,
   "metadata": {},
   "outputs": [
    {
     "data": {
      "text/html": [
       "<pre style=\"white-space:pre;overflow-x:auto;line-height:normal;font-family:Menlo,'DejaVu Sans Mono',consolas,'Courier New',monospace\"><span style=\"color: #7fbfbf; text-decoration-color: #7fbfbf\">[17:00:26] </span><span style=\"color: #000080; text-decoration-color: #000080\">INFO    </span> Identity of the Edgar REST client set to <span style=\"font-weight: bold\">[</span>nalastock@gmail.com<span style=\"font-weight: bold\">]</span>                      <a href=\"file:///Users/nestoralaminospelegrina/.pyenv/versions/3.13.1/envs/stock-app/lib/python3.13/site-packages/edgar/core.py\" target=\"_blank\"><span style=\"color: #7f7f7f; text-decoration-color: #7f7f7f\">core.py</span></a><span style=\"color: #7f7f7f; text-decoration-color: #7f7f7f\">:</span><a href=\"file:///Users/nestoralaminospelegrina/.pyenv/versions/3.13.1/envs/stock-app/lib/python3.13/site-packages/edgar/core.py#175\" target=\"_blank\"><span style=\"color: #7f7f7f; text-decoration-color: #7f7f7f\">175</span></a>\n",
       "</pre>\n"
      ],
      "text/plain": [
       "\u001b[2;36m[17:00:26]\u001b[0m\u001b[2;36m \u001b[0m\u001b[34mINFO    \u001b[0m Identity of the Edgar REST client set to \u001b[1m[\u001b[0mnalastock@gmail.com\u001b[1m]\u001b[0m                      \u001b]8;id=648729;file:///Users/nestoralaminospelegrina/.pyenv/versions/3.13.1/envs/stock-app/lib/python3.13/site-packages/edgar/core.py\u001b\\\u001b[2mcore.py\u001b[0m\u001b]8;;\u001b\\\u001b[2m:\u001b[0m\u001b]8;id=541033;file:///Users/nestoralaminospelegrina/.pyenv/versions/3.13.1/envs/stock-app/lib/python3.13/site-packages/edgar/core.py#175\u001b\\\u001b[2m175\u001b[0m\u001b]8;;\u001b\\\n"
      ]
     },
     "metadata": {},
     "output_type": "display_data"
    }
   ],
   "source": [
    "ticker = \"OPEN\"\n",
    "# Instanciamos los para descargar los fundamentales\n",
    "fd = FundamentalData(api_key, output_format=\"pandas\")\n",
    "# Nos identificamos para la API de sec\n",
    "set_identity(\"nalastock@gmail.com\")"
   ]
  },
  {
   "cell_type": "code",
   "execution_count": 4,
   "metadata": {},
   "outputs": [],
   "source": [
    "# Perdidas y ganancias\n",
    "income_statement = fd.get_income_statement_annual(ticker)[0]\n",
    "# Balance\n",
    "balance_sheet = fd.get_balance_sheet_annual(ticker)[0]\n",
    "# Cash flow\n",
    "cash_flow = fd.get_cash_flow_annual(ticker)[0]"
   ]
  },
  {
   "cell_type": "code",
   "execution_count": 35,
   "metadata": {},
   "outputs": [
    {
     "data": {
      "text/plain": [
       "4"
      ]
     },
     "execution_count": 35,
     "metadata": {},
     "output_type": "execute_result"
    }
   ],
   "source": [
    "# # Descargamos el informe 10-k\n",
    "# downloader = Downloader(company_name=\"nestock\", email_address=\"nalaminospelegrina@gmail.com\")\n",
    "# downloader.get(\"10-K\", ticker)"
   ]
  },
  {
   "cell_type": "code",
   "execution_count": 5,
   "metadata": {},
   "outputs": [],
   "source": [
    "# Instanciamos para tener acceso a los informes 10-k\n",
    "company = Company(ticker)"
   ]
  },
  {
   "cell_type": "code",
   "execution_count": 4,
   "metadata": {},
   "outputs": [],
   "source": [
    "# Transponemos para interpretarla de manera mas facil. Para calcular los ratios no usaremos la traspuesta\n",
    "is1 = income_statement.T[2:]\n",
    "is1.columns = list(income_statement.T.iloc[0])"
   ]
  },
  {
   "cell_type": "code",
   "execution_count": 16,
   "metadata": {},
   "outputs": [],
   "source": [
    "# Unimos los tres DataFrames: income_statement, balance_sheet y cash_flow\n",
    "df = reduce(\n",
    "    lambda left, right: pd.merge(left, right, on=\"fiscalDateEnding\", how=\"inner\"),\n",
    "    [income_statement, balance_sheet, cash_flow]\n",
    ")"
   ]
  },
  {
   "cell_type": "markdown",
   "metadata": {},
   "source": [
    "## Ratios de rentabilidad"
   ]
  },
  {
   "cell_type": "markdown",
   "metadata": {},
   "source": [
    "### Margen bruto\n",
    "Obtenemos el margen bruto de la empresa en porcentaje. \\\n",
    "Este indicador nos dice cuánta rentabilidad saca por dolar. Por ejemplo, en el caso de OPEN tenemos un 7%, esto quiere decir que por cada dolar que genera en ingresos  7 centavos son sus ganancias brutas. Esto, a priori, no quiere decir ni mucho ni poco, hay que comparar con el sector."
   ]
  },
  {
   "cell_type": "code",
   "execution_count": 20,
   "metadata": {},
   "outputs": [],
   "source": [
    "# Asegúrate de convertir las columnas a valores numéricos\n",
    "df[\"totalRevenue\"] = pd.to_numeric(df[\"totalRevenue\"], errors=\"coerce\")\n",
    "df[\"costOfRevenue\"] = pd.to_numeric(df[\"costOfRevenue\"], errors=\"coerce\")\n",
    "\n",
    "df[\"margen_bruto\"] = (df[\"totalRevenue\"] - df[\"costOfRevenue\"]) / df[\"totalRevenue\"] * 100\n"
   ]
  },
  {
   "cell_type": "code",
   "execution_count": 5,
   "metadata": {},
   "outputs": [],
   "source": [
    "ingresos = float(income_statement.loc[income_statement[\"fiscalDateEnding\"] == \"2023-12-31\", \"totalRevenue\"].iloc[0])\n",
    "costo_ventas = float(income_statement.loc[income_statement[\"fiscalDateEnding\"] == \"2023-12-31\", \"costOfRevenue\"].iloc[0])\n",
    "\n",
    "# Calcular el margen bruto\n",
    "margen_bruto = (ingresos - costo_ventas) / ingresos * 100"
   ]
  },
  {
   "cell_type": "code",
   "execution_count": 6,
   "metadata": {},
   "outputs": [
    {
     "name": "stdout",
     "output_type": "stream",
     "text": [
      "El margen bruto de la empresa OPEN es de 7.011229484595451%\n"
     ]
    }
   ],
   "source": [
    "print(f'El margen bruto de la empresa {ticker} es de {margen_bruto}%')"
   ]
  },
  {
   "cell_type": "markdown",
   "metadata": {},
   "source": [
    "### Margen operativo\n",
    "Los ingresos operativos pueden ser negativos. Esto sucede cuando los gastos operativos como marketing, salarios, etc son mas grandes que los ingresos. Esto puede significar varias cosas, entre las que se encuentra:\n",
    "- Altos costos operativos --> gastos en marketing, I+D, etc\n",
    "- Baja generación de ingresos\n",
    "- Fase de inversión --> empresas jóvenes que requieren de mucha inversión inicial.\n",
    "- Crisis o problemas temporales"
   ]
  },
  {
   "cell_type": "code",
   "execution_count": 21,
   "metadata": {},
   "outputs": [],
   "source": [
    "# Asegúrate de convertir las columnas a valores numéricos\n",
    "df[\"operatingIncome\"] = pd.to_numeric(df[\"operatingIncome\"], errors=\"coerce\")\n",
    "\n",
    "df[\"margen_operativo\"] = df[\"operatingIncome\"] / df[\"totalRevenue\"] * 100"
   ]
  },
  {
   "cell_type": "code",
   "execution_count": 7,
   "metadata": {},
   "outputs": [],
   "source": [
    "ingresos_operativos = float(income_statement.loc[income_statement[\"fiscalDateEnding\"] == \"2023-12-31\", \"operatingIncome\"].iloc[0])\n",
    "ingresos_totales = float(income_statement.loc[income_statement[\"fiscalDateEnding\"] == \"2023-12-31\", \"totalRevenue\"].iloc[0])\n",
    "\n",
    "# Calcular el margen operativo\n",
    "margen_operativo = (ingresos_operativos / ingresos_totales) * 100"
   ]
  },
  {
   "cell_type": "code",
   "execution_count": 8,
   "metadata": {},
   "outputs": [
    {
     "name": "stdout",
     "output_type": "stream",
     "text": [
      "El margen operativo de la empresa OPEN es de -5.557155197235819%\n"
     ]
    }
   ],
   "source": [
    "print(f'El margen operativo de la empresa {ticker} es de {margen_operativo}%')"
   ]
  },
  {
   "cell_type": "markdown",
   "metadata": {},
   "source": [
    "### Margen neto\n",
    "Si el beneficio neto  es negativo el margen neto también será negativo. Esto quiere decir que la empresa ha tenido pérdidas netas después de descontar todos sus costos e impuestos. Puede indicar problemas financieros. \\\n",
    "Significa que por cada dolar que ingresa la empresa obtiene x% de ganancia neta. Si el margen neto es negativo significa que por cada dolar que ingresa pierde x dinero."
   ]
  },
  {
   "cell_type": "code",
   "execution_count": 9,
   "metadata": {},
   "outputs": [],
   "source": [
    "beneficio_neto = float(income_statement.loc[income_statement[\"fiscalDateEnding\"] == \"2023-12-31\", \"netIncome\"].iloc[0])\n",
    "ingresos_totales = float(income_statement.loc[income_statement[\"fiscalDateEnding\"] == \"2023-12-31\", \"totalRevenue\"].iloc[0])\n",
    "\n",
    "# Calcular el margen operativo\n",
    "margen_neto = (beneficio_neto / ingresos_totales) * 100"
   ]
  },
  {
   "cell_type": "code",
   "execution_count": 10,
   "metadata": {},
   "outputs": [
    {
     "name": "stdout",
     "output_type": "stream",
     "text": [
      "El margen neto de la empresa OPEN es de -3.9591131586524617%\n"
     ]
    }
   ],
   "source": [
    "print(f'El margen neto de la empresa {ticker} es de {margen_neto}%')"
   ]
  },
  {
   "cell_type": "markdown",
   "metadata": {},
   "source": [
    "### ROA\n",
    "Un ROA se interpreta de la siguiente manera:\n",
    "- Alto --> la empresa está utilizando sus activos de manera eficienta.\n",
    "- Bajo --> la empresa no utiliza de manera eficiente sus activos para generar beneficios. Esto puede darse en empresas que tienen muchos activos. Se puede dar en industria pesada.\n",
    "- Negativo --> pierde dinero y no utiliza sus activos de la mejor manera para generar beneficios, es más, pierde dinero. Esto puede ser señal de baja rentabilidad o problemas financieros."
   ]
  },
  {
   "cell_type": "code",
   "execution_count": 11,
   "metadata": {},
   "outputs": [],
   "source": [
    "ingresos_totales = float(balance_sheet.loc[balance_sheet[\"fiscalDateEnding\"] == \"2023-12-31\", \"totalAssets\"].iloc[0])\n",
    "beneficio_neto = float(income_statement.loc[income_statement[\"fiscalDateEnding\"] == \"2023-12-31\", \"netIncome\"].iloc[0])\n",
    "\n",
    "# Calcular el ROA\n",
    "roa = (beneficio_neto / ingresos_totales) * 100"
   ]
  },
  {
   "cell_type": "code",
   "execution_count": 12,
   "metadata": {},
   "outputs": [
    {
     "name": "stdout",
     "output_type": "stream",
     "text": [
      "El ROA de la empresa OPEN es de -7.709559854219232%\n"
     ]
    }
   ],
   "source": [
    "print(f'El ROA de la empresa {ticker} es de {roa}%')"
   ]
  },
  {
   "cell_type": "markdown",
   "metadata": {},
   "source": [
    "### Rentabilidad sobre el patrimonio (ROE)\n",
    "El ROW nos mide la rentabilidad de una empresa en relación con el capital invertido de los accionistas. El ROE muestra cuánto beneficio neto genera la empresa por cada unidad monetaria de capital propio invertido.\n",
    "- ROE alto (>15%) --> indica que la empresa es rentable, que la empresa está generando mucho beneficio neto en relación con el capital propio invertido.\n",
    "- ROE moderado (5%-15%) --> rentabilidad razonable aunque puede ser inferior al promedio de la industria.\n",
    "- ROE bajo (<5%) --> puede ser señal de que la empresa no está generando un beneficio neto en relación con el capital invertido por los accionistas.\n",
    "- ROE negativo --> indica que la empresa está perdiendo dinero en lugar de generar rentabilidad para los accionistas."
   ]
  },
  {
   "cell_type": "code",
   "execution_count": 13,
   "metadata": {},
   "outputs": [],
   "source": [
    "activos_totales = float(balance_sheet.loc[balance_sheet[\"fiscalDateEnding\"] == \"2023-12-31\", \"totalAssets\"].iloc[0])\n",
    "pasivos_totales = float(balance_sheet.loc[balance_sheet[\"fiscalDateEnding\"] == \"2023-12-31\", \"totalLiabilities\"].iloc[0])\n",
    "beneficio_neto = float(income_statement.loc[income_statement[\"fiscalDateEnding\"] == \"2023-12-31\", \"netIncome\"].iloc[0])\n",
    "\n",
    "# Calcular el Patrimonio Neto (Equity)\n",
    "patrimonio_neto = activos_totales - pasivos_totales\n",
    "# Calcular el ROA\n",
    "roe = (beneficio_neto / patrimonio_neto) * 100"
   ]
  },
  {
   "cell_type": "code",
   "execution_count": 14,
   "metadata": {},
   "outputs": [
    {
     "name": "stdout",
     "output_type": "stream",
     "text": [
      "El ROW de la empresa OPEN es de -28.43846949327818%\n"
     ]
    }
   ],
   "source": [
    "print(f'El ROW de la empresa {ticker} es de {roe}%')"
   ]
  },
  {
   "cell_type": "markdown",
   "metadata": {},
   "source": [
    "### ROCE\n",
    "\n",
    "#### ROCE alto (>15%):\n",
    "Indica que la empresa está utilizando eficientemente su capital para generar beneficios. Esto es una buena señal, especialmente en sectores con alta intensidad de capital, como manufactura o energía.\n",
    "\n",
    "#### ROCE moderado (5%-15%):\n",
    "Sugiere que la empresa está generando un retorno razonable sobre el capital empleado. Esto puede ser aceptable dependiendo del sector.\n",
    "\n",
    "#### ROCE bajo (<5%):\n",
    "Puede ser una señal de que la empresa no está utilizando eficientemente su capital. Esto puede deberse a inversiones ineficientes o problemas operativos.\n",
    "\n",
    "#### ROCE negativo:\n",
    "Indica que la empresa no está generando suficientes ingresos operativos para cubrir el capital empleado. Esto puede ser una señal de problemas financieros o de bajo rendimiento.\n"
   ]
  },
  {
   "cell_type": "code",
   "execution_count": 16,
   "metadata": {},
   "outputs": [],
   "source": [
    "ebit = float(income_statement.loc[income_statement[\"fiscalDateEnding\"] == \"2023-12-31\", \"operatingIncome\"].iloc[0])\n",
    "activos_totales = float(balance_sheet.loc[balance_sheet[\"fiscalDateEnding\"] == \"2023-12-31\", \"totalAssets\"].iloc[0])\n",
    "pasivos_corrientes = float(balance_sheet.loc[balance_sheet[\"fiscalDateEnding\"] == \"2023-12-31\", \"totalCurrentLiabilities\"].iloc[0]) # Pasivos corrientes\n",
    "\n",
    "roce = ebit / (activos_totales - pasivos_corrientes)"
   ]
  },
  {
   "cell_type": "code",
   "execution_count": 18,
   "metadata": {},
   "outputs": [
    {
     "name": "stdout",
     "output_type": "stream",
     "text": [
      "El ROCE de OPEN es --> -0.1103803259937089%\n"
     ]
    }
   ],
   "source": [
    "print(f'El ROCE de {ticker} es --> {roce}%')"
   ]
  },
  {
   "cell_type": "markdown",
   "metadata": {},
   "source": [
    "### Conclusión de rentabilidad"
   ]
  },
  {
   "cell_type": "code",
   "execution_count": 19,
   "metadata": {},
   "outputs": [
    {
     "name": "stdout",
     "output_type": "stream",
     "text": [
      "Conclusión sobre la rentabilidad de la empresa:\n",
      "El ROCE es bajo, lo que sugiere una ineficiente utilización del capital empleado.\n",
      "El ROE es bajo, lo que podría indicar problemas de rentabilidad sobre el patrimonio.\n",
      "El ROA es bajo, lo que sugiere que la empresa no está generando suficientes beneficios con sus activos.\n",
      "El margen neto es bajo, lo que sugiere que los costos están afectando significativamente las ganancias.\n",
      "El margen bruto es bajo, lo que indica que los costos directos están consumiendo gran parte de los ingresos.\n",
      "El margen operativo es bajo, lo que sugiere que la empresa tiene problemas en sus operaciones para generar beneficios.\n"
     ]
    }
   ],
   "source": [
    "def analizar_rentabilidad(roce, roe, margen_neto, margen_bruto, roa, margen_operativo):\n",
    "    \"\"\"\n",
    "    Analiza los principales ratios de rentabilidad de una empresa y proporciona una conclusión.\n",
    "    \n",
    "    Parámetros:\n",
    "    - roce (float): Rentabilidad sobre el Capital Empleado (en %).\n",
    "    - roe (float): Rentabilidad sobre el Patrimonio (en %).\n",
    "    - margen_neto (float): Margen Neto (en %).\n",
    "    - margen_bruto (float): Margen Bruto (en %).\n",
    "    - roa (float): Rentabilidad sobre los Activos (en %).\n",
    "    - margen_operativo (float): Margen Operativo (en %).\n",
    "    \n",
    "    Retorna:\n",
    "    - str: Conclusión sobre la rentabilidad de la empresa.\n",
    "    \"\"\"\n",
    "    conclusion = []\n",
    "    \n",
    "    # Evaluar ROCE\n",
    "    if roce > 15:\n",
    "        conclusion.append(\"La empresa tiene un ROCE alto, lo que indica una eficiente utilización del capital empleado.\")\n",
    "    elif 5 <= roce <= 15:\n",
    "        conclusion.append(\"El ROCE de la empresa es moderado. Es aceptable dependiendo del sector.\")\n",
    "    else:\n",
    "        conclusion.append(\"El ROCE es bajo, lo que sugiere una ineficiente utilización del capital empleado.\")\n",
    "    \n",
    "    # Evaluar ROE\n",
    "    if roe > 15:\n",
    "        conclusion.append(\"El ROE es alto, lo que indica que la empresa está generando buen valor para los accionistas.\")\n",
    "    elif 5 <= roe <= 15:\n",
    "        conclusion.append(\"El ROE es moderado. Puede ser aceptable dependiendo del sector o estrategia de la empresa.\")\n",
    "    else:\n",
    "        conclusion.append(\"El ROE es bajo, lo que podría indicar problemas de rentabilidad sobre el patrimonio.\")\n",
    "    \n",
    "    # Evaluar ROA\n",
    "    if roa > 10:\n",
    "        conclusion.append(\"El ROA es alto, lo que indica una buena rentabilidad sobre los activos.\")\n",
    "    elif 5 <= roa <= 10:\n",
    "        conclusion.append(\"El ROA es moderado. La empresa está utilizando sus activos de manera razonable para generar ganancias.\")\n",
    "    else:\n",
    "        conclusion.append(\"El ROA es bajo, lo que sugiere que la empresa no está generando suficientes beneficios con sus activos.\")\n",
    "    \n",
    "    # Evaluar Margen Neto\n",
    "    if margen_neto > 10:\n",
    "        conclusion.append(\"El margen neto es alto, lo que indica una buena capacidad para generar beneficios después de todos los costos.\")\n",
    "    elif 5 <= margen_neto <= 10:\n",
    "        conclusion.append(\"El margen neto es moderado. La rentabilidad final es razonable pero podría mejorar.\")\n",
    "    else:\n",
    "        conclusion.append(\"El margen neto es bajo, lo que sugiere que los costos están afectando significativamente las ganancias.\")\n",
    "    \n",
    "    # Evaluar Margen Bruto\n",
    "    if margen_bruto > 40:\n",
    "        conclusion.append(\"El margen bruto es alto, indicando una sólida eficiencia operativa y control de costos directos.\")\n",
    "    elif 20 <= margen_bruto <= 40:\n",
    "        conclusion.append(\"El margen bruto es moderado. Es aceptable, pero hay margen para mejorar la eficiencia operativa.\")\n",
    "    else:\n",
    "        conclusion.append(\"El margen bruto es bajo, lo que indica que los costos directos están consumiendo gran parte de los ingresos.\")\n",
    "    \n",
    "    # Evaluar Margen Operativo\n",
    "    if margen_operativo > 20:\n",
    "        conclusion.append(\"El margen operativo es alto, lo que indica que la empresa tiene una buena capacidad para generar ganancias operativas.\")\n",
    "    elif 10 <= margen_operativo <= 20:\n",
    "        conclusion.append(\"El margen operativo es moderado. La rentabilidad operativa es aceptable pero puede ser mejorada.\")\n",
    "    else:\n",
    "        conclusion.append(\"El margen operativo es bajo, lo que sugiere que la empresa tiene problemas en sus operaciones para generar beneficios.\")\n",
    "    \n",
    "    # Combinar las conclusiones\n",
    "    conclusion_final = \"\\n\".join(conclusion)\n",
    "    return conclusion_final\n",
    "\n",
    "resultado = analizar_rentabilidad(roce, roe, margen_neto, margen_bruto, roa, margen_operativo)\n",
    "print(\"Conclusión sobre la rentabilidad de la empresa:\")\n",
    "print(resultado)\n"
   ]
  },
  {
   "cell_type": "markdown",
   "metadata": {},
   "source": [
    "## Indicadores de solvencia y liquidez"
   ]
  },
  {
   "cell_type": "markdown",
   "metadata": {},
   "source": [
    "### Razón de liquidez corriente (Revisar la de OPEN en 2024, que la de 2023 me sale muy alta)\n",
    "### La fórmula indica:\n",
    "- Activos Corrientes (Current Assets): Son los activos que se espera convertir en efectivo, vender o consumir en el ciclo normal de operaciones de la empresa (generalmente dentro de un año).\n",
    "- Pasivos Corrientes (Current Liabilities): Son las deudas que se deben pagar dentro del mismo período (un año).\n",
    "### Interpretación:\n",
    "- Razón > 1: La empresa tiene más activos corrientes que pasivos corrientes, lo que indica una buena liquidez y capacidad para cubrir sus deudas a corto plazo.\n",
    "- Razón = 1: La empresa tiene exactamente lo necesario para cubrir sus obligaciones a corto plazo, lo cual es un buen equilibrio.\n",
    "- Razón < 1: La empresa no tiene suficientes activos corrientes para cubrir sus pasivos corrientes, lo que podría indicar problemas de liquidez."
   ]
  },
  {
   "cell_type": "code",
   "execution_count": 20,
   "metadata": {},
   "outputs": [],
   "source": [
    "activos_corrientes = float(balance_sheet.loc[balance_sheet[\"fiscalDateEnding\"] == \"2023-12-31\", \"totalCurrentAssets\"].iloc[0])\n",
    "pasivos_corrientes = float(balance_sheet.loc[balance_sheet[\"fiscalDateEnding\"] == \"2023-12-31\", \"totalCurrentLiabilities\"].iloc[0])\n",
    "\n",
    "razon_liquidez_corriente = activos_corrientes / pasivos_corrientes"
   ]
  },
  {
   "cell_type": "code",
   "execution_count": 21,
   "metadata": {},
   "outputs": [
    {
     "name": "stdout",
     "output_type": "stream",
     "text": [
      "La raón de luquidez corriente de OPEN es --> 49.214285714285715\n"
     ]
    }
   ],
   "source": [
    "print(f'La raón de luquidez corriente de {ticker} es --> {razon_liquidez_corriente}')"
   ]
  },
  {
   "cell_type": "markdown",
   "metadata": {},
   "source": [
    "### Razón de liquidez rápida\n",
    "La Razón de Liquidez Rápida (también conocida como Quick Ratio o Acid Test Ratio) es un indicador financiero que mide la capacidad de una empresa para cumplir con sus obligaciones a corto plazo sin depender de la venta de inventarios. Es una versión más estricta de la Razón de Liquidez Corriente.\n",
    "\n",
    "- Activos Corrientes (Current Assets): Son los activos que se espera convertir en efectivo, vender o consumir en el ciclo normal de operaciones de la empresa (generalmente dentro de un año).\n",
    "- Inventarios (Inventories): Son los bienes que la empresa tiene para vender o para usar en el proceso de producción.\n",
    "- Pasivos Corrientes (Current Liabilities): Son las deudas que la empresa debe pagar dentro del mismo período (un año).\n",
    "\n",
    "La interpretación es similar a la raón de liquidez corriente. En OPEN es muy raro, tengo que revisar, ya que da un valor muy alto."
   ]
  },
  {
   "cell_type": "code",
   "execution_count": 22,
   "metadata": {},
   "outputs": [],
   "source": [
    "inventarios = float(balance_sheet.loc[balance_sheet[\"fiscalDateEnding\"] == \"2023-12-31\", \"inventory\"].iloc[0])\n",
    "\n",
    "liquidez_rapida = (activos_corrientes - inventarios) / pasivos_corrientes"
   ]
  },
  {
   "cell_type": "code",
   "execution_count": 23,
   "metadata": {},
   "outputs": [
    {
     "name": "stdout",
     "output_type": "stream",
     "text": [
      "La razón de liquidez rapida de OPEN es de --> 49.6\n"
     ]
    }
   ],
   "source": [
    "print(f'La razón de liquidez rapida de {ticker} es de --> {liquidez_rapida}')"
   ]
  },
  {
   "cell_type": "markdown",
   "metadata": {},
   "source": [
    "### Cobertura de Intereses\n",
    "La Cobertura de Intereses (Interest Coverage Ratio) es un indicador financiero que mide la capacidad de una empresa para cubrir sus gastos por intereses con sus ganancias operativas. Es un indicador clave de solvencia financiera, ya que muestra si la empresa tiene suficiente capacidad para pagar sus intereses sobre la deuda.\n",
    "- EBIT (Earnings Before Interest and Taxes): Beneficio antes de intereses e impuestos. Es la ganancia operativa de la empresa antes de considerar el efecto de los intereses y los impuestos.\n",
    "- Gastos por Intereses (Interest Expense): Los intereses que la empresa debe pagar por su deuda.\n",
    "\n",
    "Cuando este indicador es negativo lo podemos interpretar como que sus pérdidas operativas son 5 veces mayores que los gastos por intereses. En este caso, una Cobertura de Intereses negativa es un signo claro de problemas financieros."
   ]
  },
  {
   "cell_type": "code",
   "execution_count": 24,
   "metadata": {},
   "outputs": [],
   "source": [
    "gastos_intereses = float(income_statement.loc[income_statement[\"fiscalDateEnding\"] == \"2023-12-31\", \"interestExpense\"].iloc[0])\n",
    "\n",
    "cobertura_intereses = ebit / gastos_intereses"
   ]
  },
  {
   "cell_type": "code",
   "execution_count": 25,
   "metadata": {},
   "outputs": [
    {
     "name": "stdout",
     "output_type": "stream",
     "text": [
      "la cobertura de intereses de OPEN es de -1.8293838862559242\n"
     ]
    }
   ],
   "source": [
    "print(f'la cobertura de intereses de {ticker} es de {cobertura_intereses}')"
   ]
  },
  {
   "cell_type": "markdown",
   "metadata": {},
   "source": [
    "### Deuda sobre patrimonio\n",
    "El índice de deuda sobre patrimonio (Debt-to-Equity Ratio, D/E) es un indicador financiero que mide la proporción de la deuda de una empresa en relación con su patrimonio neto. Este ratio es utilizado para evaluar la estructura de capital de la empresa, es decir, cuánta deuda utiliza la empresa en comparación con su propio capital.\n",
    "- Deuda Total: Es la suma de todas las deudas de la empresa, que generalmente se encuentran bajo los pasivos.\n",
    "- Patrimonio de los accionistas (Shareholders' Equity): Es el valor residual de los activos de la empresa después de deducir sus pasivos. En otras palabras, es lo que quedaría para los accionistas si la empresa liquidara todos sus activos y pagara todas sus deudas.\n",
    "\n",
    "La interpretación es:\n",
    "##### Ratio Bajo (< 1):\n",
    "Un D/E ratio bajo indica que la empresa depende en gran medida del capital propio en lugar de la deuda. Esto puede ser positivo porque significa que la empresa no tiene una carga de deuda pesada, lo que puede hacerla más resistente a las fluctuaciones económicas.  \n",
    "Sin embargo, un D/E muy bajo también puede ser una señal de que la empresa no está aprovechando al máximo el apalancamiento financiero para generar rendimiento.\n",
    "\n",
    "##### Ratio Alto (> 1):\n",
    "Un D/E ratio alto sugiere que la empresa tiene una gran dependencia de la deuda para financiar sus operaciones. Esto podría ser riesgoso si la empresa no puede generar suficientes ingresos para cumplir con sus obligaciones de deuda, especialmente en momentos de crisis económica o recesión.  \n",
    "A su vez, un apalancamiento alto puede ser beneficioso si la empresa utiliza la deuda para financiar proyectos rentables que generen un retorno mayor que el coste de la deuda.\n",
    "\n",
    "Ejemplo:\n",
    "- D/E de 0.5: Por cada dólar de deuda, la empresa tiene 2 dólares de patrimonio. Es un nivel conservador y generalmente más seguro.\n",
    "- D/E de 2.0: Por cada dólar de deuda, la empresa tiene 0.5 dólares de patrimonio. Es un nivel más agresivo y puede implicar mayor riesgo.\n",
    "- Otro ejemplo es con apple, si tiene un D/E de 1.36 significa que por cada dolar de patrimonio de los accionistas apple tiene 1.36 dolares en deuda.\n"
   ]
  },
  {
   "cell_type": "code",
   "execution_count": 26,
   "metadata": {},
   "outputs": [],
   "source": [
    "deuda_total = float(balance_sheet.loc[balance_sheet[\"fiscalDateEnding\"] == \"2023-12-31\", \"totalLiabilities\"].iloc[0])\n",
    "patrimonio_accionistas = float(balance_sheet.loc[balance_sheet[\"fiscalDateEnding\"] == \"2023-12-31\", \"totalShareholderEquity\"].iloc[0])\n",
    "\n",
    "deuda_a_patrimonio = deuda_total / patrimonio_accionistas"
   ]
  },
  {
   "cell_type": "code",
   "execution_count": 27,
   "metadata": {},
   "outputs": [
    {
     "name": "stdout",
     "output_type": "stream",
     "text": [
      "La deuda sobre patrimonio de OPEN es de --> 2.688728024819028\n"
     ]
    }
   ],
   "source": [
    "print(f'La deuda sobre patrimonio de {ticker} es de --> {deuda_a_patrimonio}')"
   ]
  },
  {
   "cell_type": "markdown",
   "metadata": {},
   "source": [
    "## Indicadores de eficiencia operativa"
   ]
  },
  {
   "cell_type": "markdown",
   "metadata": {},
   "source": [
    "### Rotacion de activos\n",
    "La interpretacion es que por cada dolar invertido en activos, la empresa generó 1,43$ en ventas netas."
   ]
  },
  {
   "cell_type": "code",
   "execution_count": 33,
   "metadata": {},
   "outputs": [],
   "source": [
    "ventas_netas = float(income_statement.loc[income_statement[\"fiscalDateEnding\"] == \"2023-12-31\", \"totalRevenue\"].iloc[0])\n",
    "activos_iniciales = float(balance_sheet.loc[balance_sheet[\"fiscalDateEnding\"] == \"2023-12-31\", \"totalAssets\"].iloc[0])\n",
    "activos_finales = float(balance_sheet.loc[balance_sheet[\"fiscalDateEnding\"] == \"2022-12-31\", \"totalAssets\"].iloc[0]) # le restamos un periodo\n",
    "\n",
    "activos_promedio = (activos_iniciales + activos_finales) / 2\n",
    "rotacion = ventas_netas / activos_promedio"
   ]
  },
  {
   "cell_type": "code",
   "execution_count": 34,
   "metadata": {},
   "outputs": [
    {
     "name": "stdout",
     "output_type": "stream",
     "text": [
      "La rotacion de activos de la empresa OPEN son --> 1.3653071253071254\n"
     ]
    }
   ],
   "source": [
    "print(f'La rotacion de activos de la empresa {ticker} son --> {rotacion}')"
   ]
  },
  {
   "cell_type": "markdown",
   "metadata": {},
   "source": [
    "### Días de inventario\n",
    "Obtenemos los días que tarda la empresa en vender el inventario"
   ]
  },
  {
   "cell_type": "code",
   "execution_count": 38,
   "metadata": {},
   "outputs": [],
   "source": [
    "costo_bienes_vendidos = float(income_statement.loc[income_statement[\"fiscalDateEnding\"] == \"2023-12-31\", \"costOfRevenue\"].iloc[0])\n",
    "inventario_inicial = float(balance_sheet.loc[balance_sheet[\"fiscalDateEnding\"] == \"2023-12-31\", \"inventory\"].iloc[0])\n",
    "inventario_final = float(balance_sheet.loc[balance_sheet[\"fiscalDateEnding\"] == \"2022-12-31\", \"inventory\"].iloc[0]) # le restamos un periodo\n",
    "\n",
    "inventario_promedio = (inventario_inicial + inventario_final) / 2\n",
    "dias = (inventario_promedio * 365) / costo_bienes_vendidos"
   ]
  },
  {
   "cell_type": "code",
   "execution_count": 42,
   "metadata": {},
   "outputs": [
    {
     "data": {
      "text/plain": [
       "-459000000.0"
      ]
     },
     "execution_count": 42,
     "metadata": {},
     "output_type": "execute_result"
    }
   ],
   "source": [
    "inventario_final"
   ]
  },
  {
   "cell_type": "code",
   "execution_count": 39,
   "metadata": {},
   "outputs": [
    {
     "name": "stdout",
     "output_type": "stream",
     "text": [
      "Los días que tarda la empresa OPEN en vender inventario es de -13.732001857872735 días\n"
     ]
    }
   ],
   "source": [
    "print(f'Los días que tarda la empresa {ticker} en vender inventario es de {dias} días')"
   ]
  },
  {
   "cell_type": "code",
   "execution_count": 54,
   "metadata": {},
   "outputs": [
    {
     "data": {
      "text/html": [
       "<div>\n",
       "<style scoped>\n",
       "    .dataframe tbody tr th:only-of-type {\n",
       "        vertical-align: middle;\n",
       "    }\n",
       "\n",
       "    .dataframe tbody tr th {\n",
       "        vertical-align: top;\n",
       "    }\n",
       "\n",
       "    .dataframe thead th {\n",
       "        text-align: right;\n",
       "    }\n",
       "</style>\n",
       "<table border=\"1\" class=\"dataframe\">\n",
       "  <thead>\n",
       "    <tr style=\"text-align: right;\">\n",
       "      <th>date</th>\n",
       "      <th>1970-01-01 00:00:00.000000000</th>\n",
       "      <th>1970-01-01 00:00:00.000000001</th>\n",
       "      <th>1970-01-01 00:00:00.000000002</th>\n",
       "      <th>1970-01-01 00:00:00.000000003</th>\n",
       "      <th>1970-01-01 00:00:00.000000004</th>\n",
       "    </tr>\n",
       "  </thead>\n",
       "  <tbody>\n",
       "    <tr>\n",
       "      <th>fiscalDateEnding</th>\n",
       "      <td>2023-12-31</td>\n",
       "      <td>2022-12-31</td>\n",
       "      <td>2021-12-31</td>\n",
       "      <td>2020-12-31</td>\n",
       "      <td>2019-12-31</td>\n",
       "    </tr>\n",
       "    <tr>\n",
       "      <th>reportedCurrency</th>\n",
       "      <td>USD</td>\n",
       "      <td>USD</td>\n",
       "      <td>USD</td>\n",
       "      <td>USD</td>\n",
       "      <td>USD</td>\n",
       "    </tr>\n",
       "    <tr>\n",
       "      <th>totalAssets</th>\n",
       "      <td>3567000000</td>\n",
       "      <td>6608000000</td>\n",
       "      <td>9506000000</td>\n",
       "      <td>2176000000</td>\n",
       "      <td>2231684000</td>\n",
       "    </tr>\n",
       "    <tr>\n",
       "      <th>totalCurrentAssets</th>\n",
       "      <td>3445000000</td>\n",
       "      <td>6466000000</td>\n",
       "      <td>9340000000</td>\n",
       "      <td>2053000000</td>\n",
       "      <td>2087644000</td>\n",
       "    </tr>\n",
       "    <tr>\n",
       "      <th>cashAndCashEquivalentsAtCarryingValue</th>\n",
       "      <td>999000000</td>\n",
       "      <td>1137000000</td>\n",
       "      <td>1731000000</td>\n",
       "      <td>1413000000</td>\n",
       "      <td>405000000</td>\n",
       "    </tr>\n",
       "    <tr>\n",
       "      <th>cashAndShortTermInvestments</th>\n",
       "      <td>1083000000</td>\n",
       "      <td>1292000000</td>\n",
       "      <td>2261000000</td>\n",
       "      <td>1460302000</td>\n",
       "      <td>405080000</td>\n",
       "    </tr>\n",
       "    <tr>\n",
       "      <th>inventory</th>\n",
       "      <td>-27000000</td>\n",
       "      <td>-459000000</td>\n",
       "      <td>-40000000</td>\n",
       "      <td>465936000</td>\n",
       "      <td>1312369000</td>\n",
       "    </tr>\n",
       "    <tr>\n",
       "      <th>currentNetReceivables</th>\n",
       "      <td>None</td>\n",
       "      <td>None</td>\n",
       "      <td>None</td>\n",
       "      <td>None</td>\n",
       "      <td>None</td>\n",
       "    </tr>\n",
       "    <tr>\n",
       "      <th>totalNonCurrentAssets</th>\n",
       "      <td>1897000000</td>\n",
       "      <td>4602000000</td>\n",
       "      <td>6262000000</td>\n",
       "      <td>588407000</td>\n",
       "      <td>144040000</td>\n",
       "    </tr>\n",
       "    <tr>\n",
       "      <th>propertyPlantEquipment</th>\n",
       "      <td>66000000</td>\n",
       "      <td>58000000</td>\n",
       "      <td>45000000</td>\n",
       "      <td>29000000</td>\n",
       "      <td>34606000</td>\n",
       "    </tr>\n",
       "    <tr>\n",
       "      <th>accumulatedDepreciationAmortizationPPE</th>\n",
       "      <td>100000000</td>\n",
       "      <td>90000000</td>\n",
       "      <td>57000000</td>\n",
       "      <td>34000000</td>\n",
       "      <td>20462000</td>\n",
       "    </tr>\n",
       "    <tr>\n",
       "      <th>intangibleAssets</th>\n",
       "      <td>9000000</td>\n",
       "      <td>16000000</td>\n",
       "      <td>72000000</td>\n",
       "      <td>40000000</td>\n",
       "      <td>43359000</td>\n",
       "    </tr>\n",
       "    <tr>\n",
       "      <th>intangibleAssetsExcludingGoodwill</th>\n",
       "      <td>5000000</td>\n",
       "      <td>12000000</td>\n",
       "      <td>12000000</td>\n",
       "      <td>9000000</td>\n",
       "      <td>12414000</td>\n",
       "    </tr>\n",
       "    <tr>\n",
       "      <th>goodwill</th>\n",
       "      <td>4000000</td>\n",
       "      <td>4000000</td>\n",
       "      <td>60000000</td>\n",
       "      <td>31000000</td>\n",
       "      <td>30945000</td>\n",
       "    </tr>\n",
       "    <tr>\n",
       "      <th>investments</th>\n",
       "      <td>143000000</td>\n",
       "      <td>297000000</td>\n",
       "      <td>722000000</td>\n",
       "      <td>132181000</td>\n",
       "      <td>None</td>\n",
       "    </tr>\n",
       "    <tr>\n",
       "      <th>longTermInvestments</th>\n",
       "      <td>None</td>\n",
       "      <td>None</td>\n",
       "      <td>None</td>\n",
       "      <td>None</td>\n",
       "      <td>None</td>\n",
       "    </tr>\n",
       "    <tr>\n",
       "      <th>shortTermInvestments</th>\n",
       "      <td>84000000</td>\n",
       "      <td>155000000</td>\n",
       "      <td>530000000</td>\n",
       "      <td>47637000</td>\n",
       "      <td>43576000</td>\n",
       "    </tr>\n",
       "    <tr>\n",
       "      <th>otherCurrentAssets</th>\n",
       "      <td>52000000</td>\n",
       "      <td>41000000</td>\n",
       "      <td>91000000</td>\n",
       "      <td>24000000</td>\n",
       "      <td>30879000</td>\n",
       "    </tr>\n",
       "    <tr>\n",
       "      <th>otherNonCurrentAssets</th>\n",
       "      <td>22000000</td>\n",
       "      <td>27000000</td>\n",
       "      <td>7000000</td>\n",
       "      <td>4000000</td>\n",
       "      <td>5394000</td>\n",
       "    </tr>\n",
       "    <tr>\n",
       "      <th>totalLiabilities</th>\n",
       "      <td>2600000000</td>\n",
       "      <td>5522000000</td>\n",
       "      <td>7258000000</td>\n",
       "      <td>623000000</td>\n",
       "      <td>1583285000</td>\n",
       "    </tr>\n",
       "    <tr>\n",
       "      <th>totalCurrentLiabilities</th>\n",
       "      <td>70000000</td>\n",
       "      <td>1505000000</td>\n",
       "      <td>4400000000</td>\n",
       "      <td>393000000</td>\n",
       "      <td>1126382000</td>\n",
       "    </tr>\n",
       "    <tr>\n",
       "      <th>currentAccountsPayable</th>\n",
       "      <td>2000000</td>\n",
       "      <td>5000000</td>\n",
       "      <td>3000000</td>\n",
       "      <td>2756000</td>\n",
       "      <td>None</td>\n",
       "    </tr>\n",
       "    <tr>\n",
       "      <th>deferredRevenue</th>\n",
       "      <td>None</td>\n",
       "      <td>None</td>\n",
       "      <td>None</td>\n",
       "      <td>None</td>\n",
       "      <td>None</td>\n",
       "    </tr>\n",
       "    <tr>\n",
       "      <th>currentDebt</th>\n",
       "      <td>None</td>\n",
       "      <td>1376000000</td>\n",
       "      <td>4247000000</td>\n",
       "      <td>346322000</td>\n",
       "      <td>None</td>\n",
       "    </tr>\n",
       "    <tr>\n",
       "      <th>shortTermDebt</th>\n",
       "      <td>5000000</td>\n",
       "      <td>1383000000</td>\n",
       "      <td>4251000000</td>\n",
       "      <td>367000000</td>\n",
       "      <td>1087597000</td>\n",
       "    </tr>\n",
       "    <tr>\n",
       "      <th>totalNonCurrentLiabilities</th>\n",
       "      <td>2530000000</td>\n",
       "      <td>4017000000</td>\n",
       "      <td>2858000000</td>\n",
       "      <td>182186000</td>\n",
       "      <td>1838405000</td>\n",
       "    </tr>\n",
       "    <tr>\n",
       "      <th>capitalLeaseObligations</th>\n",
       "      <td>24000000</td>\n",
       "      <td>45000000</td>\n",
       "      <td>46000000</td>\n",
       "      <td>67341000</td>\n",
       "      <td>61907000</td>\n",
       "    </tr>\n",
       "    <tr>\n",
       "      <th>longTermDebt</th>\n",
       "      <td>2510000000</td>\n",
       "      <td>5355000000</td>\n",
       "      <td>7063000000</td>\n",
       "      <td>135467000</td>\n",
       "      <td>362025000</td>\n",
       "    </tr>\n",
       "    <tr>\n",
       "      <th>currentLongTermDebt</th>\n",
       "      <td>0</td>\n",
       "      <td>1376000000</td>\n",
       "      <td>4247000000</td>\n",
       "      <td>346322000</td>\n",
       "      <td>1074125000</td>\n",
       "    </tr>\n",
       "    <tr>\n",
       "      <th>longTermDebtNoncurrent</th>\n",
       "      <td>2510000000</td>\n",
       "      <td>3979000000</td>\n",
       "      <td>2816000000</td>\n",
       "      <td>135467000</td>\n",
       "      <td>None</td>\n",
       "    </tr>\n",
       "    <tr>\n",
       "      <th>shortLongTermDebtTotal</th>\n",
       "      <td>2510000000</td>\n",
       "      <td>5355000000</td>\n",
       "      <td>7063000000</td>\n",
       "      <td>135467000</td>\n",
       "      <td>1498057000</td>\n",
       "    </tr>\n",
       "    <tr>\n",
       "      <th>otherCurrentLiabilities</th>\n",
       "      <td>56000000</td>\n",
       "      <td>88000000</td>\n",
       "      <td>122000000</td>\n",
       "      <td>22267000</td>\n",
       "      <td>32332000</td>\n",
       "    </tr>\n",
       "    <tr>\n",
       "      <th>otherNonCurrentLiabilities</th>\n",
       "      <td>1000000</td>\n",
       "      <td>0</td>\n",
       "      <td>None</td>\n",
       "      <td>94000</td>\n",
       "      <td>208000</td>\n",
       "    </tr>\n",
       "    <tr>\n",
       "      <th>totalShareholderEquity</th>\n",
       "      <td>967000000</td>\n",
       "      <td>1086000000</td>\n",
       "      <td>2248000000</td>\n",
       "      <td>1553000000</td>\n",
       "      <td>-733000000</td>\n",
       "    </tr>\n",
       "    <tr>\n",
       "      <th>treasuryStock</th>\n",
       "      <td>None</td>\n",
       "      <td>None</td>\n",
       "      <td>None</td>\n",
       "      <td>None</td>\n",
       "      <td>None</td>\n",
       "    </tr>\n",
       "    <tr>\n",
       "      <th>retainedEarnings</th>\n",
       "      <td>-3333000000</td>\n",
       "      <td>-3058000000</td>\n",
       "      <td>-1705000000</td>\n",
       "      <td>-1077243000</td>\n",
       "      <td>-790483000</td>\n",
       "    </tr>\n",
       "    <tr>\n",
       "      <th>commonStock</th>\n",
       "      <td>0</td>\n",
       "      <td>0</td>\n",
       "      <td>0</td>\n",
       "      <td>0</td>\n",
       "      <td>0</td>\n",
       "    </tr>\n",
       "    <tr>\n",
       "      <th>commonStockSharesOutstanding</th>\n",
       "      <td>677636163</td>\n",
       "      <td>637387025</td>\n",
       "      <td>616026565</td>\n",
       "      <td>540714692</td>\n",
       "      <td>83748443</td>\n",
       "    </tr>\n",
       "  </tbody>\n",
       "</table>\n",
       "</div>"
      ],
      "text/plain": [
       "date                                   1970-01-01 00:00:00.000000000  \\\n",
       "fiscalDateEnding                                          2023-12-31   \n",
       "reportedCurrency                                                 USD   \n",
       "totalAssets                                               3567000000   \n",
       "totalCurrentAssets                                        3445000000   \n",
       "cashAndCashEquivalentsAtCarryingValue                      999000000   \n",
       "cashAndShortTermInvestments                               1083000000   \n",
       "inventory                                                  -27000000   \n",
       "currentNetReceivables                                           None   \n",
       "totalNonCurrentAssets                                     1897000000   \n",
       "propertyPlantEquipment                                      66000000   \n",
       "accumulatedDepreciationAmortizationPPE                     100000000   \n",
       "intangibleAssets                                             9000000   \n",
       "intangibleAssetsExcludingGoodwill                            5000000   \n",
       "goodwill                                                     4000000   \n",
       "investments                                                143000000   \n",
       "longTermInvestments                                             None   \n",
       "shortTermInvestments                                        84000000   \n",
       "otherCurrentAssets                                          52000000   \n",
       "otherNonCurrentAssets                                       22000000   \n",
       "totalLiabilities                                          2600000000   \n",
       "totalCurrentLiabilities                                     70000000   \n",
       "currentAccountsPayable                                       2000000   \n",
       "deferredRevenue                                                 None   \n",
       "currentDebt                                                     None   \n",
       "shortTermDebt                                                5000000   \n",
       "totalNonCurrentLiabilities                                2530000000   \n",
       "capitalLeaseObligations                                     24000000   \n",
       "longTermDebt                                              2510000000   \n",
       "currentLongTermDebt                                                0   \n",
       "longTermDebtNoncurrent                                    2510000000   \n",
       "shortLongTermDebtTotal                                    2510000000   \n",
       "otherCurrentLiabilities                                     56000000   \n",
       "otherNonCurrentLiabilities                                   1000000   \n",
       "totalShareholderEquity                                     967000000   \n",
       "treasuryStock                                                   None   \n",
       "retainedEarnings                                         -3333000000   \n",
       "commonStock                                                        0   \n",
       "commonStockSharesOutstanding                               677636163   \n",
       "\n",
       "date                                   1970-01-01 00:00:00.000000001  \\\n",
       "fiscalDateEnding                                          2022-12-31   \n",
       "reportedCurrency                                                 USD   \n",
       "totalAssets                                               6608000000   \n",
       "totalCurrentAssets                                        6466000000   \n",
       "cashAndCashEquivalentsAtCarryingValue                     1137000000   \n",
       "cashAndShortTermInvestments                               1292000000   \n",
       "inventory                                                 -459000000   \n",
       "currentNetReceivables                                           None   \n",
       "totalNonCurrentAssets                                     4602000000   \n",
       "propertyPlantEquipment                                      58000000   \n",
       "accumulatedDepreciationAmortizationPPE                      90000000   \n",
       "intangibleAssets                                            16000000   \n",
       "intangibleAssetsExcludingGoodwill                           12000000   \n",
       "goodwill                                                     4000000   \n",
       "investments                                                297000000   \n",
       "longTermInvestments                                             None   \n",
       "shortTermInvestments                                       155000000   \n",
       "otherCurrentAssets                                          41000000   \n",
       "otherNonCurrentAssets                                       27000000   \n",
       "totalLiabilities                                          5522000000   \n",
       "totalCurrentLiabilities                                   1505000000   \n",
       "currentAccountsPayable                                       5000000   \n",
       "deferredRevenue                                                 None   \n",
       "currentDebt                                               1376000000   \n",
       "shortTermDebt                                             1383000000   \n",
       "totalNonCurrentLiabilities                                4017000000   \n",
       "capitalLeaseObligations                                     45000000   \n",
       "longTermDebt                                              5355000000   \n",
       "currentLongTermDebt                                       1376000000   \n",
       "longTermDebtNoncurrent                                    3979000000   \n",
       "shortLongTermDebtTotal                                    5355000000   \n",
       "otherCurrentLiabilities                                     88000000   \n",
       "otherNonCurrentLiabilities                                         0   \n",
       "totalShareholderEquity                                    1086000000   \n",
       "treasuryStock                                                   None   \n",
       "retainedEarnings                                         -3058000000   \n",
       "commonStock                                                        0   \n",
       "commonStockSharesOutstanding                               637387025   \n",
       "\n",
       "date                                   1970-01-01 00:00:00.000000002  \\\n",
       "fiscalDateEnding                                          2021-12-31   \n",
       "reportedCurrency                                                 USD   \n",
       "totalAssets                                               9506000000   \n",
       "totalCurrentAssets                                        9340000000   \n",
       "cashAndCashEquivalentsAtCarryingValue                     1731000000   \n",
       "cashAndShortTermInvestments                               2261000000   \n",
       "inventory                                                  -40000000   \n",
       "currentNetReceivables                                           None   \n",
       "totalNonCurrentAssets                                     6262000000   \n",
       "propertyPlantEquipment                                      45000000   \n",
       "accumulatedDepreciationAmortizationPPE                      57000000   \n",
       "intangibleAssets                                            72000000   \n",
       "intangibleAssetsExcludingGoodwill                           12000000   \n",
       "goodwill                                                    60000000   \n",
       "investments                                                722000000   \n",
       "longTermInvestments                                             None   \n",
       "shortTermInvestments                                       530000000   \n",
       "otherCurrentAssets                                          91000000   \n",
       "otherNonCurrentAssets                                        7000000   \n",
       "totalLiabilities                                          7258000000   \n",
       "totalCurrentLiabilities                                   4400000000   \n",
       "currentAccountsPayable                                       3000000   \n",
       "deferredRevenue                                                 None   \n",
       "currentDebt                                               4247000000   \n",
       "shortTermDebt                                             4251000000   \n",
       "totalNonCurrentLiabilities                                2858000000   \n",
       "capitalLeaseObligations                                     46000000   \n",
       "longTermDebt                                              7063000000   \n",
       "currentLongTermDebt                                       4247000000   \n",
       "longTermDebtNoncurrent                                    2816000000   \n",
       "shortLongTermDebtTotal                                    7063000000   \n",
       "otherCurrentLiabilities                                    122000000   \n",
       "otherNonCurrentLiabilities                                      None   \n",
       "totalShareholderEquity                                    2248000000   \n",
       "treasuryStock                                                   None   \n",
       "retainedEarnings                                         -1705000000   \n",
       "commonStock                                                        0   \n",
       "commonStockSharesOutstanding                               616026565   \n",
       "\n",
       "date                                   1970-01-01 00:00:00.000000003  \\\n",
       "fiscalDateEnding                                          2020-12-31   \n",
       "reportedCurrency                                                 USD   \n",
       "totalAssets                                               2176000000   \n",
       "totalCurrentAssets                                        2053000000   \n",
       "cashAndCashEquivalentsAtCarryingValue                     1413000000   \n",
       "cashAndShortTermInvestments                               1460302000   \n",
       "inventory                                                  465936000   \n",
       "currentNetReceivables                                           None   \n",
       "totalNonCurrentAssets                                      588407000   \n",
       "propertyPlantEquipment                                      29000000   \n",
       "accumulatedDepreciationAmortizationPPE                      34000000   \n",
       "intangibleAssets                                            40000000   \n",
       "intangibleAssetsExcludingGoodwill                            9000000   \n",
       "goodwill                                                    31000000   \n",
       "investments                                                132181000   \n",
       "longTermInvestments                                             None   \n",
       "shortTermInvestments                                        47637000   \n",
       "otherCurrentAssets                                          24000000   \n",
       "otherNonCurrentAssets                                        4000000   \n",
       "totalLiabilities                                           623000000   \n",
       "totalCurrentLiabilities                                    393000000   \n",
       "currentAccountsPayable                                       2756000   \n",
       "deferredRevenue                                                 None   \n",
       "currentDebt                                                346322000   \n",
       "shortTermDebt                                              367000000   \n",
       "totalNonCurrentLiabilities                                 182186000   \n",
       "capitalLeaseObligations                                     67341000   \n",
       "longTermDebt                                               135467000   \n",
       "currentLongTermDebt                                        346322000   \n",
       "longTermDebtNoncurrent                                     135467000   \n",
       "shortLongTermDebtTotal                                     135467000   \n",
       "otherCurrentLiabilities                                     22267000   \n",
       "otherNonCurrentLiabilities                                     94000   \n",
       "totalShareholderEquity                                    1553000000   \n",
       "treasuryStock                                                   None   \n",
       "retainedEarnings                                         -1077243000   \n",
       "commonStock                                                        0   \n",
       "commonStockSharesOutstanding                               540714692   \n",
       "\n",
       "date                                   1970-01-01 00:00:00.000000004  \n",
       "fiscalDateEnding                                          2019-12-31  \n",
       "reportedCurrency                                                 USD  \n",
       "totalAssets                                               2231684000  \n",
       "totalCurrentAssets                                        2087644000  \n",
       "cashAndCashEquivalentsAtCarryingValue                      405000000  \n",
       "cashAndShortTermInvestments                                405080000  \n",
       "inventory                                                 1312369000  \n",
       "currentNetReceivables                                           None  \n",
       "totalNonCurrentAssets                                      144040000  \n",
       "propertyPlantEquipment                                      34606000  \n",
       "accumulatedDepreciationAmortizationPPE                      20462000  \n",
       "intangibleAssets                                            43359000  \n",
       "intangibleAssetsExcludingGoodwill                           12414000  \n",
       "goodwill                                                    30945000  \n",
       "investments                                                     None  \n",
       "longTermInvestments                                             None  \n",
       "shortTermInvestments                                        43576000  \n",
       "otherCurrentAssets                                          30879000  \n",
       "otherNonCurrentAssets                                        5394000  \n",
       "totalLiabilities                                          1583285000  \n",
       "totalCurrentLiabilities                                   1126382000  \n",
       "currentAccountsPayable                                          None  \n",
       "deferredRevenue                                                 None  \n",
       "currentDebt                                                     None  \n",
       "shortTermDebt                                             1087597000  \n",
       "totalNonCurrentLiabilities                                1838405000  \n",
       "capitalLeaseObligations                                     61907000  \n",
       "longTermDebt                                               362025000  \n",
       "currentLongTermDebt                                       1074125000  \n",
       "longTermDebtNoncurrent                                          None  \n",
       "shortLongTermDebtTotal                                    1498057000  \n",
       "otherCurrentLiabilities                                     32332000  \n",
       "otherNonCurrentLiabilities                                    208000  \n",
       "totalShareholderEquity                                    -733000000  \n",
       "treasuryStock                                                   None  \n",
       "retainedEarnings                                          -790483000  \n",
       "commonStock                                                        0  \n",
       "commonStockSharesOutstanding                                83748443  "
      ]
     },
     "execution_count": 54,
     "metadata": {},
     "output_type": "execute_result"
    }
   ],
   "source": [
    "balance_sheet.T"
   ]
  },
  {
   "cell_type": "markdown",
   "metadata": {},
   "source": [
    "## Indicadores de flujo de caja"
   ]
  },
  {
   "cell_type": "markdown",
   "metadata": {},
   "source": [
    "### Flujo de caja libre\n",
    "Este indicador nos dice el dinero que tiene la empresa. Esto es así porque se hacen una serie de ajustes al beneficio neto como quitar el dinero que aun no ha cobrado la empresa, inversiones, etc. También podemos decir que es la cantidad de efecivo que genera después de cubrir sus gastos operativos y las inversiones necesarias para mantener y expandir el negocio."
   ]
  },
  {
   "cell_type": "code",
   "execution_count": 22,
   "metadata": {},
   "outputs": [],
   "source": [
    "# Asegúrate de convertir las columnas a valores numéricos\n",
    "df[\"operatingCashflow\"] = pd.to_numeric(df[\"operatingCashflow\"], errors=\"coerce\")\n",
    "df[\"capitalExpenditures\"] = pd.to_numeric(df[\"capitalExpenditures\"], errors=\"coerce\")\n",
    "\n",
    "df[\"free_cash_flow\"] = (df[\"operatingCashflow\"] - df[\"capitalExpenditures\"].apply(lambda x : abs(x)))"
   ]
  },
  {
   "cell_type": "markdown",
   "metadata": {},
   "source": [
    "### Razón de flujo de caja sobre deuda\n",
    "Con este indicador medimos la capacidad de una empresa para cubrir su deuda total utilizando el flujo de caja operativo generado por sus actividades principales. \\\n",
    "Si la razón es alta, podemos decir que la empresa puede hacer frente a sus deudas con el flujo de caja operativo. Por ejemplo, si la razón nos da un 0.5 podemos decir que el flujo de caja de la empresa equivale al 50% de la deuda de la empresa, lo que nos puede indicar solvencia."
   ]
  },
  {
   "cell_type": "code",
   "execution_count": 24,
   "metadata": {},
   "outputs": [],
   "source": [
    "# Asegúrate de convertir las columnas a valores numéricos\n",
    "df[\"shortTermDebt\"] = pd.to_numeric(df[\"shortTermDebt\"], errors=\"coerce\")\n",
    "df[\"longTermDebt\"] = pd.to_numeric(df[\"longTermDebt\"], errors=\"coerce\")\n",
    "\n",
    "df[\"flujo_caja_sobre_deuda\"] = df[\"operatingCashflow\"] / (df[\"shortTermDebt\"] + df[\"longTermDebt\"])"
   ]
  },
  {
   "cell_type": "markdown",
   "metadata": {},
   "source": [
    "### Margen free cash flow\n",
    "Es útil para ver la eficiencia en la que una empresa convierte los ingresos en flujo de caja"
   ]
  },
  {
   "cell_type": "code",
   "execution_count": 28,
   "metadata": {},
   "outputs": [],
   "source": [
    "df.loc[:,\"totalRevenue\"] = pd.to_numeric(df.loc[:,\"totalRevenue\"], errors=\"coerce\")\n",
    "\n",
    "df[\"margen_free_cash_flow\"] = df.loc[:,\"free_cash_flow\"] / df.loc[:,\"totalRevenue\"]"
   ]
  },
  {
   "cell_type": "markdown",
   "metadata": {},
   "source": [
    "### Free cash flow yield\n",
    "Aquí vemos el flujo de caja en relación a su valor en bolsa"
   ]
  },
  {
   "cell_type": "code",
   "execution_count": null,
   "metadata": {},
   "outputs": [],
   "source": []
  },
  {
   "cell_type": "code",
   "execution_count": null,
   "metadata": {},
   "outputs": [],
   "source": []
  },
  {
   "cell_type": "markdown",
   "metadata": {},
   "source": [
    "# 5. Indicadores de valoración\n",
    "En esta sección calcularemos los ratios de valoración como el PER. La idea es añadir un histórico para poder ver la evolución de esta empresa a lo largo del tiempo"
   ]
  },
  {
   "cell_type": "markdown",
   "metadata": {},
   "source": [
    "# Análisis con IA"
   ]
  },
  {
   "cell_type": "code",
   "execution_count": 6,
   "metadata": {},
   "outputs": [],
   "source": [
    "# Obtenemos el informe 10-k de la herramienta edgar\n",
    "filings = company.get_filings(form=\"10-K\")\n",
    "# Obtenemos el último informe 10-k\n",
    "latest_10_k = filings.latest()\n",
    "# Nos descargamos el objeto\n",
    "tenk = latest_10_k.obj()"
   ]
  },
  {
   "cell_type": "code",
   "execution_count": 7,
   "metadata": {},
   "outputs": [
    {
     "data": {
      "text/plain": [
       "' Item 8. Financial Statements and Supplementary Data.\\nINDEX TO CONSOLIDATED FINANCIAL STATEMENTS\\n\\n                                                                                         Page\\nReport of Independent Registered Public Accounting Firm                                    67\\nConsolidated Balance Sheets                                                                  \\nConsolidated Statements of Operations                                                        \\nConsolidated Statements of Comprehensive Loss                                                \\nConsolidated Statements of Changes in Shareholders’ Equity (Deficit)                         \\nConsolidated Statements of Cash Flows                                                      74\\nNotes to Consolidated Financial Statements                                                 76\\nSCHEDULE I\\n\\n                                                                                                   Page     \\nCondensed Financial Information of Opendoor Technologies Inc. (Parent Company Only)       109               \\nTABLE OF CONTENTS\\nREPORT OF INDEPENDENT REGISTERED PUBLIC ACCOUNTING FIRM\\nTo the shareholders and the Board of Directors of Opendoor Technologies Inc.\\nOpinion on the Financial Statements\\nWe have audited the accompanying consolidated balance sheets of Opendoor Technologies Inc. and subsidiaries (the “Company”) as of December 31, 2023 and 2022, the related consolidated statements of operations, comprehensive loss, shareholders’ equity, and cash flows, for each of the three years in the period ended December 31, 2023, and the related notes and Schedule I listed in the Index at Item 8 (collectively referred to as the “financial statements”). In our opinion, the financial statements present fairly, in all material respects, the financial position of the Company as of December 31, 2023 and 2022, and the results of its operations and its cash flows for each of the three years in the period ended December 31, 2023, in conformity with accounting principles generally accepted in the United States of America.\\nWe have also audited, in accordance with the standards of the Public Company Accounting Oversight Board (United States) (PCAOB), the Company’s internal control over financial reporting as of December 31, 2023, based on criteria established in Internal Control — Integrated Framework (2013) issued by the Committee of Sponsoring Organizations of the Treadway Commission and our report dated February 15, 2024, expressed an unqualified opinion on the Company’s internal control over financial reporting.\\nBasis for Opinion\\nThese financial statements are the responsibility of the Company’s management. Our responsibility is to express an opinion on the Company’s financial statements based on our audits. We are a public accounting firm registered with the PCAOB and are required to be independent with respect to the Company in accordance with the U.S. federal securities laws and the applicable rules and regulations of the Securities and Exchange Commission and the PCAOB.\\nWe conducted our audits in accordance with the standards of the PCAOB. Those standards require that we plan and perform the audit to obtain reasonable assurance about whether the financial statements are free of material misstatement, whether due to error or fraud. Our audits included performing procedures to assess the risks of material misstatement of the financial statements, whether due to error or fraud, and performing procedures that respond to those risks. Such procedures included examining, on a test basis, evidence regarding the amounts and disclosures in the financial statements. Our audits also included evaluating the accounting principles used and significant estimates made by management, as well as evaluating the overall presentation of the financial statements. We believe that our audits provide a reasonable basis for our opinion.\\nCritical Audit Matter\\nThe critical audit matter communicated below is a matter arising from the current-period audit of the financial statements that was communicated or required to be communicated to the audit committee and that (1) relates to accounts or disclosures that are material to the financial statements and (2) involved our especially challenging, subjective, or complex judgments. The communication of critical audit matters does not alter in any way our opinion on the financial statements, taken as a whole, and we are not, by communicating the critical audit matter below, providing a separate opinion on the critical audit matter or on the accounts or disclosures to which it relates.\\nReal Estate Inventory, Net – Refer to Notes 1 and 2 to the financial statements\\nCritical Audit Matter Description\\nReal estate inventory, net includes a valuation adjustment to record real estate inventory at the lower of cost or net realizable value. The Company applies the specific identification method whereby each home constitutes a unit of account. If the carrying amount or basis of inventory is not expected to be recovered, an inventory valuation adjustment is recorded to cost of revenue and the related assets are adjusted to their net realizable value. For homes under sales contract, the net realizable value is the contract price less expected selling costs and concessions. For homes that are not under sales contract, net realizable value is management’s internal projection price less expected selling costs. The determination of net realizable value for homes not under sales contract requires management to make significant estimates related to the internal projection price. Changes in these estimates could have a significant impact on the net realizable value and a significant change in net realizable value could cause a significant valuation adjustment.\\nTABLE OF CONTENTS\\nWe identified real estate inventory valuation adjustment for homes that are not under sales contract, which is the majority of the real estate inventory valuation adjustment, to be a critical audit matter due to the subjectivity of management’s judgment in forecasting the net realizable value of the real estate inventory, specifically with respect to the internal projection price. This required a high degree of auditor judgment and an increased extent of effort, including the need to involve our fair value specialists, when performing audit procedures to evaluate the reasonableness of management’s internal projection price.\\nHow the Critical Audit Matter Was Addressed in the Audit\\nOur audit procedures related to the internal projection price input used for real estate inventory valuation adjustments for homes that are not under sales contract included the following, among others:\\n•We tested the effectiveness of internal controls over the valuation process, including controls over the inputs to the internal projection price, calculation of the valuation adjustment, and management’s consideration of macroeconomic factors with respect to the valuation adjustment.\\n•We evaluated whether the estimates of the real estate inventory adjustments for homes that are not under sales contract were consistent with evidence obtained in other areas of the audit, including internal communications to management and the Board of Directors.\\n•We made inquiries of management throughout the period about the expected effects of macroeconomic factors on the internal projection price. \\n•We developed an expectation of the real estate inventory valuation adjustment for homes that are not under sales contract and compared it to the recorded balance.\\n•We evaluated management’s ability to accurately forecast the internal projection price by comparing actual sales prices to management’s historical internal projection prices.\\n•With the assistance of our fair value specialists we: \\n◦Evaluated the appropriateness of the methodology utilized by management to estimate the internal projection price.\\n◦Developed a range of independent sales price estimates for a sample of individual homes using observable market data of actual sale transactions for comparable homes and compared those to management’s internal projection price.\\n/s/ Deloitte & Touche LLP\\nSan Francisco, California\\nFebruary 15, 2024\\nWe have served as the Company’s auditor since 2015.\\nTABLE OF CONTENTS\\nOPENDOOR TECHNOLOGIES INC.\\n\\nCONSOLIDATED BALANCE SHEETS\\n(In millions, except share data)\\n\\n                                                                                                                                                                                                                             December 31,\\n                                                                                                                                                                                                                      2023                          2022\\nASSETS                                                                                                                                                                                                                                                  \\nCURRENT ASSETS:                                                                                                                                                                                                                                         \\nCash and cash equivalents                                                                                                                                                                                        $999                          $1,137   \\nRestricted cash                                                                                                                                                                                                   541                             654   \\nMarketable securities                                                                                                                                                                                              69                             144   \\nEscrow receivable                                                                                                                                                                                                   9                              30   \\nReal estate inventory, net                                                                                                                                                                                      1,775                           4,460   \\nOther current assets ($0 and $1 carried at fair value)                                                                                                                                                             52                              41   \\nTotal current assets                                                                                                                                                                                            3,445                           6,466   \\nPROPERTY AND EQUIPMENT – Net                                                                                                                                                                                       66                              58   \\nRIGHT OF USE ASSETS                                                                                                                                                                                                25                              41   \\nGOODWILL                                                                                                                                                                                                            4                               4   \\nINTANGIBLES – Net                                                                                                                                                                                                   5                              12   \\nOTHER ASSETS                                                                                                                                                                                                       22                              27   \\nTOTAL ASSETS                                                                                                                                                                                          (1)      $3,567                          $6,608   \\nLIABILITIES AND SHAREHOLDERS’ EQUITY                                                                                                                                                                                                                    \\nCURRENT LIABILITIES:                                                                                                                                                                                                                                    \\nAccounts payable and other accrued liabilities                                                                                                                                                                    $64                            $110   \\nNon-recourse asset-backed debt - current portion                                                                                                                                                                    —                           1,376   \\nInterest payable                                                                                                                                                                                                    1                              12   \\nLease liabilities – current portion                                                                                                                                                                                 5                               7   \\nTotal current liabilities                                                                                                                                                                                          70                           1,505   \\nNON-RECOURSE ASSET-BACKED DEBT – Net of current portion                                                                                                                                                         2,134                           3,020   \\nCONVERTIBLE SENIOR NOTES                                                                                                                                                                                          376                             959   \\nLEASE LIABILITIES – Net of current portion                                                                                                                                                                         19                              38   \\nOTHER LIABILITIES                                                                                                                                                                                                   1                               —   \\nTotal liabilities                                                                                                                                                                                     (2)       2,600                           5,522   \\nCOMMITMENTS AND CONTINGENCIES (See Note 17)                                                                                                                                                                                                             \\nSHAREHOLDERS’ EQUITY:                                                                                                                                                                                                                                   \\nCommon stock, $0.0001 par value; 3,000,000,000 shares authorized; 677,636,163 and 637,387,025 shares issued, respectively; 677,636,163 and 637,387,025 shares outstanding, respectively                             —                               —   \\nAdditional paid-in capital                                                                                                                                                                                      4,301                           4,148   \\nAccumulated deficit                                                                                                                                                                                           (3,333)                         (3,058)   \\nAccumulated other comprehensive loss                                                                                                                                                                              (1)                             (4)   \\nTotal shareholders’ equity                                                                                                                                                                                        967                           1,086   \\nTOTAL LIABILITIES AND SHAREHOLDERS’ EQUITY                                                                                                                                                                     $3,567                          $6,608   \\n________________\\n(1)The Company’s consolidated assets at December 31, 2023 and 2022 include the following assets of certain variable interest entities (“VIEs”) that can only be used to settle the liabilities of those VIEs: Restricted cash, $530 and $636; Real estate inventory, net, $1,735 and $4,408; Escrow receivable, $8 and $29; Other current assets, $10 and $9; and Total assets of $2,283 and $5,082, respectively.\\n(2)The Company’s consolidated liabilities at December 31, 2023 and 2022 include the following liabilities for which the VIE creditors do not have recourse to Opendoor: Accounts payable and other accrued liabilities, $28 and $61; Interest payable, $1 and $11; Current portion of non-recourse asset-backed debt, $— and $1,376; Non-recourse asset-backed debt, net of current portion, $2,134 and $3,020; and Total liabilities, $2,163 and $4,468, respectively.\\nSee accompanying notes to consolidated financial statements.\\nTABLE OF CONTENTS\\nOPENDOOR TECHNOLOGIES INC.\\n\\nCONSOLIDATED STATEMENTS OF OPERATIONS\\n(In millions, except share amounts which are presented in thousands, and per share amounts)\\n\\n                                                                                                               Year Ended December 31,\\n2023                                                                                                  2022                        2021\\nREVENUE                                                           $6,946                       $15,567                      $8,021    \\nCOST OF REVENUE                                                    6,459                        14,900                       7,291    \\nGROSS PROFIT                                                         487                           667                         730    \\nOPERATING EXPENSES:                                                                                                                   \\nSales, marketing and operations                                      486                         1,006                         544    \\nGeneral and administrative                                           206                           346                         620    \\nTechnology and development                                           167                           169                         134    \\nGoodwill impairment                                                    —                            60                           —    \\nRestructuring                                                         14                            17                           —    \\nTotal operating expenses                                             873                         1,598                       1,298    \\nLOSS FROM OPERATIONS                                               (386)                         (931)                       (568)    \\nWARRANT FAIR VALUE ADJUSTMENT                                          —                             —                          12    \\nGAIN (LOSS) ON EXTINGUISHMENT OF DEBT                                216                          (25)                           —    \\nINTEREST EXPENSE                                                   (211)                         (385)                       (143)    \\nOTHER INCOME (LOSS) – Net                                            107                          (10)                          38    \\nLOSS BEFORE INCOME TAXES                                           (274)                       (1,351)                       (661)    \\nINCOME TAX EXPENSE                                                   (1)                           (2)                         (1)    \\nNET LOSS                                                          $(275)                      $(1,353)                      $(662)    \\nNet loss per share attributable to common shareholders:                                                                               \\nBasic                                                            $(0.42)                       $(2.16)                     $(1.12)    \\nDiluted                                                          $(0.42)                       $(2.16)                     $(1.12)    \\nWeighted-average shares outstanding:                                                                                                  \\nBasic                                                            657,111                       627,105                     592,574    \\nDiluted                                                          657,111                       627,105                     592,574    \\nSee accompanying notes to consolidated financial statements.\\nTABLE OF CONTENTS\\nOPENDOOR TECHNOLOGIES INC.\\n\\nCONSOLIDATED STATEMENTS OF COMPREHENSIVE LOSS\\n(In millions)\\n\\n                                                      Year Ended December 31,                                \\n2023                                                                  2022                          2021                    \\nNET LOSS                                              $(275)                      $(1,353)                      $(662)      \\nOTHER COMPREHENSIVE INCOME (LOSS):                                                                                          \\nUnrealized gain (loss) on marketable securities       3                           (2)                           (2)         \\nCOMPREHENSIVE LOSS                                    $(272)                      $(1,355)                      $(664)      \\nSee accompanying notes to consolidated financial statements.\\nTABLE OF CONTENTS\\nOPENDOOR TECHNOLOGIES INC.\\n\\nCONSOLIDATED STATEMENTS OF CHANGES IN SHAREHOLDERS’ EQUITY (DEFICIT)\\n(In millions, except number of shares)\\n\\n                                                                                                      Shareholders’ Equity (Deficit)                                                                           \\n                                                                                                                                                                              Common Stock                        Additional        Accumulated       Accumulated                               TotalShareholders’Equity (Deficit)     \\n                                                                                                                                                                                                                  Paid-in           Deficit           Other                                                                            \\n                                                                                                                                                                                                                  Capital                             Comprehensive                                                                    \\n                                                                                                                                                                                                                                                      Loss                                                                             \\n                                                                                                                                                                                                                                                                                       Shares   Amount                                                                              \\nBALANCE-December 31, 2020                                                                                                                                                                                                                                                    540,714,692        $—                                                    $2,596   $(1,043)      $—                    $1,553\\nIssuance of common stock in connection with the February 2021 Offering                                                                                                                                                                                                        32,817,421        —                                                        857   —             —                        857\\nVesting of restricted shares                                                                                                                                                                                                                                                   1,370,447        —                                                          —   —             —                          —\\nIssuance of common stock for settlement of RSUs, net of shares withheld for participant taxes                                                                                                                                                                                 24,004,565        —                                                          —   —             —                          —\\nCommon stock issued upon exercise of warrants                                                                                                                                                                                                                                  8,200,151        —                                                         58   —             —                         58\\nExercise of stock options                                                                                                                                                                                                                                                      8,919,289        —                                                         15   —             —                         15\\nPurchases of Capped Calls related to the 2026 Notes                                                                                                                                                                                                                                    —        —                                                      (119)   —             —                      (119)\\nStock-based compensation                                                                                                                                                                                                                                                               —        —                                                        548   —             —                        548\\nOther comprehensive loss                                                                                                                                                                                                                                                               —        —                                                          —   —             (2)                      (2)\\nNet loss                                                                                                                                                                                                                                                                               —        —                                                          —   (662)         —                      (662)\\nBALANCE–December 31, 2021                                                                                                                                                                                                                                                    616,026,565        $—                                                    $3,955   $(1,705)      $(2)                  $2,248\\nTABLE OF CONTENTS\\nOPENDOOR TECHNOLOGIES INC.\\n\\nCONSOLIDATED STATEMENTS OF CHANGES IN SHAREHOLDERS’ EQUITY (DEFICIT)\\n(In millions, except number of shares)\\n\\n                                                                                                                  Shareholders’ Equity (Deficit)                                                                           \\n                                                                                                                                                                                          Common Stock                        Additional        Accumulated       Accumulated                               TotalShareholders’Equity (Deficit)     \\n                                                                                                                                                                                                                              Paid-in           Deficit           Other                                                                            \\n                                                                                                                                                                                                                              Capital                             Comprehensive                                                                    \\n                                                                                                                                                                                                                                                                  Loss                                                                             \\n                                                                                                                                                                                                                                                                                                   Shares   Amount                                                                                       \\nBALANCE–December 31, 2021                                                                                                                                                                                                                                                                616,026,565        $—                                                    $3,955   $(1,705)               $(2)                  $2,248\\nVesting of restricted shares                                                                                                                                                                                                                                                                 628,193        —                                                          —   —                      —                          —\\nIssuance of common stock for settlement of RSUs, net of shares withheld for participant taxes                                                                                                                                                                                             17,279,891        —                                                          —   —                      —                          —\\nExercise of stock options                                                                                                                                                                                                                                                                  2,958,586        —                                                          4   —                      —                          4\\nIssuance of common stock under employee stock purchase plan, net of shares withheld for participant taxes                                                                                                                                                                                    493,790        —                                                          2   —                      —                          2\\nStock-based compensation                                                                                                                                                                                                                                                                           —        —                                                        187   —                      —                        187\\nOther comprehensive loss                                                                                                                                                                                                                                                                           —        —                                                          —   —                      (2)                      (2)\\nNet loss                                                                                                                                                                                                                                                                                           —        —                                                          —   (1,353)                —                    (1,353)\\nBALANCE–December 31, 2022                                                                                                                                                                                                                                                                637,387,025        $—                                                    $4,148   $(3,058)               $(4)                  $1,086\\nIssuance of common stock for settlement of RSUs, net of shares withheld for participant taxes                                                                                                                                                                                             35,562,197        —                                                        (1)   —                      —                        (1)\\nExercise of stock options                                                                                                                                                                                                                                                                  2,535,147        —                                                          3   —                      —                          3\\nIssuance of common stock under employee stock purchase plan, net of shares withheld for participant taxes                                                                                                                                                                                  2,151,794        —                                                          2   —                      —                          2\\nStock-based compensation                                                                                                                                                                                                                                                                           —        —                                                        149   —                      —                        149\\nOther comprehensive income                                                                                                                                                                                                                                                                         —        —                                                          —   —             3                                   3\\nNet loss                                                                                                                                                                                                                                                                                           —        —                                                          —   (275)                  —                      (275)\\nBALANCE–December 31, 2023                                                                                                                                                                                                                                                                677,636,163        $—                                                    $4,301   $(3,333)               $(1)                    $967\\nSee accompanying notes to consolidated financial statements.\\nTABLE OF CONTENTS\\nOPENDOOR TECHNOLOGIES INC.\\nCONSOLIDATED STATEMENTS OF CASH FLOWS\\n(In millions)\\n\\n\\n                                                                                                                                                                    Year Ended December 31,\\n2023                                                                                                                                                                       2022                       2021\\nCASH FLOWS FROM OPERATING ACTIVITIES:                                                                                                                                                                     \\nNet loss                                                                                                                               $(275)                      $(1,353)                      $(662)   \\nAdjustments to reconcile net loss to cash, cash equivalents, and restricted cash provided by (used in) operating activities:                                                                              \\nDepreciation and amortization                                                                                                              65                            83                          47   \\nAmortization of right of use asset                                                                                                          7                             7                           8   \\nStock-based compensation                                                                                                                  126                           171                         536   \\nWarrant fair value adjustment                                                                                                               —                             —                        (12)   \\nInventory valuation adjustment                                                                                                             65                           737                          56   \\nGoodwill impairment                                                                                                                         —                            60                           —   \\nChanges in fair value of equity securities                                                                                                  1                            35                        (35)   \\nOther                                                                                                                                      13                           (1)                         (9)   \\nOrigination of mortgage loans held for sale                                                                                                 —                         (118)                       (196)   \\nProceeds from sale and principal collections of mortgage loans held for sale                                                                1                           128                         197   \\n(Gain) loss on early extinguishment of debt                                                                                             (216)                            25                           —   \\nChanges in operating assets and liabilities:                                                                                                                                                              \\nEscrow receivable                                                                                                                          21                            54                        (83)   \\nReal estate inventory                                                                                                                   2,613                           896                     (5,656)   \\nOther assets                                                                                                                             (19)                            37                        (52)   \\nAccounts payable and other accrued liabilities                                                                                           (38)                          (25)                          76   \\nInterest payable                                                                                                                         (10)                             2                           4   \\nLease liabilities                                                                                                                        (10)                           (8)                        (13)   \\nNet cash provided by (used in) operating activities                                                                                     2,344                           730                     (5,794)   \\nCASH FLOWS FROM INVESTING ACTIVITIES:                                                                                                                                                                     \\nPurchase of property and equipment                                                                                                       (37)                          (37)                        (33)   \\nPurchase of intangible assets                                                                                                               —                             —                         (1)   \\nPurchase of marketable securities                                                                                                           —                          (28)                       (486)   \\nProceeds from sales, maturities, redemptions and paydowns of marketable securities                                                         80                           328                          92   \\nPurchase of non-marketable equity securities                                                                                                —                          (25)                        (15)   \\nProceeds from sale of non-marketable equity securities                                                                                      1                             3                           —   \\nCapital returns from non-marketable equity securities                                                                                       —                             3                           —   \\nAcquisitions, net of cash acquired                                                                                                          —                          (10)                        (33)   \\nNet cash provided by (used in) investing activities                                                                                        44                           234                       (476)   \\nCASH FLOWS FROM FINANCING ACTIVITIES:                                                                                                                                                                     \\nProceeds from issuance of convertible senior notes, net of issuance costs                                                                   —                             —                         953   \\nRepurchase of convertible senior notes                                                                                                  (362)                             —                           —   \\nPurchase of capped calls related to the convertible senior notes                                                                            —                             —                       (119)   \\nProceeds from exercise of stock options                                                                                                     3                             4                          15   \\nProceeds from issuance of common stock for ESPP                                                                                             2                             2                           —   \\nProceeds from warrant exercise                                                                                                              —                             —                          22   \\nProceeds from the February 2021 Offering                                                                                                    —                             —                         886   \\nIssuance cost of common stock                                                                                                               —                             —                        (29)   \\nProceeds from non-recourse asset-backed debt                                                                                              238                        10,108                      11,499   \\nPrincipal payments on non-recourse asset-backed debt                                                                                  (2,515)                      (11,822)                     (5,838)   \\nProceeds from other secured borrowings                                                                                                      —                           114                         192   \\nPrincipal payments on other secured borrowings                                                                                              —                         (121)                       (192)   \\nPayment of loan origination fees and debt issuance costs                                                                                  (1)                          (26)                        (47)   \\nPayment for early extinguishment of debt                                                                                                  (4)                          (10)                           —   \\nNet cash (used in) provided by financing activities                                                                                   (2,639)                       (1,751)                       7,342   \\nNET (DECREASE) INCREASE IN CASH, CASH EQUIVALENTS, AND RESTRICTED CASH                                                                  (251)                         (787)                       1,072   \\nCASH, CASH EQUIVALENTS, AND RESTRICTED CASH – Beginning of year                                                                         1,791                         2,578                       1,506   \\nCASH, CASH EQUIVALENTS, AND RESTRICTED CASH – End of year                                                                              $1,540                        $1,791                      $2,578   \\nSUPPLEMENTAL DISCLOSURE OF CASH FLOW INFORMATION – Cash paid during the period for interest                                              $203                          $355                        $122   \\nTABLE OF CONTENTS\\nOPENDOOR TECHNOLOGIES INC.\\nCONSOLIDATED STATEMENTS OF CASH FLOWS\\n(In millions)\\n\\n\\nDISCLOSURES OF NONCASH FINANCING ACTIVITIES:                                                                                                       \\nStock-based compensation expense capitalized for internally developed software               $23                  $16                  $12\\nIssuance of common stock in extinguishment of warrant liabilities                             $—                   $—                $(35)\\nRECONCILIATION TO CONSOLIDATED BALANCE SHEETS:                                                                                                     \\nCash and cash equivalents                                                                   $999               $1,137               $1,731\\nRestricted cash                                                                              541   654                  847               \\nCash, cash equivalents, and restricted cash                                               $1,540               $1,791               $2,578\\nSee accompanying notes to consolidated financial statements.\\nTABLE OF CONTENTS\\nOPENDOOR TECHNOLOGIES INC.\\nNotes to Consolidated Financial Statements\\n(Tabular amounts in millions, except share and per share amounts, ratios, or as noted)\\n\\n1.DESCRIPTION OF BUSINESS AND ACCOUNTING POLICIES\\nDescription of Business\\nOpendoor Technologies Inc. (the “Company” and “Opendoor”) including its consolidated subsidiaries and certain variable interest entities (“VIEs”), is a managed marketplace for residential real estate. By leveraging its centralized digital platform, Opendoor is working towards a future that enables sellers and buyers of residential real estate to experience a simple and certain transaction that is dramatically improved from the traditional process. The Company was incorporated in Delaware on December 30, 2013.\\nThe Company was formed through a business combination with Social Capital Hedosophia Holdings Corp. II (“SCH”), a Cayman Islands exempted company formed for the purpose of effecting a merger, share exchange, asset acquisition, share purchase, reorganization or similar business combination with one or more businesses (the “Business Combination”). The Business Combination, pursuant to which Opendoor Labs Inc. became a wholly owned subsidiary of SCH and SCH changed its name from “Social Capital Hedosophia Holdings Corp. II” to “Opendoor Technologies Inc.”, was completed on December 18, 2020 (the “Closing”), and was accounted for as a reverse recapitalization, in accordance with GAAP.\\nBasis of Presentation and Principles of Consolidation\\nThe accompanying consolidated financial statements have been prepared pursuant to generally accepted accounting principles in the United States of America (“GAAP”). The consolidated financial statements as of December 31, 2023 and 2022 and for the years ended December 31, 2023, 2022 and 2021 include the accounts of Opendoor, its wholly owned subsidiaries and VIEs where the Company is the primary beneficiary. The accompanying consolidated financial statements reflect all adjustments which are, in the opinion of management, necessary to a fair statement of the results for the periods presented. All significant intercompany accounts and transactions have been eliminated in the consolidated financial statements herein. Certain prior period amounts in the consolidated financial statements and accompanying notes have been reclassified to conform to the current period’s presentation.\\nUse of Estimates\\nThe preparation of financial statements in conformity with GAAP requires management to make estimates and assumptions that have a material impact on the amounts reported in the financial statements and accompanying notes. Significant estimates, assumptions and judgments made by management include, among others, the determination of the fair value of common stock, share-based awards, warrants, and inventory valuation adjustment. Management believes that the estimates and judgments upon which management relies are reasonable based upon information available to management at the time that these estimates and judgments are made. To the extent there are material differences between these estimates, assumptions and judgments and actual results, the carrying values of the Company’s assets and liabilities and the results of operations will be affected. The health of the residential housing market and interest rate environment have introduced additional uncertainty with respect to judgments, estimates, and assumptions, which may materially impact the estimates previously listed, among others.\\nSignificant Risks and Uncertainties\\nThe Company operates in a dynamic industry and, accordingly, can be affected by a variety of factors. For example, the Company believes that changes in any of the following areas could have a significant negative effect on the Company in terms of its future financial position, results of operations or cash flows: its rates of revenue growth; its ability to manage inventory; engagement and usage of its products; the effectiveness of its investment of resources to pursue strategies; competition in its market; the stability of the residential real estate market; the impact of interest rate changes on demand for and pricing of its products and on the cost of capital; changes in technology, products, markets or services by the Company or its competitors; its ability to maintain or establish relationships with listings and data providers; its ability to obtain or maintain licenses and permits to support its current and future businesses; actual or anticipated changes to its products and services; changes in government regulation affecting its business; the outcomes of legal proceedings; natural disasters and catastrophic events, such as pandemics or epidemics (including any future resurgence of COVID-19 or its variants); scaling and adaptation of existing technology and network infrastructure; its management of its growth; its ability to attract and retain qualified employees and \\nTABLE OF CONTENTS\\nOPENDOOR TECHNOLOGIES INC.\\nNotes to Consolidated Financial Statements\\n(Tabular amounts in millions, except share and per share amounts, ratios, or as noted)\\n\\nkey personnel; its ability to successfully integrate and realize the benefits of its past or future strategic acquisitions or investments; the protection of customers’ information and other privacy concerns; the protection of its brand and intellectual property; and intellectual property infringement and other claims, among other things.\\nConcentrations of Credit Risk\\nFinancial instruments, which potentially subject the Company to concentrations of credit risk, consist primarily of cash and cash equivalents, restricted cash, and investments in marketable securities. The Company places cash and cash equivalents and investments with major financial institutions, which management assesses to be of high credit quality, in order to limit exposure of the Company’s investments.\\nSegment Reporting\\nFor the years ended December 31, 2023, 2022, and 2021, the Company was managed as a single operating segment on a consolidated basis. Furthermore, the Company determined that the Chief Executive Officer is the Chief Operating Decision Maker (“CODM”) as the CEO is responsible for making decisions regarding the allocation of resources and assessing performance, as well as for strategic operational decisions and managing the organization at a consolidated level.\\nCash and Cash Equivalents\\nCash includes demand deposits with financial institutions and cash items in transit. Cash equivalents include only investments with initial maturities of three months or less that are highly liquid and readily convertible to known amounts of cash. The Company maintains portions of the Company’s cash in bank deposit accounts, which, at times, may exceed federally insured limits. Management believes that the Company is not exposed to any significant credit risk related to cash deposits.\\nRestricted Cash\\nRestricted cash consists primarily of funds held in operating, collection, disbursement and reserve accounts related to the Company’s credit facilities and entities established for such credit facilities. The use of the restricted cash balance related to the Company’s credit facilities are constrained by contract to purchasing real estate inventory and certain related activities. In addition, the Company is required to maintain letters of credit and a time deposit account for certain of the Company’s office leases. See “Note 5 — Credit Facilities and Long-Term Debt” for further discussion.\\nInvestments\\nMarketable Securities\\nMarketable equity securities are publicly traded and have readily determinable fair values with changes in fair value recorded in Other (loss) income-net. The Company’s investments in marketable securities consist of debt securities classified as available-for-sale as well as marketable equity securities. The Company’s available-for-sale debt securities are measured at fair value with unrealized gains and losses included in Accumulated other comprehensive loss in shareholders’ equity and realized gains and losses included in Other income (loss)-net. \\nNon-Marketable Equity Securities and Equity Method Investments\\nNon-marketable equity securities and equity method investments are investments in privately held companies that do not have readily determinable fair values. These securities are accounted for under one of the following accounting methods:\\n•Equity method: This method is applied when the Company has the ability to exert significant influence over the investee. The securities are recorded at cost and adjusted for the Company’s share of the investee’s earnings or losses, less any dividends received and/or impairments.\\n•Measurement alternative: This method is followed for all remaining non-marketable equity securities. These securities are recorded at cost minus impairment, if any, adjusted for changes resulting from observable price changes in orderly transactions for an identical or similar investment in the same issuer.\\nTABLE OF CONTENTS\\nOPENDOOR TECHNOLOGIES INC.\\nNotes to Consolidated Financial Statements\\n(Tabular amounts in millions, except share and per share amounts, ratios, or as noted)\\n\\nRealized and unrealized gains and losses or the Company\\'s share of the investee\\'s earnings or losses on non-marketable equity securities, including impairment losses, are recognized in Other income (loss)-net. Any dividends on equity method investments are recognized as a reduction of the investment\\'s carrying value. Non-marketable equity securities and equity method investments are reported in Other assets.\\nThe Company assesses whether an impairment loss on its non-marketable equity securities has occurred due to declines in fair value or other market conditions. When the fair value of an equity method investment is less than its carrying value, the Company writes down the investment to fair value when the decline in value is considered to be other than temporary. When the fair value of an investment accounted for using the measurement alternative is less than its carrying value, the Company writes down the investment to its fair value, without the consideration of recovery. See “Note 3 — Cash, Cash Equivalents, and Investments” for further discussion.\\nReal Estate Inventory\\nReal estate inventory is carried at the lower of cost or net realizable value and the Company applies the specific identification method whereby each property constitutes the unit of account. Real estate inventory cost includes but is not limited to the property purchase price, acquisition costs and direct costs to renovate or repair the home, less inventory valuation adjustments, if any. Work-in-progress inventory includes homes undergoing repairs and finished goods inventory includes homes that are listed for sale, including homes ready for listing, and homes under contract for sale. Real estate inventory is reviewed for valuation adjustments at least quarterly. If the carrying amount or cost basis is not expected to be recovered, an inventory valuation adjustment is recorded to Cost of revenue and the related assets are adjusted to their net realizable value.\\nMortgage Loans Held for Sale Pledged under Agreements to Repurchase\\nMortgage loans held for sale pledged under agreements to repurchase (“MLHFS”) include residential mortgages originated for sale in the secondary markets on a best-effort basis. The Company has elected the fair value option for all MLHFS (see “Note 6 — Fair Value Disclosures”). This option allows for the Company to better offset changes in the fair value of MLHFS with derivatives used to economically hedge them when the Company moves away from selling on a best-effort basis, without applying hedge accounting. MLHFS are recorded at fair value based on sales commitments. MLHFS are transferred from the Company to the counterparty pursuant to a master repurchase agreement, which is treated as a secured borrowing; this treatment requires that the assets transferred remain on the Company’s balance sheet and measured as if the transfer did not take place.\\nGains and losses on MLHFS, including the change in fair value associated with MLHFS, are recorded in Revenue. Direct loan origination costs and fees including headcount costs related to loan production are recorded in Cost of revenue. Interest income on MLHFS is calculated based upon the note rate of the loan and recorded in Interest income.\\nConvertible Senior Notes\\nThe 0.25% convertible senior notes due in 2026 (the \"2026 Notes\") issued by the Company in August 2021 are accounted for wholly as debt. The 2026 Notes have an initial carrying value equal to the net proceeds from issuance. Issuance costs associated with the 2026 Notes are amortized over the term using the effective interest method. Conversions are settled through payment of cash or a combination of cash and stock, at the Company\\'s option. Upon conversion, the carrying amount of the 2026 Notes, including any unamortized debt issuance costs, is reduced by cash paid, with any difference being reflected as a change in equity. There will not be any gains or losses recognized upon a conversion. Upon extinguishment of any portion of the 2026 Notes, the difference between the repurchase price of the extinguished notes and the respective net carrying amount is recorded as a gain or loss in Gain on extinguishment of debt in the condensed consolidated statements of operations. See “Note 5 — Credit Facilities and Long-Term Debt” for details on the partial repurchase of the Company\\'s convertible notes that occurred in the period.\\nCapped Calls\\nThe Company purchased certain capped calls in connection with the issuance of the 2026 Notes which it expects to reduce potential dilution from conversions of the 2026 Notes. The capped calls were determined to be freestanding financial \\nTABLE OF CONTENTS\\nOPENDOOR TECHNOLOGIES INC.\\nNotes to Consolidated Financial Statements\\n(Tabular amounts in millions, except share and per share amounts, ratios, or as noted)\\n\\ninstruments that meet the criteria for classification in equity; as such, the capped calls were recorded as a reduction of additional paid-in capital within shareholders\\' equity and will not be subsequently remeasured.\\nEscrow Receivable\\nEscrow receivable consists of proceeds from home resale held in escrow prior to such proceeds being remitted to the Company. The Company reviews the need for an allowance for credit losses quarterly based on historical collections experience, among other factors. As of December 31, 2023 and 2022, the Company did not record an allowance for credit losses and for the years ended December 31, 2023, 2022 and 2021, the Company did not have any material write-offs.\\nNo customers accounted for 10% or more of the Company’s Escrow Receivable as of December 31, 2023 or 2022, respectively.\\nProperty and Equipment\\nProperty and equipment are stated at cost less accumulated depreciation. Property and equipment are capitalized and depreciated. Depreciation is calculated using the straight-line method over the estimated useful lives of assets. Maintenance and repair costs are charged to expense as incurred. The estimated useful lives of the Company’s property and equipment are as follows:\\n\\nInternally developed software                                       2 years\\nSoftware implementation costs            Lesser of 3 years or contract term\\nComputers                                                           2 years\\nSecurity systems                                                     1 year\\nFurniture and fixtures                                              5 years\\nLeasehold improvements                  Lesser of useful life or lease term\\nOffice equipment                                                    3 years\\nLeases\\nThe Company determines if an arrangement is or contains a lease at inception or modification of the arrangement. An arrangement is or contains a lease if there are identified assets and the right to control the use of an identified asset is conveyed for a period in exchange for consideration. Control over the use of the identified assets means the lessee has both the right to obtain substantially all of the economic benefits from the use of the asset and the right to direct the use of the asset.\\nFor leases for which the Company is the lessee, the Company recognizes right-of-use assets and lease liabilities for all leases other than those with a term of 12 months or less as the Company has elected to apply the short-term lease recognition exemption. Right-of-use assets represent the Company’s right to use an underlying asset for the lease term. Lease liabilities represent the Company’s obligation to make lease payments arising from the lease. Right-of-use assets and lease liabilities are classified and recognized at the commencement date of a lease. Lease liabilities are measured based on the present value of fixed lease payments over the lease term. Right-of-use assets consist of (i) initial measurement of the lease liability; (ii) lease payments made to the lessor at or before the commencement date less any lease incentives received; and (iii) initial direct costs incurred by the Company. Lease payments may vary because of changes in facts or circumstances occurring after the commencement, including changes in inflation indices. Variable lease payments are excluded from the measurement of right-of-use assets and lease liabilities and are recognized in the period in which the obligation for those payments is incurred.\\nAs the rates implicit on the Company’s leases for which it is the lessee are not readily determinable, the Company uses its incremental borrowing rate based on information available at the commencement date in determining the present value of lease payments. When determining the incremental borrowing rate, the Company assesses multiple variables such as lease term, collateral, economic conditions, and its creditworthiness.\\nFor operating leases, the Company recognizes straight-line rent expense. \\nTABLE OF CONTENTS\\nOPENDOOR TECHNOLOGIES INC.\\nNotes to Consolidated Financial Statements\\n(Tabular amounts in millions, except share and per share amounts, ratios, or as noted)\\n\\nThe Company’s lease arrangements may include options to extend or early terminate a lease, which it does not include in expected lease terms unless they are reasonably certain to be exercised. The Company has lease arrangements with lease and non-lease components. As a lessee, the Company has elected to apply the practical expedient to combine lease and related non-lease components, for all classes of underlying assets, and shall account for the combined component as a lease component.\\nInternally Developed Software\\nFor software the Company develops for internal use, the costs incurred in the preliminary stages of development are expensed as incurred. Once an application reaches the development stage, the Company capitalizes direct costs incurred (including internal and external) to property and equipment. Maintenance and on-going operating costs of developed applications are expensed as incurred. Amortization expense is recognized on a straight-line basis into technology and development expense.\\nGoodwill\\nGoodwill represents the difference between the purchase price and the fair value of assets acquired and liabilities assumed in a business combination. Goodwill is not amortized. The Company has a single reporting unit and management reviews goodwill for impairment annually on the first day of the third quarter and also if events or changes in circumstances indicate the occurrence of a triggering event. Goodwill is reviewed for impairment by initially considering qualitative factors to determine whether it is more likely than not that the fair value of a reporting unit is less than its carrying amount, including goodwill, as a basis for determining whether it is necessary to perform a quantitative analysis. If it is determined that it is more likely than not that the fair value of reporting unit is less than its carrying amount, a quantitative analysis is performed to identify goodwill impairment.\\nIntangible Assets\\nThe Company recorded intangible assets with finite lives, including developed technology, customer relationships, trademarks, and non-competition agreements, as a result of acquisitions as well as internal development. Intangible assets are amortized based on their estimated economic lives, ranging from 1 to 5 years.\\nImpairment of Long-Lived Assets\\nLong-lived assets, such as property and equipment and definite-lived intangible assets, among other long-lived assets, are reviewed for impairment whenever events or changes in circumstances indicate that the carrying amount of an asset may not be recoverable. If circumstances require a long-lived asset or asset group be tested for possible impairment, the Company first compares undiscounted cash flows expected to be generated by that asset or asset group to its carrying amount. If the carrying amount of the long-lived asset or asset group is not recoverable on an undiscounted cash flow basis, an impairment loss is recognized to the extent the carrying amount of the underlying asset exceeds its fair value. The impairment loss recognized for the years ended December 31, 2023, 2022, and 2021 is related to abandonment of property and equipment, impairment and abandonment of certain internally developed software projects, and sublease of certain right of use assets. The impairment loss recognized during the periods presented is as follows (in millions):\\n\\n                                                                   Year Ended December 31,\\n2023                                                          2022                    2021\\nGeneral and administrative          $1                      $—                      $1    \\nTechnology and development           9                       3                       3    \\nTotal impairment loss              $10                      $3                      $4    \\nRevenue Recognition\\nThe Company generates revenue through home sales, along with other revenue from ancillary real estate services. Other revenue represents an insignificant portion of the Company’s total revenue.\\nTABLE OF CONTENTS\\nOPENDOOR TECHNOLOGIES INC.\\nNotes to Consolidated Financial Statements\\n(Tabular amounts in millions, except share and per share amounts, ratios, or as noted)\\n\\nThe Company recognizes revenue when it satisfies its performance obligations by transferring control of promised goods or services to its customers in an amount that reflects the consideration to which the Company expects to be entitled in exchange for those goods or services.\\nHome sales revenue consists of selling residential real estate to customers. Revenue is recognized when title to and possession of the property has transferred to the customer and the Company has no continuing involvement with the property, which is generally upon close of escrow. The amount of revenue recognized for each home sale is equal to the sale price of the home net of any concessions. \\nOther revenue consists primarily of title insurance facilitation revenue, closing and escrow services, real estate broker commissions, and gain (loss) on sale of mortgage loans. These real estate services are provided in conjunction with home sales, and revenue is recognized consistent with home sales revenue, generally upon close of escrow.\\nNo customers generated 10% or more of the Company’s total revenue in the years ended December 31, 2023, 2022 or 2021.\\nCost of Revenue\\nCost of revenue includes the property purchase price, acquisition costs, direct costs to renovate or repair the home and inventory valuation adjustments, if any. These costs are accumulated in real estate inventory during the property holding period and charged to cost of revenue under the specific identification method when the property is sold. Additionally, for the Company’s revenues other than home sales revenue, cost of revenue consists of any costs incurred in delivering the service including associated headcount expenses such as salaries, benefits, and stock-based compensation.\\nSales, Marketing and Operations Expense\\nSales, marketing and operations expense consists primarily of resale broker commissions, resale closing costs, holding costs related to real estate inventory including utilities, property taxes and maintenance, and expenses associated with product marketing, promotions and brand-building. Sales, marketing and operations expense includes any headcount expenses in support of sales, marketing, and real estate inventory operations such as salaries, benefits, and stock-based compensation. These costs are expensed as incurred.\\nAdvertising costs are expensed as incurred. For the years ended December 31, 2023, 2022, and 2021, expenses attributable to advertising totaled $75 million, $200 million, and $123 million, respectively.\\nTechnology and Development\\nTechnology and development expense consists primarily of amortization expense of capitalized software development costs in addition to headcount expenses, including salaries, benefits, and stock-based compensation for employees in the design, development, testing, maintenance and operation of the Company’s mobile applications, websites, tools and other applications that support its products.\\nStock-Based Compensation\\nStock-based compensation awards consist of stock options, restricted stock units (“RSUs”), and shares of restricted stock (“Restricted Shares”), and shares issued pursuant the 2020 Employee Stock Purchase Plan (“ESPP”).\\nStock Options\\nThe Company has granted stock options with a service condition to vest, which is generally four years. The Company records stock-based compensation expense for service-based stock options on a straight-line basis over the requisite service period. These amounts are reduced by forfeitures as they occur. The Company uses the Black-Scholes-Merton option-pricing model to determine the fair value as of the grant date for stock options.\\nTABLE OF CONTENTS\\nOPENDOOR TECHNOLOGIES INC.\\nNotes to Consolidated Financial Statements\\n(Tabular amounts in millions, except share and per share amounts, ratios, or as noted)\\n\\nRSUs\\nPrior to its listing, the Company granted RSUs with a performance condition, based on a liquidity event, as defined by the share agreement, as well as a service condition to vest, which was generally four years. The Company determined the fair value of RSUs based on the valuation of the Company’s common stock as of the grant date. No compensation expense was recognized for performance-based awards until the liquidity event occurred in February 2021. Subsequent to the occurrence of the liquidity event, compensation expense was recognized on an accelerated attribution basis over the requisite service period of the awards. After the Company became listed, the RSUs granted are generally only subject to a service condition to vest and typically vest over two to four years. Compensation expense is recognized on a straight-line basis subject to a floor of the vested number of shares for each award.\\nMarket Condition RSUs\\nThe Company has granted RSUs with a performance condition, based on a liquidity event, as defined by the share agreement, as well as a market condition to vest. Subject to the employee’s continued services to the Company, the market-based conditions are satisfied upon the Company\\'s achievement of certain share price milestones calculated based on 60-day volume weighted average.\\nFor market-based RSUs, the Company determines the grant-date fair value utilizing Monte Carlo simulations, which incorporates various assumptions, including expected stock price volatility, contractual term, dividend yield, and stock price at grant date. The Company estimates the volatility of common stock on the date of grant based on the weighted-average historical stock price volatility of comparable publicly-traded companies. As the Company had no history of dividend payments and had not declared any prospective dividends, a 0% dividend yield was assumed. \\nFor stock-based compensation, each market-based condition is treated as an accounting unit and expense is recognized over the requisite service period with respect to each unit and only if performance-based conditions are considered probable to be satisfied. The Company determines the requisite service period by comparing the derived service period to achieve the market-based condition and the explicit service-based period, if any, using the longer of the two service periods as the requisite service period.\\nRestricted Shares\\nThe fair value of the Restricted Shares is equal to the estimated fair value of the Company’s common stock on the grant date. The Company recognizes compensation expense for the shares on a straight-line basis over the requisite service period of the awards. The fair value of these shares will be recognized into common stock and additional paid-in-capital as the shares vest.\\nESPP\\nThe Company recognizes stock-based compensation expense related to purchase rights granted pursuant to the 2020 ESPP on a straight-line basis over the offering period. The Company estimates the fair value of purchase rights granted under the ESPP using the Black-Scholes option-pricing model.\\nIncome Taxes\\nThe Company records income taxes using the asset and liability method. Under this method, deferred income tax assets and liabilities are recorded based on the estimated future tax effects of differences between the financial statement and income tax basis of existing assets and liabilities. These differences are measured using the enacted statutory tax rates that are expected to apply to taxable income for the years in which differences are expected to reverse. The Company recognizes the effect on deferred income taxes of a change in tax rates in income in the period that includes the enactment date.\\nThe Company recognizes deferred tax assets to the extent that it believes that these assets are more likely than not to be realized. In making such a determination, the Company considers all available positive and negative evidence, including future reversals of existing taxable temporary differences, projected future taxable income, tax-planning strategies, and results of recent operations. If the Company determines that it would be able to realize its deferred tax assets in the future in excess of \\nTABLE OF CONTENTS\\nOPENDOOR TECHNOLOGIES INC.\\nNotes to Consolidated Financial Statements\\n(Tabular amounts in millions, except share and per share amounts, ratios, or as noted)\\n\\ntheir net recorded amount, the Company would make an adjustment to the deferred tax asset valuation allowance, which would reduce the provision for income taxes.\\nThe Company records uncertain tax positions on the basis of a two-step process whereby: (1) it determines whether it is more likely than not that the tax positions will be sustained on the basis of the technical merits of the position and (2) for those tax positions that meet the more-likely-than-not recognition threshold, it recognizes the largest amount of tax benefit that is more than 50% likely to be realized upon ultimate settlement with the related tax authority.\\nConsolidation of Variable Interest Entities\\nThe Company is a variable interest holder in certain entities in which equity investors at risk do not have the characteristics of a controlling financial interest or where the entity does not have enough equity at risk to finance its activities without additional subordinated financial support from other parties; these entities are VIEs. The Company’s variable interest arises from contractual, ownership or other monetary interest in the entity, which fluctuates based on the VIE’s economic performance. The Company consolidates a VIE if it is the primary beneficiary. The Company is the primary beneficiary if it has a controlling financial interest, which includes both the power to direct the activities that most significantly impact the economic performance of the VIE and a variable interest that obligates the Company to absorb losses or the right to receive benefits that potentially could be significant to the VIE. To determine whether a variable interest the Company holds could potentially be significant to the VIE, the Company considers both qualitative and quantitative factors regarding the nature, size and form of its involvement with the VIE. The Company assesses whether or not the Company is the primary beneficiary of a VIE on an ongoing basis.\\nPublic and Sponsor Warrants\\nOn April 30, 2020, SCH consummated its IPO of 41,400,000 units, consisting of one share of Class A common stock and one third of one warrant exercisable for Class A common stock, at a price of $10.00 per unit. Each whole warrant entitled the holder to purchase one share of Class A common stock at an exercise price of $11.50 per share (the “Public Warrants”). Simultaneously with the closing of the IPO, SCH completed the private sale of 6,133,333 warrants to SCH’s sponsor at a price of $1.50 per warrant (the “Sponsor Warrants”). Each Sponsor Warrant allowed the sponsor to purchase one share of Class A common stock at $11.50 per share. \\nThe Sponsor Warrants and shares of common stock issuable upon the exercise of Sponsor Warrants were not able to be transferred, assigned, or sold until 30 days after the completion of a Business Combination. Additionally, the Sponsor Warrants were eligible for cash and cashless exercises, at the holder’s option, and were redeemable only if the reference value, as defined in the Warrant Agreement, was less than $18.00 per share. If the Sponsor Warrants were held by someone other than the sponsors and certain permitted transferees, the Sponsor Warrants would have been redeemable and exercisable on the same basis as the Public Warrants.\\nThe Company evaluated the Public and Sponsor Warrants under ASC 815-40, Derivatives and Hedging-Contracts in Entity’s Own Equity, and concluded that the Sponsor Warrants did not meet the criteria to be classified in shareholders’ equity. Specifically, the exercise and settlement features for the Sponsor Warrants precluded them from being considered indexed to the Company’s own stock, given that a change in the holder of the Sponsor Warrants may alter the settlement of the Sponsor Warrants. Since the holder of the instrument is not an input to a standard option pricing model (a consideration with respect to the indexation guidance), the fact that a change in the holder could impact the value of the Sponsor Warrants means the Sponsor Warrants were not indexed to the Company’s own stock. Since the Sponsor Warrants meet the definition of a derivative under ASC 815, the Company recorded these warrants as liabilities on the balance sheet at fair value upon the consummation of the Business Combination, with subsequent changes in their respective fair values recognized in the consolidated statement of operations at each reporting period. The Company concluded that the Public Warrants, which did not have the same exercise and settlement features as the Sponsor Warrants, meet the criteria to be classified in shareholders\\' equity.\\nOn June 9, 2021, the Company filed a notice of redemption of all outstanding Public Warrants and Sponsor Warrants. The end of the redemption period was July 9, 2021, at which time the Company redeemed all unexercised warrants at a price of $0.10 per Warrant.\\nTABLE OF CONTENTS\\nOPENDOOR TECHNOLOGIES INC.\\nNotes to Consolidated Financial Statements\\n(Tabular amounts in millions, except share and per share amounts, ratios, or as noted)\\n\\nRecently Issued Accounting Standards\\nRecently Adopted Accounting Standards\\nIn July 2023, the FASB issued ASU 2023-03 which amends various paragraphs in the Accounting Standards Codification pursuant to the issuance of Commission Staff Bulletin No. 120. These updates were effective immediately and did not have a material impact on the Company’s consolidated financial statements.\\nRecently Issued Accounting Standards Not Yet Adopted\\nIn October 2023, the FASB issued ASU 2023-06 which is intended to clarify or improve disclosure and presentation requirements of a variety of topics. It will allow users to more easily compare entities subject to the SEC\\'s existing disclosures with those entities that were not previously subject to the requirements and align the requirements in the FASB accounting standard codification with the SEC\\'s regulations. The effective date for each amendment will be the date on which the SEC\\'s removal of that related disclosure from Regulation S-X or Regulation S-K becomes effective, or if the SEC has not removed the applicable disclosure requirement by June 30, 2027, the amendment will not be effective for any entity. Early adoption is prohibited. The Company is currently assessing the impact on the Company\\'s disclosures.\\nIn November 2023, the FASB issued ASU 2023-07, which expands reportable segment disclosure requirements, primarily through enhanced disclosures about significant segment expenses. This guidance is effective for fiscal years beginning after December 15, 2023 and for interim periods within fiscal years beginning after December 15, 2024. Early adoption is permitted and retrospective application to all prior periods presented in the financials is required. The Company is currently assessing the impact on the Company\\'s consolidated financial statements and disclosures.\\nIn December 2023, the FASB issued ASU 2023-09, which expands income tax disclosure requirements to include additional information related to the rate reconciliation of effective tax rates to statutory rates as well as additional disaggregation of taxes paid. This guidance is effective for fiscal years beginning after December 15, 2024, and early adoption is permitted. The Company is currently assessing the impact on the Company\\'s disclosures.\\n2.REAL ESTATE INVENTORY\\nThe following table presents the components of inventory, net of applicable inventory valuation adjustments of $27 million and $459 million as of December 31, 2023 and 2022, respectively (in millions):\\n\\n                                        December 31, 2023                December 31, 2022\\nWork-in-progress                             $640                             $891        \\nFinished goods:                                                                           \\nListed for sale                               882                            2,788        \\nUnder contract for sale                       253           781                           \\nTotal real estate inventory                $1,775                           $4,460        \\nAs of December 31, 2023, the Company was in contract to purchase 2,114 homes for an aggregate purchase price of $653 million.\\nDuring the years ended December 31, 2023, 2022, and 2021, the Company recorded inventory valuation adjustments for real estate inventory of $65 million, $737 million, and $56 million, respectively, in Cost of revenue in the consolidated statements of operations.\\nTABLE OF CONTENTS\\nOPENDOOR TECHNOLOGIES INC.\\nNotes to Consolidated Financial Statements\\n(Tabular amounts in millions, except share and per share amounts, ratios, or as noted)\\n\\n3.CASH, CASH EQUIVALENTS, AND INVESTMENTS\\nThe amortized cost, gross unrealized gains and losses, and fair value of cash, cash equivalents, and marketable securities as of December 31, 2023 and 2022, are as follows (in millions):\\n\\n                                                                                                                                                                                                 December 31, 2023\\n                                       CostBasis            UnrealizedGains                  UnrealizedLosses                      Fair Value            Cash and CashEquivalents                       Marketable\\n                                                                                                                                                                                                        Securities\\nCash                                   $63                  $—                               $—                                     $63                  $63                                              $—      \\nMoney market funds                     936                  —                                —                                      936         936                                                        —      \\nCorporate debt securities               55                  —                                (1)                                     54                  —                                                54      \\nEquity securities                       15                  —                                —                                       15                  —                                                15      \\nTotal                               $1,069                  $—                               $(1)                                $1,068                  $999                                            $69      \\n\\n                                                                                                                                                                                                          December 31, 2022\\n                                       CostBasis            UnrealizedGains                  UnrealizedLosses                      Fair Value            Cash and CashEquivalents                      MarketableSecurities\\nCash                                  $422                  $—                               $—                                    $422                  $422                                                   $—         \\nMoney market funds                     715                  —                                —                                      715         715                                                              —         \\nCorporate debt securities              126                  —                                (4)                                    122                  —                                                     122         \\nEquity securities                       11                  —                                —                                       11                  —                                                      11         \\nCertificates of deposit                  9                  —                                —                                        9                  —                                                       9         \\nAsset-backed securities                  2                  —                                —                                        2                  —                                                       2         \\nTotal                               $1,285                  $—                               $(4)                                $1,281                  $1,137                                               $144         \\nDuring the years ended December 31, 2023 and 2022, the Company recognized $4 million and $(35) million of net unrealized gains (losses), respectively, in the consolidated statements of operations related to marketable equity securities.\\nA summary of debt securities with unrealized losses aggregated by period of continuous unrealized loss is as follows (in millions):\\n\\n                                 Less than 12 Months                                                                        12 Months or Greater   Total                                           \\nDecember 31, 2023                Fair Value                       UnrealizedLosses             Fair Value                  UnrealizedLosses        Fair Value                 UnrealizedLosses     \\nCorporate debt securities        $—                               $—                            $54                        $(1)                    $54                        $(1)                 \\nTotal                            $—                               $—                            $54                        $(1)                    $54                        $(1)                 \\n\\n                                          Less than 12 Months                                                                                 12 Months or Greater                                                       Total\\nDecember 31, 2022                         Fair Value                       UnrealizedLosses                      Fair Value                  UnrealizedLosses                      Fair Value            UnrealizedLosses     \\nCorporate debt securities                 $5                               $—                                    $117                        $(4)                                  $122                  $(4)                 \\nCertificates of deposit          6                                         —                                        —                        —                                        6                  —                    \\nAsset-backed securities                   —                                —                       2                                         —                                        2                  —                    \\nTotal                                     $11                              $—                                    $119                        $(4)                                  $130                  $(4)                 \\nNet unrealized losses of the Company\\'s available-for-sale debt securities as of December 31, 2023 and 2022 were $1 million and $4 million, respectively. These unrealized losses are associated with the Company’s investments in corporate debt securities and were due to interest rate increases, and not credit-related events. The Company does not expect to be required to sell the investments before recovery of the amortized cost bases. As such, no allowance for credit losses is required as of December 31, 2023 or 2022.\\nTABLE OF CONTENTS\\nOPENDOOR TECHNOLOGIES INC.\\nNotes to Consolidated Financial Statements\\n(Tabular amounts in millions, except share and per share amounts, ratios, or as noted)\\n\\nThe scheduled contractual maturities of debt securities as of December 31, 2023 are as follows (in millions):\\n\\nDecember 31, 2023                     Fair Value         Within   After1 Yearthrough5 Years     \\n                                                         1 Year                                 \\nCorporate-debt securities              $54             $54        $—                            \\nTotal                                  $54             $54        $—                            \\nA summary of non-marketable equity securities and equity method investment balances as of December 31, 2023 and 2022 are as follows (in millions):\\n\\n                                       December 31,                        December 31,\\n                                       2023                                        2022\\nEquity method investments              $20                                   $20       \\nNon-marketable equity securities       —                    5                          \\nTotal                                  $20                                   $25       \\nDuring the year-ended December 31, 2023, the Company recognized $5 million of net unrealized losses in the consolidated statements of operations related to non-marketable equity securities held as of December 31, 2023. No unrealized losses were recognized during the year-ended December 31, 2022 in the consolidated statements of operations related to non-marketable equity securities held as of December 31, 2022.\\n4.VARIABLE INTEREST ENTITIES\\nThe Company utilizes VIEs in the normal course of business to support the Company’s financing needs. The Company determines whether the Company is the primary beneficiary of a VIE at the time it becomes involved with the VIE and reconsiders that conclusion on an on-going basis. See “Note 1 — Description of Business and Accounting Policies” for further discussion of the Company’s “Consolidation of Variable Interest Entities” policy.\\nThe Company established certain special purpose entities (“SPEs”) for the purpose of financing the Company’s purchase and renovation of real estate inventory through the issuance of asset-backed debt. The Company is the primary beneficiary of the various VIEs within these financing structures and consolidates these VIEs. The Company is determined to be the primary beneficiary based on its power to direct the activities that most significantly impact the economic outcomes of the SPEs through its role in designing the SPEs and managing the real estate inventory they purchase and sell. The Company has a potentially significant variable interest in the entities based upon the equity interest the Company holds in the VIEs.\\nThe following table summarizes the assets and liabilities related to the VIEs consolidated by the Company as of December 31, 2023 and 2022 (in millions):\\n\\n                                           December 31, 2023                December 31, 2022\\nAssets                                                                                       \\nRestricted cash                                 $530                             $636        \\nReal estate inventory, net                     1,735                            4,408        \\nOther(1)                                          18                               38        \\nTotal assets                                  $2,283                           $5,082        \\nLiabilities                                                                                  \\nNon-recourse asset-backed debt                $2,134                           $4,396        \\nOther(2)                                          29                               72        \\nTotal liabilities                             $2,163                           $4,468        \\n________________\\n(1)Includes escrow receivable and other current assets.\\n(2)Includes accounts payable and other accrued liabilities and interest payable.\\nTABLE OF CONTENTS\\nOPENDOOR TECHNOLOGIES INC.\\nNotes to Consolidated Financial Statements\\n(Tabular amounts in millions, except share and per share amounts, ratios, or as noted)\\n\\nThe creditors of the VIEs generally do not have recourse to the Company’s general credit solely by virtue of being creditors of the VIEs. However, certain of the financial covenants included in the inventory financing facilities to which the VIEs are party are calculated by reference to Opendoor Labs Inc. and its consolidated subsidiaries’ assets and liabilities. As a result, under certain circumstances, this may limit our flexibility to transfer assets from Opendoor subsidiaries to the Parent Company. See “Note 5 — Credit Facilities and Long-Term Debt” for further discussion of the recourse obligations with respect to the VIEs.\\n5.CREDIT FACILITIES AND LONG-TERM DEBT\\nThe following tables summarize certain details related to the Company\\'s credit facilities and long-term debt as of December 31, 2023 and 2022 (in millions, except interest rates):\\n\\n                                                                                       Outstanding Amount                                                                                                                                                   \\nDecember 31, 2023                                                  BorrowingCapacity   Current                           Non-Current                    WeightedAverageInterest Rate   End of Revolving / Withdrawal Period         Final MaturityDate      \\nNon-Recourse Asset-backed Debt:                                                                                                                                                                                                                             \\nAsset-backed Senior Revolving Credit Facilities                                                                                                                                                                                                             \\nRevolving Facility 2018-2                                             $1,000           $—                                   $—                                      7.49           %   June 30, 2025                                June 30, 2025           \\nRevolving Facility 2018-3                                              1,000           —                                     —                                      6.82           %   September 29, 2026                           September 29, 2026      \\nRevolving Facility 2019-1                                                300           —                                     —                                      7.34           %   August 15, 2025                              August 15, 2025         \\nRevolving Facility 2019-2                                                550           —                                     —                                      6.83           %   October 3, 2025                              October 2, 2026         \\nRevolving Facility 2019-3                                                925           —                                     —                                         —           %   April 5, 2024                                April 4, 2025           \\nAsset-backed Senior Term Debt Facilities                                                                                                                                                                                                                    \\nTerm Debt Facility 2021-S1                                               100           —                                   100                                      3.48           %   January 2, 2025                              April 1, 2025           \\nTerm Debt Facility 2021-S2                                               400           —                                   300                                      3.20           %   September 10, 2025                           March 10, 2026          \\nTerm Debt Facility 2021-S3                                             1,000           —                                   750                                      3.75           %   January 31, 2027                             July 31, 2027           \\nTerm Debt Facility 2022-S1                                               250           —                                   250                                      4.07           %   March 1, 2025                                September 1, 2025       \\nTotal                                                                 $5,525           $—                               $1,400                                                                                                                              \\nIssuance Costs                                                                         —                                  (12)                                                                                                                              \\nCarrying Value                                                                         $—                               $1,388                                                                                                                              \\nAsset-backed Mezzanine Term Debt Facilities                                                                                                                                                                                                                 \\nTerm Debt Facility 2020-M1                                            $2,100           $—                                 $600                                     10.00           %   April 1, 2025                                April 1, 2026           \\nTerm Debt Facility 2022-M1                                               500           —                                   150                                     10.00           %   September 15, 2025                           September 15, 2026      \\nTotal                                                                 $2,600           $—                                 $750                                                                                                                              \\nIssuance Costs                                                                                                             (4)                                                                                                                              \\nCarrying Value                                                                                                            $746                                                                                                                              \\nTotal Non-Recourse Asset-backed Debt                                  $8,125           $—                               $2,134                                                                                                                              \\nTABLE OF CONTENTS\\nOPENDOOR TECHNOLOGIES INC.\\nNotes to Consolidated Financial Statements\\n(Tabular amounts in millions, except share and per share amounts, ratios, or as noted)\\n\\n\\n                                                                                            Outstanding Amount                                                \\nDecember 31, 2022                                                     Current                      Non-Current                    WeightedAverageInterest Rate\\nNon-Recourse Asset-backed Debt:                                                                                                                               \\nAsset-backed Senior Revolving Credit Facilities                                                                                                               \\nRevolving Facility 2018-2                                            472                               —                                      4.86           %\\nRevolving Facility 2018-3                                            194                               —                                      3.98           %\\nRevolving Facility 2019-1                                             55                               —                                      4.41           %\\nRevolving Facility 2019-2                                            167                               —                                      3.92           %\\nRevolving Facility 2019-3                                              —                               —                                      3.86           %\\nRevolving Facility 2022-1                                            289                               —                                      8.15           %\\nAsset-backed Senior Term Debt Facilities                                                                                                                      \\nTerm Debt Facility 2021-S1                                             —                             400                                      3.48           %\\nTerm Debt Facility 2021-S2                                             —                             500                                      3.20           %\\nTerm Debt Facility 2021-S3                                             —                             750                                      3.75           %\\nTerm Debt Facility 2022-S1                                             —                             250                                      4.07           %\\nTerm Debt Facility 2022-S2                                           200                               —                                      8.48           %\\nTotal                                                             $1,377                          $1,900                                                      \\nIssuance Costs                                                       (1)                            (17)                                                      \\nCarrying Value                                                    $1,376                          $1,883                                                      \\nAsset-backed Mezzanine Term Debt Facilities                                                                                                                   \\nTerm Debt Facility 2020-M1                                             —                           1,000                                     10.00           %\\nTerm Debt Facility 2022-M1                                             —                             150                                     10.00           %\\nTotal                                                                 $—                          $1,150                                                      \\nIssuance Costs                                                                                      (13)                                                      \\nCarrying Value                                                                                    $1,137                                                      \\nTotal Non-Recourse Asset-backed Debt                              $1,376                          $3,020                                                      \\nNon-Recourse Asset-backed Debt\\nThe Company utilizes inventory financing facilities consisting of asset-backed senior debt facilities and asset-backed mezzanine term debt facilities to provide financing for the Company’s real estate inventory purchases and renovation. These inventory financing facilities are typically secured by some combination of restricted cash, equity in real estate owning subsidiaries and related holding companies, and, for senior facilities, the real estate inventory financed by the relevant facility and/or beneficial interests in such inventory. \\nEach of the borrowers under the inventory financing facilities is a consolidated subsidiary of Opendoor and a separate legal entity. Neither the assets nor credit of any such borrower subsidiaries are generally available to satisfy the debts and other obligations of any other Opendoor entities. The inventory financing facilities are non-recourse to the Company and are non-recourse to Opendoor subsidiaries not party to the relevant facilities, except for limited guarantees provided by an Opendoor subsidiary for certain obligations involving “bad acts” by an Opendoor entity and certain other limited circumstances. \\nAs of December 31, 2023, the Company had total borrowing capacity with respect to its non-recourse asset-backed debt of $8.1 billion. Borrowing capacity amounts under non-recourse asset-backed debt as reflected in the table above are in some cases not fully committed and any borrowings above the committed amounts are subject to the applicable lender’s discretion. Any amounts repaid for senior term and mezzanine term debt facilities reduce total borrowing capacity as repaid amounts are not available to be reborrowed. As of December 31, 2023, the Company had committed borrowing capacity with respect to the Company’s non-recourse asset backed debt of $2.8 billion; this committed borrowing capacity is comprised of $650 million for senior revolving credit facilities, $1.4 billion for senior term debt facilities, and $750 million for mezzanine term debt facilities.\\nThe Company recognized $9 million and $25 million in loss on extinguishment of debt on the consolidated statement of operations for the years ended December 31, 2023 and December 31, 2022, respectively, related to the Company’s voluntary \\nTABLE OF CONTENTS\\nOPENDOOR TECHNOLOGIES INC.\\nNotes to Consolidated Financial Statements\\n(Tabular amounts in millions, except share and per share amounts, ratios, or as noted)\\n\\npartial early repayment of non-recourse asset-backed term debt facilities. The loss on extinguishment of debt for the year ended December 31, 2023 was comprised of $4 million in pre-payment fees and $5 million in write-offs of associated deferred costs that were previously capitalized. The loss on extinguishment of debt for the year ended December 31, 2022 was comprised of $10 million in prepayment fees and $15 million in write offs of associated unamortized deferred costs that were previously capitalized.\\nAsset-backed Senior Revolving Credit Facilities\\nThe Company classifies the senior revolving credit facilities as current liabilities on the Company’s consolidated balance sheets as amounts drawn to acquire and renovate homes are required to be repaid as the related real estate inventory is sold, which the Company expects to occur within 12 months. \\nThe senior revolving credit facilities are typically structured with an initial revolving period of up to 24 months during which time amounts can be borrowed, repaid and borrowed again. The borrowing capacity is generally available until the end of the applicable revolving period as reflected in the table above. Outstanding amounts drawn under each senior revolving credit facility are required to be repaid on the facility maturity date or earlier if accelerated due to an event of default or other mandatory repayment event. The final maturity dates and revolving period end dates reflected in the table above are inclusive of any extensions that are at the sole discretion of the Company. These facilities may also have extensions subject to lender discretion that are not reflected in the table above.\\nBorrowings under the senior revolving credit facilities accrued interest at various floating rates based on a London Interbank Offered Rate (“LIBOR”) for certain periods prior to November 2022 or a secured overnight financing rate (“SOFR”), plus a margin that varies by facility. Effective November 2022, all such floating rates were based on SOFR. The Company may also pay fees on certain unused portions of committed borrowing capacity. The Company’s senior revolving credit facility arrangements typically include upfront fees that may be paid at execution of the applicable agreements or be earned at execution and payable over time. These facilities are generally fully prepayable at any time without penalty other than customary breakage costs.\\nThe senior revolving credit facilities have aggregated borrowing bases, which increase or decrease based on the cost and value of the properties financed under a given facility and the time that those properties are in the Company’s possession. When the Company resells a home, the proceeds are used to reduce the outstanding balance under the related senior revolving credit facility. The borrowing base for a given facility may be reduced as properties age beyond certain thresholds, and any borrowing base deficiencies may be satisfied through contributions of additional properties or partial repayment of the facility.\\nAsset-backed Senior Term Debt Facilities\\nThe Company classifies its senior term debt facilities as non-current liabilities on the Company\\'s consolidated balance sheets because its borrowings under these facilities are generally not required to be repaid until the final maturity date.\\nThe senior term debt facilities are typically structured with an initial withdrawal period up to 60 months during which the outstanding principal amounts are generally not required to be repaid when homes financed through those facilities are sold and instead are intended to remain outstanding until final maturity for each facility. Outstanding amounts drawn under each senior term debt facility are required to be repaid on the facility maturity date or earlier if accelerated due to an event of default or other mandatory repayment event. The final maturity dates and withdrawal period end dates reflected in the table above are inclusive of any extensions that are at the sole discretion of the Company. These facilities may also have extensions subject to lender discretion that are not reflected in the table above.\\nBorrowings under the senior term debt facilities accrue interest at a fixed rate with the exception of Term Debt Facility 2022-S2, which accrued interest at a floating rate based on SOFR plus a margin. The Company\\'s senior term debt facilities may include upfront issuance costs that are capitalized as part of the facilities\\' respective carrying values. These facilities are fully prepayable at any time but may be subject to certain customary prepayment penalties.\\nThe senior term debt facilities have aggregated property borrowing bases, which increase or decrease based on the cost and value of the properties financed under a given facility, the time those properties are in the Company’s possession and the amount of cash collateral pledged by the relevant borrowers. The borrowing base for a given facility may be reduced as \\nTABLE OF CONTENTS\\nOPENDOOR TECHNOLOGIES INC.\\nNotes to Consolidated Financial Statements\\n(Tabular amounts in millions, except share and per share amounts, ratios, or as noted)\\n\\nproperties age or collateral performance declines beyond certain thresholds, and any borrowing base deficiencies may be satisfied through contributions of additional properties, cash or through partial repayment of the facility. \\nAsset-backed Mezzanine Term Debt Facilities\\nThe Company classifies its mezzanine term debt facilities as long-term liabilities on the Company’s consolidated balance sheets because its borrowings under these facilities are generally not required to be repaid until the applicable final maturity date. These facilities are structurally and contractually subordinated to the related asset-backed senior debt facilities.\\nThe mezzanine term debt facilities have been structured with an initial 42 month withdrawal period during which the outstanding principal amounts are generally not required to be repaid when homes financed through those facilities are sold and instead are intended to remain outstanding until final maturity. Outstanding amounts drawn under the mezzanine term debt facilities are required to be repaid on the facility maturity date or earlier if accelerated due to an event of default or other mandatory repayment event. The final maturity date and withdrawal period end date reflected in the table above are inclusive of any extensions that are at the sole discretion of the Company. These facilities may also have extensions subject to lender discretion that are not reflected in the table above.\\nBorrowings under a given term debt facility accrue interest at a fixed rate. The mezzanine term debt facilities include upfront issuance costs that are capitalized as part of the facilities’ respective carrying values. These facilities are fully prepayable at any time but may be subject to certain prepayment penalties.\\nThe mezzanine term debt facilities have aggregated property borrowing bases, which increase or decrease based on the cost and the value of the properties financed under a given facility and time in the Company’s possession of those properties and the amount of cash collateral pledged by the relevant borrowers. The borrowing base for a given facility may be reduced as properties age or collateral performance declines beyond certain thresholds, and any borrowing base deficiencies may be satisfied through contributions of additional properties or cash or through partial repayment of the facility.\\nCovenants\\nThe Company’s inventory financing facilities include customary representations and warranties, covenants and events of default. Financed properties are subject to customary eligibility criteria and concentration limits.\\nThe terms of these inventory financing facilities and related financing documents require an Opendoor subsidiary to comply with customary financial covenants, such as maintaining certain levels of liquidity, tangible net worth or leverage (ratio of debt to tangible net worth). Certain of these financial covenants are calculated by reference to Opendoor Labs Inc. and its consolidated subsidiaries’ assets and liabilities. As a result, under certain circumstances, this may limit our flexibility to transfer assets from Opendoor subsidiaries to the Parent Company. At December 31, 2023 and December 31, 2022, $275 million and $565 million, respectively, of the Company\\'s net assets are restricted as they reflect minimum net asset requirements at Opendoor Labs Inc. As of December 31, 2023, the Company was in compliance with all financial covenants and no event of default had occurred.\\nMortgage Financing\\nIn 2022, the Company ceased providing correspondent lending or mortgage brokering services. As a result, the Company no longer requires mortgage financing and terminated its master repurchase agreement (the “Repurchase Agreement”) in October 2022.\\nFrom March 2019 through its exit of mortgage lending and brokering services, the Company utilized the Repurchase Agreement to provide capital for Opendoor Home Loans. The facility, which was classified as a current liability on the Company’s consolidated balance sheets, provided short-term financing between the issuance of a mortgage loan and when Opendoor Home Loans sold the loan to an investor. In accordance with the Repurchase Agreement, the lender agreed to pay Opendoor Home Loans a negotiated purchase price for eligible loans and Opendoor Home Loans simultaneously agreed to repurchase such loans from the lender within a specified timeframe and at an agreed upon price that included interest. Opendoor Labs Inc. was the guarantor with respect to the Repurchase Agreement and the obligation to repurchase loans previously \\nTABLE OF CONTENTS\\nOPENDOOR TECHNOLOGIES INC.\\nNotes to Consolidated Financial Statements\\n(Tabular amounts in millions, except share and per share amounts, ratios, or as noted)\\n\\ntransferred under the arrangement for the benefit of the lender. This financing arrangement was an important component of Opendoor Home Loans’ operations as a correspondent lender.\\nConvertible Senior Notes\\nIn August 2021, the Company issued the 2026 Notes with an aggregate principal amount of $978 million. The tables below summarizes certain details related to the 2026 Notes (in millions, except interest rates):\\n\\nDecember 31, 2023       Aggregate Principal Amount       Unamortized Debt Issuance Costs        Net Carrying Amount     \\n2026 Notes              $381                             $(5)                                   $376                    \\n\\nDecember 31, 2023       Maturity Date                    Stated Cash Interest Rate                 Effective Interest Rate       Semi-Annual Interest Payment Dates                    Conversion Rate         Conversion Price     \\n2026 Notes              August 15, 2026         0.25                           %          0.78                         %         February 15; August 15                    51.9926                             $19.23               \\nThe 2026 Notes will be convertible at the option of the holders before February 15, 2026 only upon the occurrence of certain events. Beginning on August 20, 2024, the Company has the option to redeem the 2026 Notes upon meeting certain conditions related to price of the Company\\'s common stock. Beginning on February 15, 2026 and until the close of business on the second scheduled trading day immediately preceding the maturity date, the 2026 Notes are convertible at any time at election of each holder. The conversion rate and conversion price are subject to customary adjustments under certain circumstances. In addition, if certain corporate events that constitute a make-whole fundamental change occur, then the conversion rate will be adjusted in accordance with the make-whole table within the Indenture. Upon conversion, the Company may satisfy its obligation by paying cash for the outstanding principal balance, and, a combination of cash and the Company\\'s common stock, at the Company\\'s election, for the remaining amount, if any, based on the applicable conversion rate.\\nDuring the year ended December 31, 2023, the Company entered into separate, privately negotiated transactions to repurchase a portion of the outstanding 2026 Notes (“Repurchased 2026 Notes”). The holders of the Repurchased 2026 Notes exchanged $597 million in aggregate principal amount for aggregate payments of $360 million in cash for full settlement of the principal value and accrued interest on such date. The Company accounted for the repurchase as a debt extinguishment. Accordingly, the Company: (i) reduced the carrying value of the Repurchased 2026 Notes by $597 million, (ii) reduced outstanding deferred issuance costs by $10 million, (iii) incurred fees of $2 million and (iv) recorded $225 million of gain on debt extinguishment. The Company elected to leave the Capped Calls associated with the Repurchased 2026 Notes outstanding.\\nFor the year ended December 31, 2023, total interest expense on the Company\\'s convertible senior notes was $5 million, with coupon interest of $2 million and amortization of debt issuance costs of $3 million.\\nCapped Calls\\nIn August 2021, in connection with the issuance of the 2026 Notes, the Company purchased capped calls (the “Capped Calls”) from certain financial institutions at a cost of $119 million. The Capped Calls cover, subject to customary adjustments, the number of shares of the Company\\'s common stock underlying the 2026 Notes. By entering into the Capped Calls, the Company expects to reduce the potential dilution to its common stock (or, in the event of a conversion of the 2026 Notes settled in cash, to reduce its cash payment obligation) in the event that at the time of conversion of the 2026 Notes its common stock price exceeds the conversion price. The Capped Calls have an initial strike price of $19.23 per share and an initial cap price of $29.59 per share or a cap price premium of 100%.\\n6.FAIR VALUE DISCLOSURES\\nThe Company uses fair value measurements to record fair value adjustments to certain assets and liabilities and to determine fair value disclosures.\\nTABLE OF CONTENTS\\nOPENDOOR TECHNOLOGIES INC.\\nNotes to Consolidated Financial Statements\\n(Tabular amounts in millions, except share and per share amounts, ratios, or as noted)\\n\\nFollowing is a discussion of the fair value hierarchy and the valuation methodologies used for assets and liabilities recorded at fair value on a recurring and nonrecurring basis and for estimating fair value for financial instruments not recorded at fair value.\\nFair Value Hierarchy\\nFair value measurements of assets and liabilities are categorized based on the following hierarchy:\\nLevel 1 — Fair value determined based on quoted prices in active markets for identical assets or liabilities.\\nLevel 2 — Fair value determined using significant observable inputs, such as quoted prices for similar assets or liabilities or quoted prices for identical or similar assets or liabilities in markets that are not active, inputs other than quoted prices that are observable for the asset or liability, or inputs that are derived principally from or corroborated by observable market data, by correlation or other means.\\nLevel 3 — Fair value determined using significant unobservable inputs, such as pricing models, discounted cash flows, or similar techniques.\\nEstimation of Fair Value\\nThe following table summarizes the fair value measurement methodologies, including significant inputs and assumptions, and classification of the Company’s assets and liabilities.\\n\\nAsset/Liability Class                  Valuation Methodology, Inputs andAssumptions                                                                                                                               Classification                                                          \\nCash and cash equivalents              Carrying value is a reasonable estimate of fair value based on the short-term nature of the instruments.                                                                   Level 1 estimated fair value measurement.                               \\nRestricted cash                        Carrying value is a reasonable estimate of fair value based on the short-term nature of the instruments.                                                                   Level 1 estimated fair value measurement.                               \\nMarketable securities                                                                                                                                                                                                                                                                     \\nDebt securities                        Prices obtained from third-party vendors that compile prices from various sources and often apply matrix pricing for similar securities when no price is observable.       Level 2 recurring fair value measurement.                               \\nEquity securities                      Price is quoted given the securities are traded on an exchange.                                                                                                            Level 1 recurring fair value measurement.                               \\nOther current assets                                                                                                                                                                                                                                                                      \\nMortgage loans held for sale           Fair value is estimated based on observable market data including quoted market prices and deal price quotes.                                                              Level 2 recurring fair value measurement.                               \\nNon-recourse asset-backed debt                                                                                                                                                                                                                                                            \\nCredit facilities                      Fair value is estimated using discounted cash flows based on current lending rates for similar credit facilities with similar terms and remaining time to maturity.        Carried at amortized cost.Level 2 estimated fair value measurement.     \\nConvertible senior notes               Fair value is estimated using broker quotes and other observable market inputs.                                                                                            Carried at amortized cost.                                              \\n                                                                                                                                                                                                                  Level 2 estimated fair value measurement.                               \\nTABLE OF CONTENTS\\nOPENDOOR TECHNOLOGIES INC.\\nNotes to Consolidated Financial Statements\\n(Tabular amounts in millions, except share and per share amounts, ratios, or as noted)\\n\\nAssets and Liabilities Recorded at Fair Value on a Recurring Basis\\nThe following tables present the levels of the fair value hierarchy for the Company’s assets measured at fair value on a recurring basis (in millions).\\n\\nDecember 31, 2023                      Balance at Fair Value            Level 1        Level 2        Level 3     \\nMarketable securities:                                                                                            \\nCorporate debt securities                      $54                      $—             $54            $—          \\nEquity securities                               15                           15        —              —           \\nTotal assets                                   $69                      $15            $54            $—          \\n\\nDecember 31, 2022                         Balance at Fair Value            Level 1                      Level 2   Level 3     \\nMarketable securities:                                                                                                        \\nCorporate debt securities                        $122                      $—                         $122        $—          \\nEquity securities                                  11                           11                       —        —           \\nCertificates of deposit                             9                      —                             9        —           \\nAsset-backed securities                             2                      —                             2        —           \\nOther current assets:                                                                                                         \\nMortgage loans held for sale                        1                      —                             1        —           \\nTotal assets                                     $145                      $11                        $134        $—          \\nFair Value of Financial Instruments\\nThe following presents the carrying value, estimated fair value and the levels of the fair value hierarchy for the Company’s financial instruments other than assets and liabilities measured at fair value on a recurring basis (in millions).\\n\\n                                                                                                                     December 31, 2023\\n                                            CarryingValue                 Fair Value            Level 1                 Level 2       \\nAssets:                                                                                                                               \\nCash and cash equivalents                     $999                        $999                  $999                    $—            \\nRestricted cash                                541                         541                      541                 —             \\nLiabilities:                                                                                                                          \\nNon-recourse asset-backed debt              $2,134                      $2,150                  $—                      $2,150        \\nConvertible senior notes                       376                         296                  —              296                    \\n\\n                                                                                                                       December 31, 2022\\n                                            CarryingValue                 Fair Value            Level 1                   Level 2       \\nAssets:                                                                                                                                 \\nCash and cash equivalents                   $1,137                      $1,137                  $1,137                    $—            \\nRestricted cash                                654                         654                        654                 —             \\nLiabilities:                                                                                                                            \\nNon-recourse asset-backed debt              $4,396                      $4,427                  $—                        $4,427        \\nConvertible senior notes                       959                         391                  —                391                    \\nTABLE OF CONTENTS\\nOPENDOOR TECHNOLOGIES INC.\\nNotes to Consolidated Financial Statements\\n(Tabular amounts in millions, except share and per share amounts, ratios, or as noted)\\n\\n7.PROPERTY AND EQUIPMENT\\nProperty and equipment as of December 31, 2023 and 2022, consisted of the following (in millions):\\n\\n2023                                                                        2022\\nInternally developed software                      $124                  $105   \\nSecurity systems                                     19                    18   \\nComputers                                            12                    13   \\nSoftware implementation costs                         4                     4   \\nOffice equipment                                      3                     3   \\nFurniture and fixtures                                2                     3   \\nLeasehold improvements                                2                     2   \\nTotal                                               166                   148   \\nAccumulated depreciation and amortization         (100)                  (90)   \\nProperty and equipment – net                        $66                   $58   \\nDepreciation and amortization expense of $38 million, $37 million, and $27 million was recorded for the years ended December 31, 2023, 2022 and 2021, respectively.\\n8.LEASES \\nThe Company leases office space throughout the United States under operating and short-term lease agreements. These lease agreements have terms not exceeding 11 years and some contain multi-year renewal options or early termination options that are not considered reasonably certain of exercise except as discussed below. The Company also leases equipment under immaterial finance lease agreements.\\nComponents of lease costs for the years ended the December 31, 2023, 2022, and 2021, are as follows (in millions): \\n\\n                                                                Year Ended December 31,\\n2023                                                       2022                    2021\\nOperating lease cost            $11                     $11                     $12    \\nVariable lease cost               1                       —                       1    \\nShort-term lease cost             1                       1                       —    \\nSublease income                 (2)                     (1)                     (1)    \\nNet lease cost                  $11                     $11                     $12    \\nThe following table present supplemental lease information (in millions):\\n\\nDecember 31,                                                                                  2023   2022                  2021               \\nCash paid for amounts included in the measurement of operating lease liabilities         $(14)                  $(11)               $(10)     \\nRight-of-use assets obtained in exchange for new or acquired lease liabilities              $1                     $5               $—        \\nIn May 2023, the Company amended its Tempe, Arizona office lease to partially terminate the Company’s obligation with respect to a portion of the leased premises (“Partial Lease Termination”). The Partial Lease Termination resulted in a decrease of undiscounted, future lease payments of $19 million. As a result of the Partial Lease Termination, the Company remeasured its operating lease liabilities and recorded a decrease of $10 million to reflect the reduced lease payments and termination penalties. The Company also recorded a decrease to right-of-use assets of $9 million based on the proportionate decrease in the right-of-use asset, which resulted in a gain of $1 million recognized in general and administrative expense on the consolidated statements of operations for the year ended December 31, 2023.\\nTABLE OF CONTENTS\\nOPENDOOR TECHNOLOGIES INC.\\nNotes to Consolidated Financial Statements\\n(Tabular amounts in millions, except share and per share amounts, ratios, or as noted)\\n\\nFor the year ended December 31, 2022, the Company signed a new lease that resulted in an increase to the right-of-use asset in the amount of $5 million and an increase in operating lease liabilities in the amount of $5 million. There were no material lease modifications in the year ended December 31, 2022. In January 2021, the Company terminated the San Francisco lease prior to the anticipated termination date of September 30, 2021, which resulted in a $5 million gain recognized for the year ended December 31, 2021. There were no other material lease modifications for the year ended December 31, 2021. \\nThe weighted average lease term and the weighted average discount rate are as follows:\\n\\nDecember 31,                                                                         2023               2022\\nWeighted average remaining lease term for operating leases (in years)                 5.8                6.6\\nWeighted average discount rate for operating leases                              11.8   %            9.9   %\\nMaturity of operating lease liabilities as of December 31, 2023 are as follows (in millions):\\n\\n                                      2024      $8\\n                                      2025       5\\n                                      2026       4\\n                                      2027       4\\n                                      2028       5\\n                                Thereafter       8\\n      Total undiscounted future cash flows     $34\\n                    Less: Imputed interest      10\\n                   Total lease liabilities     $24\\n9.GOODWILL AND INTANGIBLE ASSETS\\nFor the year ended December 31, 2023 there were no additions to goodwill. For the year ended December 31, 2022 the carrying amount of goodwill increased by $4 million due to acquisitions. For more information on significant acquisitions, refer to “Note 16 — Business Acquisitions”. \\nDuring the fourth quarter of 2022, the market price of our common stock declined significantly. As such, the Company determined that an indicator of potential impairment existed and decided to perform an interim quantitative test for goodwill impairment. Based on the quantitative analysis, the Company recorded a goodwill impairment charge of $60 million for the year ended December 31, 2022. There was no impairment of goodwill identified for the years ended December 31, 2023 and December 31, 2021.\\nIntangible assets subject to amortization consisted of the following as of December 31, 2023 and 2022, respectively (in millions, except years):\\n\\nDecember 31, 2023                  GrossCarryingAmount   AccumulatedAmortization                    NetCarryingAmount                Remaining Weighted Average Useful Life\\n                                                                                                                                                                    (Years)\\nDeveloped technology                      $17            $(13)                                             $4                                                           0.8\\nCustomer relationships                      7            (6)                           1                                                                                0.7\\nTrademarks                                  5            (5)                                                —                                                           0.7\\nIntangible assets – net                   $29            $(24)                                             $5                                                              \\nTABLE OF CONTENTS\\nOPENDOOR TECHNOLOGIES INC.\\nNotes to Consolidated Financial Statements\\n(Tabular amounts in millions, except share and per share amounts, ratios, or as noted)\\n\\n\\nDecember 31, 2022                  GrossCarryingAmount   AccumulatedAmortization                    NetCarryingAmount                Remaining Weighted Average Useful Life\\n                                                                                                                                                                    (Years)\\nDeveloped technology                      $17            $(9)                                              $8                                                           1.8\\nCustomer relationships                      7            (5)                                                2                                                           1.7\\nTrademarks                                  5            (3)                                                2                                                           1.7\\nIntangible assets – net                   $29            $(17)                                            $12                                                              \\nAmortization expense for intangible assets was $7 million, $9 million, and $4 million for the years ended December 31, 2023, 2022, and 2021, respectively.\\nAs of December 31, 2023, expected amortization of intangible assets is as follows (in millions):\\n\\nFiscal Years                 \\n2024                    $5\\nTotal                   $5\\n10.ACCOUNTS PAYABLE AND OTHER ACCRUED LIABILITIES\\nAccounts payable and accrued liabilities as of December 31, 2023 and 2022, consisted of the following:\\n\\n                                                                         2023                  2022\\nAccrued expenses due to vendors                                        $34                   $47   \\nAccrued payroll and other employee related expenses                     18                    21   \\nAccrued property and franchise taxes                                     7                    29   \\nAccounts payable due to vendors                                          2                     5   \\nOther                                                                    3                     8   \\nTotal accounts payable and other accrued liabilities                   $64                  $110   \\n11.SHAREHOLDERS’ EQUITY\\nCommon Stock \\nOn February 9, 2021, the Company completed an underwritten public offering (the “February 2021 Offering”) in which the Company sold 32,817,421 shares of its common stock at a public offering price of $27.00 per share, including the exercise in full by the underwriters of their option to purchase up to 4,280,533 additional shares of common stock, which was completed on February 11, 2021. The Company received aggregate net proceeds from the February 2021 Offering of approximately $859 million after deducting underwriting discounts and commissions and offering expenses payable by the Company upon closing. The February 2021 Offering satisfied the liquidity event vesting condition of certain restricted stock units (\"RSUs\"). For further information on the RSUs, see “Note 12 — Share-Based Awards”.\\nOn December 21, 2020, the Company’s common stock and warrants began trading on the Nasdaq Global Select Market (“Nasdaq”) under the ticker symbols “OPEN” and “OPENW,” respectively. Pursuant to the Company’s certificate of incorporation, the Company is authorized to issue 3,000,000,000 shares of common stock with a par value of $0.0001 per share. On July 9, 2021, the Company completed the redemption of all of its outstanding Public and Sponsor Warrants and in connection with the redemption, the Public Warrants stopped trading on Nasdaq. \\nPrior to the Business Combination, the Company had outstanding shares of Series A, Series B, Series C, Series C-1, Series D, Series D-1, Series E, Series E-1, and Series E-2 convertible preferred stock (collectively, “Preferred Stock”). \\nTABLE OF CONTENTS\\nOPENDOOR TECHNOLOGIES INC.\\nNotes to Consolidated Financial Statements\\n(Tabular amounts in millions, except share and per share amounts, ratios, or as noted)\\n\\nImmediately prior to the Business Combination, all shares of the Company’s outstanding Preferred Stock converted into a total of 195 million shares of Opendoor Labs Inc. common stock on a one-for-one basis. Upon the Closing, Opendoor Labs Inc. common stock converted to Opendoor Technologies Inc. common stock with the application of the Exchange Ratio. \\nPreferred Stock\\nPursuant to the Company’s certificate of incorporation, the Company is authorized to issue 100,000,000 shares of preferred stock having a par value of $0.0001 per share (“Opendoor Technologies Preferred Stock”). The Company’s board of directors has the authority to issue Opendoor Technologies Preferred Stock and to determine the rights, preferences, privileges and restrictions, including voting rights, of those shares. As of December 31, 2023, there were no shares of Opendoor Technologies Preferred Stock issued and outstanding.\\nDividend\\nCommon stock is entitled to dividends when and if declared by the Company’s board of directors, subject to the rights of all classes of stock outstanding having priority rights to dividends. The Company has not paid any cash dividends on common stock to date. The Company may retain future earnings, if any, for the further development and expansion of its business and has no current plans to pay cash dividends for the foreseeable future. Any future determination to pay dividends will be made at the discretion of the Company’s board of directors and will depend on, among other things, the Company’s financial condition, results of operations, capital requirements, restrictions contained in future agreements and financing instruments, business prospects and such other factors as the Company’s board of directors may deem relevant. \\n12.SHARE-BASED AWARDS\\n2014 Stock Plan\\nOur 2014 Stock Plan (the “2014 Plan”), as last amended and approved by the board of directors on February 6, 2020, allowed the Company to grant up to 106,320,623 shares of common stock to employees, directors, and non-employees pursuant to awards of stock options, restricted stock or restricted stock units (“RSUs”) granted under the 2014 Plan. Upon the Closing, the remaining unallocated share reserve under the 2014 Plan was cancelled and no new awards will be granted under the 2014 Plan. Awards outstanding under the 2014 Plan were assumed by Opendoor Technologies upon the Closing and continue to be governed by the terms of the 2014 Plan. \\n2020 Equity Incentive Plans\\nIn connection with the close of the Business Combination, the Company adopted the 2020 Incentive Award Plan (the “2020 Plan”) under which 43,508,048 shares of common stock were initially reserved for issuance. The 2020 Plan allows for the issuance of stock options, stock appreciation rights, restricted stock, restricted stock units, dividend equivalents and other stock or cash based awards. The number of shares of the Company’s common stock available for issuance under the 2020 Plan automatically increases on the first day of each calendar year, beginning January 1, 2022 and ending on and including January 1, 2030, by the lesser of (a) a number equal to the excess (if any) of (1) 5% of the aggregate number of shares of common Stock outstanding on the final day of the immediately preceding calendar year over (2) the number of shares of common Stock then reserved for issuance under the 2020 Plan as of such date, and (b) such smaller number of shares determined by the Company’s board of directors. Pursuant to this automatic increase provision, as of December 31, 2023, 93,166,834 shares of common stock are reserved for issuance under the 2020 Plan.\\nIn connection with the close of the Business Combination, the Company’s board of directors approved the 2020 Employee Stock Purchase Plan (“ESPP”), which was last amended on February 8, 2023. There are 5,438,506 shares of common stock initially reserved for issuance under the ESPP. The number of shares of the Company’s common stock available for issuance under the ESPP automatically increases on the first day of each calendar year, beginning January 1, 2022 and ending on and including January 1, 2030, by the lesser of (a) 1% of the total number of shares of common stock outstanding on December 31 of the immediately preceding calendar year and (b) such number of shares as is determined by the Company’s board of directors; provided that, no more than 54,385,060 shares may be issued under the ESPP. Pursuant to this automatic increase provision, as of December 31, 2023, 17,973,904 shares of common stock are reserved for issuance under the ESPP. For the \\nTABLE OF CONTENTS\\nOPENDOOR TECHNOLOGIES INC.\\nNotes to Consolidated Financial Statements\\n(Tabular amounts in millions, except share and per share amounts, ratios, or as noted)\\n\\ntwelve months ended December 31, 2023 and December 31, 2022, shares issued under the ESPP were 2,151,794 at a weighted average price of $1.16 per share and 493,790 at a weighted average price of $3.68, respectively. \\n2022 Inducement Plan\\nIn July 2022, the Company’s board of directors adopted the 2022 Inducement Plan (the “Inducement Plan”). Under the Inducement Plan, 31,200,000 shares were initially reserved for issuance. The purpose of the Inducement Plan is to attract, retain and motivate prospective employees of the Company, particularly executive team members and employees joining as part of business combinations. The Inducement Plan allows for the issuance of non-qualified stock options, stock appreciation rights, restricted stock, restricted stock units, dividend equivalents and other stock or cash based awards to new employees of the Company or any subsidiary of the Company.\\nStock options and RSUs\\nOption awards are generally granted with an exercise price equal to the fair value of the Company’s common stock at the date of grant. Options are exercisable over a maximum term of 10 years from the date of grant and generally vest over a period of four years. Incentive stock options granted to a 10% shareholder are exercisable over a maximum term of five years from the date of grant.\\nA summary of the stock option activity for the year ended December 31, 2023, is as follows:\\n\\n                                             Number ofOptions(in thousands)                Weighted-AverageExercisePrice                  Weighted-AverageRemainingContractualTerm (in years)         AggregateIntrinsicValue(in millions)\\nBalance – December 31, 2022                             10,712                                         $2.13                                                                              3.5                            $1               \\nGranted                                                      —                                             —                                                                                                                              \\nExercised                                              (2,535)                                          1.07                                                                                                                              \\nExpired                                                  (357)                                          2.87                                                                                                                              \\nBalance – December 31, 2023                              7,820                                          2.44                                                                              3.3                           $16               \\nExercisable – December 31, 2023                          7,820                                          2.44                                                                              3.3                           $16               \\nAggregate intrinsic value represents the difference between the exercise price of the options and the estimated fair value of the Company’s common stock. The total intrinsic value of options exercised for the years ended December 31, 2023, 2022, and 2021, was $3 million, $20 million, and $144 million, respectively.\\nThe weighted-average grant date fair value per option granted for the year ended December 31, 2021 was $10.18.\\nRSUs typically vest upon a service-based requirement, generally over a two or four year period. Prior to 2021, certain awards also had a performance condition to vesting, which was satisfied upon completion of the February 2021 Offering and triggered the recognition of compensation expense for certain RSUs for which the time-based vesting condition had been satisfied or partially satisfied. Subsequent to the February 2021 Offering, these RSUs are only subject to time-based vesting conditions.\\nTABLE OF CONTENTS\\nOPENDOOR TECHNOLOGIES INC.\\nNotes to Consolidated Financial Statements\\n(Tabular amounts in millions, except share and per share amounts, ratios, or as noted)\\n\\nA summary of the RSU activity for the year ended December 31, 2023, is as follows:\\n\\n                                                         Number ofRSUs(in thousands)                     Weighted-AverageGrant-DateFair Value\\nUnvested and outstanding – December 31, 2022                      54,547                                                $10.29               \\nGranted                                                           56,065                                                  2.12               \\nVested                                                          (35,776)                                                  5.05               \\nForfeited                                                       (13,940)                                                 11.02               \\nUnvested and outstanding – December 31, 2023                      60,896                                                 $4.05               \\nThe total fair value of RSUs vested for the years ended December 31, 2023, 2022 and 2021was $112 million, $98 million, and $599 million, respectively. \\nRestricted Shares\\nThe Company has granted Restricted Shares to certain continuing employees, primarily in connection with acquisitions. The Restricted Shares vest upon satisfaction of a service condition, which generally ranges from three to four years.\\nThere were no Restricted Shares as of December 31, 2023. The total fair value of Restricted Shares vested for the years ended December 31, 2022, and December 31, 2021 was $1 million and $21 million, respectively.\\nESPP\\nThe first offering period for the Company\\'s 2020 ESPP began on March 1, 2022. The ESPP, pursuant to Internal Revenue Code Section 423, allows eligible participants to purchase shares using payroll deductions of up to 15% of their total compensation, subject to a $25,000 calendar year limitation on contributions. Prior to March 2023, the Company limited the maximum number of shares to be purchased in an offering period to 1,000 shares per employee, and each offering period was six months in duration. Beginning in March 2023, the maximum number of shares to be purchased in an offering period was increased to 10,000 shares per employee, 5,000 per purchase period, and each offering period is 12 months in duration, with two 6-month purchase periods. The ESPP allows eligible employees to purchase shares of the Company’s common stock at a 15% discount on the lower price of either (i) the offer period start date or (ii) the purchase date. The ESPP also includes a reset provision for the purchase price if the stock price on the purchase date is less than the stock price on the offering date. ESPP employee payroll contributions withheld as of December 31, 2023 were $2 million and are included within Accounts payable and other accrued liabilities in the consolidated balance sheets. Payroll contributions withheld as of December 31, 2023 will be used to purchase shares at the end of the current ESPP purchase period ending on February 29, 2024.\\nThe fair value of ESPP purchase rights is estimated at the date of grant using the Black-Scholes option-pricing valuation model. The following assumptions were applied in the model to estimate the grant-date fair value of the ESPP.\\n\\n                                      Year Ended December 31, 2023        Year Ended December 31, 2022\\nFair value                                           $0.64 - $2.13                        $1.78- $3.55\\nVolatility                                         101.8% - 119.1%                      94.5% - 101.4%\\nRisk-free rate                                       5.06% - 5.47%                        0.60%- 3.34%\\nExpected life (in years)                                 0.5 - 1.0                                 0.5\\nExpected dividend                                   $—                                  $—            \\nThe Company recognized stock-based compensation expense related to the ESPP of $2 million during the year ended December 31, 2023. As of December 31, 2023, total estimated unrecognized compensation expense related to the ESPP was $1.0 million. The unamortized compensation costs are expected to be recognized over the remaining term of the offering period of 0.4 years.\\nTABLE OF CONTENTS\\nOPENDOOR TECHNOLOGIES INC.\\nNotes to Consolidated Financial Statements\\n(Tabular amounts in millions, except share and per share amounts, ratios, or as noted)\\n\\nStock-based compensation expense\\nStock-based compensation expense is allocated based on the cost center to which the award holder belongs. The following table summarizes total stock-based compensation expense by function as presented in the consolidated statements of operations for the years ended December 31, 2023, 2022 and 2021, as follows (in millions):\\n\\n                                                                                     Year Ended December 31,\\n2023                                                                          2022                      2021\\nGeneral and administrative                       $63                      $109                      $463    \\nSales, marketing and operations                   16                        18                        13    \\nTechnology and development                        47                        44                        60    \\nTotal stock-based compensation expense          $126                      $171                      $536    \\nThe Company recognized $(4) million, $(13) million, $290 million of compensation expense during the years ended December 31, 2023, 2022, and 2021 respectively, related to all market condition awards outstanding. In December 2022, Eric Wu resigned as CEO of Opendoor, resulting in a $57 million reversal of stock-based compensation expense related to his market condition awards. In June 2021, the market condition for two market condition awards was satisfied, which resulted in the accelerated recognition of $2.0 million of stock-based compensation expense in the year ended December 31, 2021. During the years ended December 31, 2023 and December 31, 2022, no market conditions were satisfied. \\nAs of December 31, 2023, there was $209 million of unamortized stock-based compensation costs related to unvested RSUs. The unamortized compensation costs are expected to be recognized over a weighted-average period of approximately 1.8 years. \\nValuation of options\\nThe Black-Scholes Model used to value stock options incorporates the following assumptions: \\n\\n                                              Year Ended December 31,\\n                                                                 2021\\nFair value                                           $15.00          \\nVolatility                                               73         %\\nRisk-free rate                                         1.09         %\\nExpected life (in years)                                            7\\nExpected dividend                                        $—          \\nFair Value of Common Stock\\nPrior to the Company’s common stock becoming publicly traded, the fair value of the common stock underlying the stock option awards was determined by the board of directors. Given the absence of a public trading market, the board of directors considered numerous objective and subjective factors to determine the fair value of the Company’s common stock at each meeting at which awards were approved. These factors included, but were not limited to (i) contemporaneous third-party valuations of common stock; (ii) the rights, preferences and privileges of convertible preferred stock relative to common stock; (iii) the lack of marketability of common stock; (iv) stage and development of the Company’s business; (v) general economic conditions and (vi) the likelihood of achieving a liquidity event, such as an initial public offering or sale, given prevailing market conditions.\\nVolatility\\nPrior to the Company’s common stock becoming publicly traded, the expected stock price volatilities were estimated based on the historical and implied volatilities of comparable publicly traded companies as the Company did not have sufficient history of trading its common stock. Subsequent to the Company’s stock becoming publicly trade, the expected stock price \\nTABLE OF CONTENTS\\nOPENDOOR TECHNOLOGIES INC.\\nNotes to Consolidated Financial Statements\\n(Tabular amounts in millions, except share and per share amounts, ratios, or as noted)\\n\\nvolatilities were determined based on the volatilities implied by the price of the Company’s publicly traded call options in its common stock.\\nRisk-Free Interest Rate\\nThe risk-free interest rates are based on U.S. Treasury yields in effect at the grant date for notes with comparable terms as the awards.\\nExpected Life\\nThe expected term of options granted to employees is determined using the simplified method, which allows the Company to estimate the expected life as the midpoint between the vesting period and the contractual term, as the Company\\'s historical share option exercise experience does not provide a reasonable basis upon which to estimate the expected term.\\nDividend Yield\\nThe expected dividend yield assumption is based on the Company’s current expectations about its anticipated dividend policy.\\nValuation of RSUs and Restricted Stock\\nPrior to the Business Combination, given the absence of a public trading market, the Company’s board of directors considered numerous objective and subjective factors to determine the fair value of common stock at each meeting at which awards were approved. These factors include, but were not limited to, (i) contemporaneous valuations of common stock performed by an independent valuation specialist; (ii) developments in the Company’s business and stage of development; the Company’s operational and financial performance and condition; (iii) issuances of preferred stock and the rights and preferences of preferred stock relative to common stock; (iv) current condition of capital markets and the likelihood of achieving a liquidity event, such as an initial public offering or sale of the Company; and (v) the lack of marketability of the Company’s common stock. For financial reporting purposes, the Company considers the amount of time between the valuation date and the grant date to determine whether to use the latest common stock valuation or a straight-line interpolation between the two valuation dates. The determination includes an evaluation of whether the subsequent valuation indicates that any significant change in valuation had occurred between the previous valuation and the grant date.\\n13.WARRANTS\\nPublic and Sponsor Warrants\\nPrior to the Business Combination, SCH issued 6,133,333 Sponsor Warrants and 13,800,000 Public Warrants (collectively “Warrants”). Upon Closing, the Company assumed the Warrants. Each whole warrant entitles the holder to purchase one share of the Company’s common stock at a price of $11.50 per share, subject to adjustments. The Warrants are exercisable at any time commencing the later of a) 30 days after the completion of the Business Combination and b) 12 months from the date of the closing of the SCH’s initial public offering on April 30, 2020, and terminating five years after the Business Combination.\\nOnce the Public Warrants become exercisable, the Company may redeem the outstanding warrants, in whole and not in part, upon a minimum of 30 days’ prior written notice of redemption (“Redemption Period”). There are two scenarios in which the Company may redeem the Warrants. For purposes of the redemption scenarios, “Reference Value” shall mean the last reported sales price of the Company’s common stock for any twenty trading days within the thirty trading-day period ending on the third trading day prior to the date on which notice of the redemption is given. \\nThe Company may redeem the outstanding Warrants for cash at a price of $0.01 per warrant if the Reference Value equals or exceeds $18.00 per share. The warrant holders have the right to exercise their outstanding warrants prior to the scheduled redemption date during the Redemption Period at $11.50 per share. The Sponsor Warrants are exempt from redemption if the Reference Value is at or above $18.00 and the Sponsor Warrants continue to be held by the original warrant holder (“Sponsor\") or a permitted transferee.\\nTABLE OF CONTENTS\\nOPENDOOR TECHNOLOGIES INC.\\nNotes to Consolidated Financial Statements\\n(Tabular amounts in millions, except share and per share amounts, ratios, or as noted)\\n\\nThe Company may redeem the outstanding Warrants at a price of $0.10 per warrant if the Reference Value equals or exceeds $10.00 per share. If the Reference Value is less than $18.00, the Sponsor Warrants must also be concurrently called for redemption with the Public Warrants. The warrant holders have the right to exercise their outstanding warrants prior to the scheduled redemption date during the Redemption Period on a cashless basis. The cashless exercise entitles the warrant holders to receive a set number of shares based on the redemption date and the redemption fair value as defined in the warrant agreement.\\nIn connection with the Business Combination, on January 12, 2021, the Company filed a Registration Statement on Form S-1. This Registration Statement relates to the issuance of an aggregate of up to 19,933,333 shares of common stock issuable upon the exercise of its publicly-traded warrants. On July 9, 2021, the Company completed the redemption of all of its outstanding Public and Sponsor Warrants to purchase shares of the Company\\'s common stock, par value $0.0001 per share, that were issued under the Warrant Agreement, dated April 27, 2020. Of the 13,799,947 Public Warrants that were outstanding as of the time of the Business Combination, 874,739 were exercised for cash at an exercise price of $11.50 per share of Common Stock and 12,521,776 were exercised on a cashless basis in exchange for an aggregate of 4,452,659 shares of Common Stock. In addition, of the 6,133,333 Sponsor Warrants that were outstanding as of the date of the Business Combination, 1,073,333 were exercised for cash at an exercise price of $11.50 per share of Common Stock and 5,060,000 were exercised on a cashless basis in exchange for an aggregate of 1,799,336 shares of Common Stock. Total cash proceeds to the Company generated from exercises of the Warrants were $22 million. In connection with the redemption, the Public Warrants stopped trading on the Nasdaq on July 9, 2021.\\nThe Company recorded a decrease to the Warrant fair value adjustment of $(12) million for the change in fair value of the Sponsor Warrants for the year ended December 31, 2021.\\nMarketing Warrants\\nOn July 28, 2022, the Company entered into a warrant agreement with Zillow, Inc. (“Zillow”) in connection with a partnership arrangement that allows for Zillow to purchase up to 6 million shares of common stock that will vest in tranches (each, a “Tranche”) upon Zillow providing resale marketing services to the Company. Each Tranche will have an exercise price per share equal to the 30-day trailing volume weighted average price per share of Opendoor Common Stock (“VWAP”) prior to the vesting date of that Tranche, subject to a $15 floor and $30 cap per share. After a Tranche has vested, the Tranche can be exercised via a cash payment or a cashless exercise; provided that the Company has the option to cash settle any exercise. The warrant expires in July 2027, subject to extension for an additional Tranche and early termination under limited circumstances. Zillow began providing marketing services under the partnership arrangement in March 2023. As of December 31, 2023, no warrant shares had vested.\\n14.INCOME TAXES \\nIncome before income taxes consisted of losses from domestic operations of $274 million, $1.4 billion, and $661 million for the years ended December 31, 2023, 2022, and 2021, respectively.\\nThe following table summarizes the components of the Company’s provision for income taxes for the periods presented (in millions):\\n\\n                                       Year Ended December 31,                                  \\n2023                                                                2022                    2021\\nCurrent income tax expense:                                                                     \\nFederal                                $—                         $—                      $—    \\nState                                  1                           2                       1    \\nTotal current income tax expense       1                           2                       1    \\nIncome Tax Provision                   $                           $                      $1    \\nFor the years ended December 31, 2023, 2022, and 2021, the Company did not record any deferred federal and state income tax expense or benefit due to the full valuation allowance. Additionally, the Company’s foreign current and deferred expense or benefit was immaterial.\\nTABLE OF CONTENTS\\nOPENDOOR TECHNOLOGIES INC.\\nNotes to Consolidated Financial Statements\\n(Tabular amounts in millions, except share and per share amounts, ratios, or as noted)\\n\\nEffective Tax Rate\\nThe following table presents a reconciliation of the U.S. federal statutory income tax rates to the Company’s effective income tax rate for the periods presented:\\n\\n                                                                                                    Year Ended December 31,\\n2023                                                                                       2022                        2021\\nU. S. Federal tax benefit at statutory rate                21.0   %                    21.0   %                    21.0   %\\nState income taxes, net of federal benefit                  5.8                         2.7                         3.4    \\nNon-deductible expenses and other                         (1.1)                       (1.2)                       (0.4)    \\nNon-deductible warrant expenses                               —                           —                         0.4    \\nShare-based compensation                                  (6.6)                       (1.7)                         7.0    \\nDeduction limitation on executive compensation            (0.5)                       (0.3)                      (14.1)    \\nChange in valuation allowance, net                       (20.6)                      (21.4)                      (19.5)    \\nResearch and development credits                            1.5                         0.5                         2.0    \\nEffective tax rate                                        (0.5)   %                   (0.4)   %                   (0.2)   %\\nFor the years ended December 31, 2023, 2022 and 2021, the Company’s effective tax rate differs from the amount computed by applying the U.S. federal statutory and state income tax rates to net loss before income tax, primarily as the result of state income taxes, stock-based compensation / deduction limitation on executive compensation, and changes in the Company’s valuation allowance.\\nDeferred Taxes\\nDeferred income taxes reflect the net effects of temporary differences between the carrying amounts of assets and liabilities for financial reporting purposes and the amounts used for income taxes purposes. Significant components of the Company’s deferred tax assets and liabilities as of December 31, 2023 and 2022, are as follows (in millions):\\n\\n                                                          December 31, 2023                December 31, 2022\\nDeferred tax assets:                                                                                        \\nAccruals and reserves                                           $17                             $128        \\nInventory                                                        31                               34        \\nTax credits                                                      47                               41        \\nLease Liabilities                                                 6                               11        \\nSection 174 capitalization                                       81                               50        \\nGoodwill                                                          8                                8        \\nNet operating loss                                              541                              404        \\nTotal deferred tax assets                                       731                              676        \\nLess: Valuation allowance                                     (718)                            (664)        \\nDeferred tax assets, net of valuation allowance                  13                               12        \\nDeferred tax liabilities:                                                                                   \\nDepreciation and amortization                                   (7)                              (2)        \\nRight-of-use assets                                             (6)                             (10)        \\nDeferred tax liabilities                                       (13)                             (12)        \\nNet deferred tax assets and liabilities                          $—                               $—        \\nA valuation allowance is recognized if, based on the weight of available evidence, it is more likely than not that some portion or all of the deferred tax asset will not be realized in a particular tax jurisdiction. All available evidence, both positive \\nTABLE OF CONTENTS\\nOPENDOOR TECHNOLOGIES INC.\\nNotes to Consolidated Financial Statements\\n(Tabular amounts in millions, except share and per share amounts, ratios, or as noted)\\n\\nand negative, is considered to determine whether, based on the weight of that evidence, a valuation allowance is needed for some portion or all of a deferred tax asset. Due to the losses the Company generated in the current and prior years, the Company believes it is not more likely than not that all of the deferred tax assets can be realized. Accordingly, the Company established and recorded a full valuation allowance on its net deferred tax assets of $718 million as of December 31, 2023 and a full valuation allowance on its net deferred tax assets of $664 million as of December 31, 2022. The valuation allowance increased by $54 million and $288 million for 2023 and 2022, respectively primarily as a result of current year losses offset with deductibility of accrual / reserves.\\nAs of December 31, 2023, the Company had U.S. federal and state net operating loss (“NOL”) carryforwards of $2.2 billion and $1.7 billion, respectively, which will each begin to expire in 2034 if not utilized. For NOLs arising after December 31, 2017, the Tax Cuts and Jobs Act of 2017 limits a taxpayer’s ability to utilize NOL carryforwards to 80% of taxable income and can be carried forward indefinitely (carryback is generally prohibited). In the Company’s case, as of December 31, 2023, $2.1 billion of US. federal NOLs and $517 million of state NOLs have an unlimited carryover period. NOLs generated in tax years beginning before January 1, 2018 will not be subject to the taxable income limitation and will continue to have a two-year carryback and twenty-year carryforward period. Additionally, as of December 31, 2023, the Company had U.S. federal research tax credit carryforwards of $45 million that begin to expire in 2034. The Company also had state research tax credit carryforwards of $29 million with an indefinite carryforward period.\\nSection 382 of the Internal Revenue Code (the “Code”) limits the use of net operating losses and tax credit carryforwards in certain situations where changes occur in the stock ownership of a company. Utilization of the net operating loss carryforwards are subject to various limitations due to the ownership change limitations provided by Internal Revenue Code (IRC) Section 382 and similar state provisions. The Company performed an ownership analysis and identified three previous ownership changes in 2014, 2016 and 2020, as defined under Section 382 and 383 of the IRC, however none of the previous ownership changes resulted in a material limitation that will reduce the total amount of net operating loss carryforwards and credits that can be utilized.\\nUnrecognized Tax Benefits\\nThe following is a tabular reconciliation of the total amounts of unrecognized tax benefits (in millions):\\n\\n                                                                                                    Year Ended December 31,\\n2023                                                                                           2022                    2021\\nUnrecognized tax benefits as of the beginning of the year           $20                     $15                      $6    \\nIncrease related to current year tax provisions                       2                       5                       9    \\nUnrecognized tax benefits as of the end of the year                 $22                     $20                     $15    \\nDue to the full valuation allowance at December 31, 2023, current adjustments to the unrecognized tax benefit will have no impact on the Company’s effective income tax rate. There would be an impact of $22 million to the effective tax rate if adjustments are made after the valuation allowance is released. The Company does not anticipate any significant change in its uncertain tax positions within 12 months of this reporting date.\\nThe Company’s policy is to recognize interest and penalties associated with uncertain tax benefits as part of the income tax provision and include accrued interest and penalties with the related income tax liability on the Company’s consolidated balance sheets. To date, the Company has not recognized any interest and penalties in its consolidated statements of operations, nor has it accrued for or made payments for interest and penalties. The Company is subject to federal and state income taxes in the United States, and foreign income taxes in Canada and India. Due to the history of net operating losses, the Company is subject to U.S. federal, state and local examinations by tax authorities for all years since incorporation but as of December 31, 2023 are not currently under any audits.\\nThe Company has not provided U.S. income or foreign withholding taxes on the undistributed earnings of its foreign subsidiaries as of December 31, 2023, because it intends to permanently reinvest such earnings outside of the U.S. If these foreign earnings were to be repatriated in the future, the related U.S. tax liability will be immaterial, due to the participation exemption put in place under the Tax Act.\\nTABLE OF CONTENTS\\nOPENDOOR TECHNOLOGIES INC.\\nNotes to Consolidated Financial Statements\\n(Tabular amounts in millions, except share and per share amounts, ratios, or as noted)\\n\\n15.NET LOSS PER SHARE\\nBasic net loss per share is computed based on the weighted average number of shares of common stock outstanding during the period. Diluted net loss per share is computed based on the weighted average number of common shares outstanding plus the effect of dilutive potential common shares outstanding during the period using the treasury stock method. During the periods when there is a net loss, potentially dilutive common stock equivalents have been excluded from the calculation of diluted net loss per share as their effect is anti-dilutive. No dividends were declared or paid for the years ended December 31, 2023, 2022, or 2021.\\nThe Company uses the two-class method to calculate net loss per share and apply the more dilutive of the two-class method, treasury stock method or if-converted method to calculate diluted net loss per share. Undistributed earnings for each period are allocated to participating securities, based on the contractual participation rights of the security to share in the current earnings as if all current period earnings had been distributed. As there is no contractual obligation for participating securities to share in losses, the Company’s basic net loss per share is computed by dividing the net loss attributable to common shareholders by the weighted-average shares of common stock outstanding during periods with undistributed losses.\\nThe following table sets forth the computation of the Company’s basic and diluted net loss per share attributable to common shareholders for the years ended December 31, 2023, 2022, and 2021 (in millions, except share amounts which are presented in thousands, and per share amounts):\\n\\n                                                               Year Ended December 31,                                                \\n2023                                                                           2022                          2021                     \\nBasic and diluted net loss per share:                                                                                                 \\nNumerator:                                                                                                                            \\nNet loss                                                       $(275)                      $(1,353)                      $(662)       \\nDenominator:                                                                                                                          \\nWeighted average shares outstanding – basic and diluted        657,111                     627,105                       592,574      \\nBasic and diluted net loss per share                           $(0.42)                     $(2.16)                       $(1.12)      \\nThere were no preferred dividends declared or accumulated for the period.\\nThe following securities were not included in the computation of diluted shares outstanding because the effect would be anti-dilutive, or issuance of such shares is contingent upon the satisfaction of certain conditions which were not satisfied by the end of the period (in thousands):\\n\\n                                                                                        Year Ended December 31,\\n2023                                                      2022                                             2021\\nRSUs                                         60,896                      54,547                      53,446    \\nOptions                                       7,820                      10,712                      14,546    \\nUnvested Shares from Early Exercise               —                           —                           4    \\nRestricted Shares                                 —                           —                         692    \\nEmployee Stock Purchase Plan                  1,992                       1,867                           —    \\nTotal anti-dilutive securities               70,708                      67,126                      68,688    \\n16.BUSINESS ACQUISITIONS\\nOn September 3, 2021, the Company acquired 100% of the outstanding equity of Services Labs, Inc., including its consolidated subsidiaries (“Pro.com”), in exchange for $22 million in cash consideration. The Company acquired Pro.com, a construction project platform, for its technology and talent. Acquired intangible assets consisted of developed technology valued at $4 million and were amortized over one year. Goodwill attributed to the Pro.com acquisition was $16 million.\\nTABLE OF CONTENTS\\nOPENDOOR TECHNOLOGIES INC.\\nNotes to Consolidated Financial Statements\\n(Tabular amounts in millions, except share and per share amounts, ratios, or as noted)\\n\\nOn November 3, 2021, the Company acquired the assets of RedDoor HQ Inc. (“RedDoor”) as part of a business combination in exchange for $15 million in cash consideration, of which $2 million was paid out one year following the date of closing. The Company acquired the processes, systems and talent of RedDoor, which previously operated an online mortgage brokerage platform. Acquired intangible assets consisted of developed technology valued at $3 million and were amortized over one year. Goodwill attributed to the RedDoor acquisition was $13 million.\\nOn November 4, 2022, the Company acquired TaxProper Inc. as part of a business combination in exchange for $10 million in cash consideration, of which $3 million is to be paid out one year following the date of closing. The Company acquired the processes, systems and talent of TaxProper, which previously provided tax forecasting, payments, and appeals services. Acquired intangible assets consist of developed technology valued at $7 million and are being amortized over two years. Goodwill attributed to the TaxProper acquisition was $2 million.\\n17.COMMITMENTS AND CONTINGENCIES\\nLease Commitments\\nThe Company has entered into various non-cancelable operating lease agreements for certain of its office space. See “Note 8 — Leases” for further discussion.\\nLegal Matters\\nFrom time to time, the Company may be subject to potential liability relating to the ownership and operations of the Company’s properties. Accruals are recorded when the outcome is probable and can be reasonably estimated.\\nThere are various claims and lawsuits arising in the normal course of business pending against the Company, some of which seek damages and other relief which, if granted, may require future cash expenditures. In addition, from time to time the Company receives inquiries and audit requests from various government agencies and fully cooperates with these requests. The Company does not believe that it is reasonably possible that the resolution of these matters would result in any liability that would materially affect the Company’s consolidated results of operations or financial condition except as noted below.\\nOn October 7, 2022 and November 22, 2022, purported securities class action lawsuits were filed in the United States District Court for the District of Arizona, captioned Alich v. Opendoor Technologies Inc., et al. (Case No. 2:22-cv-01717-JFM) (“Alich”) and Oakland County Voluntary Employee’s Beneficiary Association, et al. v. Opendoor Technologies Inc., et al. (Case No. 2:22-cv-01987-GMS) (“Oakland County”), respectively. The lawsuits were consolidated into a single action, captioned In re Opendoor Technologies Inc. Securities Litigation (Case No. 2:22-CV-01717-MTL). The consolidated amended complaint names as defendants the Company, Social Capital Hedosophia Holdings Corp. II (SCH\"), certain of the Company’s current and former officers and directors and the underwriters of a securities offering the Company made in February 2021. The complaint alleges that the Company and certain officers violated Section 10(b) of the Exchange Act and SEC Rule 10b-5, and that the Company, SCH, certain officers and directors and the underwriters violated Section 11 of the Securities Act, in each case by making materially false or misleading statements related to the effectiveness of the Company’s pricing algorithm. The plaintiffs also allege that certain defendants violated Section 20(a) of the Exchange Act and Section 15 of the Securities Act, respectively, which provide for control person liability. The complaint asserts claims on behalf of all persons and entities that purchased, or otherwise acquired, Company common stock between December 21, 2020 and November 3, 2022 or pursuant to offering documents issued in connection with our business combination with SCH and the secondary public offering conducted by the Company in February 2021. The plaintiffs seek class certification, an award of unspecified compensatory damages, an award of interest and reasonable costs and expenses, including attorneys’ fees and expert fees, and other and further relief as the court may deem just and proper. The defendants filed motions to dismiss on June 30, 2023, which are pending before the court. We believe that the allegations in the complaint are without merit and we intend to vigorously defend ourselves in the matter.\\nOn March 1, 2023 and March 15, 2023, shareholder derivative lawsuits were filed in the United States District Court for the District of Arizona, captioned Carlson v. Rice, et al. (Case No. 2:23-cv-00367-GMS) and Van Dorn v. Wu, et al. (Case No. 2:23-cv-00455-DMF), respectively, which were subsequently consolidated into a single action, captioned Carlson v. Rice (Case No. 2:23-CV-00367-GMS). Plaintiffs voluntarily dismissed the matter on June 22, 2023, and thereafter re-filed complaints in the Court of Chancery of the State of Delaware, captioned Carlson v. Rice, et al. (Case No. 2023-0642) and Van Dorn v. Rice, et al. (Case No. 2023-0643). The cases have been consolidated into a single action, captioned Opendoor Technologies Inc. \\nTABLE OF CONTENTS\\nOPENDOOR TECHNOLOGIES INC.\\nNotes to Consolidated Financial Statements\\n(Tabular amounts in millions, except share and per share amounts, ratios, or as noted)\\n\\nStockholder Derivative Litigation (Case No. 2023-0642). On June 29, 2023, a shareholder derivative lawsuit was filed in the United States District Court for the District of Delaware, captioned Juul v. Wu, et al. (Case No. 1:23-cv-00705-UNA). The complaints in each matter are based on the same facts and circumstances as In re Opendoor Technologies Inc. Securities Litigation and name certain officers and directors of the Company as defendants. The defendants are alleged to have violated Section 10(b) of the Exchange Act and SEC Rule 10b-5 and breached fiduciary duties. The plaintiffs seek to maintain the derivative actions on behalf of the Company, an award of unspecified compensatory damages, an order directing the Company to reform its corporate governance and internal procedures, restitutionary relief, an award of interest and expenses, including attorneys’ fees and expert fees, and other and further relief as the court may deem just and proper. These derivative actions have been stayed pending further developments in In re Opendoor Technologies Inc. Securities Litigation.\\nOn October 13, 2023, a shareholder derivative lawsuit was filed in the United States District Court for the District of Delaware, captioned Woods, et al. v. Bain, et al. (Case No. 1:23-cv-01158-UNA). The complaint is based on facts and circumstances related to In re Opendoor Technologies Inc. Securities Litigation. The plaintiffs have brought claims against certain current and former directors and officers of the Company for breach of fiduciary duty, contribution under Sections 10(b) and 21D of the Exchange Act, SEC Rule 10b-5, violations of Section 14(a) of the Exchange Act, and SEC Rule 14a-9 promulgated thereunder. The plaintiffs seek to maintain the derivative action on behalf of the Company, an award of unspecified compensatory damages, an order directing one of the defendants to disgorge monies allegedly obtained from certain Company stock sale, equitable relief, an award of interest and expenses, including attorneys’ fees and expert fees, and other and further relief as the court may deem just and proper. This derivative action has been stayed pending further developments in In re Opendoor Technologies Inc. Securities Litigation.\\nOn October 18, 2023, a shareholder derivative lawsuit was filed in the United States District Court for the District of Arizona, captioned Gera v. Palihapitiya, et al. (Case No. 2:23-cv-02164-SMB). The complaint is based on facts and circumstances related to In re Opendoor Technologies Inc. Securities Litigation, and names as defendants certain current and former officers and directors of the Company and SCH Sponsor II LLC. The complaint alleges that the defendants violated Section 14(a) of the Exchange Act, and SEC Rule 14a-9 promulgated thereunder. The plaintiff seeks to maintain the derivative action on behalf of the Company, an award of unspecified compensatory damages, an order directing the Company to reform certain corporate governance and internal procedures, restitution, an award of cost and expenses, including attorneys’ fees and expert fees, and other and further relief as the court may deem just and proper.\\n18.RESTRUCTURING\\nDuring the years ended December 31, 2023 and 2022, the Company initiated workforce reductions to realign its capacity with volume expectations, streamline the organization and focus its investments to support its growth plans, re-scale the business, and improve costs.\\nIn the fourth quarter of 2023, the Company initiated two workforce reductions, impacting 120 employees, representing approximately 6% of the Company’s workforce at that time. The Company will provide severance and other termination benefits (“Post-Employment Benefits”) to impacted employees for an expected total expense of approximately $4 million, of which $1 million was paid out through December 31, 2023.\\nOn April 18, 2023, the Company announced a workforce reduction of approximately 560 employees, representing approximately 22% of the Company’s workforce at that time and primarily impacting volume-based roles. The Company provided Post-Employment Benefits to impacted employees for a total expense of approximately $10 million. Payments related to this workforce reduction were substantially completed as of December 31, 2023.\\nIn November 2022, the Company initiated a workforce reduction of 550 employees, which included: (i) reducing the Company’s headcount by 18% and (ii) winding down of our mortgage lending and brokerage services. The Company provided Post-Employment Benefits to impacted employees and incurred costs to wind down mortgage services for a total expense of $17 million. Payments related to this workforce reduction were substantially completed as of December 31, 2022.\\nThese costs have been presented within the Restructuring costs line in the Company’s consolidated statement of operations. As of December 31, 2023, the remaining $3 million is included within Accounts payable and other accrued expenses in the Consolidated balance sheets.\\nTABLE OF CONTENTS\\nOPENDOOR TECHNOLOGIES INC.\\nNotes to Consolidated Financial Statements\\n(Tabular amounts in millions, except share and per share amounts, ratios, or as noted)\\n\\nThe following table presents the activity of the restructuring liability (in millions):\\n\\nBalance-December 31, 2021                 —\\nAdditions charged to expense             17\\nCash payments                          (13)\\nBalance-December 31, 2022                 4\\nAdditions charged to expense             14\\nCash payments                          (15)\\nBalance-December 31, 2023                $3\\n19.SUBSEQUENT EVENTS \\nThe Company has evaluated the impact of events that have occurred subsequent to December 31, 2023, through the date the consolidated financial statements were filed with the SEC. Based on this evaluation, other than as recorded or disclosed within these consolidated financial statements and related notes, the Company has determined that there are no material subsequent events that would require recognition or disclosure.\\n******\\nTABLE OF CONTENTS\\nOPENDOOR TECHNOLOGIES INC.\\nSchedule I\\n(PARENT COMPANY ONLY)\\n\\nCONDENSED FINANCIAL INFORMATION\\nCONDENSED BALANCE SHEETS\\n(In millions, except share data)\\n\\n                                                                                                                                                                                                                                      December 31,\\n                                                                                                                                                                                                                  2023                        2022\\nASSETS                                                                                                                                                                                                                                            \\nIntangibles - net                                                                                                                                                                                               $1                          $1    \\nInvestment in subsidiaries                                                                                                                                                                                   1,342                       2,046    \\nTOTAL ASSETS                                                                                                                                                                                                $1,343                      $2,047    \\nLIABILITIES AND SHAREHOLDERS’ EQUITY                                                                                                                                                                                                              \\nAccounts payable and other accrued liabilities                                                                                                                                                                  $—                          $1    \\nInterest payable                                                                                                                                                                                                 —                           1    \\nConvertible senior notes                                                                                                                                                                                       376                         959    \\nTotal liabilities                                                                                                                                                                                              376                         961    \\nShareholders’ equity:                                                                                                                                                                                                                             \\nCommon stock, $0.0001 par value; 3,000,000,000 shares authorized; 677,636,163 and 637,387,025 shares issued, respectively; 677,636,163 and 637,387,025 shares outstanding, respectively                          —                           —    \\nAdditional paid-in capital                                                                                                                                                                                   4,301                       4,148    \\nAccumulated deficit                                                                                                                                                                                        (3,333)                     (3,058)    \\nAccumulated other comprehensive income (loss)                                                                                                                                                                  (1)                         (4)    \\nTotal shareholders’ equity                                                                                                                                                                                     967                       1,086    \\nTOTAL LIABILITIES AND SHAREHOLDERS’ EQUITY                                                                                                                                                                  $1,343                      $2,047    \\nSee accompanying note to condensed financial statements.\\nTABLE OF CONTENTS\\nOPENDOOR TECHNOLOGIES INC.\\nSchedule I\\n(PARENT COMPANY ONLY)\\n\\nCONDENSED STATEMENTS OF OPERATIONS\\n(In millions)\\n\\n                                                                                          Year Ended December 31,\\n2023                                                                             2022                        2021\\nOperating expenses:                                                                                              \\nGeneral and administrative                       $8                            $7                          $7    \\nTotal operating expenses                          8                             7                           7    \\nLoss from operations                            (8)                           (7)                         (7)    \\nWarrant fair value adjustment                     —                             —                          12    \\nGain on extinguishment of debt                  225                             —                           —    \\nInterest expense                                (5)                           (8)                         (2)    \\nIncome (loss) before income taxes               212                          (15)                           3    \\nIncome tax expense                                —                             —                           —    \\nEarnings of subsidiaries                      (487)                       (1,338)                       (665)    \\nNet loss                                     $(275)                      $(1,353)                      $(662)    \\nSee accompanying note to condensed financial statements.\\nTABLE OF CONTENTS\\nOPENDOOR TECHNOLOGIES INC.\\nSchedule I\\n(PARENT COMPANY ONLY)\\n\\nCONDENSED STATEMENTS OF CASH FLOWS\\n(In millions)\\n\\n                                                                                                                                                   Year Ended December 31,\\n2023                                                                                                                                      2022                        2021\\nCASH FLOWS FROM OPERATING ACTIVITIES:                                                                                                                                     \\nNet loss                                                                                              $(275)                      $(1,353)                      $(662)    \\nAdjustments to reconcile net loss to cash, cash equivalents used in operating activities:                                                                                 \\nEarnings of subsidiaries                                                                                 487                         1,338                         665    \\nDepreciation and amortization, net of accretion                                                            3                             7                           2    \\nWarrant fair value adjustment                                                                              —                             —                        (12)    \\nGain on early extinguishment of debt                                                                   (225)                             —                           —    \\nInterest payable                                                                                         (1)                             —                           1    \\nOther                                                                                                      2                           (2)                           —    \\nNet cash used in operating activities                                                                    (9)                          (10)                         (6)    \\nCASH FLOWS FROM INVESTING ACTIVITIES:                                                                                                                                     \\nPurchase of intangible assets                                                                              —                             —                         (1)    \\nInvestment in subsidiary                                                                                 (4)                           (6)                     (1,860)    \\nDistribution from subsidiary                                                                             370                            10                         139    \\nNet cash provided by (used in) investing activities                                                      366                             4                     (1,722)    \\nCASH FLOWS FROM FINANCING ACTIVITIES:                                                                                                                                     \\nProceeds from issuance of convertible senior notes                                                         —                             —                         953    \\nRepurchase of convertible senior notes                                                                 (362)                             —                           —    \\nPurchase of capped calls related to convertible senior notes                                               —                             —                       (119)    \\nProceeds from exercise of stock options                                                                    3                             4                          15    \\nProceeds from issuance of common stock for ESPP                                                            2                             2                           —    \\nProceeds from warrant exercises                                                                            —                             —                          22    \\nProceeds from February 2021 Offering                                                                       —                             —                         886    \\nIssuance of common stock                                                                                   —                             —                        (29)    \\nNet cash (used in) provided by financing activities                                                    (357)                             6                       1,728    \\nNET INCREASE IN CASH AND CASH EQUIVALENTS                                                                  —                             —                           —    \\nCASH AND CASH EQUIVALENTS - Beginning of year                                                              —                             —                           —    \\nCASH AND CASH EQUIVALENTS - End of year                                                                   $—                            $—                          $—    \\nSUPPLEMENTAL DISCLOSURE OF CASH FLOW INFORMATION – Cash paid during the period for interest               $3                            $2                          $—    \\nDISCLOSURES OF NONCASH FINANCING ACTIVITIES:                                                                                                                              \\nRecognition of warrant liability                                                                          $—                            $—                          $—    \\nIssuance of common stock in extinguishment of warrant liabilities                                         $—                            $—                       $(35)    \\nSee accompanying note to condensed financial statements.\\nTABLE OF CONTENTS\\nOPENDOOR TECHNOLOGIES INC.\\nSchedule I\\n(PARENT COMPANY ONLY)\\n\\nNotes to Condensed Financial Statements\\n1.INTRODUCTION AND BASIS OF PRESENTATION\\nThe accompanying condensed financial statements, including the note thereto, should be read in conjunction with the consolidated financial statements and notes thereto of Opendoor Technologies Inc. found in the Company’s Annual Report on Form 10-K for the year ended December 31, 2023. For purposes of these condensed financial statements, the Company’s wholly-owned subsidiaries are accounted for using the equity method of accounting.\\nTABLE OF CONTENTS\\nOPENDOOR TECHNOLOGIES INC.\\n\\n'"
      ]
     },
     "execution_count": 7,
     "metadata": {},
     "output_type": "execute_result"
    }
   ],
   "source": [
    "tenk[\"item 8\"]"
   ]
  },
  {
   "cell_type": "code",
   "execution_count": 22,
   "metadata": {},
   "outputs": [
    {
     "name": "stdout",
     "output_type": "stream",
     "text": [
      "The content reflects a series of financial statements and disclosures related to Opendoor Technologies Inc., highlighting key metrics such as net loss, cash flow activities, and investment transactions. It includes references to convertible senior notes, warrant liabilities, and stock option exercises which are crucial for understanding the company's financing strategy. The accompanying notes provide additional context on accounting methodologies used in preparing these condensed financial statements, emphasizing their relationship with the full consolidated financial reports available through the Company’s Form 10-K filing. Overall, this data is critical for analyzing the company's performance and financial position over time.\n"
     ]
    }
   ],
   "source": []
  },
  {
   "cell_type": "code",
   "execution_count": 8,
   "metadata": {},
   "outputs": [],
   "source": [
    "promt = f\"\"\"\"\n",
    "Summarize the key points from the next Item 8 (Financial Statements and Supplementary Data) {tenk[\"item 8\"]} of the company's 10-K filing {ticker}. Focus on the most impactful aspects, such as profitability metrics, trends in revenue and expenses, \n",
    "significant changes in financial position, major risks highlighted by the statements, and any extraordinary or one-time events. Ensure the summary emphasizes insights relevant to the company’s overall performance and market positioning\n",
    "\"\"\""
   ]
  },
  {
   "cell_type": "code",
   "execution_count": 12,
   "metadata": {},
   "outputs": [
    {
     "name": "stdout",
     "output_type": "stream",
     "text": [
      "In analyzing Opendoor Technologies Inc.'s 10-K filing for the year ended December 31, 2023, several key aspects emerge:\n",
      "\n",
      "1. **Profitability Metrics:**\n",
      "   - The net loss reported was $(275) million, down from a net loss of $(1,353) million in 2022 and $(662) million in 2021.\n",
      "   - The income tax expense remains at $0 throughout the periods.\n",
      "   - Earnings of subsidiaries fluctuated significantly, starting at $(487) million in 2023, compared to $(1,338) million in 2022.\n",
      "\n",
      "2. **Revenue Trends:**\n",
      "   - Total revenue and operating expenses have not been disclosed in detail within the provided sections; however, it is indicated that operating expenses were consistent at $7-8 million for each year.\n",
      "   - The general trend suggests increasing costs relative to revenue, evidenced by the net loss figures despite stable operational expense ranges.\n",
      "\n",
      "3. **Significant Changes in Financial Position:**\n",
      "   - Cash flows from operations have been negative ($9 million in 2023), indicating that the company is currently not generating sufficient cash flow from its core business activities.\n",
      "   - Financing activities show a net use of $357 million, primarily due to repurchase and issuance adjustments.\n",
      "\n",
      "4. **Major Risks:**\n",
      "   - The company’s reliance on operating expenses suggests a need for cost management strategies to stabilize profitability.\n",
      "   - The negative cash flows raise concerns about liquidity and the ability to sustain operations without external financing support.\n",
      "\n",
      "5. **Extraordinary Events or One-Time Charges:**\n",
      "   - There are references to gains and losses that may indicate significant one-time transactions, such as the gain on extinguishment of debt ($225 million) in 2023.\n",
      "   - The recognition of a warrant liability may also imply potential future impacts from derivative instruments.\n",
      "\n",
      "Overall, while Opendoor Technologies Inc. appears to be navigating through challenging financial landscapes with substantial net losses and negative cash flows from operations, there are opportunities for strategic cost management and operational efficiency that could potentially improve the company's financial health moving forward. Understanding these aspects is crucial for assessing its long-term viability in the market.\n"
     ]
    }
   ],
   "source": [
    "response = ollama.chat(model='0xroyce/plutus', messages=[\n",
    "    {\n",
    "        'role' : 'user',\n",
    "        'content' : promt\n",
    "    },\n",
    "])\n",
    "print(response['message']['content'])"
   ]
  },
  {
   "cell_type": "code",
   "execution_count": 9,
   "metadata": {},
   "outputs": [
    {
     "name": "stdout",
     "output_type": "stream",
     "text": [
      "Here's a summary of the key points from Item 8 (Financial Statements and Supplementary Data) of Opendoor Technologies Inc.'s 10-K filing:\n",
      "\n",
      "**Financial Highlights**\n",
      "\n",
      "* Net loss: $(275) million in 2023, $(1,353) million in 2022, and $(662) million in 2021\n",
      "* Operating expenses increased from $7 million in 2021 to $8 million in 2023\n",
      "* Loss from operations was $(8) million in 2023, compared to $(7) million in 2022 and $(7) million in 2021\n",
      "* Cash flows:\n",
      "\t+ Net cash used in operating activities: $(9) million in 2023, $(10) million in 2022, and $(6) million in 2021\n",
      "\t+ Net cash provided by (used in) investing activities: $366 million in 2023, $4 million in 2022, and $(1,722) million in 2021\n",
      "\t+ Net cash (used in) provided by financing activities: $(357) million in 2023, $6 million in 2022, and $1,728 million in 2021\n",
      "\n",
      "**Trends and Insights**\n",
      "\n",
      "* Revenue growth has been slow, with a increase of only $1 million from 2021 to 2023\n",
      "* Operating expenses have increased significantly, up 14% from 2021 to 2023\n",
      "* The company has significant debt obligations, with $362 million in convertible senior notes repurchased in 2022 and $119 million in capped calls related to these notes\n",
      "* The company has a history of net losses, which could impact its ability to raise capital or fund its operations\n",
      "\n",
      "**Major Risks**\n",
      "\n",
      "* The company's financial performance is highly dependent on the housing market, particularly in areas where it operates\n",
      "* The company faces intense competition in the iBuyer market and may not be able to differentiate itself effectively\n",
      "* The company has a significant amount of debt, which could impact its ability to fund its operations or respond to changes in the market\n",
      "\n",
      "**Extraordinary Events**\n",
      "\n",
      "* The company recognized a gain on early extinguishment of debt of $225 million in 2023\n",
      "* The company had a warrant fair value adjustment of $(12) million in 2021 and $(487) million in 2023\n",
      "* The company has a history of non-cash financing activities, including the recognition of warrant liabilities and the issuance of common stock in extinguishment of warrant liabilities."
     ]
    }
   ],
   "source": [
    "stream = ollama.chat(\n",
    "    model='llama3',\n",
    "    messages=[{'role' : 'user', 'content' : promt}],\n",
    "    stream=True\n",
    ")\n",
    "\n",
    "for chunk in stream:\n",
    "    print(chunk['message']['content'], end='', flush=True)"
   ]
  },
  {
   "cell_type": "code",
   "execution_count": 13,
   "metadata": {},
   "outputs": [
    {
     "data": {
      "text/plain": [
       "\"In analyzing Opendoor Technologies Inc.'s 10-K filing for the year ended December 31, 2023, several key aspects emerge:\\n\\n1. **Profitability Metrics:**\\n   - The net loss reported was $(275) million, down from a net loss of $(1,353) million in 2022 and $(662) million in 2021.\\n   - The income tax expense remains at $0 throughout the periods.\\n   - Earnings of subsidiaries fluctuated significantly, starting at $(487) million in 2023, compared to $(1,338) million in 2022.\\n\\n2. **Revenue Trends:**\\n   - Total revenue and operating expenses have not been disclosed in detail within the provided sections; however, it is indicated that operating expenses were consistent at $7-8 million for each year.\\n   - The general trend suggests increasing costs relative to revenue, evidenced by the net loss figures despite stable operational expense ranges.\\n\\n3. **Significant Changes in Financial Position:**\\n   - Cash flows from operations have been negative ($9 million in 2023), indicating that the company is currently not generating sufficient cash flow from its core business activities.\\n   - Financing activities show a net use of $357 million, primarily due to repurchase and issuance adjustments.\\n\\n4. **Major Risks:**\\n   - The company’s reliance on operating expenses suggests a need for cost management strategies to stabilize profitability.\\n   - The negative cash flows raise concerns about liquidity and the ability to sustain operations without external financing support.\\n\\n5. **Extraordinary Events or One-Time Charges:**\\n   - There are references to gains and losses that may indicate significant one-time transactions, such as the gain on extinguishment of debt ($225 million) in 2023.\\n   - The recognition of a warrant liability may also imply potential future impacts from derivative instruments.\\n\\nOverall, while Opendoor Technologies Inc. appears to be navigating through challenging financial landscapes with substantial net losses and negative cash flows from operations, there are opportunities for strategic cost management and operational efficiency that could potentially improve the company's financial health moving forward. Understanding these aspects is crucial for assessing its long-term viability in the market.\""
      ]
     },
     "execution_count": 13,
     "metadata": {},
     "output_type": "execute_result"
    }
   ],
   "source": [
    "response['message']['content']"
   ]
  },
  {
   "cell_type": "code",
   "execution_count": 14,
   "metadata": {},
   "outputs": [],
   "source": [
    "promt_traduc = f\"\"\"\n",
    "For the answer {response['message']['content']} traduce to me in spanish.\n",
    "\"\"\""
   ]
  },
  {
   "cell_type": "code",
   "execution_count": 15,
   "metadata": {},
   "outputs": [
    {
     "name": "stdout",
     "output_type": "stream",
     "text": [
      "Análisis del informe 10-K de Opendoor Technologies Inc. para el año terminado el 31 de diciembre de 2023:\n",
      "\n",
      "1. **Métricas de rentabilidad:**\n",
      "   - El pérdida neto reportada fue de $(275) millones, a partir de una pérdida neto de $(1,353) millones en 2022 y $(662) millones en 2021.\n",
      "   - La expensiva tributaria permaneció en $0 durante los periodos.\n",
      "   - Los ingresos de subsidiarias fluctuaron significativamente, comenzando en $(487) millones en 2023, comparado con $(1,338) millones en 2022.\n",
      "\n",
      "2. **Tendencias de ingresos:**\n",
      "   - No se han proporcionado detalles sobre los ingresos totales y gastos operativos en las secciones proporcionadas; sin embargo, se indica que los gastos operativos fueron consistentes en $7-8 millones para cada año.\n",
      "   - La tendencia general sugiere costos aumentando en relación con los ingresos, lo que se refleja en las pérdidas netas a pesar de los rangos estables de gasto operativo.\n",
      "\n",
      "3. **Cambios significativos en la posición financiera:**\n",
      "   - Los flujos de caja generados por operaciones han sido negativos ($9 millones en 2023), lo que indica que la empresa no está generando suficiente flujo de efectivo desde sus actividades empresariales básicas.\n",
      "   - Las actividades de financiamiento muestran un uso neto de $357 millones, principalmente debido a ajustes de compras y emisiones.\n",
      "\n",
      "4. **Riesgos principales:**\n",
      "   - La dependencia de la empresa en gastos operativos sugiere la necesidad de estrategias de gestión de costos para estabilizar la rentabilidad.\n",
      "   - Los flujos de caja negativos levantan preocupaciones sobre la liquidez y la capacidad de mantener las operaciones sin apoyo financiero externo.\n",
      "\n",
      "5. **Eventos o cargas extraordinarios:**\n",
      "   - Hay referencias a ganancias y pérdidas que pueden indicar transacciones una sola vez, como el gain en la extinguición del débito ($225 millones) en 2023.\n",
      "   - La reconocimiento de un pasivo por opción puede también implicar impactos potenciales futuros desde instrumentos derivados.\n",
      "\n",
      "En general, aunque Opendoor Technologies Inc. parece navegar a través paisajes financieros desafiantes con pérdidas netas significativas y flujos de caja negativos generados por operaciones, hay oportunidades para estrategias de gestión de costos y eficiencia operativa que podrían mejorar la salud financiera de la empresa en el futuro. Entender estos aspectos es crucial para evaluar su viabilidad a largo plazo en el mercado."
     ]
    }
   ],
   "source": [
    "traduc = ollama.chat(\n",
    "    model='llama3',\n",
    "    messages=[{'role' : 'user', 'content' : promt_traduc}],\n",
    "    stream=True\n",
    ")\n",
    "\n",
    "for chunk in traduc:\n",
    "    print(chunk['message']['content'], end='', flush=True)"
   ]
  },
  {
   "cell_type": "markdown",
   "metadata": {},
   "source": [
    "# Formato del balance y cuenta de perdidas"
   ]
  },
  {
   "cell_type": "code",
   "execution_count": null,
   "metadata": {},
   "outputs": [],
   "source": [
    "# Definir un mapa de colores personalizado\n",
    "def reverse_cmap(cmap_name):\n",
    "    cmap = plt.get_cmap(cmap_name)\n",
    "    colors = cmap(np.arange(cmap.N))\n",
    "    colors = colors[::-1]  # Invertir el orden de los colores\n",
    "    return mcolors.LinearSegmentedColormap.from_list(f\"reversed_{cmap_name}\", colors)\n",
    "\n",
    "# Definir un mapa de colores para las filas basado en una escala\n",
    "def row_gradient(row):\n",
    "    # Normalizar los valores de la fila para usar en el gradiente de colores\n",
    "    norm = plt.Normalize(vmin=row.min(), vmax=row.max())\n",
    "    cmap = plt.get_cmap(reverse_cmap('RdYlGn'))  # Escoge el mapa de colores que prefieras\n",
    "    colors = [mcolors.to_hex(cmap(norm(val))) for val in row]\n",
    "    return [f'background-color: {color}' for color in colors]"
   ]
  },
  {
   "cell_type": "code",
   "execution_count": null,
   "metadata": {},
   "outputs": [],
   "source": [
    "# Convertir las columnas a tipo float, manejando valores 'None' y errores\n",
    "df = is1.apply(pd.to_numeric, errors='coerce')\n",
    "\n",
    "# Aplicar el gradiente de color por fila\n",
    "styled_df = df.style.apply(row_gradient, axis=1)\n",
    "styled_df"
   ]
  },
  {
   "cell_type": "code",
   "execution_count": null,
   "metadata": {},
   "outputs": [],
   "source": [
    "# Convertir las columnas a tipo float, manejando valores 'None' y errores\n",
    "df = df.apply(pd.to_numeric, errors='coerce')\n",
    "\n",
    "# Rellenar valores NaN con 0 (o el valor que prefieras)\n",
    "df_filled = df.fillna(0)\n",
    "\n",
    "# Crear un mapa de colores personalizado\n",
    "custom_cmap = reverse_cmap('coolwarm')\n",
    "\n",
    "# Aplicar el gradiente de colores con el mapa de colores personalizado\n",
    "styled_df = df_filled.style.background_gradient(cmap=custom_cmap)\n",
    "\n",
    "# Aplicar un gradiente de colores\n",
    "styled_df = df_filled.style.background_gradient(cmap='coolwarm')\n",
    "\n",
    "# Mostrar el DataFrame estilizado en Jupyter Notebook (o en un entorno similar)\n",
    "styled_df"
   ]
  },
  {
   "cell_type": "code",
   "execution_count": null,
   "metadata": {},
   "outputs": [],
   "source": [
    "# Crear el DataFrame\n",
    "df = pd.DataFrame(is1, index=[\n",
    "    'grossProfit', 'totalRevenue', 'costOfRevenue', 'costofGoodsAndServicesSold',\n",
    "    'operatingIncome', 'sellingGeneralAndAdministrative', 'researchAndDevelopment',\n",
    "    'operatingExpenses', 'investmentIncomeNet', 'netInterestIncome', 'interestIncome',\n",
    "    'interestExpense', 'nonInterestIncome', 'otherNonOperatingIncome', 'depreciation',\n",
    "    'depreciationAndAmortization', 'incomeBeforeTax', 'incomeTaxExpense', 'interestAndDebtExpense',\n",
    "    'netIncomeFromContinuingOperations', 'comprehensiveIncomeNetOfTax', 'ebit', 'ebitda', 'netIncome'\n",
    "])"
   ]
  }
 ],
 "metadata": {
  "kernelspec": {
   "display_name": "stock-app",
   "language": "python",
   "name": "python3"
  },
  "language_info": {
   "codemirror_mode": {
    "name": "ipython",
    "version": 3
   },
   "file_extension": ".py",
   "mimetype": "text/x-python",
   "name": "python",
   "nbconvert_exporter": "python",
   "pygments_lexer": "ipython3",
   "version": "3.13.1"
  }
 },
 "nbformat": 4,
 "nbformat_minor": 2
}
