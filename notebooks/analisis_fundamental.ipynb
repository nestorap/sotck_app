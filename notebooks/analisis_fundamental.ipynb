{
 "cells": [
  {
   "cell_type": "markdown",
   "metadata": {},
   "source": [
    "# Análisis Fundamental\n",
    "\n",
    "En esta sección tendremos los principales datos de análisis fundamental y los ratios que nos dirán lo sana o no sana que está una empresa.\n",
    "\n",
    "## Indicadores a Calcular\n",
    "\n",
    "### 1. Indicadores de Rentabilidad\n",
    "Evalúan la capacidad de una empresa para generar ganancias:\n",
    "\n",
    "- **Márgenes de Beneficio:**\n",
    "  - Margen Bruto:  \n",
    "    `(Ingresos - Costo de Ventas) / Ingresos`\n",
    "  - Margen Operativo:  \n",
    "    `Ingresos Operativos / Ingresos`\n",
    "  - Margen Neto:  \n",
    "    `Beneficio Neto / Ingresos`\n",
    "\n",
    "- **Rentabilidad sobre Activos (ROA):**  \n",
    "  Fórmula: `Beneficio Neto / Activos Totales`  \n",
    "  Indica qué tan eficientemente la empresa utiliza sus activos para generar beneficios.\n",
    "\n",
    "- **Rentabilidad sobre Capital (ROE):**  \n",
    "  Fórmula: `Beneficio Neto / Patrimonio Neto`  \n",
    "  Mide la capacidad de la empresa para generar beneficios con los fondos de los accionistas.\n",
    "\n",
    "- **Rentabilidad sobre el Capital Empleado (ROCE):**  \n",
    "  Fórmula: `EBIT / (Activos Totales - Pasivos Corrientes)`  \n",
    "  Mide la eficiencia de los recursos invertidos.\n",
    "\n",
    "---\n",
    "\n",
    "### 2. Indicadores de Solvencia y Liquidez\n",
    "Evalúan la capacidad de una empresa para cumplir con sus obligaciones financieras:\n",
    "\n",
    "- **Razón de Liquidez Corriente:**  \n",
    "  Fórmula: `Activos Corrientes / Pasivos Corrientes`  \n",
    "  Indica la capacidad de pagar las deudas a corto plazo.\n",
    "\n",
    "- **Razón de Liquidez Rápida (Prueba Ácida):**  \n",
    "  Fórmula: `(Activos Corrientes - Inventarios) / Pasivos Corrientes`  \n",
    "  Evalúa la liquidez excluyendo inventarios, que pueden ser difíciles de liquidar rápidamente.\n",
    "\n",
    "- **Cobertura de Intereses (Interest Coverage):**  \n",
    "  Fórmula: `EBIT / Gastos por Intereses`  \n",
    "  Indica la capacidad de pagar los intereses de la deuda con los beneficios operativos.\n",
    "\n",
    "- **Deuda sobre Patrimonio (Debt-to-Equity):**  \n",
    "  Fórmula: `Pasivos Totales / Patrimonio Neto`  \n",
    "  Mide el nivel de apalancamiento financiero.\n",
    "\n",
    "---\n",
    "\n",
    "### 3. Indicadores de Eficiencia Operativa\n",
    "Analizan la gestión de los activos y las operaciones:\n",
    "\n",
    "- **Rotación de Activos:**  \n",
    "  Fórmula: `Ingresos / Activos Totales`  \n",
    "  Indica qué tan eficientemente se generan ingresos con los activos.\n",
    "\n",
    "- **Días de Inventario:**  \n",
    "  Fórmula: `(Inventarios / Costo de Ventas) * 365`  \n",
    "  Mide cuántos días en promedio tarda en venderse el inventario.\n",
    "\n",
    "- **Período Promedio de Cobro:**  \n",
    "  Fórmula: `(Cuentas por Cobrar / Ingresos) * 365`  \n",
    "  Indica cuántos días en promedio toma cobrar las facturas.\n",
    "\n",
    "---\n",
    "\n",
    "### 4. Indicadores de Flujo de Caja\n",
    "Evalúan la capacidad de generar efectivo:\n",
    "\n",
    "- **Flujo de Caja Libre (Free Cash Flow):**  \n",
    "  Fórmula: `Flujo de Caja Operativo - Gastos de Capital`  \n",
    "  Indica cuánto efectivo queda disponible después de las inversiones necesarias.\n",
    "\n",
    "- **Razón de Flujo de Caja sobre Deuda:**  \n",
    "  Fórmula: `Flujo de Caja Operativo / Deuda Total`  \n",
    "  Evalúa la capacidad de la empresa para pagar su deuda con el efectivo generado.\n",
    "\n",
    "- **Cobertura de Dividendos:**  \n",
    "  Fórmula: `Flujo de Caja Operativo / Dividendos Pagados`  \n",
    "  Muestra la sostenibilidad del pago de dividendos.\n",
    "\n",
    "---\n",
    "\n",
    "### 5. Indicadores de Valoración (Opcional, si incluye precio de acciones)\n",
    "Si planeas usar datos del mercado, puedes considerar estos indicadores:\n",
    "\n",
    "- **Relación Precio-Beneficio (P/E):**  \n",
    "  Fórmula: `Precio por Acción / Beneficio por Acción (EPS)`  \n",
    "  Indica cuánto están dispuestos a pagar los inversores por cada dólar de beneficio.\n",
    "\n",
    "- **Relación Precio/Valor en Libros (P/B):**  \n",
    "  Fórmula: `Precio por Acción / Valor en Libros por Acción`  \n",
    "  Compara el precio de la acción con su valor contable.\n",
    "\n",
    "- **Rendimiento por Dividendo:**  \n",
    "  Fórmula: `Dividendos Anuales por Acción / Precio por Acción`  \n",
    "  Indica el retorno en forma de dividendos.\n",
    "\n",
    "---\n",
    "\n",
    "## Recomendaciones Prácticas\n",
    "\n",
    "- **Dashboard de Visualización:**\n",
    "  - Usa bibliotecas como Matplotlib, Seaborn, o Plotly para visualizar tendencias históricas de estos indicadores.\n",
    "  - Un análisis visual es clave para identificar señales de alerta o fortalezas.\n",
    "\n",
    "- **Alertas y Comparación con la Industria:**\n",
    "  - Calcula promedios de la industria y genera alertas si un indicador se desvía significativamente de estos.\n",
    "\n",
    "- **Análisis Temporal:**\n",
    "  - Realiza un análisis histórico (5-10 años si es posible) para identificar tendencias de mejora o deterioro.\n",
    "\n",
    "- **Integración con Machine Learning:**\n",
    "  - Usa algoritmos como regresión o clustering para predecir la salud financiera o agrupar empresas similares.\n"
   ]
  },
  {
   "cell_type": "code",
   "execution_count": 1,
   "metadata": {},
   "outputs": [],
   "source": [
    "# Librerias\n",
    "import numpy as np\n",
    "import pandas as pd\n",
    "\n",
    "# Enviroment\n",
    "import os\n",
    "from dotenv import load_dotenv\n",
    "\n",
    "# Librerías de stock\n",
    "# from finta import TA\n",
    "# import yfinance as yf\n",
    "# import mplfinance as mpf\n",
    "# from pandas_datareader import data as pdr\n",
    "from alpha_vantage.timeseries import TimeSeries\n",
    "from alpha_vantage.fundamentaldata import FundamentalData\n",
    "\n",
    "\n",
    "# Librería de graficos\n",
    "import plotly.express as px\n",
    "import matplotlib.pyplot as plt\n",
    "import matplotlib.colors as mcolors"
   ]
  },
  {
   "cell_type": "code",
   "execution_count": 2,
   "metadata": {},
   "outputs": [
    {
     "name": "stdout",
     "output_type": "stream",
     "text": [
      "Clave de API leida\n"
     ]
    }
   ],
   "source": [
    "# Cargar las variables de entorno desde el archivo .env\n",
    "load_dotenv()\n",
    "\n",
    "# Obtener la clave de la API\n",
    "api_key = os.getenv('API_KEY')\n",
    "\n",
    "if api_key:\n",
    "    print(f\"Clave de API leida\")\n",
    "else:\n",
    "    print(\"Error: No se encontró la clave API.\")"
   ]
  },
  {
   "cell_type": "markdown",
   "metadata": {},
   "source": [
    "### Descargamos la data"
   ]
  },
  {
   "cell_type": "code",
   "execution_count": 3,
   "metadata": {},
   "outputs": [],
   "source": [
    "ticker = \"OPEN\"\n",
    "# Descargamos los datos\n",
    "fd = FundamentalData(api_key, output_format=\"pandas\")\n",
    "# Perdidas y ganancias\n",
    "income_statement = fd.get_income_statement_annual(ticker)[0]\n",
    "# Balance\n",
    "balance_sheet = fd.get_balance_sheet_annual(ticker)[0]"
   ]
  },
  {
   "cell_type": "code",
   "execution_count": 38,
   "metadata": {},
   "outputs": [
    {
     "data": {
      "text/plain": [
       "['accumulatedDepreciationAmortizationPPE',\n",
       " 'capitalLeaseObligations',\n",
       " 'cashAndCashEquivalentsAtCarryingValue',\n",
       " 'cashAndShortTermInvestments',\n",
       " 'commonStock',\n",
       " 'commonStockSharesOutstanding',\n",
       " 'currentAccountsPayable',\n",
       " 'currentDebt',\n",
       " 'currentLongTermDebt',\n",
       " 'currentNetReceivables',\n",
       " 'deferredRevenue',\n",
       " 'fiscalDateEnding',\n",
       " 'goodwill',\n",
       " 'intangibleAssets',\n",
       " 'intangibleAssetsExcludingGoodwill',\n",
       " 'inventory',\n",
       " 'investments',\n",
       " 'longTermDebt',\n",
       " 'longTermDebtNoncurrent',\n",
       " 'longTermInvestments',\n",
       " 'otherCurrentAssets',\n",
       " 'otherCurrentLiabilities',\n",
       " 'otherNonCurrentAssets',\n",
       " 'otherNonCurrentLiabilities',\n",
       " 'propertyPlantEquipment',\n",
       " 'reportedCurrency',\n",
       " 'retainedEarnings',\n",
       " 'shortLongTermDebtTotal',\n",
       " 'shortTermDebt',\n",
       " 'shortTermInvestments',\n",
       " 'totalAssets',\n",
       " 'totalCurrentAssets',\n",
       " 'totalCurrentLiabilities',\n",
       " 'totalLiabilities',\n",
       " 'totalNonCurrentAssets',\n",
       " 'totalNonCurrentLiabilities',\n",
       " 'totalShareholderEquity',\n",
       " 'treasuryStock']"
      ]
     },
     "execution_count": 38,
     "metadata": {},
     "output_type": "execute_result"
    }
   ],
   "source": [
    "sorted(balance_sheet.columns)"
   ]
  },
  {
   "cell_type": "code",
   "execution_count": 4,
   "metadata": {},
   "outputs": [],
   "source": [
    "# Transponemos para interpretarla de manera mas facil. Para calcular los ratios no usaremos la traspuesta\n",
    "is1 = income_statement.T[2:]\n",
    "is1.columns = list(income_statement.T.iloc[0])"
   ]
  },
  {
   "cell_type": "markdown",
   "metadata": {},
   "source": [
    "## Ratios de rentabilidad"
   ]
  },
  {
   "cell_type": "markdown",
   "metadata": {},
   "source": [
    "### Margen bruto\n",
    "Obtenemos el margen bruto de la empresa en porcentaje. \\\n",
    "Este indicador nos dice cuánta rentabilidad saca por dolar. Por ejemplo, en el caso de OPEN tenemos un 7%, esto quiere decir que por cada dolar que genera en ingresos  7 centavos son sus ganancias brutas. Esto, a priori, no quiere decir ni mucho ni poco, hay que comparar con el sector."
   ]
  },
  {
   "cell_type": "code",
   "execution_count": 5,
   "metadata": {},
   "outputs": [],
   "source": [
    "ingresos = float(income_statement.loc[income_statement[\"fiscalDateEnding\"] == \"2023-12-31\", \"totalRevenue\"].iloc[0])\n",
    "costo_ventas = float(income_statement.loc[income_statement[\"fiscalDateEnding\"] == \"2023-12-31\", \"costOfRevenue\"].iloc[0])\n",
    "\n",
    "# Calcular el margen bruto\n",
    "margen_bruto = (ingresos - costo_ventas) / ingresos * 100"
   ]
  },
  {
   "cell_type": "code",
   "execution_count": 6,
   "metadata": {},
   "outputs": [
    {
     "name": "stdout",
     "output_type": "stream",
     "text": [
      "El margen bruto de la empresa OPEN es de 7.011229484595451%\n"
     ]
    }
   ],
   "source": [
    "print(f'El margen bruto de la empresa {ticker} es de {margen_bruto}%')"
   ]
  },
  {
   "cell_type": "markdown",
   "metadata": {},
   "source": [
    "### Margen operativo\n",
    "Los ingresos operativos pueden ser negativos. Esto sucede cuando los gastos operativos como marketing, salarios, etc son mas grandes que los ingresos. Esto puede significar varias cosas, entre las que se encuentra:\n",
    "- Altos costos operativos --> gastos en marketing, I+D, etc\n",
    "- Baja generación de ingresos\n",
    "- Fase de inversión --> empresas jóvenes que requieren de mucha inversión inicial.\n",
    "- Crisis o problemas temporales"
   ]
  },
  {
   "cell_type": "code",
   "execution_count": 7,
   "metadata": {},
   "outputs": [],
   "source": [
    "ingresos_operativos = float(income_statement.loc[income_statement[\"fiscalDateEnding\"] == \"2023-12-31\", \"operatingIncome\"].iloc[0])\n",
    "ingresos_totales = float(income_statement.loc[income_statement[\"fiscalDateEnding\"] == \"2023-12-31\", \"totalRevenue\"].iloc[0])\n",
    "\n",
    "# Calcular el margen operativo\n",
    "margen_operativo = (ingresos_operativos / ingresos_totales) * 100"
   ]
  },
  {
   "cell_type": "code",
   "execution_count": 8,
   "metadata": {},
   "outputs": [
    {
     "name": "stdout",
     "output_type": "stream",
     "text": [
      "El margen operativo de la empresa OPEN es de -5.557155197235819%\n"
     ]
    }
   ],
   "source": [
    "print(f'El margen operativo de la empresa {ticker} es de {margen_operativo}%')"
   ]
  },
  {
   "cell_type": "markdown",
   "metadata": {},
   "source": [
    "### Margen neto\n",
    "Si el beneficio neto  es negativo el margen neto también será negativo. Esto quiere decir que la empresa ha tenido pérdidas netas después de descontar todos sus costos e impuestos. Puede indicar problemas financieros. \\\n",
    "Significa que por cada dolar que ingresa la empresa obtiene x% de ganancia neta. Si el margen neto es negativo significa que por cada dolar que ingresa pierde x dinero."
   ]
  },
  {
   "cell_type": "code",
   "execution_count": 9,
   "metadata": {},
   "outputs": [],
   "source": [
    "beneficio_neto = float(income_statement.loc[income_statement[\"fiscalDateEnding\"] == \"2023-12-31\", \"netIncome\"].iloc[0])\n",
    "ingresos_totales = float(income_statement.loc[income_statement[\"fiscalDateEnding\"] == \"2023-12-31\", \"totalRevenue\"].iloc[0])\n",
    "\n",
    "# Calcular el margen operativo\n",
    "margen_neto = (beneficio_neto / ingresos_totales) * 100"
   ]
  },
  {
   "cell_type": "code",
   "execution_count": 10,
   "metadata": {},
   "outputs": [
    {
     "name": "stdout",
     "output_type": "stream",
     "text": [
      "El margen neto de la empresa OPEN es de -3.9591131586524617%\n"
     ]
    }
   ],
   "source": [
    "print(f'El margen neto de la empresa {ticker} es de {margen_neto}%')"
   ]
  },
  {
   "cell_type": "markdown",
   "metadata": {},
   "source": [
    "### ROA\n",
    "Un ROA se interpreta de la siguiente manera:\n",
    "- Alto --> la empresa está utilizando sus activos de manera eficienta.\n",
    "- Bajo --> la empresa no utiliza de manera eficiente sus activos para generar beneficios. Esto puede darse en empresas que tienen muchos activos. Se puede dar en industria pesada.\n",
    "- Negativo --> pierde dinero y no utiliza sus activos de la mejor manera para generar beneficios, es más, pierde dinero. Esto puede ser señal de baja rentabilidad o problemas financieros."
   ]
  },
  {
   "cell_type": "code",
   "execution_count": 11,
   "metadata": {},
   "outputs": [],
   "source": [
    "ingresos_totales = float(balance_sheet.loc[balance_sheet[\"fiscalDateEnding\"] == \"2023-12-31\", \"totalAssets\"].iloc[0])\n",
    "beneficio_neto = float(income_statement.loc[income_statement[\"fiscalDateEnding\"] == \"2023-12-31\", \"netIncome\"].iloc[0])\n",
    "\n",
    "# Calcular el ROA\n",
    "roa = (beneficio_neto / ingresos_totales) * 100"
   ]
  },
  {
   "cell_type": "code",
   "execution_count": 12,
   "metadata": {},
   "outputs": [
    {
     "name": "stdout",
     "output_type": "stream",
     "text": [
      "El ROA de la empresa OPEN es de -7.709559854219232%\n"
     ]
    }
   ],
   "source": [
    "print(f'El ROA de la empresa {ticker} es de {roa}%')"
   ]
  },
  {
   "cell_type": "markdown",
   "metadata": {},
   "source": [
    "### Rentabilidad sobre el patrimonio (ROE)\n",
    "El ROW nos mide la rentabilidad de una empresa en relación con el capital invertido de los accionistas. El ROE muestra cuánto beneficio neto genera la empresa por cada unidad monetaria de capital propio invertido.\n",
    "- ROE alto (>15%) --> indica que la empresa es rentable, que la empresa está generando mucho beneficio neto en relación con el capital propio invertido.\n",
    "- ROE moderado (5%-15%) --> rentabilidad razonable aunque puede ser inferior al promedio de la industria.\n",
    "- ROE bajo (<5%) --> puede ser señal de que la empresa no está generando un beneficio neto en relación con el capital invertido por los accionistas.\n",
    "- ROE negativo --> indica que la empresa está perdiendo dinero en lugar de generar rentabilidad para los accionistas."
   ]
  },
  {
   "cell_type": "code",
   "execution_count": 13,
   "metadata": {},
   "outputs": [],
   "source": [
    "activos_totales = float(balance_sheet.loc[balance_sheet[\"fiscalDateEnding\"] == \"2023-12-31\", \"totalAssets\"].iloc[0])\n",
    "pasivos_totales = float(balance_sheet.loc[balance_sheet[\"fiscalDateEnding\"] == \"2023-12-31\", \"totalLiabilities\"].iloc[0])\n",
    "beneficio_neto = float(income_statement.loc[income_statement[\"fiscalDateEnding\"] == \"2023-12-31\", \"netIncome\"].iloc[0])\n",
    "\n",
    "# Calcular el Patrimonio Neto (Equity)\n",
    "patrimonio_neto = activos_totales - pasivos_totales\n",
    "# Calcular el ROA\n",
    "roe = (beneficio_neto / patrimonio_neto) * 100"
   ]
  },
  {
   "cell_type": "code",
   "execution_count": 14,
   "metadata": {},
   "outputs": [
    {
     "name": "stdout",
     "output_type": "stream",
     "text": [
      "El ROW de la empresa OPEN es de -28.43846949327818%\n"
     ]
    }
   ],
   "source": [
    "print(f'El ROW de la empresa {ticker} es de {roe}%')"
   ]
  },
  {
   "cell_type": "markdown",
   "metadata": {},
   "source": [
    "### ROCE\n",
    "\n",
    "#### ROCE alto (>15%):\n",
    "Indica que la empresa está utilizando eficientemente su capital para generar beneficios. Esto es una buena señal, especialmente en sectores con alta intensidad de capital, como manufactura o energía.\n",
    "\n",
    "#### ROCE moderado (5%-15%):\n",
    "Sugiere que la empresa está generando un retorno razonable sobre el capital empleado. Esto puede ser aceptable dependiendo del sector.\n",
    "\n",
    "#### ROCE bajo (<5%):\n",
    "Puede ser una señal de que la empresa no está utilizando eficientemente su capital. Esto puede deberse a inversiones ineficientes o problemas operativos.\n",
    "\n",
    "#### ROCE negativo:\n",
    "Indica que la empresa no está generando suficientes ingresos operativos para cubrir el capital empleado. Esto puede ser una señal de problemas financieros o de bajo rendimiento.\n"
   ]
  },
  {
   "cell_type": "code",
   "execution_count": 16,
   "metadata": {},
   "outputs": [],
   "source": [
    "ebit = float(income_statement.loc[income_statement[\"fiscalDateEnding\"] == \"2023-12-31\", \"operatingIncome\"].iloc[0])\n",
    "activos_totales = float(balance_sheet.loc[balance_sheet[\"fiscalDateEnding\"] == \"2023-12-31\", \"totalAssets\"].iloc[0])\n",
    "pasivos_corrientes = float(balance_sheet.loc[balance_sheet[\"fiscalDateEnding\"] == \"2023-12-31\", \"totalCurrentLiabilities\"].iloc[0]) # Pasivos corrientes\n",
    "\n",
    "roce = ebit / (activos_totales - pasivos_corrientes)"
   ]
  },
  {
   "cell_type": "code",
   "execution_count": 18,
   "metadata": {},
   "outputs": [
    {
     "name": "stdout",
     "output_type": "stream",
     "text": [
      "El ROCE de OPEN es --> -0.1103803259937089%\n"
     ]
    }
   ],
   "source": [
    "print(f'El ROCE de {ticker} es --> {roce}%')"
   ]
  },
  {
   "cell_type": "markdown",
   "metadata": {},
   "source": [
    "### Conclusión de rentabilidad"
   ]
  },
  {
   "cell_type": "code",
   "execution_count": 19,
   "metadata": {},
   "outputs": [
    {
     "name": "stdout",
     "output_type": "stream",
     "text": [
      "Conclusión sobre la rentabilidad de la empresa:\n",
      "El ROCE es bajo, lo que sugiere una ineficiente utilización del capital empleado.\n",
      "El ROE es bajo, lo que podría indicar problemas de rentabilidad sobre el patrimonio.\n",
      "El ROA es bajo, lo que sugiere que la empresa no está generando suficientes beneficios con sus activos.\n",
      "El margen neto es bajo, lo que sugiere que los costos están afectando significativamente las ganancias.\n",
      "El margen bruto es bajo, lo que indica que los costos directos están consumiendo gran parte de los ingresos.\n",
      "El margen operativo es bajo, lo que sugiere que la empresa tiene problemas en sus operaciones para generar beneficios.\n"
     ]
    }
   ],
   "source": [
    "def analizar_rentabilidad(roce, roe, margen_neto, margen_bruto, roa, margen_operativo):\n",
    "    \"\"\"\n",
    "    Analiza los principales ratios de rentabilidad de una empresa y proporciona una conclusión.\n",
    "    \n",
    "    Parámetros:\n",
    "    - roce (float): Rentabilidad sobre el Capital Empleado (en %).\n",
    "    - roe (float): Rentabilidad sobre el Patrimonio (en %).\n",
    "    - margen_neto (float): Margen Neto (en %).\n",
    "    - margen_bruto (float): Margen Bruto (en %).\n",
    "    - roa (float): Rentabilidad sobre los Activos (en %).\n",
    "    - margen_operativo (float): Margen Operativo (en %).\n",
    "    \n",
    "    Retorna:\n",
    "    - str: Conclusión sobre la rentabilidad de la empresa.\n",
    "    \"\"\"\n",
    "    conclusion = []\n",
    "    \n",
    "    # Evaluar ROCE\n",
    "    if roce > 15:\n",
    "        conclusion.append(\"La empresa tiene un ROCE alto, lo que indica una eficiente utilización del capital empleado.\")\n",
    "    elif 5 <= roce <= 15:\n",
    "        conclusion.append(\"El ROCE de la empresa es moderado. Es aceptable dependiendo del sector.\")\n",
    "    else:\n",
    "        conclusion.append(\"El ROCE es bajo, lo que sugiere una ineficiente utilización del capital empleado.\")\n",
    "    \n",
    "    # Evaluar ROE\n",
    "    if roe > 15:\n",
    "        conclusion.append(\"El ROE es alto, lo que indica que la empresa está generando buen valor para los accionistas.\")\n",
    "    elif 5 <= roe <= 15:\n",
    "        conclusion.append(\"El ROE es moderado. Puede ser aceptable dependiendo del sector o estrategia de la empresa.\")\n",
    "    else:\n",
    "        conclusion.append(\"El ROE es bajo, lo que podría indicar problemas de rentabilidad sobre el patrimonio.\")\n",
    "    \n",
    "    # Evaluar ROA\n",
    "    if roa > 10:\n",
    "        conclusion.append(\"El ROA es alto, lo que indica una buena rentabilidad sobre los activos.\")\n",
    "    elif 5 <= roa <= 10:\n",
    "        conclusion.append(\"El ROA es moderado. La empresa está utilizando sus activos de manera razonable para generar ganancias.\")\n",
    "    else:\n",
    "        conclusion.append(\"El ROA es bajo, lo que sugiere que la empresa no está generando suficientes beneficios con sus activos.\")\n",
    "    \n",
    "    # Evaluar Margen Neto\n",
    "    if margen_neto > 10:\n",
    "        conclusion.append(\"El margen neto es alto, lo que indica una buena capacidad para generar beneficios después de todos los costos.\")\n",
    "    elif 5 <= margen_neto <= 10:\n",
    "        conclusion.append(\"El margen neto es moderado. La rentabilidad final es razonable pero podría mejorar.\")\n",
    "    else:\n",
    "        conclusion.append(\"El margen neto es bajo, lo que sugiere que los costos están afectando significativamente las ganancias.\")\n",
    "    \n",
    "    # Evaluar Margen Bruto\n",
    "    if margen_bruto > 40:\n",
    "        conclusion.append(\"El margen bruto es alto, indicando una sólida eficiencia operativa y control de costos directos.\")\n",
    "    elif 20 <= margen_bruto <= 40:\n",
    "        conclusion.append(\"El margen bruto es moderado. Es aceptable, pero hay margen para mejorar la eficiencia operativa.\")\n",
    "    else:\n",
    "        conclusion.append(\"El margen bruto es bajo, lo que indica que los costos directos están consumiendo gran parte de los ingresos.\")\n",
    "    \n",
    "    # Evaluar Margen Operativo\n",
    "    if margen_operativo > 20:\n",
    "        conclusion.append(\"El margen operativo es alto, lo que indica que la empresa tiene una buena capacidad para generar ganancias operativas.\")\n",
    "    elif 10 <= margen_operativo <= 20:\n",
    "        conclusion.append(\"El margen operativo es moderado. La rentabilidad operativa es aceptable pero puede ser mejorada.\")\n",
    "    else:\n",
    "        conclusion.append(\"El margen operativo es bajo, lo que sugiere que la empresa tiene problemas en sus operaciones para generar beneficios.\")\n",
    "    \n",
    "    # Combinar las conclusiones\n",
    "    conclusion_final = \"\\n\".join(conclusion)\n",
    "    return conclusion_final\n",
    "\n",
    "resultado = analizar_rentabilidad(roce, roe, margen_neto, margen_bruto, roa, margen_operativo)\n",
    "print(\"Conclusión sobre la rentabilidad de la empresa:\")\n",
    "print(resultado)\n"
   ]
  },
  {
   "cell_type": "markdown",
   "metadata": {},
   "source": [
    "## Indicadores de solvencia y liquidez"
   ]
  },
  {
   "cell_type": "markdown",
   "metadata": {},
   "source": [
    "### Razón de liquidez corriente (Revisar la de OPEN en 2024, que la de 2023 me sale muy alta)\n",
    "### La fórmula indica:\n",
    "- Activos Corrientes (Current Assets): Son los activos que se espera convertir en efectivo, vender o consumir en el ciclo normal de operaciones de la empresa (generalmente dentro de un año).\n",
    "- Pasivos Corrientes (Current Liabilities): Son las deudas que se deben pagar dentro del mismo período (un año).\n",
    "### Interpretación:\n",
    "- Razón > 1: La empresa tiene más activos corrientes que pasivos corrientes, lo que indica una buena liquidez y capacidad para cubrir sus deudas a corto plazo.\n",
    "- Razón = 1: La empresa tiene exactamente lo necesario para cubrir sus obligaciones a corto plazo, lo cual es un buen equilibrio.\n",
    "- Razón < 1: La empresa no tiene suficientes activos corrientes para cubrir sus pasivos corrientes, lo que podría indicar problemas de liquidez."
   ]
  },
  {
   "cell_type": "code",
   "execution_count": 20,
   "metadata": {},
   "outputs": [],
   "source": [
    "activos_corrientes = float(balance_sheet.loc[balance_sheet[\"fiscalDateEnding\"] == \"2023-12-31\", \"totalCurrentAssets\"].iloc[0])\n",
    "pasivos_corrientes = float(balance_sheet.loc[balance_sheet[\"fiscalDateEnding\"] == \"2023-12-31\", \"totalCurrentLiabilities\"].iloc[0])\n",
    "\n",
    "razon_liquidez_corriente = activos_corrientes / pasivos_corrientes"
   ]
  },
  {
   "cell_type": "code",
   "execution_count": 21,
   "metadata": {},
   "outputs": [
    {
     "name": "stdout",
     "output_type": "stream",
     "text": [
      "La raón de luquidez corriente de OPEN es --> 49.214285714285715\n"
     ]
    }
   ],
   "source": [
    "print(f'La raón de luquidez corriente de {ticker} es --> {razon_liquidez_corriente}')"
   ]
  },
  {
   "cell_type": "markdown",
   "metadata": {},
   "source": [
    "### Razón de liquidez rápida\n",
    "La Razón de Liquidez Rápida (también conocida como Quick Ratio o Acid Test Ratio) es un indicador financiero que mide la capacidad de una empresa para cumplir con sus obligaciones a corto plazo sin depender de la venta de inventarios. Es una versión más estricta de la Razón de Liquidez Corriente.\n",
    "\n",
    "- Activos Corrientes (Current Assets): Son los activos que se espera convertir en efectivo, vender o consumir en el ciclo normal de operaciones de la empresa (generalmente dentro de un año).\n",
    "- Inventarios (Inventories): Son los bienes que la empresa tiene para vender o para usar en el proceso de producción.\n",
    "- Pasivos Corrientes (Current Liabilities): Son las deudas que la empresa debe pagar dentro del mismo período (un año).\n",
    "\n",
    "La interpretación es similar a la raón de liquidez corriente. En OPEN es muy raro, tengo que revisar, ya que da un valor muy alto."
   ]
  },
  {
   "cell_type": "code",
   "execution_count": 22,
   "metadata": {},
   "outputs": [],
   "source": [
    "inventarios = float(balance_sheet.loc[balance_sheet[\"fiscalDateEnding\"] == \"2023-12-31\", \"inventory\"].iloc[0])\n",
    "\n",
    "liquidez_rapida = (activos_corrientes - inventarios) / pasivos_corrientes"
   ]
  },
  {
   "cell_type": "code",
   "execution_count": 23,
   "metadata": {},
   "outputs": [
    {
     "name": "stdout",
     "output_type": "stream",
     "text": [
      "La razón de liquidez rapida de OPEN es de --> 49.6\n"
     ]
    }
   ],
   "source": [
    "print(f'La razón de liquidez rapida de {ticker} es de --> {liquidez_rapida}')"
   ]
  },
  {
   "cell_type": "markdown",
   "metadata": {},
   "source": [
    "### Cobertura de Intereses\n",
    "La Cobertura de Intereses (Interest Coverage Ratio) es un indicador financiero que mide la capacidad de una empresa para cubrir sus gastos por intereses con sus ganancias operativas. Es un indicador clave de solvencia financiera, ya que muestra si la empresa tiene suficiente capacidad para pagar sus intereses sobre la deuda.\n",
    "- EBIT (Earnings Before Interest and Taxes): Beneficio antes de intereses e impuestos. Es la ganancia operativa de la empresa antes de considerar el efecto de los intereses y los impuestos.\n",
    "- Gastos por Intereses (Interest Expense): Los intereses que la empresa debe pagar por su deuda.\n",
    "\n",
    "Cuando este indicador es negativo lo podemos interpretar como que sus pérdidas operativas son 5 veces mayores que los gastos por intereses. En este caso, una Cobertura de Intereses negativa es un signo claro de problemas financieros."
   ]
  },
  {
   "cell_type": "code",
   "execution_count": 24,
   "metadata": {},
   "outputs": [],
   "source": [
    "gastos_intereses = float(income_statement.loc[income_statement[\"fiscalDateEnding\"] == \"2023-12-31\", \"interestExpense\"].iloc[0])\n",
    "\n",
    "cobertura_intereses = ebit / gastos_intereses"
   ]
  },
  {
   "cell_type": "code",
   "execution_count": 25,
   "metadata": {},
   "outputs": [
    {
     "name": "stdout",
     "output_type": "stream",
     "text": [
      "la cobertura de intereses de OPEN es de -1.8293838862559242\n"
     ]
    }
   ],
   "source": [
    "print(f'la cobertura de intereses de {ticker} es de {cobertura_intereses}')"
   ]
  },
  {
   "cell_type": "markdown",
   "metadata": {},
   "source": [
    "### Deuda sobre patrimonio\n",
    "El índice de deuda sobre patrimonio (Debt-to-Equity Ratio, D/E) es un indicador financiero que mide la proporción de la deuda de una empresa en relación con su patrimonio neto. Este ratio es utilizado para evaluar la estructura de capital de la empresa, es decir, cuánta deuda utiliza la empresa en comparación con su propio capital.\n",
    "- Deuda Total: Es la suma de todas las deudas de la empresa, que generalmente se encuentran bajo los pasivos.\n",
    "- Patrimonio de los accionistas (Shareholders' Equity): Es el valor residual de los activos de la empresa después de deducir sus pasivos. En otras palabras, es lo que quedaría para los accionistas si la empresa liquidara todos sus activos y pagara todas sus deudas.\n",
    "\n",
    "La interpretación es:\n",
    "##### Ratio Bajo (< 1):\n",
    "Un D/E ratio bajo indica que la empresa depende en gran medida del capital propio en lugar de la deuda. Esto puede ser positivo porque significa que la empresa no tiene una carga de deuda pesada, lo que puede hacerla más resistente a las fluctuaciones económicas.  \n",
    "Sin embargo, un D/E muy bajo también puede ser una señal de que la empresa no está aprovechando al máximo el apalancamiento financiero para generar rendimiento.\n",
    "\n",
    "##### Ratio Alto (> 1):\n",
    "Un D/E ratio alto sugiere que la empresa tiene una gran dependencia de la deuda para financiar sus operaciones. Esto podría ser riesgoso si la empresa no puede generar suficientes ingresos para cumplir con sus obligaciones de deuda, especialmente en momentos de crisis económica o recesión.  \n",
    "A su vez, un apalancamiento alto puede ser beneficioso si la empresa utiliza la deuda para financiar proyectos rentables que generen un retorno mayor que el coste de la deuda.\n",
    "\n",
    "Ejemplo:\n",
    "- D/E de 0.5: Por cada dólar de deuda, la empresa tiene 2 dólares de patrimonio. Es un nivel conservador y generalmente más seguro.\n",
    "- D/E de 2.0: Por cada dólar de deuda, la empresa tiene 0.5 dólares de patrimonio. Es un nivel más agresivo y puede implicar mayor riesgo.\n",
    "- Otro ejemplo es con apple, si tiene un D/E de 1.36 significa que por cada dolar de patrimonio de los accionistas apple tiene 1.36 dolares en deuda.\n"
   ]
  },
  {
   "cell_type": "code",
   "execution_count": 26,
   "metadata": {},
   "outputs": [],
   "source": [
    "deuda_total = float(balance_sheet.loc[balance_sheet[\"fiscalDateEnding\"] == \"2023-12-31\", \"totalLiabilities\"].iloc[0])\n",
    "patrimonio_accionistas = float(balance_sheet.loc[balance_sheet[\"fiscalDateEnding\"] == \"2023-12-31\", \"totalShareholderEquity\"].iloc[0])\n",
    "\n",
    "deuda_a_patrimonio = deuda_total / patrimonio_accionistas"
   ]
  },
  {
   "cell_type": "code",
   "execution_count": 27,
   "metadata": {},
   "outputs": [
    {
     "name": "stdout",
     "output_type": "stream",
     "text": [
      "La deuda sobre patrimonio de OPEN es de --> 2.688728024819028\n"
     ]
    }
   ],
   "source": [
    "print(f'La deuda sobre patrimonio de {ticker} es de --> {deuda_a_patrimonio}')"
   ]
  },
  {
   "cell_type": "markdown",
   "metadata": {},
   "source": [
    "## Indicadores de eficiencia operativa"
   ]
  },
  {
   "cell_type": "markdown",
   "metadata": {},
   "source": [
    "### Rotacion de activos\n",
    "La interpretacion es que por cada dolar invertido en activos, la empresa generó 1,43$ en ventas netas."
   ]
  },
  {
   "cell_type": "code",
   "execution_count": 33,
   "metadata": {},
   "outputs": [],
   "source": [
    "ventas_netas = float(income_statement.loc[income_statement[\"fiscalDateEnding\"] == \"2023-12-31\", \"totalRevenue\"].iloc[0])\n",
    "activos_iniciales = float(balance_sheet.loc[balance_sheet[\"fiscalDateEnding\"] == \"2023-12-31\", \"totalAssets\"].iloc[0])\n",
    "activos_finales = float(balance_sheet.loc[balance_sheet[\"fiscalDateEnding\"] == \"2022-12-31\", \"totalAssets\"].iloc[0]) # le restamos un periodo\n",
    "\n",
    "activos_promedio = (activos_iniciales + activos_finales) / 2\n",
    "rotacion = ventas_netas / activos_promedio"
   ]
  },
  {
   "cell_type": "code",
   "execution_count": 34,
   "metadata": {},
   "outputs": [
    {
     "name": "stdout",
     "output_type": "stream",
     "text": [
      "La rotacion de activos de la empresa OPEN son --> 1.3653071253071254\n"
     ]
    }
   ],
   "source": [
    "print(f'La rotacion de activos de la empresa {ticker} son --> {rotacion}')"
   ]
  },
  {
   "cell_type": "markdown",
   "metadata": {},
   "source": [
    "### Días de inventario\n",
    "Obtenemos los días que tarda la empresa en vender el inventario"
   ]
  },
  {
   "cell_type": "code",
   "execution_count": 38,
   "metadata": {},
   "outputs": [],
   "source": [
    "costo_bienes_vendidos = float(income_statement.loc[income_statement[\"fiscalDateEnding\"] == \"2023-12-31\", \"costOfRevenue\"].iloc[0])\n",
    "inventario_inicial = float(balance_sheet.loc[balance_sheet[\"fiscalDateEnding\"] == \"2023-12-31\", \"inventory\"].iloc[0])\n",
    "inventario_final = float(balance_sheet.loc[balance_sheet[\"fiscalDateEnding\"] == \"2022-12-31\", \"inventory\"].iloc[0]) # le restamos un periodo\n",
    "\n",
    "inventario_promedio = (inventario_inicial + inventario_final) / 2\n",
    "dias = (inventario_promedio * 365) / costo_bienes_vendidos"
   ]
  },
  {
   "cell_type": "code",
   "execution_count": 42,
   "metadata": {},
   "outputs": [
    {
     "data": {
      "text/plain": [
       "-459000000.0"
      ]
     },
     "execution_count": 42,
     "metadata": {},
     "output_type": "execute_result"
    }
   ],
   "source": [
    "inventario_final"
   ]
  },
  {
   "cell_type": "code",
   "execution_count": 39,
   "metadata": {},
   "outputs": [
    {
     "name": "stdout",
     "output_type": "stream",
     "text": [
      "Los días que tarda la empresa OPEN en vender inventario es de -13.732001857872735 días\n"
     ]
    }
   ],
   "source": [
    "print(f'Los días que tarda la empresa {ticker} en vender inventario es de {dias} días')"
   ]
  },
  {
   "cell_type": "code",
   "execution_count": 54,
   "metadata": {},
   "outputs": [
    {
     "data": {
      "text/html": [
       "<div>\n",
       "<style scoped>\n",
       "    .dataframe tbody tr th:only-of-type {\n",
       "        vertical-align: middle;\n",
       "    }\n",
       "\n",
       "    .dataframe tbody tr th {\n",
       "        vertical-align: top;\n",
       "    }\n",
       "\n",
       "    .dataframe thead th {\n",
       "        text-align: right;\n",
       "    }\n",
       "</style>\n",
       "<table border=\"1\" class=\"dataframe\">\n",
       "  <thead>\n",
       "    <tr style=\"text-align: right;\">\n",
       "      <th>date</th>\n",
       "      <th>1970-01-01 00:00:00.000000000</th>\n",
       "      <th>1970-01-01 00:00:00.000000001</th>\n",
       "      <th>1970-01-01 00:00:00.000000002</th>\n",
       "      <th>1970-01-01 00:00:00.000000003</th>\n",
       "      <th>1970-01-01 00:00:00.000000004</th>\n",
       "    </tr>\n",
       "  </thead>\n",
       "  <tbody>\n",
       "    <tr>\n",
       "      <th>fiscalDateEnding</th>\n",
       "      <td>2023-12-31</td>\n",
       "      <td>2022-12-31</td>\n",
       "      <td>2021-12-31</td>\n",
       "      <td>2020-12-31</td>\n",
       "      <td>2019-12-31</td>\n",
       "    </tr>\n",
       "    <tr>\n",
       "      <th>reportedCurrency</th>\n",
       "      <td>USD</td>\n",
       "      <td>USD</td>\n",
       "      <td>USD</td>\n",
       "      <td>USD</td>\n",
       "      <td>USD</td>\n",
       "    </tr>\n",
       "    <tr>\n",
       "      <th>totalAssets</th>\n",
       "      <td>3567000000</td>\n",
       "      <td>6608000000</td>\n",
       "      <td>9506000000</td>\n",
       "      <td>2176000000</td>\n",
       "      <td>2231684000</td>\n",
       "    </tr>\n",
       "    <tr>\n",
       "      <th>totalCurrentAssets</th>\n",
       "      <td>3445000000</td>\n",
       "      <td>6466000000</td>\n",
       "      <td>9340000000</td>\n",
       "      <td>2053000000</td>\n",
       "      <td>2087644000</td>\n",
       "    </tr>\n",
       "    <tr>\n",
       "      <th>cashAndCashEquivalentsAtCarryingValue</th>\n",
       "      <td>999000000</td>\n",
       "      <td>1137000000</td>\n",
       "      <td>1731000000</td>\n",
       "      <td>1413000000</td>\n",
       "      <td>405000000</td>\n",
       "    </tr>\n",
       "    <tr>\n",
       "      <th>cashAndShortTermInvestments</th>\n",
       "      <td>1083000000</td>\n",
       "      <td>1292000000</td>\n",
       "      <td>2261000000</td>\n",
       "      <td>1460302000</td>\n",
       "      <td>405080000</td>\n",
       "    </tr>\n",
       "    <tr>\n",
       "      <th>inventory</th>\n",
       "      <td>-27000000</td>\n",
       "      <td>-459000000</td>\n",
       "      <td>-40000000</td>\n",
       "      <td>465936000</td>\n",
       "      <td>1312369000</td>\n",
       "    </tr>\n",
       "    <tr>\n",
       "      <th>currentNetReceivables</th>\n",
       "      <td>None</td>\n",
       "      <td>None</td>\n",
       "      <td>None</td>\n",
       "      <td>None</td>\n",
       "      <td>None</td>\n",
       "    </tr>\n",
       "    <tr>\n",
       "      <th>totalNonCurrentAssets</th>\n",
       "      <td>1897000000</td>\n",
       "      <td>4602000000</td>\n",
       "      <td>6262000000</td>\n",
       "      <td>588407000</td>\n",
       "      <td>144040000</td>\n",
       "    </tr>\n",
       "    <tr>\n",
       "      <th>propertyPlantEquipment</th>\n",
       "      <td>66000000</td>\n",
       "      <td>58000000</td>\n",
       "      <td>45000000</td>\n",
       "      <td>29000000</td>\n",
       "      <td>34606000</td>\n",
       "    </tr>\n",
       "    <tr>\n",
       "      <th>accumulatedDepreciationAmortizationPPE</th>\n",
       "      <td>100000000</td>\n",
       "      <td>90000000</td>\n",
       "      <td>57000000</td>\n",
       "      <td>34000000</td>\n",
       "      <td>20462000</td>\n",
       "    </tr>\n",
       "    <tr>\n",
       "      <th>intangibleAssets</th>\n",
       "      <td>9000000</td>\n",
       "      <td>16000000</td>\n",
       "      <td>72000000</td>\n",
       "      <td>40000000</td>\n",
       "      <td>43359000</td>\n",
       "    </tr>\n",
       "    <tr>\n",
       "      <th>intangibleAssetsExcludingGoodwill</th>\n",
       "      <td>5000000</td>\n",
       "      <td>12000000</td>\n",
       "      <td>12000000</td>\n",
       "      <td>9000000</td>\n",
       "      <td>12414000</td>\n",
       "    </tr>\n",
       "    <tr>\n",
       "      <th>goodwill</th>\n",
       "      <td>4000000</td>\n",
       "      <td>4000000</td>\n",
       "      <td>60000000</td>\n",
       "      <td>31000000</td>\n",
       "      <td>30945000</td>\n",
       "    </tr>\n",
       "    <tr>\n",
       "      <th>investments</th>\n",
       "      <td>143000000</td>\n",
       "      <td>297000000</td>\n",
       "      <td>722000000</td>\n",
       "      <td>132181000</td>\n",
       "      <td>None</td>\n",
       "    </tr>\n",
       "    <tr>\n",
       "      <th>longTermInvestments</th>\n",
       "      <td>None</td>\n",
       "      <td>None</td>\n",
       "      <td>None</td>\n",
       "      <td>None</td>\n",
       "      <td>None</td>\n",
       "    </tr>\n",
       "    <tr>\n",
       "      <th>shortTermInvestments</th>\n",
       "      <td>84000000</td>\n",
       "      <td>155000000</td>\n",
       "      <td>530000000</td>\n",
       "      <td>47637000</td>\n",
       "      <td>43576000</td>\n",
       "    </tr>\n",
       "    <tr>\n",
       "      <th>otherCurrentAssets</th>\n",
       "      <td>52000000</td>\n",
       "      <td>41000000</td>\n",
       "      <td>91000000</td>\n",
       "      <td>24000000</td>\n",
       "      <td>30879000</td>\n",
       "    </tr>\n",
       "    <tr>\n",
       "      <th>otherNonCurrentAssets</th>\n",
       "      <td>22000000</td>\n",
       "      <td>27000000</td>\n",
       "      <td>7000000</td>\n",
       "      <td>4000000</td>\n",
       "      <td>5394000</td>\n",
       "    </tr>\n",
       "    <tr>\n",
       "      <th>totalLiabilities</th>\n",
       "      <td>2600000000</td>\n",
       "      <td>5522000000</td>\n",
       "      <td>7258000000</td>\n",
       "      <td>623000000</td>\n",
       "      <td>1583285000</td>\n",
       "    </tr>\n",
       "    <tr>\n",
       "      <th>totalCurrentLiabilities</th>\n",
       "      <td>70000000</td>\n",
       "      <td>1505000000</td>\n",
       "      <td>4400000000</td>\n",
       "      <td>393000000</td>\n",
       "      <td>1126382000</td>\n",
       "    </tr>\n",
       "    <tr>\n",
       "      <th>currentAccountsPayable</th>\n",
       "      <td>2000000</td>\n",
       "      <td>5000000</td>\n",
       "      <td>3000000</td>\n",
       "      <td>2756000</td>\n",
       "      <td>None</td>\n",
       "    </tr>\n",
       "    <tr>\n",
       "      <th>deferredRevenue</th>\n",
       "      <td>None</td>\n",
       "      <td>None</td>\n",
       "      <td>None</td>\n",
       "      <td>None</td>\n",
       "      <td>None</td>\n",
       "    </tr>\n",
       "    <tr>\n",
       "      <th>currentDebt</th>\n",
       "      <td>None</td>\n",
       "      <td>1376000000</td>\n",
       "      <td>4247000000</td>\n",
       "      <td>346322000</td>\n",
       "      <td>None</td>\n",
       "    </tr>\n",
       "    <tr>\n",
       "      <th>shortTermDebt</th>\n",
       "      <td>5000000</td>\n",
       "      <td>1383000000</td>\n",
       "      <td>4251000000</td>\n",
       "      <td>367000000</td>\n",
       "      <td>1087597000</td>\n",
       "    </tr>\n",
       "    <tr>\n",
       "      <th>totalNonCurrentLiabilities</th>\n",
       "      <td>2530000000</td>\n",
       "      <td>4017000000</td>\n",
       "      <td>2858000000</td>\n",
       "      <td>182186000</td>\n",
       "      <td>1838405000</td>\n",
       "    </tr>\n",
       "    <tr>\n",
       "      <th>capitalLeaseObligations</th>\n",
       "      <td>24000000</td>\n",
       "      <td>45000000</td>\n",
       "      <td>46000000</td>\n",
       "      <td>67341000</td>\n",
       "      <td>61907000</td>\n",
       "    </tr>\n",
       "    <tr>\n",
       "      <th>longTermDebt</th>\n",
       "      <td>2510000000</td>\n",
       "      <td>5355000000</td>\n",
       "      <td>7063000000</td>\n",
       "      <td>135467000</td>\n",
       "      <td>362025000</td>\n",
       "    </tr>\n",
       "    <tr>\n",
       "      <th>currentLongTermDebt</th>\n",
       "      <td>0</td>\n",
       "      <td>1376000000</td>\n",
       "      <td>4247000000</td>\n",
       "      <td>346322000</td>\n",
       "      <td>1074125000</td>\n",
       "    </tr>\n",
       "    <tr>\n",
       "      <th>longTermDebtNoncurrent</th>\n",
       "      <td>2510000000</td>\n",
       "      <td>3979000000</td>\n",
       "      <td>2816000000</td>\n",
       "      <td>135467000</td>\n",
       "      <td>None</td>\n",
       "    </tr>\n",
       "    <tr>\n",
       "      <th>shortLongTermDebtTotal</th>\n",
       "      <td>2510000000</td>\n",
       "      <td>5355000000</td>\n",
       "      <td>7063000000</td>\n",
       "      <td>135467000</td>\n",
       "      <td>1498057000</td>\n",
       "    </tr>\n",
       "    <tr>\n",
       "      <th>otherCurrentLiabilities</th>\n",
       "      <td>56000000</td>\n",
       "      <td>88000000</td>\n",
       "      <td>122000000</td>\n",
       "      <td>22267000</td>\n",
       "      <td>32332000</td>\n",
       "    </tr>\n",
       "    <tr>\n",
       "      <th>otherNonCurrentLiabilities</th>\n",
       "      <td>1000000</td>\n",
       "      <td>0</td>\n",
       "      <td>None</td>\n",
       "      <td>94000</td>\n",
       "      <td>208000</td>\n",
       "    </tr>\n",
       "    <tr>\n",
       "      <th>totalShareholderEquity</th>\n",
       "      <td>967000000</td>\n",
       "      <td>1086000000</td>\n",
       "      <td>2248000000</td>\n",
       "      <td>1553000000</td>\n",
       "      <td>-733000000</td>\n",
       "    </tr>\n",
       "    <tr>\n",
       "      <th>treasuryStock</th>\n",
       "      <td>None</td>\n",
       "      <td>None</td>\n",
       "      <td>None</td>\n",
       "      <td>None</td>\n",
       "      <td>None</td>\n",
       "    </tr>\n",
       "    <tr>\n",
       "      <th>retainedEarnings</th>\n",
       "      <td>-3333000000</td>\n",
       "      <td>-3058000000</td>\n",
       "      <td>-1705000000</td>\n",
       "      <td>-1077243000</td>\n",
       "      <td>-790483000</td>\n",
       "    </tr>\n",
       "    <tr>\n",
       "      <th>commonStock</th>\n",
       "      <td>0</td>\n",
       "      <td>0</td>\n",
       "      <td>0</td>\n",
       "      <td>0</td>\n",
       "      <td>0</td>\n",
       "    </tr>\n",
       "    <tr>\n",
       "      <th>commonStockSharesOutstanding</th>\n",
       "      <td>677636163</td>\n",
       "      <td>637387025</td>\n",
       "      <td>616026565</td>\n",
       "      <td>540714692</td>\n",
       "      <td>83748443</td>\n",
       "    </tr>\n",
       "  </tbody>\n",
       "</table>\n",
       "</div>"
      ],
      "text/plain": [
       "date                                   1970-01-01 00:00:00.000000000  \\\n",
       "fiscalDateEnding                                          2023-12-31   \n",
       "reportedCurrency                                                 USD   \n",
       "totalAssets                                               3567000000   \n",
       "totalCurrentAssets                                        3445000000   \n",
       "cashAndCashEquivalentsAtCarryingValue                      999000000   \n",
       "cashAndShortTermInvestments                               1083000000   \n",
       "inventory                                                  -27000000   \n",
       "currentNetReceivables                                           None   \n",
       "totalNonCurrentAssets                                     1897000000   \n",
       "propertyPlantEquipment                                      66000000   \n",
       "accumulatedDepreciationAmortizationPPE                     100000000   \n",
       "intangibleAssets                                             9000000   \n",
       "intangibleAssetsExcludingGoodwill                            5000000   \n",
       "goodwill                                                     4000000   \n",
       "investments                                                143000000   \n",
       "longTermInvestments                                             None   \n",
       "shortTermInvestments                                        84000000   \n",
       "otherCurrentAssets                                          52000000   \n",
       "otherNonCurrentAssets                                       22000000   \n",
       "totalLiabilities                                          2600000000   \n",
       "totalCurrentLiabilities                                     70000000   \n",
       "currentAccountsPayable                                       2000000   \n",
       "deferredRevenue                                                 None   \n",
       "currentDebt                                                     None   \n",
       "shortTermDebt                                                5000000   \n",
       "totalNonCurrentLiabilities                                2530000000   \n",
       "capitalLeaseObligations                                     24000000   \n",
       "longTermDebt                                              2510000000   \n",
       "currentLongTermDebt                                                0   \n",
       "longTermDebtNoncurrent                                    2510000000   \n",
       "shortLongTermDebtTotal                                    2510000000   \n",
       "otherCurrentLiabilities                                     56000000   \n",
       "otherNonCurrentLiabilities                                   1000000   \n",
       "totalShareholderEquity                                     967000000   \n",
       "treasuryStock                                                   None   \n",
       "retainedEarnings                                         -3333000000   \n",
       "commonStock                                                        0   \n",
       "commonStockSharesOutstanding                               677636163   \n",
       "\n",
       "date                                   1970-01-01 00:00:00.000000001  \\\n",
       "fiscalDateEnding                                          2022-12-31   \n",
       "reportedCurrency                                                 USD   \n",
       "totalAssets                                               6608000000   \n",
       "totalCurrentAssets                                        6466000000   \n",
       "cashAndCashEquivalentsAtCarryingValue                     1137000000   \n",
       "cashAndShortTermInvestments                               1292000000   \n",
       "inventory                                                 -459000000   \n",
       "currentNetReceivables                                           None   \n",
       "totalNonCurrentAssets                                     4602000000   \n",
       "propertyPlantEquipment                                      58000000   \n",
       "accumulatedDepreciationAmortizationPPE                      90000000   \n",
       "intangibleAssets                                            16000000   \n",
       "intangibleAssetsExcludingGoodwill                           12000000   \n",
       "goodwill                                                     4000000   \n",
       "investments                                                297000000   \n",
       "longTermInvestments                                             None   \n",
       "shortTermInvestments                                       155000000   \n",
       "otherCurrentAssets                                          41000000   \n",
       "otherNonCurrentAssets                                       27000000   \n",
       "totalLiabilities                                          5522000000   \n",
       "totalCurrentLiabilities                                   1505000000   \n",
       "currentAccountsPayable                                       5000000   \n",
       "deferredRevenue                                                 None   \n",
       "currentDebt                                               1376000000   \n",
       "shortTermDebt                                             1383000000   \n",
       "totalNonCurrentLiabilities                                4017000000   \n",
       "capitalLeaseObligations                                     45000000   \n",
       "longTermDebt                                              5355000000   \n",
       "currentLongTermDebt                                       1376000000   \n",
       "longTermDebtNoncurrent                                    3979000000   \n",
       "shortLongTermDebtTotal                                    5355000000   \n",
       "otherCurrentLiabilities                                     88000000   \n",
       "otherNonCurrentLiabilities                                         0   \n",
       "totalShareholderEquity                                    1086000000   \n",
       "treasuryStock                                                   None   \n",
       "retainedEarnings                                         -3058000000   \n",
       "commonStock                                                        0   \n",
       "commonStockSharesOutstanding                               637387025   \n",
       "\n",
       "date                                   1970-01-01 00:00:00.000000002  \\\n",
       "fiscalDateEnding                                          2021-12-31   \n",
       "reportedCurrency                                                 USD   \n",
       "totalAssets                                               9506000000   \n",
       "totalCurrentAssets                                        9340000000   \n",
       "cashAndCashEquivalentsAtCarryingValue                     1731000000   \n",
       "cashAndShortTermInvestments                               2261000000   \n",
       "inventory                                                  -40000000   \n",
       "currentNetReceivables                                           None   \n",
       "totalNonCurrentAssets                                     6262000000   \n",
       "propertyPlantEquipment                                      45000000   \n",
       "accumulatedDepreciationAmortizationPPE                      57000000   \n",
       "intangibleAssets                                            72000000   \n",
       "intangibleAssetsExcludingGoodwill                           12000000   \n",
       "goodwill                                                    60000000   \n",
       "investments                                                722000000   \n",
       "longTermInvestments                                             None   \n",
       "shortTermInvestments                                       530000000   \n",
       "otherCurrentAssets                                          91000000   \n",
       "otherNonCurrentAssets                                        7000000   \n",
       "totalLiabilities                                          7258000000   \n",
       "totalCurrentLiabilities                                   4400000000   \n",
       "currentAccountsPayable                                       3000000   \n",
       "deferredRevenue                                                 None   \n",
       "currentDebt                                               4247000000   \n",
       "shortTermDebt                                             4251000000   \n",
       "totalNonCurrentLiabilities                                2858000000   \n",
       "capitalLeaseObligations                                     46000000   \n",
       "longTermDebt                                              7063000000   \n",
       "currentLongTermDebt                                       4247000000   \n",
       "longTermDebtNoncurrent                                    2816000000   \n",
       "shortLongTermDebtTotal                                    7063000000   \n",
       "otherCurrentLiabilities                                    122000000   \n",
       "otherNonCurrentLiabilities                                      None   \n",
       "totalShareholderEquity                                    2248000000   \n",
       "treasuryStock                                                   None   \n",
       "retainedEarnings                                         -1705000000   \n",
       "commonStock                                                        0   \n",
       "commonStockSharesOutstanding                               616026565   \n",
       "\n",
       "date                                   1970-01-01 00:00:00.000000003  \\\n",
       "fiscalDateEnding                                          2020-12-31   \n",
       "reportedCurrency                                                 USD   \n",
       "totalAssets                                               2176000000   \n",
       "totalCurrentAssets                                        2053000000   \n",
       "cashAndCashEquivalentsAtCarryingValue                     1413000000   \n",
       "cashAndShortTermInvestments                               1460302000   \n",
       "inventory                                                  465936000   \n",
       "currentNetReceivables                                           None   \n",
       "totalNonCurrentAssets                                      588407000   \n",
       "propertyPlantEquipment                                      29000000   \n",
       "accumulatedDepreciationAmortizationPPE                      34000000   \n",
       "intangibleAssets                                            40000000   \n",
       "intangibleAssetsExcludingGoodwill                            9000000   \n",
       "goodwill                                                    31000000   \n",
       "investments                                                132181000   \n",
       "longTermInvestments                                             None   \n",
       "shortTermInvestments                                        47637000   \n",
       "otherCurrentAssets                                          24000000   \n",
       "otherNonCurrentAssets                                        4000000   \n",
       "totalLiabilities                                           623000000   \n",
       "totalCurrentLiabilities                                    393000000   \n",
       "currentAccountsPayable                                       2756000   \n",
       "deferredRevenue                                                 None   \n",
       "currentDebt                                                346322000   \n",
       "shortTermDebt                                              367000000   \n",
       "totalNonCurrentLiabilities                                 182186000   \n",
       "capitalLeaseObligations                                     67341000   \n",
       "longTermDebt                                               135467000   \n",
       "currentLongTermDebt                                        346322000   \n",
       "longTermDebtNoncurrent                                     135467000   \n",
       "shortLongTermDebtTotal                                     135467000   \n",
       "otherCurrentLiabilities                                     22267000   \n",
       "otherNonCurrentLiabilities                                     94000   \n",
       "totalShareholderEquity                                    1553000000   \n",
       "treasuryStock                                                   None   \n",
       "retainedEarnings                                         -1077243000   \n",
       "commonStock                                                        0   \n",
       "commonStockSharesOutstanding                               540714692   \n",
       "\n",
       "date                                   1970-01-01 00:00:00.000000004  \n",
       "fiscalDateEnding                                          2019-12-31  \n",
       "reportedCurrency                                                 USD  \n",
       "totalAssets                                               2231684000  \n",
       "totalCurrentAssets                                        2087644000  \n",
       "cashAndCashEquivalentsAtCarryingValue                      405000000  \n",
       "cashAndShortTermInvestments                                405080000  \n",
       "inventory                                                 1312369000  \n",
       "currentNetReceivables                                           None  \n",
       "totalNonCurrentAssets                                      144040000  \n",
       "propertyPlantEquipment                                      34606000  \n",
       "accumulatedDepreciationAmortizationPPE                      20462000  \n",
       "intangibleAssets                                            43359000  \n",
       "intangibleAssetsExcludingGoodwill                           12414000  \n",
       "goodwill                                                    30945000  \n",
       "investments                                                     None  \n",
       "longTermInvestments                                             None  \n",
       "shortTermInvestments                                        43576000  \n",
       "otherCurrentAssets                                          30879000  \n",
       "otherNonCurrentAssets                                        5394000  \n",
       "totalLiabilities                                          1583285000  \n",
       "totalCurrentLiabilities                                   1126382000  \n",
       "currentAccountsPayable                                          None  \n",
       "deferredRevenue                                                 None  \n",
       "currentDebt                                                     None  \n",
       "shortTermDebt                                             1087597000  \n",
       "totalNonCurrentLiabilities                                1838405000  \n",
       "capitalLeaseObligations                                     61907000  \n",
       "longTermDebt                                               362025000  \n",
       "currentLongTermDebt                                       1074125000  \n",
       "longTermDebtNoncurrent                                          None  \n",
       "shortLongTermDebtTotal                                    1498057000  \n",
       "otherCurrentLiabilities                                     32332000  \n",
       "otherNonCurrentLiabilities                                    208000  \n",
       "totalShareholderEquity                                    -733000000  \n",
       "treasuryStock                                                   None  \n",
       "retainedEarnings                                          -790483000  \n",
       "commonStock                                                        0  \n",
       "commonStockSharesOutstanding                                83748443  "
      ]
     },
     "execution_count": 54,
     "metadata": {},
     "output_type": "execute_result"
    }
   ],
   "source": [
    "balance_sheet.T"
   ]
  },
  {
   "cell_type": "markdown",
   "metadata": {},
   "source": [
    "# Formato del balance y cuenta de perdidas"
   ]
  },
  {
   "cell_type": "code",
   "execution_count": null,
   "metadata": {},
   "outputs": [],
   "source": [
    "# Definir un mapa de colores personalizado\n",
    "def reverse_cmap(cmap_name):\n",
    "    cmap = plt.get_cmap(cmap_name)\n",
    "    colors = cmap(np.arange(cmap.N))\n",
    "    colors = colors[::-1]  # Invertir el orden de los colores\n",
    "    return mcolors.LinearSegmentedColormap.from_list(f\"reversed_{cmap_name}\", colors)\n",
    "\n",
    "# Definir un mapa de colores para las filas basado en una escala\n",
    "def row_gradient(row):\n",
    "    # Normalizar los valores de la fila para usar en el gradiente de colores\n",
    "    norm = plt.Normalize(vmin=row.min(), vmax=row.max())\n",
    "    cmap = plt.get_cmap(reverse_cmap('RdYlGn'))  # Escoge el mapa de colores que prefieras\n",
    "    colors = [mcolors.to_hex(cmap(norm(val))) for val in row]\n",
    "    return [f'background-color: {color}' for color in colors]"
   ]
  },
  {
   "cell_type": "code",
   "execution_count": null,
   "metadata": {},
   "outputs": [],
   "source": [
    "# Convertir las columnas a tipo float, manejando valores 'None' y errores\n",
    "df = is1.apply(pd.to_numeric, errors='coerce')\n",
    "\n",
    "# Aplicar el gradiente de color por fila\n",
    "styled_df = df.style.apply(row_gradient, axis=1)\n",
    "styled_df"
   ]
  },
  {
   "cell_type": "code",
   "execution_count": null,
   "metadata": {},
   "outputs": [],
   "source": [
    "# Convertir las columnas a tipo float, manejando valores 'None' y errores\n",
    "df = df.apply(pd.to_numeric, errors='coerce')\n",
    "\n",
    "# Rellenar valores NaN con 0 (o el valor que prefieras)\n",
    "df_filled = df.fillna(0)\n",
    "\n",
    "# Crear un mapa de colores personalizado\n",
    "custom_cmap = reverse_cmap('coolwarm')\n",
    "\n",
    "# Aplicar el gradiente de colores con el mapa de colores personalizado\n",
    "styled_df = df_filled.style.background_gradient(cmap=custom_cmap)\n",
    "\n",
    "# Aplicar un gradiente de colores\n",
    "styled_df = df_filled.style.background_gradient(cmap='coolwarm')\n",
    "\n",
    "# Mostrar el DataFrame estilizado en Jupyter Notebook (o en un entorno similar)\n",
    "styled_df"
   ]
  },
  {
   "cell_type": "code",
   "execution_count": null,
   "metadata": {},
   "outputs": [],
   "source": [
    "# Crear el DataFrame\n",
    "df = pd.DataFrame(is1, index=[\n",
    "    'grossProfit', 'totalRevenue', 'costOfRevenue', 'costofGoodsAndServicesSold',\n",
    "    'operatingIncome', 'sellingGeneralAndAdministrative', 'researchAndDevelopment',\n",
    "    'operatingExpenses', 'investmentIncomeNet', 'netInterestIncome', 'interestIncome',\n",
    "    'interestExpense', 'nonInterestIncome', 'otherNonOperatingIncome', 'depreciation',\n",
    "    'depreciationAndAmortization', 'incomeBeforeTax', 'incomeTaxExpense', 'interestAndDebtExpense',\n",
    "    'netIncomeFromContinuingOperations', 'comprehensiveIncomeNetOfTax', 'ebit', 'ebitda', 'netIncome'\n",
    "])"
   ]
  }
 ],
 "metadata": {
  "kernelspec": {
   "display_name": "stock-app",
   "language": "python",
   "name": "python3"
  },
  "language_info": {
   "codemirror_mode": {
    "name": "ipython",
    "version": 3
   },
   "file_extension": ".py",
   "mimetype": "text/x-python",
   "name": "python",
   "nbconvert_exporter": "python",
   "pygments_lexer": "ipython3",
   "version": "3.13.1"
  }
 },
 "nbformat": 4,
 "nbformat_minor": 2
}
